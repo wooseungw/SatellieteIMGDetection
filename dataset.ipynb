{
 "cells": [
  {
   "cell_type": "code",
   "execution_count": 17,
   "metadata": {},
   "outputs": [
    {
     "name": "stdout",
     "output_type": "stream",
     "text": [
      "Image Shape: torch.Size([3, 256, 256])\n",
      "Targets (cx, cy, width, height, angle) for all objects: tensor([[ 518.9017,  505.1197,  216.3758,  192.7043, -130.2250],\n",
      "        [ 493.5748,  480.6295,   19.7542,   19.9513,  -42.6155]])\n"
     ]
    }
   ],
   "source": [
    "import os\n",
    "import json\n",
    "from PIL import Image\n",
    "import torch\n",
    "from torch.utils.data import Dataset\n",
    "from torchvision import transforms\n",
    "import csv\n",
    "\n",
    "# 커스텀 데이터셋 클래스 정의\n",
    "class ShipDataset(Dataset):\n",
    "    def __init__(self, csv_file, transform=None):\n",
    "        self.data = self.load_csv(csv_file)  # CSV 파일에서 이미지와 JSON 경로 불러오기\n",
    "        self.transform = transform\n",
    "\n",
    "    def load_csv(self, csv_file):\n",
    "        data = []\n",
    "        with open(csv_file, newline='', encoding='utf-8') as csvfile:\n",
    "            reader = csv.reader(csvfile)\n",
    "            next(reader)  # 헤더 스킵\n",
    "            for row in reader:\n",
    "                img_path, json_path = row\n",
    "                data.append((img_path, json_path))\n",
    "        return data\n",
    "\n",
    "    def get_bbox_and_angle(self, json_file):\n",
    "        with open(json_file, 'r', encoding='utf-8') as f:\n",
    "            data = json.load(f)\n",
    "\n",
    "        cx, cy, width, height, angle = [], [], [], [], []\n",
    "        if 'features' in data:\n",
    "            for feature in data['features']:\n",
    "                if 'properties' in feature:\n",
    "                    # JSON에서 cx, cy, width, height, angle 값을 모두 가져오기\n",
    "                    cx.append(feature['properties'].get('cx', 0))\n",
    "                    cy.append(feature['properties'].get('cy', 0))\n",
    "                    width.append(feature['properties'].get('width', 0))\n",
    "                    height.append(feature['properties'].get('height', 0))\n",
    "                    angle.append(feature['properties'].get('object_angle', 0.0))\n",
    "\n",
    "        return cx, cy, width, height, angle\n",
    "\n",
    "    def __len__(self):\n",
    "        return len(self.data)\n",
    "\n",
    "    def __getitem__(self, idx):\n",
    "        img_path, json_path = self.data[idx]\n",
    "\n",
    "        # 이미지 불러오기\n",
    "        image = Image.open(img_path).convert(\"RGB\")\n",
    "        \n",
    "        # JSON에서 모든 객체의 BBox 및 각도 정보 추출\n",
    "        cx, cy, width, height, angle = self.get_bbox_and_angle(json_path)\n",
    "\n",
    "        # 전처리 적용\n",
    "        if self.transform:\n",
    "            image = self.transform(image)\n",
    "        \n",
    "        # 모든 객체의 타겟 값 리스트로 묶기\n",
    "        targets = []\n",
    "        for i in range(len(cx)):\n",
    "            targets.append([cx[i], cy[i], width[i], height[i], angle[i]])\n",
    "\n",
    "        # 타겟을 텐서로 변환\n",
    "        targets = torch.tensor(targets, dtype=torch.float32)\n",
    "\n",
    "        return image, targets\n",
    "\n",
    "# 전처리 정의\n",
    "transform = transforms.Compose([\n",
    "    transforms.Resize((256, 256)),  # 이미지 크기 조정\n",
    "    transforms.ToTensor(),          # 이미지 텐서로 변환\n",
    "    transforms.Normalize(mean=[0.485, 0.456, 0.406], std=[0.229, 0.224, 0.225])  # 이미지 정규화\n",
    "])\n",
    "\n",
    "# 데이터셋 생성\n",
    "csv_file = 'train.csv'  # 이미지 경로와 JSON 경로가 담긴 CSV 파일\n",
    "dataset = ShipDataset(csv_file, transform=transform)\n",
    "\n",
    "# 데이터셋 확인\n",
    "image, targets = dataset[0]  # 첫 번째 샘플 불러오기\n",
    "print(f\"Image Shape: {image.shape}\")\n",
    "print(f\"Targets (cx, cy, width, height, angle) for all objects: {targets}\")"
   ]
  },
  {
   "cell_type": "code",
   "execution_count": 18,
   "metadata": {},
   "outputs": [
    {
     "name": "stdout",
     "output_type": "stream",
     "text": [
      "Loss: 5193.89208984375\n"
     ]
    },
    {
     "name": "stderr",
     "output_type": "stream",
     "text": [
      "c:\\ProgramData\\anaconda3\\envs\\dust\\Lib\\site-packages\\torch\\nn\\modules\\loss.py:535: UserWarning: Using a target size (torch.Size([2])) that is different to the input size (torch.Size([2, 1])). This will likely lead to incorrect results due to broadcasting. Please ensure they have the same size.\n",
      "  return F.mse_loss(input, target, reduction=self.reduction)\n"
     ]
    }
   ],
   "source": [
    "import torch\n",
    "import torch.nn as nn\n",
    "\n",
    "# 간단한 모델 정의 (여러 객체에 대한 cx, cy, width, height, angle 예측)\n",
    "class SimpleModel(nn.Module):\n",
    "    def __init__(self, num_objects=10):\n",
    "        super(SimpleModel, self).__init__()\n",
    "        self.fc = nn.Linear(256 * 256 * 3, num_objects * 5)  # (cx, cy, width, height, angle) * num_objects 예측\n",
    "\n",
    "    def forward(self, x):\n",
    "        x = x.view(x.size(0), -1)  # 이미지를 Flatten\n",
    "        out = self.fc(x)\n",
    "        return out.view(x.size(0), -1, 5)  # (batch_size, num_objects, 5)\n",
    "\n",
    "# 모델 생성\n",
    "model = SimpleModel(num_objects=10)  # 최대 10개의 객체를 예측한다고 가정\n",
    "\n",
    "# 손실 함수 정의 (MSELoss 사용)\n",
    "loss_fn = nn.MSELoss()\n",
    "\n",
    "# 가짜 입력 데이터 (배치 크기 2, 이미지 크기 256x256, 3채널)\n",
    "inputs = torch.randn(2, 3, 256, 256)\n",
    "\n",
    "# 가짜 Ground Truth (각 이미지당 2개의 객체 예시)\n",
    "true_targets = torch.tensor([[[110.5, 115.3, 50.0, 75.0, 45.0], [210.3, 115.1, 50.2, 80.2, 90.0]],\n",
    "                             [[150.0, 125.0, 60.0, 85.0, 30.0], [250.0, 135.0, 40.0, 90.0, 60.0]]])\n",
    "\n",
    "# 모델 예측\n",
    "pred_targets = model(inputs)\n",
    "\n",
    "# 손실 계산\n",
    "loss = loss_fn(pred_targets, true_targets)\n",
    "print(f\"Loss: {loss.item()}\")\n"
   ]
  }
 ],
 "metadata": {
  "kernelspec": {
   "display_name": "dust",
   "language": "python",
   "name": "python3"
  },
  "language_info": {
   "codemirror_mode": {
    "name": "ipython",
    "version": 3
   },
   "file_extension": ".py",
   "mimetype": "text/x-python",
   "name": "python",
   "nbconvert_exporter": "python",
   "pygments_lexer": "ipython3",
   "version": "3.11.8"
  }
 },
 "nbformat": 4,
 "nbformat_minor": 2
}
