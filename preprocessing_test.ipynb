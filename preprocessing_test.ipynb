{
 "cells": [
  {
   "cell_type": "code",
   "execution_count": 30,
   "metadata": {},
   "outputs": [],
   "source": [
    "import torch\n",
    "import torch.nn as nn\n",
    "import torch.nn.functional as F\n",
    "\n",
    "import cv2 \n",
    "import matplotlib.pyplot as plt\n",
    "\n",
    "import os\n",
    "import numpy as np\n",
    "import pandas as pd\n",
    "def show(img):\n",
    "    plt.imshow(img)\n",
    "    plt.axis('off')\n",
    "    plt.show()"
   ]
  },
  {
   "cell_type": "code",
   "execution_count": 31,
   "metadata": {},
   "outputs": [],
   "source": [
    "current_dir = os.getcwd()\n",
    "img_list = [img for img in os.listdir(current_dir + '/sample/img') if img.endswith('.png')]\n",
    "img_list = pd.DataFrame(img_list, columns=['img'])"
   ]
  },
  {
   "cell_type": "code",
   "execution_count": null,
   "metadata": {},
   "outputs": [],
   "source": [
    "img = cv2.imread(current_dir + '/sample/img/' + img_list['img'][0])\n",
    "show(img)"
   ]
  },
  {
   "cell_type": "code",
   "execution_count": null,
   "metadata": {},
   "outputs": [],
   "source": [
    "# 이미지 크기 확인\n",
    "height, width, _ = img.shape\n",
    "\n",
    "overlap_ratio = 0.2\n",
    "crop_size = 256\n",
    "stride = int(crop_size * (1 - overlap_ratio))\n",
    "\n",
    "imgs = []\n",
    "for y in range(0, height, stride):\n",
    "    for x in range(0, width, stride):\n",
    "        # 이미지를 자를 때 마지막 블록을 강제로 크기 조정\n",
    "        if x + crop_size > width:\n",
    "            x = width - crop_size\n",
    "        if y + crop_size > height:\n",
    "            y = height - crop_size\n",
    "        \n",
    "        img_crop = img[y:y+crop_size, x:x+crop_size]\n",
    "\n",
    "        # 크기가 crop_size보다 작더라도 마지막 블록은 강제 자르기\n",
    "        imgs.append(img_crop)\n",
    "        show(img_crop)\n"
   ]
  },
  {
   "cell_type": "code",
   "execution_count": null,
   "metadata": {},
   "outputs": [],
   "source": [
    "resize = 256\n",
    "resize_img = cv2.resize(img, (resize, resize))\n",
    "show(resize_img)"
   ]
  },
  {
   "cell_type": "code",
   "execution_count": null,
   "metadata": {},
   "outputs": [],
   "source": [
    "load = \"./sample.png\"\n",
    "sample = cv2.imread(load)\n",
    "x = 2700\n",
    "y = 4700\n",
    "img_crop = sample[x:x+crop_size, y:y+crop_size]\n",
    "show(img_crop)"
   ]
  }
 ],
 "metadata": {
  "kernelspec": {
   "display_name": "dust",
   "language": "python",
   "name": "python3"
  },
  "language_info": {
   "codemirror_mode": {
    "name": "ipython",
    "version": 3
   },
   "file_extension": ".py",
   "mimetype": "text/x-python",
   "name": "python",
   "nbconvert_exporter": "python",
   "pygments_lexer": "ipython3",
   "version": "3.12.2"
  }
 },
 "nbformat": 4,
 "nbformat_minor": 2
}
