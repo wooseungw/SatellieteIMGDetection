{
 "cells": [
  {
   "cell_type": "markdown",
   "id": "860fe2dc",
   "metadata": {},
   "source": [
    "## 위성영상을 활용한 선박 탐지 AI 경진대회 제출 스크립트\n",
    "\n",
    "**주의1: 반드시 본 파일을 이용하여 제출을 수행해야 하며 파일의 이름은 task.ipynb로 유지되어야 합니다.**\n",
    "\n",
    "**주의2: 본 파일의 경로는 제출하시는 모든 모델, 스크립트 구성의 최상위 경로에 위치하고 있어야 합니다.**\n",
    "\n",
    "- 작성하신 추론용 코드를 본 스크립트 내에 삽입하는 것으로 결과 제출을 수행할 수 있습니다.\n",
    "- 테스트 데이터가 제공되지 않는 대회로, 안내된 경로를 파라미터로 입력하였을 때 모델이 경로 내의 이미지를 읽어서 추론을 수행할 수 있도록 구성되어야 합니다.\n",
    "\n",
    "코드는 크게 5가지 파트로 구성되며, 해당 파트의 특성을 지켜서 내용을 편집하시면 되겠습니다.\n",
    "1. 제출용 aifactory 라이브러리 설치 \n",
    "2. 기타 필요한 라이브러리 설치\n",
    "3. 추론 스크립트 구성\n",
    "4. aifactory 라이브러리를 이용한 제출 수행\n",
    "5. 기타 참고사항\n",
    "\n",
    "※ 가능하면 제출시에는 사용할 모델 및 weight를 제외한 나머지 데이터를 배제하고 제출하는 편을 권장합니다\n",
    "- 파일 크기 감소 → 업로드 시간 감소 → 전체 추론 수행 및 결과 확인 소요 시간 감소"
   ]
  },
  {
   "cell_type": "code",
   "execution_count": null,
   "id": "7c6760b6-7d26-4f5c-980c-bfe9222a605c",
   "metadata": {},
   "outputs": [],
   "source": []
  },
  {
   "cell_type": "markdown",
   "id": "081a2646",
   "metadata": {},
   "source": [
    "### 1. 제출용 aifactory 라이브러리 설치\n",
    "#### 결과 전송에 필요하므로 아래와 같이 aifactory 라이브러리가 반드시 최신버전으로 설치될 수 있게끔 합니다"
   ]
  },
  {
   "cell_type": "code",
   "execution_count": null,
   "id": "7c026fc5",
   "metadata": {
    "scrolled": true
   },
   "outputs": [],
   "source": [
    "!pip install -U aifactory"
   ]
  },
  {
   "cell_type": "markdown",
   "id": "cc9c7af5",
   "metadata": {},
   "source": [
    "### 2. 기타 필요한 라이브러리 설치\n",
    "#### 사전 제공되지 않은 라이브러리 가운데 필요한 것이 있는 경우 여기에 설치 명령을 넣습니다\n",
    "**예)** !pip install tensorflow[and-cuda]      *# PyTorch 대신 GPU를 사용하는 tensorflow를 설치하는 경우*"
   ]
  },
  {
   "cell_type": "code",
   "execution_count": null,
   "id": "c5bf3550",
   "metadata": {},
   "outputs": [],
   "source": [
    "#!pip install tensorflow[and-cuda]"
   ]
  },
  {
   "cell_type": "markdown",
   "id": "ade5aeb9",
   "metadata": {},
   "source": [
    "### 3. 추론 스크립트 구성\n",
    "#### 추론 스크립트 편집 시 주의사항\n",
    "\n",
    "1. 전체 추론 실행 코드를 삽입, 테스트셋에 대하여 추론을 수행하고 결과를 지정된 파일명으로 저장하도록 구성\n",
    "   - 필요한 경우 현재 위치(제목 3.이하, 제목 4.이전)에서 코드를 여러 셀로 나누어 저장해도 무방합니다.\n",
    "   - 결과 파일은 현재 경로에 **submission.csv**로 저장합니다.\n",
    "3. 제출 폴더 및 모델 소스코드 내부의 경로는 **./폴더명 또는 ./파일명**으로 **상대 경로**를 지정합니다.\n",
    "4. 테스트셋 경로는 **/workspace/dataset** 입니다. \n",
    "5. 저장할 파일명과 양식에 유의합니다.\n",
    "   - 대회 페이지 [데이터]탭 참조\n",
    "   - 파일 양식 가운데 image_name 열은 경로명을 제외하고 정확히 파일명(abcd.jpg)만 들어가야 하므로 코드 작성 시에 참고 부탁드립니다."
   ]
  },
  {
   "cell_type": "code",
   "execution_count": null,
   "id": "ceacc7de",
   "metadata": {},
   "outputs": [],
   "source": [
    "# 예)\n",
    "# import Model\n",
    "# test_path = '/workspace/dataset'\n",
    "# model = Model()\n",
    "# out = model.predict(test_path)\n",
    "# out.to_csv(\"submission.csv\", index=False)  # CSV로 저장"
   ]
  },
  {
   "cell_type": "markdown",
   "id": "75251594",
   "metadata": {},
   "source": [
    "### 4. aifactory 라이브러리를 이용한 제출 수행\n",
    "#### ※ task별, 참가자별로 key가 다릅니다. 잘못 입력하지 않도록 유의바랍니다.\n",
    "- key는 플랫폼 우측 상단 아이콘 - [마이페이지] - [활동히스토리] 아래 [Competition] 란에서 대회 이름으로 확인하실 수 있습니다."
   ]
  },
  {
   "cell_type": "code",
   "execution_count": null,
   "id": "0fad1f41",
   "metadata": {
    "scrolled": true
   },
   "outputs": [],
   "source": [
    "import aifactory.score as aif\n",
    "import time\n",
    "\n",
    "t = time.time()\n",
    "aif.submit(model_name=\"your model name\",\n",
    "           key=\"your task key\")\n",
    "print(\"time:\", time.time() - t)"
   ]
  },
  {
   "cell_type": "markdown",
   "id": "3f9ef961-5696-45fb-b3d4-173083b29f70",
   "metadata": {},
   "source": [
    "### 5. 기타 참고사항\n",
    "- 추론 수행 시간:\n",
    "  - 일반적으로 기본 사이즈의 YOLO계열 모델 사용 시 test set 전체 추론에는 1시간 정도가 소요됩니다.\n",
    "- CUDA Out of Memory 문제:\n",
    "  - GPU OOM이 발생하는 경우 \n",
    "    - 각 image 사이 또는 batch 사이에 torch.cuda.empty_cache() 및 gc.collect()를 입력하여 VRAM의 낭비 공간을 정리하거나\n",
    "    - Batch size를 조절하는 방법 등을 활용해볼 수 있습니다.\n",
    "- Storage:\n",
    "  - 추론 환경에서는 참가자 분의 모델 및 기타 산출물이 임시 저장되는 공간으로 기본 32GB가 제공되므로 작업 시에 참고 부탁드립니다."
   ]
  }
 ],
 "metadata": {
  "kernelspec": {
   "display_name": "Python 3 (ipykernel)",
   "language": "python",
   "name": "python3"
  },
  "language_info": {
   "codemirror_mode": {
    "name": "ipython",
    "version": 3
   },
   "file_extension": ".py",
   "mimetype": "text/x-python",
   "name": "python",
   "nbconvert_exporter": "python",
   "pygments_lexer": "ipython3",
   "version": "3.10.11"
  }
 },
 "nbformat": 4,
 "nbformat_minor": 5
}
