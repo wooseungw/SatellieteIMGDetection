{
 "cells": [
  {
   "cell_type": "code",
   "execution_count": 57,
   "metadata": {},
   "outputs": [
    {
     "name": "stdout",
     "output_type": "stream",
     "text": [
      "['train/train_objects_labels/OBJ00022_PS3_K3_NIA0078.json', 'train/train_objects_labels/OBJ00028_PS3_K3_NIA0078.json', 'train/train_objects_labels/OBJ00258_PS3_K3_NIA0081.json', 'train/train_objects_labels/OBJ00261_PS3_K3_NIA0081.json', 'train/train_objects_labels/OBJ00607_PS3_K3_NIA0086.json', 'train/train_objects_labels/OBJ01399_PS3_K3_NIA0093.json', 'train/train_objects_labels/OBJ01400_PS3_K3_NIA0093.json', 'train/train_objects_labels/OBJ01505_PS3_K3_NIA0095.json', 'train/train_objects_labels/OBJ01589_PS3_K3_NIA0097.json', 'train/train_objects_labels/OBJ01654_PS3_K3_NIA0101.json', 'train/train_objects_labels/OBJ01675_PS3_K3_NIA0102.json', 'train/train_objects_labels/OBJ01691_PS3_K3_NIA0102.json', 'train/train_objects_labels/OBJ01696_PS3_K3_NIA0102.json', 'train/train_objects_labels/OBJ01701_PS3_K3_NIA0102.json', 'train/train_objects_labels/OBJ01735_PS3_K3_NIA0104.json', 'train/train_objects_labels/OBJ01937_PS3_K3_NIA0110.json', 'train/train_objects_labels/OBJ02050_PS3_K3_NIA0112.json', 'train/train_objects_labels/OBJ02293_PS3_K3_NIA0118.json', 'train/train_objects_labels/OBJ02297_PS3_K3_NIA0118.json', 'train/train_objects_labels/OBJ02307_PS3_K3_NIA0118.json', 'train/train_objects_labels/OBJ02311_PS3_K3_NIA0118.json', 'train/train_objects_labels/OBJ02314_PS3_K3_NIA0118.json', 'train/train_objects_labels/OBJ02400_PS3_K3_NIA0121.json', 'train/train_objects_labels/OBJ02409_PS3_K3_NIA0121.json', 'train/train_objects_labels/OBJ02417_PS3_K3_NIA0121.json', 'train/train_objects_labels/OBJ02634_PS3_K3_NIA0126.json', 'train/train_objects_labels/OBJ02635_PS3_K3_NIA0126.json', 'train/train_objects_labels/OBJ02721_PS3_K3_NIA0126.json', 'train/train_objects_labels/OBJ02723_PS3_K3_NIA0126.json', 'train/train_objects_labels/OBJ02797_PS3_K3_NIA0126.json', 'train/train_objects_labels/OBJ03271_PS3_K3_NIA0132.json', 'train/train_objects_labels/OBJ03336_PS3_K3A_NIA0137.json', 'train/train_objects_labels/OBJ03399_PS3_K3A_NIA0138.json', 'train/train_objects_labels/OBJ03401_PS3_K3A_NIA0138.json', 'train/train_objects_labels/OBJ03403_PS3_K3A_NIA0138.json', 'train/train_objects_labels/OBJ03404_PS3_K3A_NIA0138.json', 'train/train_objects_labels/OBJ03405_PS3_K3A_NIA0138.json', 'train/train_objects_labels/OBJ03411_PS3_K3A_NIA0138.json', 'train/train_objects_labels/OBJ03413_PS3_K3A_NIA0138.json', 'train/train_objects_labels/OBJ03415_PS3_K3A_NIA0138.json', 'train/train_objects_labels/OBJ03424_PS3_K3A_NIA0139.json', 'train/train_objects_labels/OBJ03425_PS3_K3A_NIA0139.json', 'train/train_objects_labels/OBJ03426_PS3_K3A_NIA0139.json', 'train/train_objects_labels/OBJ03429_PS3_K3A_NIA0139.json', 'train/train_objects_labels/OBJ03435_PS3_K3A_NIA0139.json', 'train/train_objects_labels/OBJ03451_PS3_K3A_NIA0140.json', 'train/train_objects_labels/OBJ03453_PS3_K3A_NIA0140.json', 'train/train_objects_labels/OBJ03466_PS3_K3A_NIA0140.json', 'train/train_objects_labels/OBJ03468_PS3_K3A_NIA0141.json', 'train/train_objects_labels/OBJ03504_PS3_K3A_NIA0145.json', 'train/train_objects_labels/OBJ03509_PS3_K3A_NIA0145.json', 'train/train_objects_labels/OBJ03510_PS3_K3A_NIA0145.json', 'train/train_objects_labels/OBJ03514_PS3_K3A_NIA0146.json', 'train/train_objects_labels/OBJ03528_PS3_K3A_NIA0147.json', 'train/train_objects_labels/OBJ03538_PS3_K3A_NIA0148.json', 'train/train_objects_labels/OBJ03543_PS3_K3A_NIA0148.json', 'train/train_objects_labels/OBJ03697_PS3_K3A_NIA0155.json', 'train/train_objects_labels/OBJ03701_PS3_K3A_NIA0155.json', 'train/train_objects_labels/OBJ03702_PS3_K3A_NIA0155.json', 'train/train_objects_labels/OBJ03704_PS3_K3A_NIA0155.json', 'train/train_objects_labels/OBJ03708_PS3_K3A_NIA0156.json', 'train/train_objects_labels/OBJ03711_PS3_K3A_NIA0156.json', 'train/train_objects_labels/OBJ03713_PS3_K3A_NIA0156.json', 'train/train_objects_labels/OBJ03714_PS3_K3A_NIA0156.json', 'train/train_objects_labels/OBJ03720_PS3_K3A_NIA0156.json', 'train/train_objects_labels/OBJ03723_PS3_K3A_NIA0156.json', 'train/train_objects_labels/OBJ03724_PS3_K3A_NIA0156.json', 'train/train_objects_labels/OBJ03726_PS3_K3A_NIA0156.json', 'train/train_objects_labels/OBJ03727_PS3_K3A_NIA0156.json', 'train/train_objects_labels/OBJ03728_PS3_K3A_NIA0156.json', 'train/train_objects_labels/OBJ03730_PS3_K3A_NIA0156.json', 'train/train_objects_labels/OBJ03732_PS3_K3A_NIA0156.json', 'train/train_objects_labels/OBJ03733_PS3_K3A_NIA0156.json', 'train/train_objects_labels/OBJ03734_PS3_K3A_NIA0156.json', 'train/train_objects_labels/OBJ03736_PS3_K3A_NIA0156.json', 'train/train_objects_labels/OBJ03737_PS3_K3A_NIA0156.json', 'train/train_objects_labels/OBJ03738_PS3_K3A_NIA0156.json', 'train/train_objects_labels/OBJ03739_PS3_K3A_NIA0156.json', 'train/train_objects_labels/OBJ03743_PS3_K3A_NIA0156.json', 'train/train_objects_labels/OBJ03746_PS3_K3A_NIA0156.json', 'train/train_objects_labels/OBJ03754_PS3_K3A_NIA0157.json', 'train/train_objects_labels/OBJ03772_PS3_K3A_NIA0157.json', 'train/train_objects_labels/OBJ03774_PS3_K3A_NIA0157.json', 'train/train_objects_labels/OBJ03776_PS3_K3A_NIA0158.json', 'train/train_objects_labels/OBJ03784_PS3_K3A_NIA0158.json', 'train/train_objects_labels/OBJ03785_PS3_K3A_NIA0158.json', 'train/train_objects_labels/OBJ03789_PS3_K3A_NIA0158.json', 'train/train_objects_labels/OBJ03797_PS3_K3A_NIA0159.json', 'train/train_objects_labels/OBJ03814_PS3_K3A_NIA0159.json', 'train/train_objects_labels/OBJ03849_PS3_K3A_NIA0162.json', 'train/train_objects_labels/OBJ03851_PS3_K3A_NIA0162.json', 'train/train_objects_labels/OBJ03854_PS3_K3A_NIA0162.json', 'train/train_objects_labels/OBJ03857_PS3_K3A_NIA0162.json', 'train/train_objects_labels/OBJ03859_PS3_K3A_NIA0162.json', 'train/train_objects_labels/OBJ03861_PS3_K3A_NIA0162.json', 'train/train_objects_labels/OBJ03862_PS3_K3A_NIA0162.json', 'train/train_objects_labels/OBJ03863_PS3_K3A_NIA0162.json', 'train/train_objects_labels/OBJ03864_PS3_K3A_NIA0162.json', 'train/train_objects_labels/OBJ03865_PS3_K3A_NIA0162.json', 'train/train_objects_labels/OBJ03905_PS3_K3A_NIA0165.json', 'train/train_objects_labels/OBJ03915_PS3_K3A_NIA0165.json', 'train/train_objects_labels/OBJ03919_PS3_K3A_NIA0165.json', 'train/train_objects_labels/OBJ03925_PS3_K3A_NIA0166.json', 'train/train_objects_labels/OBJ03927_PS3_K3A_NIA0166.json', 'train/train_objects_labels/OBJ03928_PS3_K3A_NIA0166.json', 'train/train_objects_labels/OBJ03930_PS3_K3A_NIA0166.json', 'train/train_objects_labels/OBJ03932_PS3_K3A_NIA0166.json', 'train/train_objects_labels/OBJ03941_PS3_K3A_NIA0166.json', 'train/train_objects_labels/OBJ03947_PS3_K3A_NIA0166.json', 'train/train_objects_labels/OBJ03948_PS3_K3A_NIA0166.json', 'train/train_objects_labels/OBJ03949_PS3_K3A_NIA0166.json', 'train/train_objects_labels/OBJ03961_PS3_K3A_NIA0166.json', 'train/train_objects_labels/OBJ03963_PS3_K3A_NIA0166.json', 'train/train_objects_labels/OBJ03964_PS3_K3A_NIA0166.json', 'train/train_objects_labels/OBJ03965_PS3_K3A_NIA0166.json', 'train/train_objects_labels/OBJ03967_PS3_K3A_NIA0166.json', 'train/train_objects_labels/OBJ03968_PS3_K3A_NIA0166.json', 'train/train_objects_labels/OBJ03972_PS3_K3A_NIA0166.json', 'train/train_objects_labels/OBJ03973_PS3_K3A_NIA0166.json', 'train/train_objects_labels/OBJ03977_PS3_K3A_NIA0166.json', 'train/train_objects_labels/OBJ03984_PS3_K3A_NIA0166.json', 'train/train_objects_labels/OBJ03986_PS3_K3A_NIA0166.json', 'train/train_objects_labels/OBJ03987_PS3_K3A_NIA0166.json', 'train/train_objects_labels/OBJ04093_PS3_K3A_NIA0174.json', 'train/train_objects_labels/OBJ04094_PS3_K3A_NIA0174.json', 'train/train_objects_labels/OBJ04097_PS3_K3A_NIA0174.json', 'train/train_objects_labels/OBJ04098_PS3_K3A_NIA0174.json', 'train/train_objects_labels/OBJ04099_PS3_K3A_NIA0174.json', 'train/train_objects_labels/OBJ04102_PS3_K3A_NIA0174.json', 'train/train_objects_labels/OBJ04104_PS3_K3A_NIA0174.json', 'train/train_objects_labels/OBJ04105_PS3_K3A_NIA0174.json', 'train/train_objects_labels/OBJ04109_PS3_K3A_NIA0174.json', 'train/train_objects_labels/OBJ04110_PS3_K3A_NIA0174.json', 'train/train_objects_labels/OBJ04111_PS3_K3A_NIA0174.json', 'train/train_objects_labels/OBJ04134_PS3_K3A_NIA0177.json', 'train/train_objects_labels/OBJ04135_PS3_K3A_NIA0177.json', 'train/train_objects_labels/OBJ04138_PS3_K3A_NIA0177.json', 'train/train_objects_labels/OBJ04139_PS3_K3A_NIA0177.json', 'train/train_objects_labels/OBJ04151_PS3_K3A_NIA0179.json', 'train/train_objects_labels/OBJ04155_PS3_K3A_NIA0179.json', 'train/train_objects_labels/OBJ04156_PS3_K3A_NIA0179.json', 'train/train_objects_labels/OBJ04157_PS3_K3A_NIA0179.json', 'train/train_objects_labels/OBJ04158_PS3_K3A_NIA0179.json', 'train/train_objects_labels/OBJ04160_PS3_K3A_NIA0180.json', 'train/train_objects_labels/OBJ04169_PS3_K3A_NIA0180.json', 'train/train_objects_labels/OBJ04177_PS3_K3A_NIA0180.json', 'train/train_objects_labels/OBJ04178_PS3_K3A_NIA0180.json', 'train/train_objects_labels/OBJ04179_PS3_K3A_NIA0180.json', 'train/train_objects_labels/OBJ04180_PS3_K3A_NIA0180.json', 'train/train_objects_labels/OBJ04181_PS3_K3A_NIA0180.json', 'train/train_objects_labels/OBJ04192_PS3_K3A_NIA0182.json', 'train/train_objects_labels/OBJ04238_PS3_K3_NIA0278.json', 'train/train_objects_labels/OBJ04293_PS3_K3_NIA0279.json', 'train/train_objects_labels/OBJ04294_PS3_K3_NIA0279.json', 'train/train_objects_labels/OBJ04295_PS3_K3_NIA0279.json', 'train/train_objects_labels/OBJ04296_PS3_K3_NIA0279.json', 'train/train_objects_labels/OBJ04297_PS3_K3_NIA0279.json', 'train/train_objects_labels/OBJ04298_PS3_K3_NIA0279.json', 'train/train_objects_labels/OBJ04299_PS3_K3_NIA0279.json', 'train/train_objects_labels/OBJ04300_PS3_K3_NIA0279.json', 'train/train_objects_labels/OBJ04301_PS3_K3_NIA0279.json', 'train/train_objects_labels/OBJ04302_PS3_K3_NIA0279.json', 'train/train_objects_labels/OBJ04343_PS3_K3A_NIA0283.json', 'train/train_objects_labels/OBJ04348_PS3_K3A_NIA0283.json', 'train/train_objects_labels/OBJ04350_PS3_K3A_NIA0283.json', 'train/train_objects_labels/OBJ04351_PS3_K3A_NIA0283.json', 'train/train_objects_labels/OBJ04352_PS3_K3A_NIA0283.json', 'train/train_objects_labels/OBJ04353_PS3_K3A_NIA0283.json', 'train/train_objects_labels/OBJ04355_PS3_K3A_NIA0284.json', 'train/train_objects_labels/OBJ04356_PS3_K3A_NIA0284.json', 'train/train_objects_labels/OBJ04358_PS3_K3A_NIA0284.json', 'train/train_objects_labels/OBJ04376_PS3_K3A_NIA0286.json', 'train/train_objects_labels/OBJ04385_PS3_K3A_NIA0287.json', 'train/train_objects_labels/OBJ04386_PS3_K3A_NIA0287.json', 'train/train_objects_labels/OBJ04419_PS3_K3A_NIA0289.json', 'train/train_objects_labels/OBJ04476_PS3_K3A_NIA0294.json', 'train/train_objects_labels/OBJ04492_PS3_K3A_NIA0296.json', 'train/train_objects_labels/OBJ04497_PS3_K3A_NIA0296.json', 'train/train_objects_labels/OBJ04503_PS3_K3A_NIA0297.json', 'train/train_objects_labels/OBJ04513_PS3_K3A_NIA0298.json', 'train/train_objects_labels/OBJ04514_PS3_K3A_NIA0298.json', 'train/train_objects_labels/OBJ04515_PS3_K3A_NIA0298.json', 'train/train_objects_labels/OBJ04523_PS3_K3A_NIA0299.json', 'train/train_objects_labels/OBJ04526_PS3_K3A_NIA0299.json', 'train/train_objects_labels/OBJ04527_PS3_K3A_NIA0299.json', 'train/train_objects_labels/OBJ04529_PS3_K3A_NIA0299.json', 'train/train_objects_labels/OBJ04543_PS3_K3A_NIA0300.json', 'train/train_objects_labels/OBJ04546_PS3_K3A_NIA0300.json', 'train/train_objects_labels/OBJ04552_PS3_K3A_NIA0300.json', 'train/train_objects_labels/OBJ04557_PS3_K3A_NIA0300.json', 'train/train_objects_labels/OBJ04559_PS3_K3A_NIA0300.json', 'train/train_objects_labels/OBJ04561_PS3_K3A_NIA0300.json', 'train/train_objects_labels/OBJ04565_PS3_K3A_NIA0301.json', 'train/train_objects_labels/OBJ04589_PS3_K3A_NIA0301.json', 'train/train_objects_labels/OBJ04597_PS3_K3A_NIA0302.json', 'train/train_objects_labels/OBJ04602_PS3_K3A_NIA0303.json', 'train/train_objects_labels/OBJ04603_PS3_K3A_NIA0303.json', 'train/train_objects_labels/OBJ04606_PS3_K3A_NIA0303.json', 'train/train_objects_labels/OBJ04609_PS3_K3A_NIA0303.json', 'train/train_objects_labels/OBJ04610_PS3_K3A_NIA0303.json', 'train/train_objects_labels/OBJ04616_PS3_K3A_NIA0303.json', 'train/train_objects_labels/OBJ04617_PS3_K3A_NIA0303.json', 'train/train_objects_labels/OBJ04620_PS3_K3A_NIA0303.json', 'train/train_objects_labels/OBJ04621_PS3_K3A_NIA0303.json', 'train/train_objects_labels/OBJ04623_PS3_K3A_NIA0303.json', 'train/train_objects_labels/OBJ04624_PS3_K3A_NIA0303.json', 'train/train_objects_labels/OBJ04625_PS3_K3A_NIA0303.json', 'train/train_objects_labels/OBJ04639_PS3_K3A_NIA0305.json', 'train/train_objects_labels/OBJ04640_PS3_K3A_NIA0305.json', 'train/train_objects_labels/OBJ04642_PS3_K3A_NIA0306.json', 'train/train_objects_labels/OBJ04676_PS3_K3A_NIA0312.json', 'train/train_objects_labels/OBJ04679_PS3_K3A_NIA0312.json', 'train/train_objects_labels/OBJ04680_PS3_K3A_NIA0312.json', 'train/train_objects_labels/OBJ04682_PS3_K3A_NIA0312.json', 'train/train_objects_labels/OBJ04763_PS3_K3A_NIA0314.json', 'train/train_objects_labels/OBJ04764_PS3_K3A_NIA0314.json', 'train/train_objects_labels/OBJ04768_PS3_K3A_NIA0314.json', 'train/train_objects_labels/OBJ04769_PS3_K3A_NIA0314.json', 'train/train_objects_labels/OBJ04770_PS3_K3A_NIA0314.json', 'train/train_objects_labels/OBJ04771_PS3_K3A_NIA0314.json', 'train/train_objects_labels/OBJ04773_PS3_K3A_NIA0314.json', 'train/train_objects_labels/OBJ04780_PS3_K3A_NIA0297.json', 'train/train_objects_labels/OBJ04834_PS3_K3A_NIA0317.json', 'train/train_objects_labels/OBJ04835_PS3_K3A_NIA0317.json', 'train/train_objects_labels/OBJ04838_PS3_K3A_NIA0317.json', 'train/train_objects_labels/OBJ04863_PS3_K3A_NIA0318.json', 'train/train_objects_labels/OBJ04895_PS3_K3A_NIA0321.json', 'train/train_objects_labels/OBJ04896_PS3_K3A_NIA0321.json', 'train/train_objects_labels/OBJ04897_PS3_K3A_NIA0321.json', 'train/train_objects_labels/OBJ04921_PS3_K3A_NIA0323.json', 'train/train_objects_labels/OBJ04922_PS3_K3A_NIA0172.json', 'train/train_objects_labels/OBJ04989_PS3_K3A_NIA0328.json', 'train/train_objects_labels/OBJ04993_PS3_K3A_NIA0328.json', 'train/train_objects_labels/OBJ04995_PS3_K3A_NIA0328.json', 'train/train_objects_labels/OBJ04997_PS3_K3A_NIA0328.json', 'train/train_objects_labels/OBJ05005_PS3_K3A_NIA0328.json', 'train/train_objects_labels/OBJ05028_PS3_K3A_NIA0329.json', 'train/train_objects_labels/OBJ05033_PS3_K3A_NIA0329.json', 'train/train_objects_labels/OBJ05035_PS3_K3A_NIA0329.json', 'train/train_objects_labels/OBJ05042_PS3_K3A_NIA0329.json', 'train/train_objects_labels/OBJ05046_PS3_K3A_NIA0329.json', 'train/train_objects_labels/OBJ05048_PS3_K3A_NIA0329.json', 'train/train_objects_labels/OBJ05049_PS3_K3A_NIA0329.json', 'train/train_objects_labels/OBJ05050_PS3_K3A_NIA0329.json', 'train/train_objects_labels/OBJ05051_PS3_K3A_NIA0329.json', 'train/train_objects_labels/OBJ05054_PS3_K3A_NIA0329.json', 'train/train_objects_labels/OBJ05057_PS3_K3A_NIA0330.json', 'train/train_objects_labels/OBJ05058_PS3_K3A_NIA0330.json', 'train/train_objects_labels/OBJ05060_PS3_K3A_NIA0330.json', 'train/train_objects_labels/OBJ05069_PS3_K3A_NIA0330.json', 'train/train_objects_labels/OBJ05070_PS3_K3A_NIA0330.json', 'train/train_objects_labels/OBJ05080_PS3_K3A_NIA0331.json', 'train/train_objects_labels/OBJ05090_PS3_K3A_NIA0332.json', 'train/train_objects_labels/OBJ05103_PS3_K3A_NIA0333.json', 'train/train_objects_labels/OBJ05104_PS3_K3A_NIA0333.json', 'train/train_objects_labels/OBJ05105_PS3_K3A_NIA0333.json', 'train/train_objects_labels/OBJ05109_PS3_K3A_NIA0333.json', 'train/train_objects_labels/OBJ05115_PS3_K3A_NIA0333.json', 'train/train_objects_labels/OBJ05116_PS3_K3A_NIA0333.json', 'train/train_objects_labels/OBJ05119_PS3_K3A_NIA0334.json', 'train/train_objects_labels/OBJ05120_PS3_K3A_NIA0334.json', 'train/train_objects_labels/OBJ05121_PS3_K3A_NIA0334.json', 'train/train_objects_labels/OBJ05135_PS3_K3A_NIA0334.json', 'train/train_objects_labels/OBJ05137_PS3_K3A_NIA0334.json', 'train/train_objects_labels/OBJ05138_PS3_K3A_NIA0334.json', 'train/train_objects_labels/OBJ05141_PS3_K3A_NIA0334.json', 'train/train_objects_labels/OBJ05159_PS3_K3A_NIA0336.json', 'train/train_objects_labels/OBJ05203_PS3_K3A_NIA0340.json', 'train/train_objects_labels/OBJ05205_PS3_K3A_NIA0340.json', 'train/train_objects_labels/OBJ05214_PS3_K3A_NIA0340.json', 'train/train_objects_labels/OBJ05219_PS3_K3A_NIA0340.json', 'train/train_objects_labels/OBJ05220_PS3_K3A_NIA0340.json', 'train/train_objects_labels/OBJ05358_PS3_K3A_NIA0346.json', 'train/train_objects_labels/OBJ05375_PS3_K3A_NIA0346.json', 'train/train_objects_labels/OBJ05376_PS3_K3A_NIA0346.json', 'train/train_objects_labels/OBJ05378_PS3_K3A_NIA0346.json', 'train/train_objects_labels/OBJ05379_PS3_K3A_NIA0346.json', 'train/train_objects_labels/OBJ05382_PS3_K3A_NIA0346.json', 'train/train_objects_labels/OBJ05384_PS3_K3A_NIA0346.json', 'train/train_objects_labels/OBJ05394_PS3_K3A_NIA0347.json', 'train/train_objects_labels/OBJ05401_PS3_K3A_NIA0347.json', 'train/train_objects_labels/OBJ05403_PS3_K3A_NIA0347.json', 'train/train_objects_labels/OBJ05404_PS3_K3A_NIA0347.json', 'train/train_objects_labels/OBJ05408_PS3_K3A_NIA0347.json', 'train/train_objects_labels/OBJ05414_PS3_K3A_NIA0349.json', 'train/train_objects_labels/OBJ05418_PS3_K3A_NIA0349.json', 'train/train_objects_labels/OBJ05421_PS3_K3A_NIA0349.json', 'train/train_objects_labels/OBJ05428_PS3_K3A_NIA0350.json', 'train/train_objects_labels/OBJ05430_PS3_K3A_NIA0350.json', 'train/train_objects_labels/OBJ05431_PS3_K3A_NIA0350.json', 'train/train_objects_labels/OBJ05435_PS3_K3A_NIA0165.json', 'train/train_objects_labels/OBJ05443_PS3_K3A_NIA0165.json', 'train/train_objects_labels/OBJ05445_PS3_K3A_NIA0165.json', 'train/train_objects_labels/OBJ05451_PS3_K3A_NIA0166.json', 'train/train_objects_labels/OBJ05453_PS3_K3A_NIA0166.json', 'train/train_objects_labels/OBJ05457_PS3_K3A_NIA0166.json', 'train/train_objects_labels/OBJ05461_PS3_K3A_NIA0166.json', 'train/train_objects_labels/OBJ05463_PS3_K3A_NIA0166.json', 'train/train_objects_labels/OBJ05464_PS3_K3A_NIA0166.json', 'train/train_objects_labels/OBJ05465_PS3_K3A_NIA0166.json', 'train/train_objects_labels/OBJ05470_PS3_K3A_NIA0166.json', 'train/train_objects_labels/OBJ05475_PS3_K3A_NIA0166.json', 'train/train_objects_labels/OBJ05480_PS3_K3A_NIA0166.json', 'train/train_objects_labels/OBJ05481_PS3_K3A_NIA0166.json', 'train/train_objects_labels/OBJ05483_PS3_K3A_NIA0166.json', 'train/train_objects_labels/OBJ05485_PS3_K3A_NIA0166.json', 'train/train_objects_labels/OBJ05486_PS3_K3A_NIA0166.json', 'train/train_objects_labels/OBJ05487_PS3_K3A_NIA0166.json', 'train/train_objects_labels/OBJ05488_PS3_K3A_NIA0166.json', 'train/train_objects_labels/OBJ05500_PS3_K3A_NIA0166.json', 'train/train_objects_labels/OBJ05504_PS3_K3A_NIA0166.json', 'train/train_objects_labels/OBJ05508_PS3_K3A_NIA0166.json', 'train/train_objects_labels/OBJ05509_PS3_K3A_NIA0166.json', 'train/train_objects_labels/OBJ05530_PS3_K3A_NIA0353.json', 'train/train_objects_labels/OBJ05557_PS3_K3A_NIA0355.json', 'train/train_objects_labels/OBJ05558_PS3_K3A_NIA0355.json', 'train/train_objects_labels/OBJ05559_PS3_K3A_NIA0355.json', 'train/train_objects_labels/OBJ05565_PS3_K3A_NIA0355.json', 'train/train_objects_labels/OBJ05572_PS3_K3A_NIA0355.json', 'train/train_objects_labels/OBJ05574_PS3_K3A_NIA0355.json', 'train/train_objects_labels/OBJ05575_PS3_K3A_NIA0355.json', 'train/train_objects_labels/OBJ05576_PS3_K3A_NIA0355.json', 'train/train_objects_labels/OBJ05590_PS3_K3A_NIA0357.json', 'train/train_objects_labels/OBJ05599_PS3_K3A_NIA0357.json', 'train/train_objects_labels/OBJ05601_PS3_K3A_NIA0357.json', 'train/train_objects_labels/OBJ05614_PS3_K3A_NIA0357.json', 'train/train_objects_labels/OBJ05618_PS3_K3A_NIA0358.json', 'train/train_objects_labels/OBJ05624_PS3_K3A_NIA0358.json', 'train/train_objects_labels/OBJ05625_PS3_K3A_NIA0358.json', 'train/train_objects_labels/OBJ05626_PS3_K3A_NIA0358.json', 'train/train_objects_labels/OBJ05627_PS3_K3A_NIA0358.json', 'train/train_objects_labels/OBJ05652_PS3_K3A_NIA0359.json', 'train/train_objects_labels/OBJ05653_PS3_K3A_NIA0359.json', 'train/train_objects_labels/OBJ05656_PS3_K3A_NIA0359.json', 'train/train_objects_labels/OBJ05664_PS3_K3A_NIA0360.json', 'train/train_objects_labels/OBJ05670_PS3_K3A_NIA0360.json', 'train/train_objects_labels/OBJ05684_PS3_K3A_NIA0361.json', 'train/train_objects_labels/OBJ05685_PS3_K3A_NIA0361.json', 'train/train_objects_labels/OBJ05687_PS3_K3A_NIA0361.json', 'train/train_objects_labels/OBJ05689_PS3_K3A_NIA0361.json', 'train/train_objects_labels/OBJ05690_PS3_K3A_NIA0361.json', 'train/train_objects_labels/OBJ05691_PS3_K3A_NIA0361.json', 'train/train_objects_labels/OBJ05693_PS3_K3A_NIA0361.json', 'train/train_objects_labels/OBJ05702_PS3_K3A_NIA0362.json', 'train/train_objects_labels/OBJ05704_PS3_K3A_NIA0362.json', 'train/train_objects_labels/OBJ05705_PS3_K3A_NIA0362.json', 'train/train_objects_labels/OBJ05706_PS3_K3A_NIA0363.json', 'train/train_objects_labels/OBJ05708_PS3_K3A_NIA0363.json', 'train/train_objects_labels/OBJ05709_PS3_K3A_NIA0363.json', 'train/train_objects_labels/OBJ05731_PS3_K3A_NIA0363.json', 'train/train_objects_labels/OBJ05732_PS3_K3A_NIA0363.json', 'train/train_objects_labels/OBJ05734_PS3_K3A_NIA0363.json', 'train/train_objects_labels/OBJ05827_PS3_K3A_NIA0595.json', 'train/train_objects_labels/OBJ05853_PS3_K3_NIA0608.json', 'train/train_objects_labels/OBJ06280_PS3_K3A_NIA0641.json', 'train/train_objects_labels/OBJ07351_PS3_K3A_NIA0786.json', 'train/train_objects_labels/OBJ07374_PS3_K3A_NIA0804.json']\n",
      "357\n"
     ]
    }
   ],
   "source": [
    "import pandas as pd\n",
    "import numpy as np\n",
    "import os\n",
    "\n",
    "import os\n",
    "import json\n",
    "\n",
    "def filter_json_files(directory):\n",
    "    json_files_with_ships = []\n",
    "    # 중복 없음\n",
    "    # 지정된 디렉토리 내 모든 파일을 확인\n",
    "    for filename in os.listdir(directory):\n",
    "        if filename.endswith(\".json\"):\n",
    "            file_path = os.path.join(directory, filename).replace('\\\\', '/')\n",
    "            with open(file_path, 'r', encoding='utf-8') as file:\n",
    "                data = json.load(file)\n",
    "\n",
    "                # 'features' 필드가 있는지 확인하고 반복\n",
    "                if 'features' in data:\n",
    "                    for feature in data['features']:\n",
    "                        if 'properties' in feature:\n",
    "                            # 'type_name'이 'small ship' 또는 'Large ship'인 경우\n",
    "                            if feature['properties'].get('type_name') in ['ship(S)', 'ship(L)']:\n",
    "                                json_files_with_ships.append(file_path)\n",
    "                                break\n",
    "\n",
    "    return json_files_with_ships\n",
    "\n",
    "directory_path = \"train/train_objects_labels\"  \n",
    "filtered_files = filter_json_files(directory_path)\n",
    "\n",
    "# 조건에 맞는 파일 리스트 출력\n",
    "print(filtered_files)\n",
    "filtered_files.sort()\n",
    "print(len(filtered_files))\n"
   ]
  },
  {
   "cell_type": "code",
   "execution_count": 58,
   "metadata": {},
   "outputs": [],
   "source": [
    "png_list = []\n",
    "for json_file in filtered_files:\n",
    "    png_file = json_file.replace('.json', '.png').replace('train_objects_labels', 'train_objects_images')\n",
    "    png_list.append(png_file)\n",
    "png_list.sort()"
   ]
  },
  {
   "cell_type": "code",
   "execution_count": null,
   "metadata": {},
   "outputs": [],
   "source": [
    "# import matplotlib.pyplot as plt\n",
    "\n",
    "# for i in range(5):\n",
    "#     fig, ax = plt.subplots(1, 1, figsize=(5, 5))\n",
    "#     ax.imshow(plt.imread(png_list[i]))\n",
    "    \n",
    "#     ax.axis('off')\n",
    "#     plt.title(png_list[i])\n",
    "#     print(png_list[i])\n",
    "#     plt.show()"
   ]
  },
  {
   "cell_type": "code",
   "execution_count": 59,
   "metadata": {},
   "outputs": [
    {
     "name": "stdout",
     "output_type": "stream",
     "text": [
      "train/train_objects_labels/OBJ00022_PS3_K3_NIA0078.json\n",
      "train/train_objects_images/OBJ00022_PS3_K3_NIA0078.png\n"
     ]
    }
   ],
   "source": [
    "df = pd.DataFrame({'json': filtered_files, 'png': png_list})\n",
    "df['json'] = df['json']\n",
    "df['png'] = df['png']\n",
    "print(df['json'][0])\n",
    "print(df['png'][0])\n",
    "df.to_csv('train.csv', index=False)"
   ]
  },
  {
   "cell_type": "code",
   "execution_count": 60,
   "metadata": {},
   "outputs": [
    {
     "ename": "FileNotFoundError",
     "evalue": "[WinError 3] 지정된 경로를 찾을 수 없습니다: 'valid/validate_objects_labels'",
     "output_type": "error",
     "traceback": [
      "\u001b[1;31m---------------------------------------------------------------------------\u001b[0m",
      "\u001b[1;31mFileNotFoundError\u001b[0m                         Traceback (most recent call last)",
      "Cell \u001b[1;32mIn[60], line 2\u001b[0m\n\u001b[0;32m      1\u001b[0m directory_path \u001b[38;5;241m=\u001b[39m \u001b[38;5;124m\"\u001b[39m\u001b[38;5;124mvalid/validate_objects_labels\u001b[39m\u001b[38;5;124m\"\u001b[39m\n\u001b[1;32m----> 2\u001b[0m filtered_files \u001b[38;5;241m=\u001b[39m \u001b[43mfilter_json_files\u001b[49m\u001b[43m(\u001b[49m\u001b[43mdirectory_path\u001b[49m\u001b[43m)\u001b[49m\n\u001b[0;32m      4\u001b[0m \u001b[38;5;66;03m# 조건에 맞는 파일 리스트 출력\u001b[39;00m\n\u001b[0;32m      5\u001b[0m \u001b[38;5;28mprint\u001b[39m(filtered_files)\n",
      "Cell \u001b[1;32mIn[57], line 12\u001b[0m, in \u001b[0;36mfilter_json_files\u001b[1;34m(directory)\u001b[0m\n\u001b[0;32m      9\u001b[0m json_files_with_ships \u001b[38;5;241m=\u001b[39m []\n\u001b[0;32m     10\u001b[0m \u001b[38;5;66;03m# 중복 없음\u001b[39;00m\n\u001b[0;32m     11\u001b[0m \u001b[38;5;66;03m# 지정된 디렉토리 내 모든 파일을 확인\u001b[39;00m\n\u001b[1;32m---> 12\u001b[0m \u001b[38;5;28;01mfor\u001b[39;00m filename \u001b[38;5;129;01min\u001b[39;00m os\u001b[38;5;241m.\u001b[39mlistdir(directory):\n\u001b[0;32m     13\u001b[0m     \u001b[38;5;28;01mif\u001b[39;00m filename\u001b[38;5;241m.\u001b[39mendswith(\u001b[38;5;124m\"\u001b[39m\u001b[38;5;124m.json\u001b[39m\u001b[38;5;124m\"\u001b[39m):\n\u001b[0;32m     14\u001b[0m         file_path \u001b[38;5;241m=\u001b[39m os\u001b[38;5;241m.\u001b[39mpath\u001b[38;5;241m.\u001b[39mjoin(directory, filename)\u001b[38;5;241m.\u001b[39mreplace(\u001b[38;5;124m'\u001b[39m\u001b[38;5;130;01m\\\\\u001b[39;00m\u001b[38;5;124m'\u001b[39m, \u001b[38;5;124m'\u001b[39m\u001b[38;5;124m/\u001b[39m\u001b[38;5;124m'\u001b[39m)\n",
      "\u001b[1;31mFileNotFoundError\u001b[0m: [WinError 3] 지정된 경로를 찾을 수 없습니다: 'valid/validate_objects_labels'"
     ]
    }
   ],
   "source": [
    "directory_path = \"valid/vaildate_objects_labels\"\n",
    "filtered_files = filter_json_files(directory_path)\n",
    "\n",
    "# 조건에 맞는 파일 리스트 출력\n",
    "print(filtered_files)\n",
    "filtered_files.sort()\n",
    "print(len(filtered_files))\n",
    "\n",
    "png_list = []\n",
    "for json_file in filtered_files:\n",
    "    png_file = json_file.replace('.json', '.png').replace('train_objects_labels', 'train_objects_images')\n",
    "    png_list.append(png_file)\n",
    "png_list.sort()\n",
    "\n",
    "df = pd.DataFrame({'json': filtered_files, 'png': png_list})\n",
    "df['json'] = df['json']\n",
    "df['png'] = df['png']\n",
    "print(df['json'][0])\n",
    "print(df['png'][0])\n",
    "df.to_csv('valid.csv', index=False)"
   ]
  }
 ],
 "metadata": {
  "kernelspec": {
   "display_name": "dust",
   "language": "python",
   "name": "python3"
  },
  "language_info": {
   "codemirror_mode": {
    "name": "ipython",
    "version": 3
   },
   "file_extension": ".py",
   "mimetype": "text/x-python",
   "name": "python",
   "nbconvert_exporter": "python",
   "pygments_lexer": "ipython3",
   "version": "3.11.8"
  }
 },
 "nbformat": 4,
 "nbformat_minor": 2
}
