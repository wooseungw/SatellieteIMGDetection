{
 "cells": [
  {
   "cell_type": "code",
   "execution_count": 1,
   "metadata": {},
   "outputs": [],
   "source": [
    "import os\n",
    "os.environ['PYTORCH_CUDA_ALLOC_CONF'] = 'expandable_segments:True' "
   ]
  },
  {
   "cell_type": "code",
   "execution_count": null,
   "metadata": {},
   "outputs": [
    {
     "name": "stdout",
     "output_type": "stream",
     "text": [
      "\u001b[34m\u001b[1mTuner: \u001b[0mInitialized Tuner instance with 'tune_dir=runs\\obb\\tune21'\n",
      "\u001b[34m\u001b[1mTuner: \u001b[0m Learn about tuning at https://docs.ultralytics.com/guides/hyperparameter-tuning\n",
      "\u001b[34m\u001b[1mTuner: \u001b[0mStarting iteration 1/100 with hyperparameters: {'lr0': 0.001, 'lrf': 0.01, 'momentum': 0.937, 'weight_decay': 0.0005, 'warmup_epochs': 3.0, 'warmup_momentum': 0.8, 'box': 1.0, 'cls': 0.5, 'dfl': 1.5, 'hsv_h': 0.015, 'hsv_s': 0.7, 'hsv_v': 0.4, 'degrees': 0.0, 'translate': 0.1, 'scale': 0.92, 'shear': 0.0, 'perspective': 0.0, 'flipud': 0.5, 'fliplr': 0.5, 'bgr': 0.0, 'mosaic': 1.0, 'mixup': 0.0, 'copy_paste': 0.0}\n",
      "Saved runs\\obb\\tune21\\tune_scatter_plots.png\n",
      "Saved runs\\obb\\tune21\\tune_fitness.png\n",
      "\n",
      "\u001b[34m\u001b[1mTuner: \u001b[0m1/100 iterations complete  (1001.73s)\n",
      "\u001b[34m\u001b[1mTuner: \u001b[0mResults saved to \u001b[1mruns\\obb\\tune21\u001b[0m\n",
      "\u001b[34m\u001b[1mTuner: \u001b[0mBest fitness=0.42595 observed at iteration 1\n",
      "\u001b[34m\u001b[1mTuner: \u001b[0mBest fitness metrics are {'metrics/precision(B)': 0.72558, 'metrics/recall(B)': 0.57069, 'metrics/mAP50(B)': 0.62731, 'metrics/mAP50-95(B)': 0.40358, 'val/box_loss': 0.21557, 'val/cls_loss': 1.5513, 'val/dfl_loss': 1.52, 'fitness': 0.42595}\n",
      "\u001b[34m\u001b[1mTuner: \u001b[0mBest fitness model is runs\\obb\\tunning_1024_label3\n",
      "\u001b[34m\u001b[1mTuner: \u001b[0mBest fitness hyperparameters are printed below.\n",
      "\n",
      "Printing '\u001b[1m\u001b[30mruns\\obb\\tune21\\best_hyperparameters.yaml\u001b[0m'\n",
      "\n",
      "lr0: 0.001\n",
      "lrf: 0.01\n",
      "momentum: 0.937\n",
      "weight_decay: 0.0005\n",
      "warmup_epochs: 3.0\n",
      "warmup_momentum: 0.8\n",
      "box: 1.0\n",
      "cls: 0.5\n",
      "dfl: 1.5\n",
      "hsv_h: 0.015\n",
      "hsv_s: 0.7\n",
      "hsv_v: 0.4\n",
      "degrees: 0.0\n",
      "translate: 0.1\n",
      "scale: 0.92\n",
      "shear: 0.0\n",
      "perspective: 0.0\n",
      "flipud: 0.5\n",
      "fliplr: 0.5\n",
      "bgr: 0.0\n",
      "mosaic: 1.0\n",
      "mixup: 0.0\n",
      "copy_paste: 0.0\n",
      "\n",
      "\u001b[34m\u001b[1mTuner: \u001b[0mStarting iteration 2/100 with hyperparameters: {'lr0': 0.001, 'lrf': 0.01, 'momentum': 0.9633, 'weight_decay': 0.00045, 'warmup_epochs': 3.24214, 'warmup_momentum': 0.8, 'box': 1.0, 'cls': 0.54542, 'dfl': 1.58294, 'hsv_h': 0.01199, 'hsv_s': 0.68228, 'hsv_v': 0.44026, 'degrees': 0.0, 'translate': 0.09575, 'scale': 0.7892, 'shear': 0.0, 'perspective': 0.0, 'flipud': 0.4392, 'fliplr': 0.5, 'bgr': 0.0, 'mosaic': 1.0, 'mixup': 0.0, 'copy_paste': 0.0}\n",
      "Saved runs\\obb\\tune21\\tune_scatter_plots.png\n",
      "Saved runs\\obb\\tune21\\tune_fitness.png\n",
      "\n",
      "\u001b[34m\u001b[1mTuner: \u001b[0m2/100 iterations complete  (1991.27s)\n",
      "\u001b[34m\u001b[1mTuner: \u001b[0mResults saved to \u001b[1mruns\\obb\\tune21\u001b[0m\n",
      "\u001b[34m\u001b[1mTuner: \u001b[0mBest fitness=0.42595 observed at iteration 1\n",
      "\u001b[34m\u001b[1mTuner: \u001b[0mBest fitness metrics are {'metrics/precision(B)': 0.72558, 'metrics/recall(B)': 0.57069, 'metrics/mAP50(B)': 0.62731, 'metrics/mAP50-95(B)': 0.40358, 'val/box_loss': 0.21557, 'val/cls_loss': 1.5513, 'val/dfl_loss': 1.52, 'fitness': 0.42595}\n",
      "\u001b[34m\u001b[1mTuner: \u001b[0mBest fitness model is runs\\obb\\tunning_1024_label3\n",
      "\u001b[34m\u001b[1mTuner: \u001b[0mBest fitness hyperparameters are printed below.\n",
      "\n",
      "Printing '\u001b[1m\u001b[30mruns\\obb\\tune21\\best_hyperparameters.yaml\u001b[0m'\n",
      "\n",
      "lr0: 0.001\n",
      "lrf: 0.01\n",
      "momentum: 0.937\n",
      "weight_decay: 0.0005\n",
      "warmup_epochs: 3.0\n",
      "warmup_momentum: 0.8\n",
      "box: 1.0\n",
      "cls: 0.5\n",
      "dfl: 1.5\n",
      "hsv_h: 0.015\n",
      "hsv_s: 0.7\n",
      "hsv_v: 0.4\n",
      "degrees: 0.0\n",
      "translate: 0.1\n",
      "scale: 0.92\n",
      "shear: 0.0\n",
      "perspective: 0.0\n",
      "flipud: 0.5\n",
      "fliplr: 0.5\n",
      "bgr: 0.0\n",
      "mosaic: 1.0\n",
      "mixup: 0.0\n",
      "copy_paste: 0.0\n",
      "\n",
      "\u001b[34m\u001b[1mTuner: \u001b[0mStarting iteration 3/100 with hyperparameters: {'lr0': 0.00105, 'lrf': 0.01066, 'momentum': 0.91912, 'weight_decay': 0.00048, 'warmup_epochs': 2.66444, 'warmup_momentum': 0.75521, 'box': 1.0, 'cls': 0.5163, 'dfl': 1.42301, 'hsv_h': 0.01434, 'hsv_s': 0.79738, 'hsv_v': 0.47004, 'degrees': 0.0, 'translate': 0.09467, 'scale': 0.95, 'shear': 0.0, 'perspective': 0.0, 'flipud': 0.44387, 'fliplr': 0.36284, 'bgr': 0.0, 'mosaic': 0.81613, 'mixup': 0.0, 'copy_paste': 0.0}\n",
      "Saved runs\\obb\\tune21\\tune_scatter_plots.png\n",
      "Saved runs\\obb\\tune21\\tune_fitness.png\n",
      "\n",
      "\u001b[34m\u001b[1mTuner: \u001b[0m3/100 iterations complete  (2981.09s)\n",
      "\u001b[34m\u001b[1mTuner: \u001b[0mResults saved to \u001b[1mruns\\obb\\tune21\u001b[0m\n",
      "\u001b[34m\u001b[1mTuner: \u001b[0mBest fitness=0.42595 observed at iteration 1\n",
      "\u001b[34m\u001b[1mTuner: \u001b[0mBest fitness metrics are {'metrics/precision(B)': 0.72558, 'metrics/recall(B)': 0.57069, 'metrics/mAP50(B)': 0.62731, 'metrics/mAP50-95(B)': 0.40358, 'val/box_loss': 0.21557, 'val/cls_loss': 1.5513, 'val/dfl_loss': 1.52, 'fitness': 0.42595}\n",
      "\u001b[34m\u001b[1mTuner: \u001b[0mBest fitness model is runs\\obb\\tunning_1024_label3\n",
      "\u001b[34m\u001b[1mTuner: \u001b[0mBest fitness hyperparameters are printed below.\n",
      "\n",
      "Printing '\u001b[1m\u001b[30mruns\\obb\\tune21\\best_hyperparameters.yaml\u001b[0m'\n",
      "\n",
      "lr0: 0.001\n",
      "lrf: 0.01\n",
      "momentum: 0.937\n",
      "weight_decay: 0.0005\n",
      "warmup_epochs: 3.0\n",
      "warmup_momentum: 0.8\n",
      "box: 1.0\n",
      "cls: 0.5\n",
      "dfl: 1.5\n",
      "hsv_h: 0.015\n",
      "hsv_s: 0.7\n",
      "hsv_v: 0.4\n",
      "degrees: 0.0\n",
      "translate: 0.1\n",
      "scale: 0.92\n",
      "shear: 0.0\n",
      "perspective: 0.0\n",
      "flipud: 0.5\n",
      "fliplr: 0.5\n",
      "bgr: 0.0\n",
      "mosaic: 1.0\n",
      "mixup: 0.0\n",
      "copy_paste: 0.0\n",
      "\n",
      "\u001b[34m\u001b[1mTuner: \u001b[0mStarting iteration 4/100 with hyperparameters: {'lr0': 0.00099, 'lrf': 0.01072, 'momentum': 0.91912, 'weight_decay': 0.0005, 'warmup_epochs': 2.79468, 'warmup_momentum': 0.72173, 'box': 1.02109, 'cls': 0.51797, 'dfl': 1.4951, 'hsv_h': 0.01394, 'hsv_s': 0.79738, 'hsv_v': 0.41854, 'degrees': 0.0, 'translate': 0.09467, 'scale': 0.95, 'shear': 0.0, 'perspective': 0.0, 'flipud': 0.42731, 'fliplr': 0.38464, 'bgr': 0.0, 'mosaic': 0.7752, 'mixup': 0.0, 'copy_paste': 0.0}\n",
      "Saved runs\\obb\\tune21\\tune_scatter_plots.png\n",
      "Saved runs\\obb\\tune21\\tune_fitness.png\n",
      "\n",
      "\u001b[34m\u001b[1mTuner: \u001b[0m4/100 iterations complete  (3971.63s)\n",
      "\u001b[34m\u001b[1mTuner: \u001b[0mResults saved to \u001b[1mruns\\obb\\tune21\u001b[0m\n",
      "\u001b[34m\u001b[1mTuner: \u001b[0mBest fitness=0.42595 observed at iteration 1\n",
      "\u001b[34m\u001b[1mTuner: \u001b[0mBest fitness metrics are {'metrics/precision(B)': 0.72558, 'metrics/recall(B)': 0.57069, 'metrics/mAP50(B)': 0.62731, 'metrics/mAP50-95(B)': 0.40358, 'val/box_loss': 0.21557, 'val/cls_loss': 1.5513, 'val/dfl_loss': 1.52, 'fitness': 0.42595}\n",
      "\u001b[34m\u001b[1mTuner: \u001b[0mBest fitness model is runs\\obb\\tunning_1024_label3\n",
      "\u001b[34m\u001b[1mTuner: \u001b[0mBest fitness hyperparameters are printed below.\n",
      "\n",
      "Printing '\u001b[1m\u001b[30mruns\\obb\\tune21\\best_hyperparameters.yaml\u001b[0m'\n",
      "\n",
      "lr0: 0.001\n",
      "lrf: 0.01\n",
      "momentum: 0.937\n",
      "weight_decay: 0.0005\n",
      "warmup_epochs: 3.0\n",
      "warmup_momentum: 0.8\n",
      "box: 1.0\n",
      "cls: 0.5\n",
      "dfl: 1.5\n",
      "hsv_h: 0.015\n",
      "hsv_s: 0.7\n",
      "hsv_v: 0.4\n",
      "degrees: 0.0\n",
      "translate: 0.1\n",
      "scale: 0.92\n",
      "shear: 0.0\n",
      "perspective: 0.0\n",
      "flipud: 0.5\n",
      "fliplr: 0.5\n",
      "bgr: 0.0\n",
      "mosaic: 1.0\n",
      "mixup: 0.0\n",
      "copy_paste: 0.0\n",
      "\n",
      "\u001b[34m\u001b[1mTuner: \u001b[0mStarting iteration 5/100 with hyperparameters: {'lr0': 0.00097, 'lrf': 0.01053, 'momentum': 0.91487, 'weight_decay': 0.00052, 'warmup_epochs': 2.79468, 'warmup_momentum': 0.72173, 'box': 1.07259, 'cls': 0.52226, 'dfl': 1.42525, 'hsv_h': 0.01437, 'hsv_s': 0.86341, 'hsv_v': 0.40563, 'degrees': 0.0, 'translate': 0.09096, 'scale': 0.95, 'shear': 0.0, 'perspective': 0.0, 'flipud': 0.4277, 'fliplr': 0.3866, 'bgr': 0.0, 'mosaic': 0.72502, 'mixup': 0.0, 'copy_paste': 0.0}\n",
      "Saved runs\\obb\\tune21\\tune_scatter_plots.png\n",
      "Saved runs\\obb\\tune21\\tune_fitness.png\n",
      "\n",
      "\u001b[34m\u001b[1mTuner: \u001b[0m5/100 iterations complete  (4954.67s)\n",
      "\u001b[34m\u001b[1mTuner: \u001b[0mResults saved to \u001b[1mruns\\obb\\tune21\u001b[0m\n",
      "\u001b[34m\u001b[1mTuner: \u001b[0mBest fitness=0.44667 observed at iteration 5\n",
      "\u001b[34m\u001b[1mTuner: \u001b[0mBest fitness metrics are {'metrics/precision(B)': 0.75494, 'metrics/recall(B)': 0.58881, 'metrics/mAP50(B)': 0.65115, 'metrics/mAP50-95(B)': 0.42395, 'val/box_loss': 0.23978, 'val/cls_loss': 1.60859, 'val/dfl_loss': 1.4732, 'fitness': 0.44667}\n",
      "\u001b[34m\u001b[1mTuner: \u001b[0mBest fitness model is runs\\obb\\tunning_1024_label7\n",
      "\u001b[34m\u001b[1mTuner: \u001b[0mBest fitness hyperparameters are printed below.\n",
      "\n",
      "Printing '\u001b[1m\u001b[30mruns\\obb\\tune21\\best_hyperparameters.yaml\u001b[0m'\n",
      "\n",
      "lr0: 0.00097\n",
      "lrf: 0.01053\n",
      "momentum: 0.91487\n",
      "weight_decay: 0.00052\n",
      "warmup_epochs: 2.79468\n",
      "warmup_momentum: 0.72173\n",
      "box: 1.07259\n",
      "cls: 0.52226\n",
      "dfl: 1.42525\n",
      "hsv_h: 0.01437\n",
      "hsv_s: 0.86341\n",
      "hsv_v: 0.40563\n",
      "degrees: 0.0\n",
      "translate: 0.09096\n",
      "scale: 0.95\n",
      "shear: 0.0\n",
      "perspective: 0.0\n",
      "flipud: 0.4277\n",
      "fliplr: 0.3866\n",
      "bgr: 0.0\n",
      "mosaic: 0.72502\n",
      "mixup: 0.0\n",
      "copy_paste: 0.0\n",
      "\n",
      "\u001b[34m\u001b[1mTuner: \u001b[0mStarting iteration 6/100 with hyperparameters: {'lr0': 0.00109, 'lrf': 0.01103, 'momentum': 0.90308, 'weight_decay': 0.00049, 'warmup_epochs': 2.93746, 'warmup_momentum': 0.72515, 'box': 1.03658, 'cls': 0.53485, 'dfl': 1.51734, 'hsv_h': 0.01405, 'hsv_s': 0.86341, 'hsv_v': 0.42253, 'degrees': 0.0, 'translate': 0.09096, 'scale': 0.95, 'shear': 0.0, 'perspective': 0.0, 'flipud': 0.4277, 'fliplr': 0.37732, 'bgr': 0.0, 'mosaic': 0.73422, 'mixup': 0.0, 'copy_paste': 0.0}\n",
      "Saved runs\\obb\\tune21\\tune_scatter_plots.png\n",
      "Saved runs\\obb\\tune21\\tune_fitness.png\n",
      "\n",
      "\u001b[34m\u001b[1mTuner: \u001b[0m6/100 iterations complete  (5937.39s)\n",
      "\u001b[34m\u001b[1mTuner: \u001b[0mResults saved to \u001b[1mruns\\obb\\tune21\u001b[0m\n",
      "\u001b[34m\u001b[1mTuner: \u001b[0mBest fitness=0.44667 observed at iteration 5\n",
      "\u001b[34m\u001b[1mTuner: \u001b[0mBest fitness metrics are {'metrics/precision(B)': 0.75494, 'metrics/recall(B)': 0.58881, 'metrics/mAP50(B)': 0.65115, 'metrics/mAP50-95(B)': 0.42395, 'val/box_loss': 0.23978, 'val/cls_loss': 1.60859, 'val/dfl_loss': 1.4732, 'fitness': 0.44667}\n",
      "\u001b[34m\u001b[1mTuner: \u001b[0mBest fitness model is runs\\obb\\tunning_1024_label7\n",
      "\u001b[34m\u001b[1mTuner: \u001b[0mBest fitness hyperparameters are printed below.\n",
      "\n",
      "Printing '\u001b[1m\u001b[30mruns\\obb\\tune21\\best_hyperparameters.yaml\u001b[0m'\n",
      "\n",
      "lr0: 0.00097\n",
      "lrf: 0.01053\n",
      "momentum: 0.91487\n",
      "weight_decay: 0.00052\n",
      "warmup_epochs: 2.79468\n",
      "warmup_momentum: 0.72173\n",
      "box: 1.07259\n",
      "cls: 0.52226\n",
      "dfl: 1.42525\n",
      "hsv_h: 0.01437\n",
      "hsv_s: 0.86341\n",
      "hsv_v: 0.40563\n",
      "degrees: 0.0\n",
      "translate: 0.09096\n",
      "scale: 0.95\n",
      "shear: 0.0\n",
      "perspective: 0.0\n",
      "flipud: 0.4277\n",
      "fliplr: 0.3866\n",
      "bgr: 0.0\n",
      "mosaic: 0.72502\n",
      "mixup: 0.0\n",
      "copy_paste: 0.0\n",
      "\n",
      "\u001b[34m\u001b[1mTuner: \u001b[0mStarting iteration 7/100 with hyperparameters: {'lr0': 0.00093, 'lrf': 0.01013, 'momentum': 0.91826, 'weight_decay': 0.00051, 'warmup_epochs': 2.79468, 'warmup_momentum': 0.72109, 'box': 1.01169, 'cls': 0.5263, 'dfl': 1.35858, 'hsv_h': 0.01455, 'hsv_s': 0.84156, 'hsv_v': 0.40563, 'degrees': 0.0, 'translate': 0.0846, 'scale': 0.95, 'shear': 0.0, 'perspective': 0.0, 'flipud': 0.43645, 'fliplr': 0.37204, 'bgr': 0.0, 'mosaic': 0.74285, 'mixup': 0.0, 'copy_paste': 0.0}\n",
      "Saved runs\\obb\\tune21\\tune_scatter_plots.png\n",
      "Saved runs\\obb\\tune21\\tune_fitness.png\n",
      "\n",
      "\u001b[34m\u001b[1mTuner: \u001b[0m7/100 iterations complete  (6921.30s)\n",
      "\u001b[34m\u001b[1mTuner: \u001b[0mResults saved to \u001b[1mruns\\obb\\tune21\u001b[0m\n",
      "\u001b[34m\u001b[1mTuner: \u001b[0mBest fitness=0.44667 observed at iteration 5\n",
      "\u001b[34m\u001b[1mTuner: \u001b[0mBest fitness metrics are {'metrics/precision(B)': 0.75494, 'metrics/recall(B)': 0.58881, 'metrics/mAP50(B)': 0.65115, 'metrics/mAP50-95(B)': 0.42395, 'val/box_loss': 0.23978, 'val/cls_loss': 1.60859, 'val/dfl_loss': 1.4732, 'fitness': 0.44667}\n",
      "\u001b[34m\u001b[1mTuner: \u001b[0mBest fitness model is runs\\obb\\tunning_1024_label7\n",
      "\u001b[34m\u001b[1mTuner: \u001b[0mBest fitness hyperparameters are printed below.\n",
      "\n",
      "Printing '\u001b[1m\u001b[30mruns\\obb\\tune21\\best_hyperparameters.yaml\u001b[0m'\n",
      "\n",
      "lr0: 0.00097\n",
      "lrf: 0.01053\n",
      "momentum: 0.91487\n",
      "weight_decay: 0.00052\n",
      "warmup_epochs: 2.79468\n",
      "warmup_momentum: 0.72173\n",
      "box: 1.07259\n",
      "cls: 0.52226\n",
      "dfl: 1.42525\n",
      "hsv_h: 0.01437\n",
      "hsv_s: 0.86341\n",
      "hsv_v: 0.40563\n",
      "degrees: 0.0\n",
      "translate: 0.09096\n",
      "scale: 0.95\n",
      "shear: 0.0\n",
      "perspective: 0.0\n",
      "flipud: 0.4277\n",
      "fliplr: 0.3866\n",
      "bgr: 0.0\n",
      "mosaic: 0.72502\n",
      "mixup: 0.0\n",
      "copy_paste: 0.0\n",
      "\n",
      "\u001b[34m\u001b[1mTuner: \u001b[0mStarting iteration 8/100 with hyperparameters: {'lr0': 0.00096, 'lrf': 0.01013, 'momentum': 0.92102, 'weight_decay': 0.00049, 'warmup_epochs': 2.79468, 'warmup_momentum': 0.70209, 'box': 1.01158, 'cls': 0.51949, 'dfl': 1.35858, 'hsv_h': 0.01466, 'hsv_s': 0.81139, 'hsv_v': 0.40563, 'degrees': 0.0, 'translate': 0.08523, 'scale': 0.95, 'shear': 0.0, 'perspective': 0.0, 'flipud': 0.43645, 'fliplr': 0.37204, 'bgr': 0.0, 'mosaic': 0.74349, 'mixup': 0.0, 'copy_paste': 0.0}\n",
      "Saved runs\\obb\\tune21\\tune_scatter_plots.png\n",
      "Saved runs\\obb\\tune21\\tune_fitness.png\n",
      "\n",
      "\u001b[34m\u001b[1mTuner: \u001b[0m8/100 iterations complete  (7902.49s)\n",
      "\u001b[34m\u001b[1mTuner: \u001b[0mResults saved to \u001b[1mruns\\obb\\tune21\u001b[0m\n",
      "\u001b[34m\u001b[1mTuner: \u001b[0mBest fitness=0.44667 observed at iteration 5\n",
      "\u001b[34m\u001b[1mTuner: \u001b[0mBest fitness metrics are {'metrics/precision(B)': 0.75494, 'metrics/recall(B)': 0.58881, 'metrics/mAP50(B)': 0.65115, 'metrics/mAP50-95(B)': 0.42395, 'val/box_loss': 0.23978, 'val/cls_loss': 1.60859, 'val/dfl_loss': 1.4732, 'fitness': 0.44667}\n",
      "\u001b[34m\u001b[1mTuner: \u001b[0mBest fitness model is runs\\obb\\tunning_1024_label7\n",
      "\u001b[34m\u001b[1mTuner: \u001b[0mBest fitness hyperparameters are printed below.\n",
      "\n",
      "Printing '\u001b[1m\u001b[30mruns\\obb\\tune21\\best_hyperparameters.yaml\u001b[0m'\n",
      "\n",
      "lr0: 0.00097\n",
      "lrf: 0.01053\n",
      "momentum: 0.91487\n",
      "weight_decay: 0.00052\n",
      "warmup_epochs: 2.79468\n",
      "warmup_momentum: 0.72173\n",
      "box: 1.07259\n",
      "cls: 0.52226\n",
      "dfl: 1.42525\n",
      "hsv_h: 0.01437\n",
      "hsv_s: 0.86341\n",
      "hsv_v: 0.40563\n",
      "degrees: 0.0\n",
      "translate: 0.09096\n",
      "scale: 0.95\n",
      "shear: 0.0\n",
      "perspective: 0.0\n",
      "flipud: 0.4277\n",
      "fliplr: 0.3866\n",
      "bgr: 0.0\n",
      "mosaic: 0.72502\n",
      "mixup: 0.0\n",
      "copy_paste: 0.0\n",
      "\n",
      "\u001b[34m\u001b[1mTuner: \u001b[0mStarting iteration 9/100 with hyperparameters: {'lr0': 0.00127, 'lrf': 0.00987, 'momentum': 0.96715, 'weight_decay': 0.00052, 'warmup_epochs': 2.98233, 'warmup_momentum': 0.7576, 'box': 1.18771, 'cls': 0.41512, 'dfl': 1.42525, 'hsv_h': 0.01437, 'hsv_s': 0.83123, 'hsv_v': 0.45865, 'degrees': 0.0, 'translate': 0.08005, 'scale': 0.95, 'shear': 0.0, 'perspective': 0.0, 'flipud': 0.39337, 'fliplr': 0.37723, 'bgr': 0.0, 'mosaic': 0.77633, 'mixup': 0.0, 'copy_paste': 0.0}\n",
      "Saved runs\\obb\\tune21\\tune_scatter_plots.png\n",
      "Saved runs\\obb\\tune21\\tune_fitness.png\n",
      "\n",
      "\u001b[34m\u001b[1mTuner: \u001b[0m9/100 iterations complete  (8905.71s)\n",
      "\u001b[34m\u001b[1mTuner: \u001b[0mResults saved to \u001b[1mruns\\obb\\tune21\u001b[0m\n",
      "\u001b[34m\u001b[1mTuner: \u001b[0mBest fitness=0.44667 observed at iteration 5\n",
      "\u001b[34m\u001b[1mTuner: \u001b[0mBest fitness metrics are {'metrics/precision(B)': 0.75494, 'metrics/recall(B)': 0.58881, 'metrics/mAP50(B)': 0.65115, 'metrics/mAP50-95(B)': 0.42395, 'val/box_loss': 0.23978, 'val/cls_loss': 1.60859, 'val/dfl_loss': 1.4732, 'fitness': 0.44667}\n",
      "\u001b[34m\u001b[1mTuner: \u001b[0mBest fitness model is runs\\obb\\tunning_1024_label7\n",
      "\u001b[34m\u001b[1mTuner: \u001b[0mBest fitness hyperparameters are printed below.\n",
      "\n",
      "Printing '\u001b[1m\u001b[30mruns\\obb\\tune21\\best_hyperparameters.yaml\u001b[0m'\n",
      "\n",
      "lr0: 0.00097\n",
      "lrf: 0.01053\n",
      "momentum: 0.91487\n",
      "weight_decay: 0.00052\n",
      "warmup_epochs: 2.79468\n",
      "warmup_momentum: 0.72173\n",
      "box: 1.07259\n",
      "cls: 0.52226\n",
      "dfl: 1.42525\n",
      "hsv_h: 0.01437\n",
      "hsv_s: 0.86341\n",
      "hsv_v: 0.40563\n",
      "degrees: 0.0\n",
      "translate: 0.09096\n",
      "scale: 0.95\n",
      "shear: 0.0\n",
      "perspective: 0.0\n",
      "flipud: 0.4277\n",
      "fliplr: 0.3866\n",
      "bgr: 0.0\n",
      "mosaic: 0.72502\n",
      "mixup: 0.0\n",
      "copy_paste: 0.0\n",
      "\n",
      "\u001b[34m\u001b[1mTuner: \u001b[0mStarting iteration 10/100 with hyperparameters: {'lr0': 0.00117, 'lrf': 0.01053, 'momentum': 0.98, 'weight_decay': 0.00057, 'warmup_epochs': 2.78831, 'warmup_momentum': 0.6682, 'box': 1.10172, 'cls': 0.60865, 'dfl': 1.80364, 'hsv_h': 0.0155, 'hsv_s': 0.86366, 'hsv_v': 0.43519, 'degrees': 0.0, 'translate': 0.07663, 'scale': 0.78039, 'shear': 0.0, 'perspective': 0.0, 'flipud': 0.44356, 'fliplr': 0.39988, 'bgr': 0.0, 'mosaic': 0.72502, 'mixup': 0.0, 'copy_paste': 0.0}\n",
      "Saved runs\\obb\\tune21\\tune_scatter_plots.png\n",
      "Saved runs\\obb\\tune21\\tune_fitness.png\n",
      "\n",
      "\u001b[34m\u001b[1mTuner: \u001b[0m10/100 iterations complete  (9899.87s)\n",
      "\u001b[34m\u001b[1mTuner: \u001b[0mResults saved to \u001b[1mruns\\obb\\tune21\u001b[0m\n",
      "\u001b[34m\u001b[1mTuner: \u001b[0mBest fitness=0.44667 observed at iteration 5\n",
      "\u001b[34m\u001b[1mTuner: \u001b[0mBest fitness metrics are {'metrics/precision(B)': 0.75494, 'metrics/recall(B)': 0.58881, 'metrics/mAP50(B)': 0.65115, 'metrics/mAP50-95(B)': 0.42395, 'val/box_loss': 0.23978, 'val/cls_loss': 1.60859, 'val/dfl_loss': 1.4732, 'fitness': 0.44667}\n",
      "\u001b[34m\u001b[1mTuner: \u001b[0mBest fitness model is runs\\obb\\tunning_1024_label7\n",
      "\u001b[34m\u001b[1mTuner: \u001b[0mBest fitness hyperparameters are printed below.\n",
      "\n",
      "Printing '\u001b[1m\u001b[30mruns\\obb\\tune21\\best_hyperparameters.yaml\u001b[0m'\n",
      "\n",
      "lr0: 0.00097\n",
      "lrf: 0.01053\n",
      "momentum: 0.91487\n",
      "weight_decay: 0.00052\n",
      "warmup_epochs: 2.79468\n",
      "warmup_momentum: 0.72173\n",
      "box: 1.07259\n",
      "cls: 0.52226\n",
      "dfl: 1.42525\n",
      "hsv_h: 0.01437\n",
      "hsv_s: 0.86341\n",
      "hsv_v: 0.40563\n",
      "degrees: 0.0\n",
      "translate: 0.09096\n",
      "scale: 0.95\n",
      "shear: 0.0\n",
      "perspective: 0.0\n",
      "flipud: 0.4277\n",
      "fliplr: 0.3866\n",
      "bgr: 0.0\n",
      "mosaic: 0.72502\n",
      "mixup: 0.0\n",
      "copy_paste: 0.0\n",
      "\n",
      "\u001b[34m\u001b[1mTuner: \u001b[0mStarting iteration 11/100 with hyperparameters: {'lr0': 0.00092, 'lrf': 0.01109, 'momentum': 0.96613, 'weight_decay': 0.00048, 'warmup_epochs': 2.74075, 'warmup_momentum': 0.72173, 'box': 1.0, 'cls': 0.52226, 'dfl': 1.31739, 'hsv_h': 0.01351, 'hsv_s': 0.81857, 'hsv_v': 0.40563, 'degrees': 0.0, 'translate': 0.08083, 'scale': 0.95, 'shear': 0.0, 'perspective': 0.0, 'flipud': 0.33197, 'fliplr': 0.3866, 'bgr': 0.0, 'mosaic': 0.72621, 'mixup': 0.0, 'copy_paste': 0.0}\n",
      "Saved runs\\obb\\tune21\\tune_scatter_plots.png\n",
      "Saved runs\\obb\\tune21\\tune_fitness.png\n",
      "\n",
      "\u001b[34m\u001b[1mTuner: \u001b[0m11/100 iterations complete  (10883.43s)\n",
      "\u001b[34m\u001b[1mTuner: \u001b[0mResults saved to \u001b[1mruns\\obb\\tune21\u001b[0m\n",
      "\u001b[34m\u001b[1mTuner: \u001b[0mBest fitness=0.44667 observed at iteration 5\n",
      "\u001b[34m\u001b[1mTuner: \u001b[0mBest fitness metrics are {'metrics/precision(B)': 0.75494, 'metrics/recall(B)': 0.58881, 'metrics/mAP50(B)': 0.65115, 'metrics/mAP50-95(B)': 0.42395, 'val/box_loss': 0.23978, 'val/cls_loss': 1.60859, 'val/dfl_loss': 1.4732, 'fitness': 0.44667}\n",
      "\u001b[34m\u001b[1mTuner: \u001b[0mBest fitness model is runs\\obb\\tunning_1024_label7\n",
      "\u001b[34m\u001b[1mTuner: \u001b[0mBest fitness hyperparameters are printed below.\n",
      "\n",
      "Printing '\u001b[1m\u001b[30mruns\\obb\\tune21\\best_hyperparameters.yaml\u001b[0m'\n",
      "\n",
      "lr0: 0.00097\n",
      "lrf: 0.01053\n",
      "momentum: 0.91487\n",
      "weight_decay: 0.00052\n",
      "warmup_epochs: 2.79468\n",
      "warmup_momentum: 0.72173\n",
      "box: 1.07259\n",
      "cls: 0.52226\n",
      "dfl: 1.42525\n",
      "hsv_h: 0.01437\n",
      "hsv_s: 0.86341\n",
      "hsv_v: 0.40563\n",
      "degrees: 0.0\n",
      "translate: 0.09096\n",
      "scale: 0.95\n",
      "shear: 0.0\n",
      "perspective: 0.0\n",
      "flipud: 0.4277\n",
      "fliplr: 0.3866\n",
      "bgr: 0.0\n",
      "mosaic: 0.72502\n",
      "mixup: 0.0\n",
      "copy_paste: 0.0\n",
      "\n",
      "\u001b[34m\u001b[1mTuner: \u001b[0mStarting iteration 12/100 with hyperparameters: {'lr0': 0.00091, 'lrf': 0.01008, 'momentum': 0.90098, 'weight_decay': 0.00049, 'warmup_epochs': 2.68403, 'warmup_momentum': 0.79259, 'box': 1.09645, 'cls': 0.51381, 'dfl': 1.17746, 'hsv_h': 0.01263, 'hsv_s': 0.78679, 'hsv_v': 0.39179, 'degrees': 0.0, 'translate': 0.09594, 'scale': 0.95, 'shear': 0.0, 'perspective': 0.0, 'flipud': 0.43037, 'fliplr': 0.39452, 'bgr': 0.0, 'mosaic': 0.75292, 'mixup': 0.0, 'copy_paste': 0.0}\n",
      "Saved runs\\obb\\tune21\\tune_scatter_plots.png\n",
      "Saved runs\\obb\\tune21\\tune_fitness.png\n",
      "\n",
      "\u001b[34m\u001b[1mTuner: \u001b[0m12/100 iterations complete  (11866.30s)\n",
      "\u001b[34m\u001b[1mTuner: \u001b[0mResults saved to \u001b[1mruns\\obb\\tune21\u001b[0m\n",
      "\u001b[34m\u001b[1mTuner: \u001b[0mBest fitness=0.44667 observed at iteration 5\n",
      "\u001b[34m\u001b[1mTuner: \u001b[0mBest fitness metrics are {'metrics/precision(B)': 0.75494, 'metrics/recall(B)': 0.58881, 'metrics/mAP50(B)': 0.65115, 'metrics/mAP50-95(B)': 0.42395, 'val/box_loss': 0.23978, 'val/cls_loss': 1.60859, 'val/dfl_loss': 1.4732, 'fitness': 0.44667}\n",
      "\u001b[34m\u001b[1mTuner: \u001b[0mBest fitness model is runs\\obb\\tunning_1024_label7\n",
      "\u001b[34m\u001b[1mTuner: \u001b[0mBest fitness hyperparameters are printed below.\n",
      "\n",
      "Printing '\u001b[1m\u001b[30mruns\\obb\\tune21\\best_hyperparameters.yaml\u001b[0m'\n",
      "\n",
      "lr0: 0.00097\n",
      "lrf: 0.01053\n",
      "momentum: 0.91487\n",
      "weight_decay: 0.00052\n",
      "warmup_epochs: 2.79468\n",
      "warmup_momentum: 0.72173\n",
      "box: 1.07259\n",
      "cls: 0.52226\n",
      "dfl: 1.42525\n",
      "hsv_h: 0.01437\n",
      "hsv_s: 0.86341\n",
      "hsv_v: 0.40563\n",
      "degrees: 0.0\n",
      "translate: 0.09096\n",
      "scale: 0.95\n",
      "shear: 0.0\n",
      "perspective: 0.0\n",
      "flipud: 0.4277\n",
      "fliplr: 0.3866\n",
      "bgr: 0.0\n",
      "mosaic: 0.72502\n",
      "mixup: 0.0\n",
      "copy_paste: 0.0\n",
      "\n",
      "\u001b[34m\u001b[1mTuner: \u001b[0mStarting iteration 13/100 with hyperparameters: {'lr0': 0.00083, 'lrf': 0.00893, 'momentum': 0.95862, 'weight_decay': 0.00052, 'warmup_epochs': 3.05186, 'warmup_momentum': 0.76212, 'box': 1.11078, 'cls': 0.56627, 'dfl': 1.55934, 'hsv_h': 0.01391, 'hsv_s': 0.84633, 'hsv_v': 0.38417, 'degrees': 0.0, 'translate': 0.11118, 'scale': 0.74696, 'shear': 0.0, 'perspective': 0.0, 'flipud': 0.46059, 'fliplr': 0.39604, 'bgr': 0.0, 'mosaic': 0.72424, 'mixup': 0.0, 'copy_paste': 0.0}\n",
      "Saved runs\\obb\\tune21\\tune_scatter_plots.png\n",
      "Saved runs\\obb\\tune21\\tune_fitness.png\n",
      "\n",
      "\u001b[34m\u001b[1mTuner: \u001b[0m13/100 iterations complete  (12846.87s)\n",
      "\u001b[34m\u001b[1mTuner: \u001b[0mResults saved to \u001b[1mruns\\obb\\tune21\u001b[0m\n",
      "\u001b[34m\u001b[1mTuner: \u001b[0mBest fitness=0.44667 observed at iteration 5\n",
      "\u001b[34m\u001b[1mTuner: \u001b[0mBest fitness metrics are {'metrics/precision(B)': 0.75494, 'metrics/recall(B)': 0.58881, 'metrics/mAP50(B)': 0.65115, 'metrics/mAP50-95(B)': 0.42395, 'val/box_loss': 0.23978, 'val/cls_loss': 1.60859, 'val/dfl_loss': 1.4732, 'fitness': 0.44667}\n",
      "\u001b[34m\u001b[1mTuner: \u001b[0mBest fitness model is runs\\obb\\tunning_1024_label7\n",
      "\u001b[34m\u001b[1mTuner: \u001b[0mBest fitness hyperparameters are printed below.\n",
      "\n",
      "Printing '\u001b[1m\u001b[30mruns\\obb\\tune21\\best_hyperparameters.yaml\u001b[0m'\n",
      "\n",
      "lr0: 0.00097\n",
      "lrf: 0.01053\n",
      "momentum: 0.91487\n",
      "weight_decay: 0.00052\n",
      "warmup_epochs: 2.79468\n",
      "warmup_momentum: 0.72173\n",
      "box: 1.07259\n",
      "cls: 0.52226\n",
      "dfl: 1.42525\n",
      "hsv_h: 0.01437\n",
      "hsv_s: 0.86341\n",
      "hsv_v: 0.40563\n",
      "degrees: 0.0\n",
      "translate: 0.09096\n",
      "scale: 0.95\n",
      "shear: 0.0\n",
      "perspective: 0.0\n",
      "flipud: 0.4277\n",
      "fliplr: 0.3866\n",
      "bgr: 0.0\n",
      "mosaic: 0.72502\n",
      "mixup: 0.0\n",
      "copy_paste: 0.0\n",
      "\n",
      "\u001b[34m\u001b[1mTuner: \u001b[0mStarting iteration 14/100 with hyperparameters: {'lr0': 0.00096, 'lrf': 0.0081, 'momentum': 0.95631, 'weight_decay': 0.00051, 'warmup_epochs': 3.12185, 'warmup_momentum': 0.54769, 'box': 1.01169, 'cls': 0.52201, 'dfl': 1.2894, 'hsv_h': 0.01455, 'hsv_s': 0.7303, 'hsv_v': 0.35761, 'degrees': 0.0, 'translate': 0.0874, 'scale': 0.92175, 'shear': 0.0, 'perspective': 0.0, 'flipud': 0.48328, 'fliplr': 0.40876, 'bgr': 0.0, 'mosaic': 0.63715, 'mixup': 0.0, 'copy_paste': 0.0}\n",
      "Saved runs\\obb\\tune21\\tune_scatter_plots.png\n",
      "Saved runs\\obb\\tune21\\tune_fitness.png\n",
      "\n",
      "\u001b[34m\u001b[1mTuner: \u001b[0m14/100 iterations complete  (13850.05s)\n",
      "\u001b[34m\u001b[1mTuner: \u001b[0mResults saved to \u001b[1mruns\\obb\\tune21\u001b[0m\n",
      "\u001b[34m\u001b[1mTuner: \u001b[0mBest fitness=0.44667 observed at iteration 5\n",
      "\u001b[34m\u001b[1mTuner: \u001b[0mBest fitness metrics are {'metrics/precision(B)': 0.75494, 'metrics/recall(B)': 0.58881, 'metrics/mAP50(B)': 0.65115, 'metrics/mAP50-95(B)': 0.42395, 'val/box_loss': 0.23978, 'val/cls_loss': 1.60859, 'val/dfl_loss': 1.4732, 'fitness': 0.44667}\n",
      "\u001b[34m\u001b[1mTuner: \u001b[0mBest fitness model is runs\\obb\\tunning_1024_label7\n",
      "\u001b[34m\u001b[1mTuner: \u001b[0mBest fitness hyperparameters are printed below.\n",
      "\n",
      "Printing '\u001b[1m\u001b[30mruns\\obb\\tune21\\best_hyperparameters.yaml\u001b[0m'\n",
      "\n",
      "lr0: 0.00097\n",
      "lrf: 0.01053\n",
      "momentum: 0.91487\n",
      "weight_decay: 0.00052\n",
      "warmup_epochs: 2.79468\n",
      "warmup_momentum: 0.72173\n",
      "box: 1.07259\n",
      "cls: 0.52226\n",
      "dfl: 1.42525\n",
      "hsv_h: 0.01437\n",
      "hsv_s: 0.86341\n",
      "hsv_v: 0.40563\n",
      "degrees: 0.0\n",
      "translate: 0.09096\n",
      "scale: 0.95\n",
      "shear: 0.0\n",
      "perspective: 0.0\n",
      "flipud: 0.4277\n",
      "fliplr: 0.3866\n",
      "bgr: 0.0\n",
      "mosaic: 0.72502\n",
      "mixup: 0.0\n",
      "copy_paste: 0.0\n",
      "\n",
      "\u001b[34m\u001b[1mTuner: \u001b[0mStarting iteration 15/100 with hyperparameters: {'lr0': 0.00091, 'lrf': 0.01188, 'momentum': 0.8851, 'weight_decay': 0.00035, 'warmup_epochs': 2.68403, 'warmup_momentum': 0.79259, 'box': 1.18898, 'cls': 0.51054, 'dfl': 1.17746, 'hsv_h': 0.01532, 'hsv_s': 0.74396, 'hsv_v': 0.40614, 'degrees': 0.0, 'translate': 0.07641, 'scale': 0.95, 'shear': 0.0, 'perspective': 0.0, 'flipud': 0.32452, 'fliplr': 0.34002, 'bgr': 0.0, 'mosaic': 0.86304, 'mixup': 0.0, 'copy_paste': 0.0}\n",
      "Saved runs\\obb\\tune21\\tune_scatter_plots.png\n",
      "Saved runs\\obb\\tune21\\tune_fitness.png\n",
      "\n",
      "\u001b[34m\u001b[1mTuner: \u001b[0m15/100 iterations complete  (14806.16s)\n",
      "\u001b[34m\u001b[1mTuner: \u001b[0mResults saved to \u001b[1mruns\\obb\\tune21\u001b[0m\n",
      "\u001b[34m\u001b[1mTuner: \u001b[0mBest fitness=0.4569 observed at iteration 15\n",
      "\u001b[34m\u001b[1mTuner: \u001b[0mBest fitness metrics are {'metrics/precision(B)': 0.74158, 'metrics/recall(B)': 0.59217, 'metrics/mAP50(B)': 0.65089, 'metrics/mAP50-95(B)': 0.43535, 'val/box_loss': 0.23685, 'val/cls_loss': 1.52043, 'val/dfl_loss': 1.17934, 'fitness': 0.4569}\n",
      "\u001b[34m\u001b[1mTuner: \u001b[0mBest fitness model is runs\\obb\\tunning_1024_label17\n",
      "\u001b[34m\u001b[1mTuner: \u001b[0mBest fitness hyperparameters are printed below.\n",
      "\n",
      "Printing '\u001b[1m\u001b[30mruns\\obb\\tune21\\best_hyperparameters.yaml\u001b[0m'\n",
      "\n",
      "lr0: 0.00091\n",
      "lrf: 0.01188\n",
      "momentum: 0.8851\n",
      "weight_decay: 0.00035\n",
      "warmup_epochs: 2.68403\n",
      "warmup_momentum: 0.79259\n",
      "box: 1.18898\n",
      "cls: 0.51054\n",
      "dfl: 1.17746\n",
      "hsv_h: 0.01532\n",
      "hsv_s: 0.74396\n",
      "hsv_v: 0.40614\n",
      "degrees: 0.0\n",
      "translate: 0.07641\n",
      "scale: 0.95\n",
      "shear: 0.0\n",
      "perspective: 0.0\n",
      "flipud: 0.32452\n",
      "fliplr: 0.34002\n",
      "bgr: 0.0\n",
      "mosaic: 0.86304\n",
      "mixup: 0.0\n",
      "copy_paste: 0.0\n",
      "\n",
      "\u001b[34m\u001b[1mTuner: \u001b[0mStarting iteration 16/100 with hyperparameters: {'lr0': 0.00097, 'lrf': 0.01036, 'momentum': 0.92603, 'weight_decay': 0.00049, 'warmup_epochs': 2.8784, 'warmup_momentum': 0.69669, 'box': 1.0734, 'cls': 0.52226, 'dfl': 1.53696, 'hsv_h': 0.01403, 'hsv_s': 0.9, 'hsv_v': 0.40123, 'degrees': 0.0, 'translate': 0.09144, 'scale': 0.92366, 'shear': 0.0, 'perspective': 0.0, 'flipud': 0.40188, 'fliplr': 0.38646, 'bgr': 0.0, 'mosaic': 0.68587, 'mixup': 0.0, 'copy_paste': 0.0}\n",
      "Saved runs\\obb\\tune21\\tune_scatter_plots.png\n",
      "Saved runs\\obb\\tune21\\tune_fitness.png\n",
      "\n",
      "\u001b[34m\u001b[1mTuner: \u001b[0m16/100 iterations complete  (15760.20s)\n",
      "\u001b[34m\u001b[1mTuner: \u001b[0mResults saved to \u001b[1mruns\\obb\\tune21\u001b[0m\n",
      "\u001b[34m\u001b[1mTuner: \u001b[0mBest fitness=0.4569 observed at iteration 15\n",
      "\u001b[34m\u001b[1mTuner: \u001b[0mBest fitness metrics are {'metrics/precision(B)': 0.74158, 'metrics/recall(B)': 0.59217, 'metrics/mAP50(B)': 0.65089, 'metrics/mAP50-95(B)': 0.43535, 'val/box_loss': 0.23685, 'val/cls_loss': 1.52043, 'val/dfl_loss': 1.17934, 'fitness': 0.4569}\n",
      "\u001b[34m\u001b[1mTuner: \u001b[0mBest fitness model is runs\\obb\\tunning_1024_label17\n",
      "\u001b[34m\u001b[1mTuner: \u001b[0mBest fitness hyperparameters are printed below.\n",
      "\n",
      "Printing '\u001b[1m\u001b[30mruns\\obb\\tune21\\best_hyperparameters.yaml\u001b[0m'\n",
      "\n",
      "lr0: 0.00091\n",
      "lrf: 0.01188\n",
      "momentum: 0.8851\n",
      "weight_decay: 0.00035\n",
      "warmup_epochs: 2.68403\n",
      "warmup_momentum: 0.79259\n",
      "box: 1.18898\n",
      "cls: 0.51054\n",
      "dfl: 1.17746\n",
      "hsv_h: 0.01532\n",
      "hsv_s: 0.74396\n",
      "hsv_v: 0.40614\n",
      "degrees: 0.0\n",
      "translate: 0.07641\n",
      "scale: 0.95\n",
      "shear: 0.0\n",
      "perspective: 0.0\n",
      "flipud: 0.32452\n",
      "fliplr: 0.34002\n",
      "bgr: 0.0\n",
      "mosaic: 0.86304\n",
      "mixup: 0.0\n",
      "copy_paste: 0.0\n",
      "\n",
      "\u001b[34m\u001b[1mTuner: \u001b[0mStarting iteration 17/100 with hyperparameters: {'lr0': 0.00085, 'lrf': 0.00858, 'momentum': 0.95689, 'weight_decay': 0.00052, 'warmup_epochs': 2.92672, 'warmup_momentum': 0.76212, 'box': 1.10165, 'cls': 0.56627, 'dfl': 1.55934, 'hsv_h': 0.01405, 'hsv_s': 0.87904, 'hsv_v': 0.39108, 'degrees': 0.0, 'translate': 0.10791, 'scale': 0.74293, 'shear': 0.0, 'perspective': 0.0, 'flipud': 0.46059, 'fliplr': 0.4024, 'bgr': 0.0, 'mosaic': 0.70381, 'mixup': 0.0, 'copy_paste': 0.0}\n",
      "Saved runs\\obb\\tune21\\tune_scatter_plots.png\n",
      "Saved runs\\obb\\tune21\\tune_fitness.png\n",
      "\n",
      "\u001b[34m\u001b[1mTuner: \u001b[0m17/100 iterations complete  (16718.32s)\n",
      "\u001b[34m\u001b[1mTuner: \u001b[0mResults saved to \u001b[1mruns\\obb\\tune21\u001b[0m\n",
      "\u001b[34m\u001b[1mTuner: \u001b[0mBest fitness=0.4569 observed at iteration 15\n",
      "\u001b[34m\u001b[1mTuner: \u001b[0mBest fitness metrics are {'metrics/precision(B)': 0.74158, 'metrics/recall(B)': 0.59217, 'metrics/mAP50(B)': 0.65089, 'metrics/mAP50-95(B)': 0.43535, 'val/box_loss': 0.23685, 'val/cls_loss': 1.52043, 'val/dfl_loss': 1.17934, 'fitness': 0.4569}\n",
      "\u001b[34m\u001b[1mTuner: \u001b[0mBest fitness model is runs\\obb\\tunning_1024_label17\n",
      "\u001b[34m\u001b[1mTuner: \u001b[0mBest fitness hyperparameters are printed below.\n",
      "\n",
      "Printing '\u001b[1m\u001b[30mruns\\obb\\tune21\\best_hyperparameters.yaml\u001b[0m'\n",
      "\n",
      "lr0: 0.00091\n",
      "lrf: 0.01188\n",
      "momentum: 0.8851\n",
      "weight_decay: 0.00035\n",
      "warmup_epochs: 2.68403\n",
      "warmup_momentum: 0.79259\n",
      "box: 1.18898\n",
      "cls: 0.51054\n",
      "dfl: 1.17746\n",
      "hsv_h: 0.01532\n",
      "hsv_s: 0.74396\n",
      "hsv_v: 0.40614\n",
      "degrees: 0.0\n",
      "translate: 0.07641\n",
      "scale: 0.95\n",
      "shear: 0.0\n",
      "perspective: 0.0\n",
      "flipud: 0.32452\n",
      "fliplr: 0.34002\n",
      "bgr: 0.0\n",
      "mosaic: 0.86304\n",
      "mixup: 0.0\n",
      "copy_paste: 0.0\n",
      "\n",
      "\u001b[34m\u001b[1mTuner: \u001b[0mStarting iteration 18/100 with hyperparameters: {'lr0': 0.00083, 'lrf': 0.00893, 'momentum': 0.95515, 'weight_decay': 0.00054, 'warmup_epochs': 3.07153, 'warmup_momentum': 0.7594, 'box': 1.10822, 'cls': 0.56699, 'dfl': 1.59107, 'hsv_h': 0.01408, 'hsv_s': 0.85008, 'hsv_v': 0.38417, 'degrees': 0.0, 'translate': 0.11118, 'scale': 0.73587, 'shear': 0.0, 'perspective': 0.0, 'flipud': 0.46322, 'fliplr': 0.39346, 'bgr': 0.0, 'mosaic': 0.72024, 'mixup': 0.0, 'copy_paste': 0.0}\n",
      "Saved runs\\obb\\tune21\\tune_scatter_plots.png\n",
      "Saved runs\\obb\\tune21\\tune_fitness.png\n",
      "\n",
      "\u001b[34m\u001b[1mTuner: \u001b[0m18/100 iterations complete  (17674.44s)\n",
      "\u001b[34m\u001b[1mTuner: \u001b[0mResults saved to \u001b[1mruns\\obb\\tune21\u001b[0m\n",
      "\u001b[34m\u001b[1mTuner: \u001b[0mBest fitness=0.4569 observed at iteration 15\n",
      "\u001b[34m\u001b[1mTuner: \u001b[0mBest fitness metrics are {'metrics/precision(B)': 0.74158, 'metrics/recall(B)': 0.59217, 'metrics/mAP50(B)': 0.65089, 'metrics/mAP50-95(B)': 0.43535, 'val/box_loss': 0.23685, 'val/cls_loss': 1.52043, 'val/dfl_loss': 1.17934, 'fitness': 0.4569}\n",
      "\u001b[34m\u001b[1mTuner: \u001b[0mBest fitness model is runs\\obb\\tunning_1024_label17\n",
      "\u001b[34m\u001b[1mTuner: \u001b[0mBest fitness hyperparameters are printed below.\n",
      "\n",
      "Printing '\u001b[1m\u001b[30mruns\\obb\\tune21\\best_hyperparameters.yaml\u001b[0m'\n",
      "\n",
      "lr0: 0.00091\n",
      "lrf: 0.01188\n",
      "momentum: 0.8851\n",
      "weight_decay: 0.00035\n",
      "warmup_epochs: 2.68403\n",
      "warmup_momentum: 0.79259\n",
      "box: 1.18898\n",
      "cls: 0.51054\n",
      "dfl: 1.17746\n",
      "hsv_h: 0.01532\n",
      "hsv_s: 0.74396\n",
      "hsv_v: 0.40614\n",
      "degrees: 0.0\n",
      "translate: 0.07641\n",
      "scale: 0.95\n",
      "shear: 0.0\n",
      "perspective: 0.0\n",
      "flipud: 0.32452\n",
      "fliplr: 0.34002\n",
      "bgr: 0.0\n",
      "mosaic: 0.86304\n",
      "mixup: 0.0\n",
      "copy_paste: 0.0\n",
      "\n",
      "\u001b[34m\u001b[1mTuner: \u001b[0mStarting iteration 19/100 with hyperparameters: {'lr0': 0.00087, 'lrf': 0.00971, 'momentum': 0.88331, 'weight_decay': 0.00055, 'warmup_epochs': 2.79468, 'warmup_momentum': 0.65352, 'box': 1.14006, 'cls': 0.53188, 'dfl': 1.50051, 'hsv_h': 0.01403, 'hsv_s': 0.9, 'hsv_v': 0.36405, 'degrees': 0.0, 'translate': 0.09096, 'scale': 0.95, 'shear': 0.0, 'perspective': 0.0, 'flipud': 0.41335, 'fliplr': 0.39317, 'bgr': 0.0, 'mosaic': 0.66297, 'mixup': 0.0, 'copy_paste': 0.0}\n",
      "Saved runs\\obb\\tune21\\tune_scatter_plots.png\n",
      "Saved runs\\obb\\tune21\\tune_fitness.png\n",
      "\n",
      "\u001b[34m\u001b[1mTuner: \u001b[0m19/100 iterations complete  (18629.75s)\n",
      "\u001b[34m\u001b[1mTuner: \u001b[0mResults saved to \u001b[1mruns\\obb\\tune21\u001b[0m\n",
      "\u001b[34m\u001b[1mTuner: \u001b[0mBest fitness=0.46156 observed at iteration 19\n",
      "\u001b[34m\u001b[1mTuner: \u001b[0mBest fitness metrics are {'metrics/precision(B)': 0.74483, 'metrics/recall(B)': 0.62633, 'metrics/mAP50(B)': 0.66788, 'metrics/mAP50-95(B)': 0.43863, 'val/box_loss': 0.22794, 'val/cls_loss': 1.56297, 'val/dfl_loss': 1.40726, 'fitness': 0.46156}\n",
      "\u001b[34m\u001b[1mTuner: \u001b[0mBest fitness model is runs\\obb\\tunning_1024_label21\n",
      "\u001b[34m\u001b[1mTuner: \u001b[0mBest fitness hyperparameters are printed below.\n",
      "\n",
      "Printing '\u001b[1m\u001b[30mruns\\obb\\tune21\\best_hyperparameters.yaml\u001b[0m'\n",
      "\n",
      "lr0: 0.00087\n",
      "lrf: 0.00971\n",
      "momentum: 0.88331\n",
      "weight_decay: 0.00055\n",
      "warmup_epochs: 2.79468\n",
      "warmup_momentum: 0.65352\n",
      "box: 1.14006\n",
      "cls: 0.53188\n",
      "dfl: 1.50051\n",
      "hsv_h: 0.01403\n",
      "hsv_s: 0.9\n",
      "hsv_v: 0.36405\n",
      "degrees: 0.0\n",
      "translate: 0.09096\n",
      "scale: 0.95\n",
      "shear: 0.0\n",
      "perspective: 0.0\n",
      "flipud: 0.41335\n",
      "fliplr: 0.39317\n",
      "bgr: 0.0\n",
      "mosaic: 0.66297\n",
      "mixup: 0.0\n",
      "copy_paste: 0.0\n",
      "\n",
      "\u001b[34m\u001b[1mTuner: \u001b[0mStarting iteration 20/100 with hyperparameters: {'lr0': 0.0009, 'lrf': 0.00971, 'momentum': 0.88331, 'weight_decay': 0.00057, 'warmup_epochs': 2.79468, 'warmup_momentum': 0.65586, 'box': 1.14006, 'cls': 0.50172, 'dfl': 1.5746, 'hsv_h': 0.01341, 'hsv_s': 0.85592, 'hsv_v': 0.36633, 'degrees': 0.0, 'translate': 0.09096, 'scale': 0.95, 'shear': 0.0, 'perspective': 0.0, 'flipud': 0.41244, 'fliplr': 0.39495, 'bgr': 0.0, 'mosaic': 0.69023, 'mixup': 0.0, 'copy_paste': 0.0}\n",
      "Saved runs\\obb\\tune21\\tune_scatter_plots.png\n",
      "Saved runs\\obb\\tune21\\tune_fitness.png\n",
      "\n",
      "\u001b[34m\u001b[1mTuner: \u001b[0m20/100 iterations complete  (19583.98s)\n",
      "\u001b[34m\u001b[1mTuner: \u001b[0mResults saved to \u001b[1mruns\\obb\\tune21\u001b[0m\n",
      "\u001b[34m\u001b[1mTuner: \u001b[0mBest fitness=0.46156 observed at iteration 19\n",
      "\u001b[34m\u001b[1mTuner: \u001b[0mBest fitness metrics are {'metrics/precision(B)': 0.74483, 'metrics/recall(B)': 0.62633, 'metrics/mAP50(B)': 0.66788, 'metrics/mAP50-95(B)': 0.43863, 'val/box_loss': 0.22794, 'val/cls_loss': 1.56297, 'val/dfl_loss': 1.40726, 'fitness': 0.46156}\n",
      "\u001b[34m\u001b[1mTuner: \u001b[0mBest fitness model is runs\\obb\\tunning_1024_label21\n",
      "\u001b[34m\u001b[1mTuner: \u001b[0mBest fitness hyperparameters are printed below.\n",
      "\n",
      "Printing '\u001b[1m\u001b[30mruns\\obb\\tune21\\best_hyperparameters.yaml\u001b[0m'\n",
      "\n",
      "lr0: 0.00087\n",
      "lrf: 0.00971\n",
      "momentum: 0.88331\n",
      "weight_decay: 0.00055\n",
      "warmup_epochs: 2.79468\n",
      "warmup_momentum: 0.65352\n",
      "box: 1.14006\n",
      "cls: 0.53188\n",
      "dfl: 1.50051\n",
      "hsv_h: 0.01403\n",
      "hsv_s: 0.9\n",
      "hsv_v: 0.36405\n",
      "degrees: 0.0\n",
      "translate: 0.09096\n",
      "scale: 0.95\n",
      "shear: 0.0\n",
      "perspective: 0.0\n",
      "flipud: 0.41335\n",
      "fliplr: 0.39317\n",
      "bgr: 0.0\n",
      "mosaic: 0.66297\n",
      "mixup: 0.0\n",
      "copy_paste: 0.0\n",
      "\n",
      "\u001b[34m\u001b[1mTuner: \u001b[0mStarting iteration 21/100 with hyperparameters: {'lr0': 0.00093, 'lrf': 0.00941, 'momentum': 0.86332, 'weight_decay': 0.00059, 'warmup_epochs': 2.34907, 'warmup_momentum': 0.78603, 'box': 1.18257, 'cls': 0.49402, 'dfl': 1.24518, 'hsv_h': 0.0145, 'hsv_s': 0.9, 'hsv_v': 0.37439, 'degrees': 0.0, 'translate': 0.06427, 'scale': 0.86763, 'shear': 0.0, 'perspective': 0.0, 'flipud': 0.42128, 'fliplr': 0.39317, 'bgr': 0.0, 'mosaic': 0.55663, 'mixup': 0.0, 'copy_paste': 0.0}\n",
      "Saved runs\\obb\\tune21\\tune_scatter_plots.png\n",
      "Saved runs\\obb\\tune21\\tune_fitness.png\n",
      "\n",
      "\u001b[34m\u001b[1mTuner: \u001b[0m21/100 iterations complete  (20538.88s)\n",
      "\u001b[34m\u001b[1mTuner: \u001b[0mResults saved to \u001b[1mruns\\obb\\tune21\u001b[0m\n",
      "\u001b[34m\u001b[1mTuner: \u001b[0mBest fitness=0.46156 observed at iteration 19\n",
      "\u001b[34m\u001b[1mTuner: \u001b[0mBest fitness metrics are {'metrics/precision(B)': 0.74483, 'metrics/recall(B)': 0.62633, 'metrics/mAP50(B)': 0.66788, 'metrics/mAP50-95(B)': 0.43863, 'val/box_loss': 0.22794, 'val/cls_loss': 1.56297, 'val/dfl_loss': 1.40726, 'fitness': 0.46156}\n",
      "\u001b[34m\u001b[1mTuner: \u001b[0mBest fitness model is runs\\obb\\tunning_1024_label21\n",
      "\u001b[34m\u001b[1mTuner: \u001b[0mBest fitness hyperparameters are printed below.\n",
      "\n",
      "Printing '\u001b[1m\u001b[30mruns\\obb\\tune21\\best_hyperparameters.yaml\u001b[0m'\n",
      "\n",
      "lr0: 0.00087\n",
      "lrf: 0.00971\n",
      "momentum: 0.88331\n",
      "weight_decay: 0.00055\n",
      "warmup_epochs: 2.79468\n",
      "warmup_momentum: 0.65352\n",
      "box: 1.14006\n",
      "cls: 0.53188\n",
      "dfl: 1.50051\n",
      "hsv_h: 0.01403\n",
      "hsv_s: 0.9\n",
      "hsv_v: 0.36405\n",
      "degrees: 0.0\n",
      "translate: 0.09096\n",
      "scale: 0.95\n",
      "shear: 0.0\n",
      "perspective: 0.0\n",
      "flipud: 0.41335\n",
      "fliplr: 0.39317\n",
      "bgr: 0.0\n",
      "mosaic: 0.66297\n",
      "mixup: 0.0\n",
      "copy_paste: 0.0\n",
      "\n",
      "\u001b[34m\u001b[1mTuner: \u001b[0mStarting iteration 22/100 with hyperparameters: {'lr0': 0.00091, 'lrf': 0.01205, 'momentum': 0.91128, 'weight_decay': 0.00039, 'warmup_epochs': 2.68403, 'warmup_momentum': 0.70799, 'box': 1.18898, 'cls': 0.51054, 'dfl': 1.53323, 'hsv_h': 0.01532, 'hsv_s': 0.68969, 'hsv_v': 0.40614, 'degrees': 0.0, 'translate': 0.07641, 'scale': 0.95, 'shear': 0.0, 'perspective': 0.0, 'flipud': 0.2552, 'fliplr': 0.33544, 'bgr': 0.0, 'mosaic': 0.81063, 'mixup': 0.0, 'copy_paste': 0.0}\n",
      "Saved runs\\obb\\tune21\\tune_scatter_plots.png\n",
      "Saved runs\\obb\\tune21\\tune_fitness.png\n",
      "\n",
      "\u001b[34m\u001b[1mTuner: \u001b[0m22/100 iterations complete  (21494.38s)\n",
      "\u001b[34m\u001b[1mTuner: \u001b[0mResults saved to \u001b[1mruns\\obb\\tune21\u001b[0m\n",
      "\u001b[34m\u001b[1mTuner: \u001b[0mBest fitness=0.46156 observed at iteration 19\n",
      "\u001b[34m\u001b[1mTuner: \u001b[0mBest fitness metrics are {'metrics/precision(B)': 0.74483, 'metrics/recall(B)': 0.62633, 'metrics/mAP50(B)': 0.66788, 'metrics/mAP50-95(B)': 0.43863, 'val/box_loss': 0.22794, 'val/cls_loss': 1.56297, 'val/dfl_loss': 1.40726, 'fitness': 0.46156}\n",
      "\u001b[34m\u001b[1mTuner: \u001b[0mBest fitness model is runs\\obb\\tunning_1024_label21\n",
      "\u001b[34m\u001b[1mTuner: \u001b[0mBest fitness hyperparameters are printed below.\n",
      "\n",
      "Printing '\u001b[1m\u001b[30mruns\\obb\\tune21\\best_hyperparameters.yaml\u001b[0m'\n",
      "\n",
      "lr0: 0.00087\n",
      "lrf: 0.00971\n",
      "momentum: 0.88331\n",
      "weight_decay: 0.00055\n",
      "warmup_epochs: 2.79468\n",
      "warmup_momentum: 0.65352\n",
      "box: 1.14006\n",
      "cls: 0.53188\n",
      "dfl: 1.50051\n",
      "hsv_h: 0.01403\n",
      "hsv_s: 0.9\n",
      "hsv_v: 0.36405\n",
      "degrees: 0.0\n",
      "translate: 0.09096\n",
      "scale: 0.95\n",
      "shear: 0.0\n",
      "perspective: 0.0\n",
      "flipud: 0.41335\n",
      "fliplr: 0.39317\n",
      "bgr: 0.0\n",
      "mosaic: 0.66297\n",
      "mixup: 0.0\n",
      "copy_paste: 0.0\n",
      "\n",
      "\u001b[34m\u001b[1mTuner: \u001b[0mStarting iteration 23/100 with hyperparameters: {'lr0': 0.00075, 'lrf': 0.01231, 'momentum': 0.90451, 'weight_decay': 0.00059, 'warmup_epochs': 2.49071, 'warmup_momentum': 0.84708, 'box': 1.24592, 'cls': 0.57677, 'dfl': 1.36534, 'hsv_h': 0.0145, 'hsv_s': 0.9, 'hsv_v': 0.49095, 'degrees': 0.0, 'translate': 0.06124, 'scale': 0.86763, 'shear': 0.0, 'perspective': 0.0, 'flipud': 0.48804, 'fliplr': 0.44549, 'bgr': 0.0, 'mosaic': 0.63103, 'mixup': 0.0, 'copy_paste': 0.0}\n",
      "Saved runs\\obb\\tune21\\tune_scatter_plots.png\n",
      "Saved runs\\obb\\tune21\\tune_fitness.png\n",
      "\n",
      "\u001b[34m\u001b[1mTuner: \u001b[0m23/100 iterations complete  (22450.45s)\n",
      "\u001b[34m\u001b[1mTuner: \u001b[0mResults saved to \u001b[1mruns\\obb\\tune21\u001b[0m\n",
      "\u001b[34m\u001b[1mTuner: \u001b[0mBest fitness=0.46306 observed at iteration 23\n",
      "\u001b[34m\u001b[1mTuner: \u001b[0mBest fitness metrics are {'metrics/precision(B)': 0.76176, 'metrics/recall(B)': 0.6001, 'metrics/mAP50(B)': 0.65919, 'metrics/mAP50-95(B)': 0.44126, 'val/box_loss': 0.26081, 'val/cls_loss': 1.64856, 'val/dfl_loss': 1.4103, 'fitness': 0.46306}\n",
      "\u001b[34m\u001b[1mTuner: \u001b[0mBest fitness model is runs\\obb\\tunning_1024_label25\n",
      "\u001b[34m\u001b[1mTuner: \u001b[0mBest fitness hyperparameters are printed below.\n",
      "\n",
      "Printing '\u001b[1m\u001b[30mruns\\obb\\tune21\\best_hyperparameters.yaml\u001b[0m'\n",
      "\n",
      "lr0: 0.00075\n",
      "lrf: 0.01231\n",
      "momentum: 0.90451\n",
      "weight_decay: 0.00059\n",
      "warmup_epochs: 2.49071\n",
      "warmup_momentum: 0.84708\n",
      "box: 1.24592\n",
      "cls: 0.57677\n",
      "dfl: 1.36534\n",
      "hsv_h: 0.0145\n",
      "hsv_s: 0.9\n",
      "hsv_v: 0.49095\n",
      "degrees: 0.0\n",
      "translate: 0.06124\n",
      "scale: 0.86763\n",
      "shear: 0.0\n",
      "perspective: 0.0\n",
      "flipud: 0.48804\n",
      "fliplr: 0.44549\n",
      "bgr: 0.0\n",
      "mosaic: 0.63103\n",
      "mixup: 0.0\n",
      "copy_paste: 0.0\n",
      "\n",
      "\u001b[34m\u001b[1mTuner: \u001b[0mStarting iteration 24/100 with hyperparameters: {'lr0': 0.00075, 'lrf': 0.0114, 'momentum': 0.93977, 'weight_decay': 0.00074, 'warmup_epochs': 2.75038, 'warmup_momentum': 0.8349, 'box': 1.0, 'cls': 0.57677, 'dfl': 1.33744, 'hsv_h': 0.01252, 'hsv_s': 0.9, 'hsv_v': 0.53523, 'degrees': 0.0, 'translate': 0.06124, 'scale': 0.95, 'shear': 0.0, 'perspective': 0.0, 'flipud': 0.34255, 'fliplr': 0.43095, 'bgr': 0.0, 'mosaic': 0.66873, 'mixup': 0.0, 'copy_paste': 0.0}\n",
      "Saved runs\\obb\\tune21\\tune_scatter_plots.png\n",
      "Saved runs\\obb\\tune21\\tune_fitness.png\n",
      "\n",
      "\u001b[34m\u001b[1mTuner: \u001b[0m24/100 iterations complete  (23404.58s)\n",
      "\u001b[34m\u001b[1mTuner: \u001b[0mResults saved to \u001b[1mruns\\obb\\tune21\u001b[0m\n",
      "\u001b[34m\u001b[1mTuner: \u001b[0mBest fitness=0.46306 observed at iteration 23\n",
      "\u001b[34m\u001b[1mTuner: \u001b[0mBest fitness metrics are {'metrics/precision(B)': 0.76176, 'metrics/recall(B)': 0.6001, 'metrics/mAP50(B)': 0.65919, 'metrics/mAP50-95(B)': 0.44126, 'val/box_loss': 0.26081, 'val/cls_loss': 1.64856, 'val/dfl_loss': 1.4103, 'fitness': 0.46306}\n",
      "\u001b[34m\u001b[1mTuner: \u001b[0mBest fitness model is runs\\obb\\tunning_1024_label25\n",
      "\u001b[34m\u001b[1mTuner: \u001b[0mBest fitness hyperparameters are printed below.\n",
      "\n",
      "Printing '\u001b[1m\u001b[30mruns\\obb\\tune21\\best_hyperparameters.yaml\u001b[0m'\n",
      "\n",
      "lr0: 0.00075\n",
      "lrf: 0.01231\n",
      "momentum: 0.90451\n",
      "weight_decay: 0.00059\n",
      "warmup_epochs: 2.49071\n",
      "warmup_momentum: 0.84708\n",
      "box: 1.24592\n",
      "cls: 0.57677\n",
      "dfl: 1.36534\n",
      "hsv_h: 0.0145\n",
      "hsv_s: 0.9\n",
      "hsv_v: 0.49095\n",
      "degrees: 0.0\n",
      "translate: 0.06124\n",
      "scale: 0.86763\n",
      "shear: 0.0\n",
      "perspective: 0.0\n",
      "flipud: 0.48804\n",
      "fliplr: 0.44549\n",
      "bgr: 0.0\n",
      "mosaic: 0.63103\n",
      "mixup: 0.0\n",
      "copy_paste: 0.0\n",
      "\n",
      "\u001b[34m\u001b[1mTuner: \u001b[0mStarting iteration 25/100 with hyperparameters: {'lr0': 0.00083, 'lrf': 0.00951, 'momentum': 0.84172, 'weight_decay': 0.00067, 'warmup_epochs': 2.34907, 'warmup_momentum': 0.81533, 'box': 1.16412, 'cls': 0.51461, 'dfl': 1.16936, 'hsv_h': 0.0145, 'hsv_s': 0.9, 'hsv_v': 0.39316, 'degrees': 0.0, 'translate': 0.05321, 'scale': 0.86763, 'shear': 0.0, 'perspective': 0.0, 'flipud': 0.40628, 'fliplr': 0.39735, 'bgr': 0.0, 'mosaic': 0.52447, 'mixup': 0.0, 'copy_paste': 0.0}\n",
      "Saved runs\\obb\\tune21\\tune_scatter_plots.png\n",
      "Saved runs\\obb\\tune21\\tune_fitness.png\n",
      "\n",
      "\u001b[34m\u001b[1mTuner: \u001b[0m25/100 iterations complete  (24385.64s)\n",
      "\u001b[34m\u001b[1mTuner: \u001b[0mResults saved to \u001b[1mruns\\obb\\tune21\u001b[0m\n",
      "\u001b[34m\u001b[1mTuner: \u001b[0mBest fitness=0.46306 observed at iteration 23\n",
      "\u001b[34m\u001b[1mTuner: \u001b[0mBest fitness metrics are {'metrics/precision(B)': 0.76176, 'metrics/recall(B)': 0.6001, 'metrics/mAP50(B)': 0.65919, 'metrics/mAP50-95(B)': 0.44126, 'val/box_loss': 0.26081, 'val/cls_loss': 1.64856, 'val/dfl_loss': 1.4103, 'fitness': 0.46306}\n",
      "\u001b[34m\u001b[1mTuner: \u001b[0mBest fitness model is runs\\obb\\tunning_1024_label25\n",
      "\u001b[34m\u001b[1mTuner: \u001b[0mBest fitness hyperparameters are printed below.\n",
      "\n",
      "Printing '\u001b[1m\u001b[30mruns\\obb\\tune21\\best_hyperparameters.yaml\u001b[0m'\n",
      "\n",
      "lr0: 0.00075\n",
      "lrf: 0.01231\n",
      "momentum: 0.90451\n",
      "weight_decay: 0.00059\n",
      "warmup_epochs: 2.49071\n",
      "warmup_momentum: 0.84708\n",
      "box: 1.24592\n",
      "cls: 0.57677\n",
      "dfl: 1.36534\n",
      "hsv_h: 0.0145\n",
      "hsv_s: 0.9\n",
      "hsv_v: 0.49095\n",
      "degrees: 0.0\n",
      "translate: 0.06124\n",
      "scale: 0.86763\n",
      "shear: 0.0\n",
      "perspective: 0.0\n",
      "flipud: 0.48804\n",
      "fliplr: 0.44549\n",
      "bgr: 0.0\n",
      "mosaic: 0.63103\n",
      "mixup: 0.0\n",
      "copy_paste: 0.0\n",
      "\n",
      "\u001b[34m\u001b[1mTuner: \u001b[0mStarting iteration 26/100 with hyperparameters: {'lr0': 0.00089, 'lrf': 0.01082, 'momentum': 0.84399, 'weight_decay': 0.00064, 'warmup_epochs': 2.34907, 'warmup_momentum': 0.83501, 'box': 1.28923, 'cls': 0.50479, 'dfl': 1.16936, 'hsv_h': 0.01619, 'hsv_s': 0.9, 'hsv_v': 0.38259, 'degrees': 0.0, 'translate': 0.05321, 'scale': 0.83473, 'shear': 0.0, 'perspective': 0.0, 'flipud': 0.39181, 'fliplr': 0.39735, 'bgr': 0.0, 'mosaic': 0.52447, 'mixup': 0.0, 'copy_paste': 0.0}\n",
      "Saved runs\\obb\\tune21\\tune_scatter_plots.png\n",
      "Saved runs\\obb\\tune21\\tune_fitness.png\n",
      "\n",
      "\u001b[34m\u001b[1mTuner: \u001b[0m26/100 iterations complete  (25345.57s)\n",
      "\u001b[34m\u001b[1mTuner: \u001b[0mResults saved to \u001b[1mruns\\obb\\tune21\u001b[0m\n",
      "\u001b[34m\u001b[1mTuner: \u001b[0mBest fitness=0.46306 observed at iteration 23\n",
      "\u001b[34m\u001b[1mTuner: \u001b[0mBest fitness metrics are {'metrics/precision(B)': 0.76176, 'metrics/recall(B)': 0.6001, 'metrics/mAP50(B)': 0.65919, 'metrics/mAP50-95(B)': 0.44126, 'val/box_loss': 0.26081, 'val/cls_loss': 1.64856, 'val/dfl_loss': 1.4103, 'fitness': 0.46306}\n",
      "\u001b[34m\u001b[1mTuner: \u001b[0mBest fitness model is runs\\obb\\tunning_1024_label25\n",
      "\u001b[34m\u001b[1mTuner: \u001b[0mBest fitness hyperparameters are printed below.\n",
      "\n",
      "Printing '\u001b[1m\u001b[30mruns\\obb\\tune21\\best_hyperparameters.yaml\u001b[0m'\n",
      "\n",
      "lr0: 0.00075\n",
      "lrf: 0.01231\n",
      "momentum: 0.90451\n",
      "weight_decay: 0.00059\n",
      "warmup_epochs: 2.49071\n",
      "warmup_momentum: 0.84708\n",
      "box: 1.24592\n",
      "cls: 0.57677\n",
      "dfl: 1.36534\n",
      "hsv_h: 0.0145\n",
      "hsv_s: 0.9\n",
      "hsv_v: 0.49095\n",
      "degrees: 0.0\n",
      "translate: 0.06124\n",
      "scale: 0.86763\n",
      "shear: 0.0\n",
      "perspective: 0.0\n",
      "flipud: 0.48804\n",
      "fliplr: 0.44549\n",
      "bgr: 0.0\n",
      "mosaic: 0.63103\n",
      "mixup: 0.0\n",
      "copy_paste: 0.0\n",
      "\n",
      "\u001b[34m\u001b[1mTuner: \u001b[0mStarting iteration 27/100 with hyperparameters: {'lr0': 0.00094, 'lrf': 0.01045, 'momentum': 0.84399, 'weight_decay': 0.00063, 'warmup_epochs': 2.20009, 'warmup_momentum': 0.80093, 'box': 1.25535, 'cls': 0.50479, 'dfl': 1.14034, 'hsv_h': 0.01619, 'hsv_s': 0.84246, 'hsv_v': 0.37096, 'degrees': 0.0, 'translate': 0.05321, 'scale': 0.83473, 'shear': 0.0, 'perspective': 0.0, 'flipud': 0.39066, 'fliplr': 0.41147, 'bgr': 0.0, 'mosaic': 0.52447, 'mixup': 0.0, 'copy_paste': 0.0}\n",
      "Saved runs\\obb\\tune21\\tune_scatter_plots.png\n",
      "Saved runs\\obb\\tune21\\tune_fitness.png\n",
      "\n",
      "\u001b[34m\u001b[1mTuner: \u001b[0m27/100 iterations complete  (26302.61s)\n",
      "\u001b[34m\u001b[1mTuner: \u001b[0mResults saved to \u001b[1mruns\\obb\\tune21\u001b[0m\n",
      "\u001b[34m\u001b[1mTuner: \u001b[0mBest fitness=0.46415 observed at iteration 27\n",
      "\u001b[34m\u001b[1mTuner: \u001b[0mBest fitness metrics are {'metrics/precision(B)': 0.75909, 'metrics/recall(B)': 0.60033, 'metrics/mAP50(B)': 0.65812, 'metrics/mAP50-95(B)': 0.4426, 'val/box_loss': 0.24107, 'val/cls_loss': 1.44966, 'val/dfl_loss': 1.12188, 'fitness': 0.46415}\n",
      "\u001b[34m\u001b[1mTuner: \u001b[0mBest fitness model is runs\\obb\\tunning_1024_label29\n",
      "\u001b[34m\u001b[1mTuner: \u001b[0mBest fitness hyperparameters are printed below.\n",
      "\n",
      "Printing '\u001b[1m\u001b[30mruns\\obb\\tune21\\best_hyperparameters.yaml\u001b[0m'\n",
      "\n",
      "lr0: 0.00094\n",
      "lrf: 0.01045\n",
      "momentum: 0.84399\n",
      "weight_decay: 0.00063\n",
      "warmup_epochs: 2.20009\n",
      "warmup_momentum: 0.80093\n",
      "box: 1.25535\n",
      "cls: 0.50479\n",
      "dfl: 1.14034\n",
      "hsv_h: 0.01619\n",
      "hsv_s: 0.84246\n",
      "hsv_v: 0.37096\n",
      "degrees: 0.0\n",
      "translate: 0.05321\n",
      "scale: 0.83473\n",
      "shear: 0.0\n",
      "perspective: 0.0\n",
      "flipud: 0.39066\n",
      "fliplr: 0.41147\n",
      "bgr: 0.0\n",
      "mosaic: 0.52447\n",
      "mixup: 0.0\n",
      "copy_paste: 0.0\n",
      "\n",
      "\u001b[34m\u001b[1mTuner: \u001b[0mStarting iteration 28/100 with hyperparameters: {'lr0': 0.00075, 'lrf': 0.01236, 'momentum': 0.90114, 'weight_decay': 0.00059, 'warmup_epochs': 2.4024, 'warmup_momentum': 0.84708, 'box': 1.22262, 'cls': 0.58381, 'dfl': 1.31322, 'hsv_h': 0.01385, 'hsv_s': 0.9, 'hsv_v': 0.46785, 'degrees': 0.0, 'translate': 0.06422, 'scale': 0.85199, 'shear': 0.0, 'perspective': 0.0, 'flipud': 0.5162, 'fliplr': 0.44549, 'bgr': 0.0, 'mosaic': 0.63103, 'mixup': 0.0, 'copy_paste': 0.0}\n",
      "Saved runs\\obb\\tune21\\tune_scatter_plots.png\n",
      "Saved runs\\obb\\tune21\\tune_fitness.png\n",
      "\n",
      "\u001b[34m\u001b[1mTuner: \u001b[0m28/100 iterations complete  (27259.30s)\n",
      "\u001b[34m\u001b[1mTuner: \u001b[0mResults saved to \u001b[1mruns\\obb\\tune21\u001b[0m\n",
      "\u001b[34m\u001b[1mTuner: \u001b[0mBest fitness=0.47015 observed at iteration 28\n",
      "\u001b[34m\u001b[1mTuner: \u001b[0mBest fitness metrics are {'metrics/precision(B)': 0.75923, 'metrics/recall(B)': 0.62456, 'metrics/mAP50(B)': 0.66435, 'metrics/mAP50-95(B)': 0.44858, 'val/box_loss': 0.23853, 'val/cls_loss': 1.6633, 'val/dfl_loss': 1.26119, 'fitness': 0.47015}\n",
      "\u001b[34m\u001b[1mTuner: \u001b[0mBest fitness model is runs\\obb\\tunning_1024_label30\n",
      "\u001b[34m\u001b[1mTuner: \u001b[0mBest fitness hyperparameters are printed below.\n",
      "\n",
      "Printing '\u001b[1m\u001b[30mruns\\obb\\tune21\\best_hyperparameters.yaml\u001b[0m'\n",
      "\n",
      "lr0: 0.00075\n",
      "lrf: 0.01236\n",
      "momentum: 0.90114\n",
      "weight_decay: 0.00059\n",
      "warmup_epochs: 2.4024\n",
      "warmup_momentum: 0.84708\n",
      "box: 1.22262\n",
      "cls: 0.58381\n",
      "dfl: 1.31322\n",
      "hsv_h: 0.01385\n",
      "hsv_s: 0.9\n",
      "hsv_v: 0.46785\n",
      "degrees: 0.0\n",
      "translate: 0.06422\n",
      "scale: 0.85199\n",
      "shear: 0.0\n",
      "perspective: 0.0\n",
      "flipud: 0.5162\n",
      "fliplr: 0.44549\n",
      "bgr: 0.0\n",
      "mosaic: 0.63103\n",
      "mixup: 0.0\n",
      "copy_paste: 0.0\n",
      "\n",
      "\u001b[34m\u001b[1mTuner: \u001b[0mStarting iteration 29/100 with hyperparameters: {'lr0': 0.00094, 'lrf': 0.01045, 'momentum': 0.84399, 'weight_decay': 0.00064, 'warmup_epochs': 2.15665, 'warmup_momentum': 0.79459, 'box': 1.23927, 'cls': 0.47063, 'dfl': 1.14034, 'hsv_h': 0.01722, 'hsv_s': 0.82575, 'hsv_v': 0.37096, 'degrees': 0.0, 'translate': 0.04628, 'scale': 0.95, 'shear': 0.0, 'perspective': 0.0, 'flipud': 0.40138, 'fliplr': 0.41453, 'bgr': 0.0, 'mosaic': 0.48382, 'mixup': 0.0, 'copy_paste': 0.0}\n",
      "Saved runs\\obb\\tune21\\tune_scatter_plots.png\n",
      "Saved runs\\obb\\tune21\\tune_fitness.png\n",
      "\n",
      "\u001b[34m\u001b[1mTuner: \u001b[0m29/100 iterations complete  (28217.68s)\n",
      "\u001b[34m\u001b[1mTuner: \u001b[0mResults saved to \u001b[1mruns\\obb\\tune21\u001b[0m\n",
      "\u001b[34m\u001b[1mTuner: \u001b[0mBest fitness=0.47015 observed at iteration 28\n",
      "\u001b[34m\u001b[1mTuner: \u001b[0mBest fitness metrics are {'metrics/precision(B)': 0.75923, 'metrics/recall(B)': 0.62456, 'metrics/mAP50(B)': 0.66435, 'metrics/mAP50-95(B)': 0.44858, 'val/box_loss': 0.23853, 'val/cls_loss': 1.6633, 'val/dfl_loss': 1.26119, 'fitness': 0.47015}\n",
      "\u001b[34m\u001b[1mTuner: \u001b[0mBest fitness model is runs\\obb\\tunning_1024_label30\n",
      "\u001b[34m\u001b[1mTuner: \u001b[0mBest fitness hyperparameters are printed below.\n",
      "\n",
      "Printing '\u001b[1m\u001b[30mruns\\obb\\tune21\\best_hyperparameters.yaml\u001b[0m'\n",
      "\n",
      "lr0: 0.00075\n",
      "lrf: 0.01236\n",
      "momentum: 0.90114\n",
      "weight_decay: 0.00059\n",
      "warmup_epochs: 2.4024\n",
      "warmup_momentum: 0.84708\n",
      "box: 1.22262\n",
      "cls: 0.58381\n",
      "dfl: 1.31322\n",
      "hsv_h: 0.01385\n",
      "hsv_s: 0.9\n",
      "hsv_v: 0.46785\n",
      "degrees: 0.0\n",
      "translate: 0.06422\n",
      "scale: 0.85199\n",
      "shear: 0.0\n",
      "perspective: 0.0\n",
      "flipud: 0.5162\n",
      "fliplr: 0.44549\n",
      "bgr: 0.0\n",
      "mosaic: 0.63103\n",
      "mixup: 0.0\n",
      "copy_paste: 0.0\n",
      "\n",
      "\u001b[34m\u001b[1mTuner: \u001b[0mStarting iteration 30/100 with hyperparameters: {'lr0': 0.00081, 'lrf': 0.01153, 'momentum': 0.91203, 'weight_decay': 0.00049, 'warmup_epochs': 2.25884, 'warmup_momentum': 0.84708, 'box': 1.13787, 'cls': 0.59941, 'dfl': 1.22357, 'hsv_h': 0.01494, 'hsv_s': 0.78465, 'hsv_v': 0.40123, 'degrees': 0.0, 'translate': 0.06685, 'scale': 0.91258, 'shear': 0.0, 'perspective': 0.0, 'flipud': 0.49377, 'fliplr': 0.51767, 'bgr': 0.0, 'mosaic': 0.63103, 'mixup': 0.0, 'copy_paste': 0.0}\n",
      "Saved runs\\obb\\tune21\\tune_scatter_plots.png\n",
      "Saved runs\\obb\\tune21\\tune_fitness.png\n",
      "\n",
      "\u001b[34m\u001b[1mTuner: \u001b[0m30/100 iterations complete  (29177.29s)\n",
      "\u001b[34m\u001b[1mTuner: \u001b[0mResults saved to \u001b[1mruns\\obb\\tune21\u001b[0m\n",
      "\u001b[34m\u001b[1mTuner: \u001b[0mBest fitness=0.47015 observed at iteration 28\n",
      "\u001b[34m\u001b[1mTuner: \u001b[0mBest fitness metrics are {'metrics/precision(B)': 0.75923, 'metrics/recall(B)': 0.62456, 'metrics/mAP50(B)': 0.66435, 'metrics/mAP50-95(B)': 0.44858, 'val/box_loss': 0.23853, 'val/cls_loss': 1.6633, 'val/dfl_loss': 1.26119, 'fitness': 0.47015}\n",
      "\u001b[34m\u001b[1mTuner: \u001b[0mBest fitness model is runs\\obb\\tunning_1024_label30\n",
      "\u001b[34m\u001b[1mTuner: \u001b[0mBest fitness hyperparameters are printed below.\n",
      "\n",
      "Printing '\u001b[1m\u001b[30mruns\\obb\\tune21\\best_hyperparameters.yaml\u001b[0m'\n",
      "\n",
      "lr0: 0.00075\n",
      "lrf: 0.01236\n",
      "momentum: 0.90114\n",
      "weight_decay: 0.00059\n",
      "warmup_epochs: 2.4024\n",
      "warmup_momentum: 0.84708\n",
      "box: 1.22262\n",
      "cls: 0.58381\n",
      "dfl: 1.31322\n",
      "hsv_h: 0.01385\n",
      "hsv_s: 0.9\n",
      "hsv_v: 0.46785\n",
      "degrees: 0.0\n",
      "translate: 0.06422\n",
      "scale: 0.85199\n",
      "shear: 0.0\n",
      "perspective: 0.0\n",
      "flipud: 0.5162\n",
      "fliplr: 0.44549\n",
      "bgr: 0.0\n",
      "mosaic: 0.63103\n",
      "mixup: 0.0\n",
      "copy_paste: 0.0\n",
      "\n",
      "\u001b[34m\u001b[1mTuner: \u001b[0mStarting iteration 31/100 with hyperparameters: {'lr0': 0.00074, 'lrf': 0.01236, 'momentum': 0.90114, 'weight_decay': 0.00059, 'warmup_epochs': 2.50736, 'warmup_momentum': 0.86305, 'box': 1.22262, 'cls': 0.59084, 'dfl': 1.31322, 'hsv_h': 0.01475, 'hsv_s': 0.9, 'hsv_v': 0.4768, 'degrees': 0.0, 'translate': 0.06522, 'scale': 0.86581, 'shear': 0.0, 'perspective': 0.0, 'flipud': 0.5162, 'fliplr': 0.44535, 'bgr': 0.0, 'mosaic': 0.6945, 'mixup': 0.0, 'copy_paste': 0.0}\n",
      "Saved runs\\obb\\tune21\\tune_scatter_plots.png\n",
      "Saved runs\\obb\\tune21\\tune_fitness.png\n",
      "\n",
      "\u001b[34m\u001b[1mTuner: \u001b[0m31/100 iterations complete  (30133.77s)\n",
      "\u001b[34m\u001b[1mTuner: \u001b[0mResults saved to \u001b[1mruns\\obb\\tune21\u001b[0m\n",
      "\u001b[34m\u001b[1mTuner: \u001b[0mBest fitness=0.47015 observed at iteration 28\n",
      "\u001b[34m\u001b[1mTuner: \u001b[0mBest fitness metrics are {'metrics/precision(B)': 0.75923, 'metrics/recall(B)': 0.62456, 'metrics/mAP50(B)': 0.66435, 'metrics/mAP50-95(B)': 0.44858, 'val/box_loss': 0.23853, 'val/cls_loss': 1.6633, 'val/dfl_loss': 1.26119, 'fitness': 0.47015}\n",
      "\u001b[34m\u001b[1mTuner: \u001b[0mBest fitness model is runs\\obb\\tunning_1024_label30\n",
      "\u001b[34m\u001b[1mTuner: \u001b[0mBest fitness hyperparameters are printed below.\n",
      "\n",
      "Printing '\u001b[1m\u001b[30mruns\\obb\\tune21\\best_hyperparameters.yaml\u001b[0m'\n",
      "\n",
      "lr0: 0.00075\n",
      "lrf: 0.01236\n",
      "momentum: 0.90114\n",
      "weight_decay: 0.00059\n",
      "warmup_epochs: 2.4024\n",
      "warmup_momentum: 0.84708\n",
      "box: 1.22262\n",
      "cls: 0.58381\n",
      "dfl: 1.31322\n",
      "hsv_h: 0.01385\n",
      "hsv_s: 0.9\n",
      "hsv_v: 0.46785\n",
      "degrees: 0.0\n",
      "translate: 0.06422\n",
      "scale: 0.85199\n",
      "shear: 0.0\n",
      "perspective: 0.0\n",
      "flipud: 0.5162\n",
      "fliplr: 0.44549\n",
      "bgr: 0.0\n",
      "mosaic: 0.63103\n",
      "mixup: 0.0\n",
      "copy_paste: 0.0\n",
      "\n",
      "\u001b[34m\u001b[1mTuner: \u001b[0mStarting iteration 32/100 with hyperparameters: {'lr0': 0.00071, 'lrf': 0.01236, 'momentum': 0.90531, 'weight_decay': 0.00059, 'warmup_epochs': 2.4484, 'warmup_momentum': 0.84708, 'box': 1.23438, 'cls': 0.56775, 'dfl': 1.34744, 'hsv_h': 0.01379, 'hsv_s': 0.9, 'hsv_v': 0.47598, 'degrees': 0.0, 'translate': 0.06915, 'scale': 0.85199, 'shear': 0.0, 'perspective': 0.0, 'flipud': 0.49624, 'fliplr': 0.44549, 'bgr': 0.0, 'mosaic': 0.59706, 'mixup': 0.0, 'copy_paste': 0.0}\n",
      "Saved runs\\obb\\tune21\\tune_scatter_plots.png\n",
      "Saved runs\\obb\\tune21\\tune_fitness.png\n",
      "\n",
      "\u001b[34m\u001b[1mTuner: \u001b[0m32/100 iterations complete  (31091.41s)\n",
      "\u001b[34m\u001b[1mTuner: \u001b[0mResults saved to \u001b[1mruns\\obb\\tune21\u001b[0m\n",
      "\u001b[34m\u001b[1mTuner: \u001b[0mBest fitness=0.47015 observed at iteration 28\n",
      "\u001b[34m\u001b[1mTuner: \u001b[0mBest fitness metrics are {'metrics/precision(B)': 0.75923, 'metrics/recall(B)': 0.62456, 'metrics/mAP50(B)': 0.66435, 'metrics/mAP50-95(B)': 0.44858, 'val/box_loss': 0.23853, 'val/cls_loss': 1.6633, 'val/dfl_loss': 1.26119, 'fitness': 0.47015}\n",
      "\u001b[34m\u001b[1mTuner: \u001b[0mBest fitness model is runs\\obb\\tunning_1024_label30\n",
      "\u001b[34m\u001b[1mTuner: \u001b[0mBest fitness hyperparameters are printed below.\n",
      "\n",
      "Printing '\u001b[1m\u001b[30mruns\\obb\\tune21\\best_hyperparameters.yaml\u001b[0m'\n",
      "\n",
      "lr0: 0.00075\n",
      "lrf: 0.01236\n",
      "momentum: 0.90114\n",
      "weight_decay: 0.00059\n",
      "warmup_epochs: 2.4024\n",
      "warmup_momentum: 0.84708\n",
      "box: 1.22262\n",
      "cls: 0.58381\n",
      "dfl: 1.31322\n",
      "hsv_h: 0.01385\n",
      "hsv_s: 0.9\n",
      "hsv_v: 0.46785\n",
      "degrees: 0.0\n",
      "translate: 0.06422\n",
      "scale: 0.85199\n",
      "shear: 0.0\n",
      "perspective: 0.0\n",
      "flipud: 0.5162\n",
      "fliplr: 0.44549\n",
      "bgr: 0.0\n",
      "mosaic: 0.63103\n",
      "mixup: 0.0\n",
      "copy_paste: 0.0\n",
      "\n",
      "\u001b[34m\u001b[1mTuner: \u001b[0mStarting iteration 33/100 with hyperparameters: {'lr0': 0.00094, 'lrf': 0.01092, 'momentum': 0.83306, 'weight_decay': 0.0006, 'warmup_epochs': 2.13468, 'warmup_momentum': 0.80093, 'box': 1.25535, 'cls': 0.50108, 'dfl': 1.14034, 'hsv_h': 0.01603, 'hsv_s': 0.84246, 'hsv_v': 0.37259, 'degrees': 0.0, 'translate': 0.05646, 'scale': 0.83318, 'shear': 0.0, 'perspective': 0.0, 'flipud': 0.39066, 'fliplr': 0.41147, 'bgr': 0.0, 'mosaic': 0.49907, 'mixup': 0.0, 'copy_paste': 0.0}\n",
      "Saved runs\\obb\\tune21\\tune_scatter_plots.png\n",
      "Saved runs\\obb\\tune21\\tune_fitness.png\n",
      "\n",
      "\u001b[34m\u001b[1mTuner: \u001b[0m33/100 iterations complete  (32048.03s)\n",
      "\u001b[34m\u001b[1mTuner: \u001b[0mResults saved to \u001b[1mruns\\obb\\tune21\u001b[0m\n",
      "\u001b[34m\u001b[1mTuner: \u001b[0mBest fitness=0.47015 observed at iteration 28\n",
      "\u001b[34m\u001b[1mTuner: \u001b[0mBest fitness metrics are {'metrics/precision(B)': 0.75923, 'metrics/recall(B)': 0.62456, 'metrics/mAP50(B)': 0.66435, 'metrics/mAP50-95(B)': 0.44858, 'val/box_loss': 0.23853, 'val/cls_loss': 1.6633, 'val/dfl_loss': 1.26119, 'fitness': 0.47015}\n",
      "\u001b[34m\u001b[1mTuner: \u001b[0mBest fitness model is runs\\obb\\tunning_1024_label30\n",
      "\u001b[34m\u001b[1mTuner: \u001b[0mBest fitness hyperparameters are printed below.\n",
      "\n",
      "Printing '\u001b[1m\u001b[30mruns\\obb\\tune21\\best_hyperparameters.yaml\u001b[0m'\n",
      "\n",
      "lr0: 0.00075\n",
      "lrf: 0.01236\n",
      "momentum: 0.90114\n",
      "weight_decay: 0.00059\n",
      "warmup_epochs: 2.4024\n",
      "warmup_momentum: 0.84708\n",
      "box: 1.22262\n",
      "cls: 0.58381\n",
      "dfl: 1.31322\n",
      "hsv_h: 0.01385\n",
      "hsv_s: 0.9\n",
      "hsv_v: 0.46785\n",
      "degrees: 0.0\n",
      "translate: 0.06422\n",
      "scale: 0.85199\n",
      "shear: 0.0\n",
      "perspective: 0.0\n",
      "flipud: 0.5162\n",
      "fliplr: 0.44549\n",
      "bgr: 0.0\n",
      "mosaic: 0.63103\n",
      "mixup: 0.0\n",
      "copy_paste: 0.0\n",
      "\n",
      "\u001b[34m\u001b[1mTuner: \u001b[0mStarting iteration 34/100 with hyperparameters: {'lr0': 0.00073, 'lrf': 0.01262, 'momentum': 0.91229, 'weight_decay': 0.00059, 'warmup_epochs': 2.57039, 'warmup_momentum': 0.84708, 'box': 1.22262, 'cls': 0.56935, 'dfl': 1.2448, 'hsv_h': 0.01367, 'hsv_s': 0.9, 'hsv_v': 0.4632, 'degrees': 0.0, 'translate': 0.06422, 'scale': 0.8774, 'shear': 0.0, 'perspective': 0.0, 'flipud': 0.54626, 'fliplr': 0.46176, 'bgr': 0.0, 'mosaic': 0.64547, 'mixup': 0.0, 'copy_paste': 0.0}\n",
      "Saved runs\\obb\\tune21\\tune_scatter_plots.png\n",
      "Saved runs\\obb\\tune21\\tune_fitness.png\n",
      "\n",
      "\u001b[34m\u001b[1mTuner: \u001b[0m34/100 iterations complete  (33007.36s)\n",
      "\u001b[34m\u001b[1mTuner: \u001b[0mResults saved to \u001b[1mruns\\obb\\tune21\u001b[0m\n",
      "\u001b[34m\u001b[1mTuner: \u001b[0mBest fitness=0.47015 observed at iteration 28\n",
      "\u001b[34m\u001b[1mTuner: \u001b[0mBest fitness metrics are {'metrics/precision(B)': 0.75923, 'metrics/recall(B)': 0.62456, 'metrics/mAP50(B)': 0.66435, 'metrics/mAP50-95(B)': 0.44858, 'val/box_loss': 0.23853, 'val/cls_loss': 1.6633, 'val/dfl_loss': 1.26119, 'fitness': 0.47015}\n",
      "\u001b[34m\u001b[1mTuner: \u001b[0mBest fitness model is runs\\obb\\tunning_1024_label30\n",
      "\u001b[34m\u001b[1mTuner: \u001b[0mBest fitness hyperparameters are printed below.\n",
      "\n",
      "Printing '\u001b[1m\u001b[30mruns\\obb\\tune21\\best_hyperparameters.yaml\u001b[0m'\n",
      "\n",
      "lr0: 0.00075\n",
      "lrf: 0.01236\n",
      "momentum: 0.90114\n",
      "weight_decay: 0.00059\n",
      "warmup_epochs: 2.4024\n",
      "warmup_momentum: 0.84708\n",
      "box: 1.22262\n",
      "cls: 0.58381\n",
      "dfl: 1.31322\n",
      "hsv_h: 0.01385\n",
      "hsv_s: 0.9\n",
      "hsv_v: 0.46785\n",
      "degrees: 0.0\n",
      "translate: 0.06422\n",
      "scale: 0.85199\n",
      "shear: 0.0\n",
      "perspective: 0.0\n",
      "flipud: 0.5162\n",
      "fliplr: 0.44549\n",
      "bgr: 0.0\n",
      "mosaic: 0.63103\n",
      "mixup: 0.0\n",
      "copy_paste: 0.0\n",
      "\n",
      "\u001b[34m\u001b[1mTuner: \u001b[0mStarting iteration 35/100 with hyperparameters: {'lr0': 0.00075, 'lrf': 0.01236, 'momentum': 0.90225, 'weight_decay': 0.00054, 'warmup_epochs': 2.26043, 'warmup_momentum': 0.81052, 'box': 1.0, 'cls': 0.43811, 'dfl': 1.46926, 'hsv_h': 0.01443, 'hsv_s': 0.79668, 'hsv_v': 0.46976, 'degrees': 0.0, 'translate': 0.06707, 'scale': 0.86726, 'shear': 0.0, 'perspective': 0.0, 'flipud': 0.46625, 'fliplr': 0.35843, 'bgr': 0.0, 'mosaic': 0.63103, 'mixup': 0.0, 'copy_paste': 0.0}\n",
      "Saved runs\\obb\\tune21\\tune_scatter_plots.png\n",
      "Saved runs\\obb\\tune21\\tune_fitness.png\n",
      "\n",
      "\u001b[34m\u001b[1mTuner: \u001b[0m35/100 iterations complete  (33965.12s)\n",
      "\u001b[34m\u001b[1mTuner: \u001b[0mResults saved to \u001b[1mruns\\obb\\tune21\u001b[0m\n",
      "\u001b[34m\u001b[1mTuner: \u001b[0mBest fitness=0.47015 observed at iteration 28\n",
      "\u001b[34m\u001b[1mTuner: \u001b[0mBest fitness metrics are {'metrics/precision(B)': 0.75923, 'metrics/recall(B)': 0.62456, 'metrics/mAP50(B)': 0.66435, 'metrics/mAP50-95(B)': 0.44858, 'val/box_loss': 0.23853, 'val/cls_loss': 1.6633, 'val/dfl_loss': 1.26119, 'fitness': 0.47015}\n",
      "\u001b[34m\u001b[1mTuner: \u001b[0mBest fitness model is runs\\obb\\tunning_1024_label30\n",
      "\u001b[34m\u001b[1mTuner: \u001b[0mBest fitness hyperparameters are printed below.\n",
      "\n",
      "Printing '\u001b[1m\u001b[30mruns\\obb\\tune21\\best_hyperparameters.yaml\u001b[0m'\n",
      "\n",
      "lr0: 0.00075\n",
      "lrf: 0.01236\n",
      "momentum: 0.90114\n",
      "weight_decay: 0.00059\n",
      "warmup_epochs: 2.4024\n",
      "warmup_momentum: 0.84708\n",
      "box: 1.22262\n",
      "cls: 0.58381\n",
      "dfl: 1.31322\n",
      "hsv_h: 0.01385\n",
      "hsv_s: 0.9\n",
      "hsv_v: 0.46785\n",
      "degrees: 0.0\n",
      "translate: 0.06422\n",
      "scale: 0.85199\n",
      "shear: 0.0\n",
      "perspective: 0.0\n",
      "flipud: 0.5162\n",
      "fliplr: 0.44549\n",
      "bgr: 0.0\n",
      "mosaic: 0.63103\n",
      "mixup: 0.0\n",
      "copy_paste: 0.0\n",
      "\n",
      "\u001b[34m\u001b[1mTuner: \u001b[0mStarting iteration 36/100 with hyperparameters: {'lr0': 0.00058, 'lrf': 0.01274, 'momentum': 0.89837, 'weight_decay': 0.00054, 'warmup_epochs': 2.19825, 'warmup_momentum': 0.81052, 'box': 1.0, 'cls': 0.43214, 'dfl': 1.46926, 'hsv_h': 0.01554, 'hsv_s': 0.8548, 'hsv_v': 0.44391, 'degrees': 0.0, 'translate': 0.06216, 'scale': 0.95, 'shear': 0.0, 'perspective': 0.0, 'flipud': 0.44886, 'fliplr': 0.31272, 'bgr': 0.0, 'mosaic': 0.63812, 'mixup': 0.0, 'copy_paste': 0.0}\n",
      "Saved runs\\obb\\tune21\\tune_scatter_plots.png\n",
      "Saved runs\\obb\\tune21\\tune_fitness.png\n",
      "\n",
      "\u001b[34m\u001b[1mTuner: \u001b[0m36/100 iterations complete  (34921.34s)\n",
      "\u001b[34m\u001b[1mTuner: \u001b[0mResults saved to \u001b[1mruns\\obb\\tune21\u001b[0m\n",
      "\u001b[34m\u001b[1mTuner: \u001b[0mBest fitness=0.47015 observed at iteration 28\n",
      "\u001b[34m\u001b[1mTuner: \u001b[0mBest fitness metrics are {'metrics/precision(B)': 0.75923, 'metrics/recall(B)': 0.62456, 'metrics/mAP50(B)': 0.66435, 'metrics/mAP50-95(B)': 0.44858, 'val/box_loss': 0.23853, 'val/cls_loss': 1.6633, 'val/dfl_loss': 1.26119, 'fitness': 0.47015}\n",
      "\u001b[34m\u001b[1mTuner: \u001b[0mBest fitness model is runs\\obb\\tunning_1024_label30\n",
      "\u001b[34m\u001b[1mTuner: \u001b[0mBest fitness hyperparameters are printed below.\n",
      "\n",
      "Printing '\u001b[1m\u001b[30mruns\\obb\\tune21\\best_hyperparameters.yaml\u001b[0m'\n",
      "\n",
      "lr0: 0.00075\n",
      "lrf: 0.01236\n",
      "momentum: 0.90114\n",
      "weight_decay: 0.00059\n",
      "warmup_epochs: 2.4024\n",
      "warmup_momentum: 0.84708\n",
      "box: 1.22262\n",
      "cls: 0.58381\n",
      "dfl: 1.31322\n",
      "hsv_h: 0.01385\n",
      "hsv_s: 0.9\n",
      "hsv_v: 0.46785\n",
      "degrees: 0.0\n",
      "translate: 0.06422\n",
      "scale: 0.85199\n",
      "shear: 0.0\n",
      "perspective: 0.0\n",
      "flipud: 0.5162\n",
      "fliplr: 0.44549\n",
      "bgr: 0.0\n",
      "mosaic: 0.63103\n",
      "mixup: 0.0\n",
      "copy_paste: 0.0\n",
      "\n",
      "\u001b[34m\u001b[1mTuner: \u001b[0mStarting iteration 37/100 with hyperparameters: {'lr0': 0.00084, 'lrf': 0.01165, 'momentum': 0.92092, 'weight_decay': 0.00067, 'warmup_epochs': 3.39948, 'warmup_momentum': 0.9496, 'box': 1.22262, 'cls': 0.58722, 'dfl': 1.13923, 'hsv_h': 0.01482, 'hsv_s': 0.9, 'hsv_v': 0.40599, 'degrees': 0.0, 'translate': 0.05973, 'scale': 0.95, 'shear': 0.0, 'perspective': 0.0, 'flipud': 0.55159, 'fliplr': 0.42745, 'bgr': 0.0, 'mosaic': 0.7647, 'mixup': 0.0, 'copy_paste': 0.0}\n",
      "Saved runs\\obb\\tune21\\tune_scatter_plots.png\n",
      "Saved runs\\obb\\tune21\\tune_fitness.png\n",
      "\n",
      "\u001b[34m\u001b[1mTuner: \u001b[0m37/100 iterations complete  (35876.73s)\n",
      "\u001b[34m\u001b[1mTuner: \u001b[0mResults saved to \u001b[1mruns\\obb\\tune21\u001b[0m\n",
      "\u001b[34m\u001b[1mTuner: \u001b[0mBest fitness=0.47015 observed at iteration 28\n",
      "\u001b[34m\u001b[1mTuner: \u001b[0mBest fitness metrics are {'metrics/precision(B)': 0.75923, 'metrics/recall(B)': 0.62456, 'metrics/mAP50(B)': 0.66435, 'metrics/mAP50-95(B)': 0.44858, 'val/box_loss': 0.23853, 'val/cls_loss': 1.6633, 'val/dfl_loss': 1.26119, 'fitness': 0.47015}\n",
      "\u001b[34m\u001b[1mTuner: \u001b[0mBest fitness model is runs\\obb\\tunning_1024_label30\n",
      "\u001b[34m\u001b[1mTuner: \u001b[0mBest fitness hyperparameters are printed below.\n",
      "\n",
      "Printing '\u001b[1m\u001b[30mruns\\obb\\tune21\\best_hyperparameters.yaml\u001b[0m'\n",
      "\n",
      "lr0: 0.00075\n",
      "lrf: 0.01236\n",
      "momentum: 0.90114\n",
      "weight_decay: 0.00059\n",
      "warmup_epochs: 2.4024\n",
      "warmup_momentum: 0.84708\n",
      "box: 1.22262\n",
      "cls: 0.58381\n",
      "dfl: 1.31322\n",
      "hsv_h: 0.01385\n",
      "hsv_s: 0.9\n",
      "hsv_v: 0.46785\n",
      "degrees: 0.0\n",
      "translate: 0.06422\n",
      "scale: 0.85199\n",
      "shear: 0.0\n",
      "perspective: 0.0\n",
      "flipud: 0.5162\n",
      "fliplr: 0.44549\n",
      "bgr: 0.0\n",
      "mosaic: 0.63103\n",
      "mixup: 0.0\n",
      "copy_paste: 0.0\n",
      "\n",
      "\u001b[34m\u001b[1mTuner: \u001b[0mStarting iteration 38/100 with hyperparameters: {'lr0': 0.00075, 'lrf': 0.01277, 'momentum': 0.90114, 'weight_decay': 0.00059, 'warmup_epochs': 2.4024, 'warmup_momentum': 0.85476, 'box': 1.14123, 'cls': 0.51437, 'dfl': 1.33074, 'hsv_h': 0.01358, 'hsv_s': 0.8798, 'hsv_v': 0.47797, 'degrees': 0.0, 'translate': 0.06422, 'scale': 0.85199, 'shear': 0.0, 'perspective': 0.0, 'flipud': 0.5162, 'fliplr': 0.47497, 'bgr': 0.0, 'mosaic': 0.64919, 'mixup': 0.0, 'copy_paste': 0.0}\n",
      "Saved runs\\obb\\tune21\\tune_scatter_plots.png\n",
      "Saved runs\\obb\\tune21\\tune_fitness.png\n",
      "\n",
      "\u001b[34m\u001b[1mTuner: \u001b[0m38/100 iterations complete  (36830.58s)\n",
      "\u001b[34m\u001b[1mTuner: \u001b[0mResults saved to \u001b[1mruns\\obb\\tune21\u001b[0m\n",
      "\u001b[34m\u001b[1mTuner: \u001b[0mBest fitness=0.47015 observed at iteration 28\n",
      "\u001b[34m\u001b[1mTuner: \u001b[0mBest fitness metrics are {'metrics/precision(B)': 0.75923, 'metrics/recall(B)': 0.62456, 'metrics/mAP50(B)': 0.66435, 'metrics/mAP50-95(B)': 0.44858, 'val/box_loss': 0.23853, 'val/cls_loss': 1.6633, 'val/dfl_loss': 1.26119, 'fitness': 0.47015}\n",
      "\u001b[34m\u001b[1mTuner: \u001b[0mBest fitness model is runs\\obb\\tunning_1024_label30\n",
      "\u001b[34m\u001b[1mTuner: \u001b[0mBest fitness hyperparameters are printed below.\n",
      "\n",
      "Printing '\u001b[1m\u001b[30mruns\\obb\\tune21\\best_hyperparameters.yaml\u001b[0m'\n",
      "\n",
      "lr0: 0.00075\n",
      "lrf: 0.01236\n",
      "momentum: 0.90114\n",
      "weight_decay: 0.00059\n",
      "warmup_epochs: 2.4024\n",
      "warmup_momentum: 0.84708\n",
      "box: 1.22262\n",
      "cls: 0.58381\n",
      "dfl: 1.31322\n",
      "hsv_h: 0.01385\n",
      "hsv_s: 0.9\n",
      "hsv_v: 0.46785\n",
      "degrees: 0.0\n",
      "translate: 0.06422\n",
      "scale: 0.85199\n",
      "shear: 0.0\n",
      "perspective: 0.0\n",
      "flipud: 0.5162\n",
      "fliplr: 0.44549\n",
      "bgr: 0.0\n",
      "mosaic: 0.63103\n",
      "mixup: 0.0\n",
      "copy_paste: 0.0\n",
      "\n",
      "\u001b[34m\u001b[1mTuner: \u001b[0mStarting iteration 39/100 with hyperparameters: {'lr0': 0.00071, 'lrf': 0.0126, 'momentum': 0.89518, 'weight_decay': 0.00063, 'warmup_epochs': 2.43703, 'warmup_momentum': 0.92048, 'box': 1.14787, 'cls': 0.54939, 'dfl': 1.31064, 'hsv_h': 0.01418, 'hsv_s': 0.9, 'hsv_v': 0.47844, 'degrees': 0.0, 'translate': 0.06468, 'scale': 0.89656, 'shear': 0.0, 'perspective': 0.0, 'flipud': 0.48453, 'fliplr': 0.44549, 'bgr': 0.0, 'mosaic': 0.64179, 'mixup': 0.0, 'copy_paste': 0.0}\n",
      "Saved runs\\obb\\tune21\\tune_scatter_plots.png\n",
      "Saved runs\\obb\\tune21\\tune_fitness.png\n",
      "\n",
      "\u001b[34m\u001b[1mTuner: \u001b[0m39/100 iterations complete  (37784.97s)\n",
      "\u001b[34m\u001b[1mTuner: \u001b[0mResults saved to \u001b[1mruns\\obb\\tune21\u001b[0m\n",
      "\u001b[34m\u001b[1mTuner: \u001b[0mBest fitness=0.47015 observed at iteration 28\n",
      "\u001b[34m\u001b[1mTuner: \u001b[0mBest fitness metrics are {'metrics/precision(B)': 0.75923, 'metrics/recall(B)': 0.62456, 'metrics/mAP50(B)': 0.66435, 'metrics/mAP50-95(B)': 0.44858, 'val/box_loss': 0.23853, 'val/cls_loss': 1.6633, 'val/dfl_loss': 1.26119, 'fitness': 0.47015}\n",
      "\u001b[34m\u001b[1mTuner: \u001b[0mBest fitness model is runs\\obb\\tunning_1024_label30\n",
      "\u001b[34m\u001b[1mTuner: \u001b[0mBest fitness hyperparameters are printed below.\n",
      "\n",
      "Printing '\u001b[1m\u001b[30mruns\\obb\\tune21\\best_hyperparameters.yaml\u001b[0m'\n",
      "\n",
      "lr0: 0.00075\n",
      "lrf: 0.01236\n",
      "momentum: 0.90114\n",
      "weight_decay: 0.00059\n",
      "warmup_epochs: 2.4024\n",
      "warmup_momentum: 0.84708\n",
      "box: 1.22262\n",
      "cls: 0.58381\n",
      "dfl: 1.31322\n",
      "hsv_h: 0.01385\n",
      "hsv_s: 0.9\n",
      "hsv_v: 0.46785\n",
      "degrees: 0.0\n",
      "translate: 0.06422\n",
      "scale: 0.85199\n",
      "shear: 0.0\n",
      "perspective: 0.0\n",
      "flipud: 0.5162\n",
      "fliplr: 0.44549\n",
      "bgr: 0.0\n",
      "mosaic: 0.63103\n",
      "mixup: 0.0\n",
      "copy_paste: 0.0\n",
      "\n",
      "\u001b[34m\u001b[1mTuner: \u001b[0mStarting iteration 40/100 with hyperparameters: {'lr0': 0.0008, 'lrf': 0.01236, 'momentum': 0.91826, 'weight_decay': 0.00072, 'warmup_epochs': 2.1321, 'warmup_momentum': 0.95, 'box': 1.22262, 'cls': 0.68816, 'dfl': 1.31322, 'hsv_h': 0.01312, 'hsv_s': 0.9, 'hsv_v': 0.54717, 'degrees': 0.0, 'translate': 0.07243, 'scale': 0.85199, 'shear': 0.0, 'perspective': 0.0, 'flipud': 0.44247, 'fliplr': 0.36966, 'bgr': 0.0, 'mosaic': 0.55994, 'mixup': 0.0, 'copy_paste': 0.0}\n",
      "Saved runs\\obb\\tune21\\tune_scatter_plots.png\n",
      "Saved runs\\obb\\tune21\\tune_fitness.png\n",
      "\n",
      "\u001b[34m\u001b[1mTuner: \u001b[0m40/100 iterations complete  (38738.60s)\n",
      "\u001b[34m\u001b[1mTuner: \u001b[0mResults saved to \u001b[1mruns\\obb\\tune21\u001b[0m\n",
      "\u001b[34m\u001b[1mTuner: \u001b[0mBest fitness=0.47015 observed at iteration 28\n",
      "\u001b[34m\u001b[1mTuner: \u001b[0mBest fitness metrics are {'metrics/precision(B)': 0.75923, 'metrics/recall(B)': 0.62456, 'metrics/mAP50(B)': 0.66435, 'metrics/mAP50-95(B)': 0.44858, 'val/box_loss': 0.23853, 'val/cls_loss': 1.6633, 'val/dfl_loss': 1.26119, 'fitness': 0.47015}\n",
      "\u001b[34m\u001b[1mTuner: \u001b[0mBest fitness model is runs\\obb\\tunning_1024_label30\n",
      "\u001b[34m\u001b[1mTuner: \u001b[0mBest fitness hyperparameters are printed below.\n",
      "\n",
      "Printing '\u001b[1m\u001b[30mruns\\obb\\tune21\\best_hyperparameters.yaml\u001b[0m'\n",
      "\n",
      "lr0: 0.00075\n",
      "lrf: 0.01236\n",
      "momentum: 0.90114\n",
      "weight_decay: 0.00059\n",
      "warmup_epochs: 2.4024\n",
      "warmup_momentum: 0.84708\n",
      "box: 1.22262\n",
      "cls: 0.58381\n",
      "dfl: 1.31322\n",
      "hsv_h: 0.01385\n",
      "hsv_s: 0.9\n",
      "hsv_v: 0.46785\n",
      "degrees: 0.0\n",
      "translate: 0.06422\n",
      "scale: 0.85199\n",
      "shear: 0.0\n",
      "perspective: 0.0\n",
      "flipud: 0.5162\n",
      "fliplr: 0.44549\n",
      "bgr: 0.0\n",
      "mosaic: 0.63103\n",
      "mixup: 0.0\n",
      "copy_paste: 0.0\n",
      "\n",
      "\u001b[34m\u001b[1mTuner: \u001b[0mStarting iteration 41/100 with hyperparameters: {'lr0': 0.00075, 'lrf': 0.01253, 'momentum': 0.98, 'weight_decay': 0.00049, 'warmup_epochs': 2.26043, 'warmup_momentum': 0.80079, 'box': 1.13813, 'cls': 0.43811, 'dfl': 1.50522, 'hsv_h': 0.01791, 'hsv_s': 0.9, 'hsv_v': 0.49495, 'degrees': 0.0, 'translate': 0.0817, 'scale': 0.78248, 'shear': 0.0, 'perspective': 0.0, 'flipud': 0.56757, 'fliplr': 0.35843, 'bgr': 0.0, 'mosaic': 0.59774, 'mixup': 0.0, 'copy_paste': 0.0}\n",
      "Saved runs\\obb\\tune21\\tune_scatter_plots.png\n",
      "Saved runs\\obb\\tune21\\tune_fitness.png\n",
      "\n",
      "\u001b[34m\u001b[1mTuner: \u001b[0m41/100 iterations complete  (39693.18s)\n",
      "\u001b[34m\u001b[1mTuner: \u001b[0mResults saved to \u001b[1mruns\\obb\\tune21\u001b[0m\n",
      "\u001b[34m\u001b[1mTuner: \u001b[0mBest fitness=0.47015 observed at iteration 28\n",
      "\u001b[34m\u001b[1mTuner: \u001b[0mBest fitness metrics are {'metrics/precision(B)': 0.75923, 'metrics/recall(B)': 0.62456, 'metrics/mAP50(B)': 0.66435, 'metrics/mAP50-95(B)': 0.44858, 'val/box_loss': 0.23853, 'val/cls_loss': 1.6633, 'val/dfl_loss': 1.26119, 'fitness': 0.47015}\n",
      "\u001b[34m\u001b[1mTuner: \u001b[0mBest fitness model is runs\\obb\\tunning_1024_label30\n",
      "\u001b[34m\u001b[1mTuner: \u001b[0mBest fitness hyperparameters are printed below.\n",
      "\n",
      "Printing '\u001b[1m\u001b[30mruns\\obb\\tune21\\best_hyperparameters.yaml\u001b[0m'\n",
      "\n",
      "lr0: 0.00075\n",
      "lrf: 0.01236\n",
      "momentum: 0.90114\n",
      "weight_decay: 0.00059\n",
      "warmup_epochs: 2.4024\n",
      "warmup_momentum: 0.84708\n",
      "box: 1.22262\n",
      "cls: 0.58381\n",
      "dfl: 1.31322\n",
      "hsv_h: 0.01385\n",
      "hsv_s: 0.9\n",
      "hsv_v: 0.46785\n",
      "degrees: 0.0\n",
      "translate: 0.06422\n",
      "scale: 0.85199\n",
      "shear: 0.0\n",
      "perspective: 0.0\n",
      "flipud: 0.5162\n",
      "fliplr: 0.44549\n",
      "bgr: 0.0\n",
      "mosaic: 0.63103\n",
      "mixup: 0.0\n",
      "copy_paste: 0.0\n",
      "\n",
      "\u001b[34m\u001b[1mTuner: \u001b[0mStarting iteration 42/100 with hyperparameters: {'lr0': 0.00086, 'lrf': 0.01332, 'momentum': 0.94342, 'weight_decay': 0.00043, 'warmup_epochs': 2.26043, 'warmup_momentum': 0.82428, 'box': 1.14076, 'cls': 0.5065, 'dfl': 1.41255, 'hsv_h': 0.01168, 'hsv_s': 0.80904, 'hsv_v': 0.32898, 'degrees': 0.0, 'translate': 0.065, 'scale': 0.95, 'shear': 0.0, 'perspective': 0.0, 'flipud': 0.46625, 'fliplr': 0.33771, 'bgr': 0.0, 'mosaic': 0.67861, 'mixup': 0.0, 'copy_paste': 0.0}\n",
      "Saved runs\\obb\\tune21\\tune_scatter_plots.png\n",
      "Saved runs\\obb\\tune21\\tune_fitness.png\n",
      "\n",
      "\u001b[34m\u001b[1mTuner: \u001b[0m42/100 iterations complete  (40645.57s)\n",
      "\u001b[34m\u001b[1mTuner: \u001b[0mResults saved to \u001b[1mruns\\obb\\tune21\u001b[0m\n",
      "\u001b[34m\u001b[1mTuner: \u001b[0mBest fitness=0.47015 observed at iteration 28\n",
      "\u001b[34m\u001b[1mTuner: \u001b[0mBest fitness metrics are {'metrics/precision(B)': 0.75923, 'metrics/recall(B)': 0.62456, 'metrics/mAP50(B)': 0.66435, 'metrics/mAP50-95(B)': 0.44858, 'val/box_loss': 0.23853, 'val/cls_loss': 1.6633, 'val/dfl_loss': 1.26119, 'fitness': 0.47015}\n",
      "\u001b[34m\u001b[1mTuner: \u001b[0mBest fitness model is runs\\obb\\tunning_1024_label30\n",
      "\u001b[34m\u001b[1mTuner: \u001b[0mBest fitness hyperparameters are printed below.\n",
      "\n",
      "Printing '\u001b[1m\u001b[30mruns\\obb\\tune21\\best_hyperparameters.yaml\u001b[0m'\n",
      "\n",
      "lr0: 0.00075\n",
      "lrf: 0.01236\n",
      "momentum: 0.90114\n",
      "weight_decay: 0.00059\n",
      "warmup_epochs: 2.4024\n",
      "warmup_momentum: 0.84708\n",
      "box: 1.22262\n",
      "cls: 0.58381\n",
      "dfl: 1.31322\n",
      "hsv_h: 0.01385\n",
      "hsv_s: 0.9\n",
      "hsv_v: 0.46785\n",
      "degrees: 0.0\n",
      "translate: 0.06422\n",
      "scale: 0.85199\n",
      "shear: 0.0\n",
      "perspective: 0.0\n",
      "flipud: 0.5162\n",
      "fliplr: 0.44549\n",
      "bgr: 0.0\n",
      "mosaic: 0.63103\n",
      "mixup: 0.0\n",
      "copy_paste: 0.0\n",
      "\n",
      "\u001b[34m\u001b[1mTuner: \u001b[0mStarting iteration 43/100 with hyperparameters: {'lr0': 0.00075, 'lrf': 0.01147, 'momentum': 0.89506, 'weight_decay': 0.0006, 'warmup_epochs': 2.37416, 'warmup_momentum': 0.85557, 'box': 1.21618, 'cls': 0.67962, 'dfl': 1.31322, 'hsv_h': 0.01486, 'hsv_s': 0.9, 'hsv_v': 0.4341, 'degrees': 0.0, 'translate': 0.05535, 'scale': 0.85199, 'shear': 0.0, 'perspective': 0.0, 'flipud': 0.5162, 'fliplr': 0.44549, 'bgr': 0.0, 'mosaic': 0.63103, 'mixup': 0.0, 'copy_paste': 0.0}\n",
      "Saved runs\\obb\\tune21\\tune_scatter_plots.png\n",
      "Saved runs\\obb\\tune21\\tune_fitness.png\n",
      "\n",
      "\u001b[34m\u001b[1mTuner: \u001b[0m43/100 iterations complete  (41634.22s)\n",
      "\u001b[34m\u001b[1mTuner: \u001b[0mResults saved to \u001b[1mruns\\obb\\tune21\u001b[0m\n",
      "\u001b[34m\u001b[1mTuner: \u001b[0mBest fitness=0.47015 observed at iteration 28\n",
      "\u001b[34m\u001b[1mTuner: \u001b[0mBest fitness metrics are {'metrics/precision(B)': 0.75923, 'metrics/recall(B)': 0.62456, 'metrics/mAP50(B)': 0.66435, 'metrics/mAP50-95(B)': 0.44858, 'val/box_loss': 0.23853, 'val/cls_loss': 1.6633, 'val/dfl_loss': 1.26119, 'fitness': 0.47015}\n",
      "\u001b[34m\u001b[1mTuner: \u001b[0mBest fitness model is runs\\obb\\tunning_1024_label30\n",
      "\u001b[34m\u001b[1mTuner: \u001b[0mBest fitness hyperparameters are printed below.\n",
      "\n",
      "Printing '\u001b[1m\u001b[30mruns\\obb\\tune21\\best_hyperparameters.yaml\u001b[0m'\n",
      "\n",
      "lr0: 0.00075\n",
      "lrf: 0.01236\n",
      "momentum: 0.90114\n",
      "weight_decay: 0.00059\n",
      "warmup_epochs: 2.4024\n",
      "warmup_momentum: 0.84708\n",
      "box: 1.22262\n",
      "cls: 0.58381\n",
      "dfl: 1.31322\n",
      "hsv_h: 0.01385\n",
      "hsv_s: 0.9\n",
      "hsv_v: 0.46785\n",
      "degrees: 0.0\n",
      "translate: 0.06422\n",
      "scale: 0.85199\n",
      "shear: 0.0\n",
      "perspective: 0.0\n",
      "flipud: 0.5162\n",
      "fliplr: 0.44549\n",
      "bgr: 0.0\n",
      "mosaic: 0.63103\n",
      "mixup: 0.0\n",
      "copy_paste: 0.0\n",
      "\n",
      "\u001b[34m\u001b[1mTuner: \u001b[0mStarting iteration 44/100 with hyperparameters: {'lr0': 0.00075, 'lrf': 0.01174, 'momentum': 0.8695, 'weight_decay': 0.00055, 'warmup_epochs': 2.7578, 'warmup_momentum': 0.81052, 'box': 1.0, 'cls': 0.43811, 'dfl': 1.9314, 'hsv_h': 0.01492, 'hsv_s': 0.75168, 'hsv_v': 0.46385, 'degrees': 0.0, 'translate': 0.06013, 'scale': 0.86726, 'shear': 0.0, 'perspective': 0.0, 'flipud': 0.43709, 'fliplr': 0.40386, 'bgr': 0.0, 'mosaic': 0.59464, 'mixup': 0.0, 'copy_paste': 0.0}\n",
      "Saved runs\\obb\\tune21\\tune_scatter_plots.png\n",
      "Saved runs\\obb\\tune21\\tune_fitness.png\n",
      "\n",
      "\u001b[34m\u001b[1mTuner: \u001b[0m44/100 iterations complete  (42661.47s)\n",
      "\u001b[34m\u001b[1mTuner: \u001b[0mResults saved to \u001b[1mruns\\obb\\tune21\u001b[0m\n",
      "\u001b[34m\u001b[1mTuner: \u001b[0mBest fitness=0.47015 observed at iteration 28\n",
      "\u001b[34m\u001b[1mTuner: \u001b[0mBest fitness metrics are {'metrics/precision(B)': 0.75923, 'metrics/recall(B)': 0.62456, 'metrics/mAP50(B)': 0.66435, 'metrics/mAP50-95(B)': 0.44858, 'val/box_loss': 0.23853, 'val/cls_loss': 1.6633, 'val/dfl_loss': 1.26119, 'fitness': 0.47015}\n",
      "\u001b[34m\u001b[1mTuner: \u001b[0mBest fitness model is runs\\obb\\tunning_1024_label30\n",
      "\u001b[34m\u001b[1mTuner: \u001b[0mBest fitness hyperparameters are printed below.\n",
      "\n",
      "Printing '\u001b[1m\u001b[30mruns\\obb\\tune21\\best_hyperparameters.yaml\u001b[0m'\n",
      "\n",
      "lr0: 0.00075\n",
      "lrf: 0.01236\n",
      "momentum: 0.90114\n",
      "weight_decay: 0.00059\n",
      "warmup_epochs: 2.4024\n",
      "warmup_momentum: 0.84708\n",
      "box: 1.22262\n",
      "cls: 0.58381\n",
      "dfl: 1.31322\n",
      "hsv_h: 0.01385\n",
      "hsv_s: 0.9\n",
      "hsv_v: 0.46785\n",
      "degrees: 0.0\n",
      "translate: 0.06422\n",
      "scale: 0.85199\n",
      "shear: 0.0\n",
      "perspective: 0.0\n",
      "flipud: 0.5162\n",
      "fliplr: 0.44549\n",
      "bgr: 0.0\n",
      "mosaic: 0.63103\n",
      "mixup: 0.0\n",
      "copy_paste: 0.0\n",
      "\n",
      "\u001b[34m\u001b[1mTuner: \u001b[0mStarting iteration 45/100 with hyperparameters: {'lr0': 0.00075, 'lrf': 0.01208, 'momentum': 0.89742, 'weight_decay': 0.00059, 'warmup_epochs': 2.35267, 'warmup_momentum': 0.82425, 'box': 1.28189, 'cls': 0.59082, 'dfl': 1.31322, 'hsv_h': 0.01424, 'hsv_s': 0.9, 'hsv_v': 0.48558, 'degrees': 0.0, 'translate': 0.06439, 'scale': 0.85199, 'shear': 0.0, 'perspective': 0.0, 'flipud': 0.52004, 'fliplr': 0.45079, 'bgr': 0.0, 'mosaic': 0.61049, 'mixup': 0.0, 'copy_paste': 0.0}\n",
      "Saved runs\\obb\\tune21\\tune_scatter_plots.png\n",
      "Saved runs\\obb\\tune21\\tune_fitness.png\n",
      "\n",
      "\u001b[34m\u001b[1mTuner: \u001b[0m45/100 iterations complete  (43643.97s)\n",
      "\u001b[34m\u001b[1mTuner: \u001b[0mResults saved to \u001b[1mruns\\obb\\tune21\u001b[0m\n",
      "\u001b[34m\u001b[1mTuner: \u001b[0mBest fitness=0.47426 observed at iteration 45\n",
      "\u001b[34m\u001b[1mTuner: \u001b[0mBest fitness metrics are {'metrics/precision(B)': 0.74034, 'metrics/recall(B)': 0.62192, 'metrics/mAP50(B)': 0.66447, 'metrics/mAP50-95(B)': 0.45312, 'val/box_loss': 0.24416, 'val/cls_loss': 1.65331, 'val/dfl_loss': 1.25047, 'fitness': 0.47426}\n",
      "\u001b[34m\u001b[1mTuner: \u001b[0mBest fitness model is runs\\obb\\tunning_1024_label47\n",
      "\u001b[34m\u001b[1mTuner: \u001b[0mBest fitness hyperparameters are printed below.\n",
      "\n",
      "Printing '\u001b[1m\u001b[30mruns\\obb\\tune21\\best_hyperparameters.yaml\u001b[0m'\n",
      "\n",
      "lr0: 0.00075\n",
      "lrf: 0.01208\n",
      "momentum: 0.89742\n",
      "weight_decay: 0.00059\n",
      "warmup_epochs: 2.35267\n",
      "warmup_momentum: 0.82425\n",
      "box: 1.28189\n",
      "cls: 0.59082\n",
      "dfl: 1.31322\n",
      "hsv_h: 0.01424\n",
      "hsv_s: 0.9\n",
      "hsv_v: 0.48558\n",
      "degrees: 0.0\n",
      "translate: 0.06439\n",
      "scale: 0.85199\n",
      "shear: 0.0\n",
      "perspective: 0.0\n",
      "flipud: 0.52004\n",
      "fliplr: 0.45079\n",
      "bgr: 0.0\n",
      "mosaic: 0.61049\n",
      "mixup: 0.0\n",
      "copy_paste: 0.0\n",
      "\n",
      "\u001b[34m\u001b[1mTuner: \u001b[0mStarting iteration 46/100 with hyperparameters: {'lr0': 0.00075, 'lrf': 0.01111, 'momentum': 0.89742, 'weight_decay': 0.00061, 'warmup_epochs': 2.51122, 'warmup_momentum': 0.79472, 'box': 1.58063, 'cls': 0.6574, 'dfl': 1.34176, 'hsv_h': 0.01501, 'hsv_s': 0.9, 'hsv_v': 0.48558, 'degrees': 0.0, 'translate': 0.06219, 'scale': 0.89704, 'shear': 0.0, 'perspective': 0.0, 'flipud': 0.56702, 'fliplr': 0.5382, 'bgr': 0.0, 'mosaic': 0.66284, 'mixup': 0.0, 'copy_paste': 0.0}\n",
      "Saved runs\\obb\\tune21\\tune_scatter_plots.png\n",
      "Saved runs\\obb\\tune21\\tune_fitness.png\n",
      "\n",
      "\u001b[34m\u001b[1mTuner: \u001b[0m46/100 iterations complete  (44638.44s)\n",
      "\u001b[34m\u001b[1mTuner: \u001b[0mResults saved to \u001b[1mruns\\obb\\tune21\u001b[0m\n",
      "\u001b[34m\u001b[1mTuner: \u001b[0mBest fitness=0.47426 observed at iteration 45\n",
      "\u001b[34m\u001b[1mTuner: \u001b[0mBest fitness metrics are {'metrics/precision(B)': 0.74034, 'metrics/recall(B)': 0.62192, 'metrics/mAP50(B)': 0.66447, 'metrics/mAP50-95(B)': 0.45312, 'val/box_loss': 0.24416, 'val/cls_loss': 1.65331, 'val/dfl_loss': 1.25047, 'fitness': 0.47426}\n",
      "\u001b[34m\u001b[1mTuner: \u001b[0mBest fitness model is runs\\obb\\tunning_1024_label47\n",
      "\u001b[34m\u001b[1mTuner: \u001b[0mBest fitness hyperparameters are printed below.\n",
      "\n",
      "Printing '\u001b[1m\u001b[30mruns\\obb\\tune21\\best_hyperparameters.yaml\u001b[0m'\n",
      "\n",
      "lr0: 0.00075\n",
      "lrf: 0.01208\n",
      "momentum: 0.89742\n",
      "weight_decay: 0.00059\n",
      "warmup_epochs: 2.35267\n",
      "warmup_momentum: 0.82425\n",
      "box: 1.28189\n",
      "cls: 0.59082\n",
      "dfl: 1.31322\n",
      "hsv_h: 0.01424\n",
      "hsv_s: 0.9\n",
      "hsv_v: 0.48558\n",
      "degrees: 0.0\n",
      "translate: 0.06439\n",
      "scale: 0.85199\n",
      "shear: 0.0\n",
      "perspective: 0.0\n",
      "flipud: 0.52004\n",
      "fliplr: 0.45079\n",
      "bgr: 0.0\n",
      "mosaic: 0.61049\n",
      "mixup: 0.0\n",
      "copy_paste: 0.0\n",
      "\n",
      "\u001b[34m\u001b[1mTuner: \u001b[0mStarting iteration 47/100 with hyperparameters: {'lr0': 0.00075, 'lrf': 0.01485, 'momentum': 0.81514, 'weight_decay': 0.00045, 'warmup_epochs': 1.94707, 'warmup_momentum': 0.82425, 'box': 1.28189, 'cls': 0.41103, 'dfl': 1.31322, 'hsv_h': 0.01424, 'hsv_s': 0.9, 'hsv_v': 0.41861, 'degrees': 0.0, 'translate': 0.05909, 'scale': 0.85199, 'shear': 0.0, 'perspective': 0.0, 'flipud': 0.3886, 'fliplr': 0.36978, 'bgr': 0.0, 'mosaic': 0.74622, 'mixup': 0.0, 'copy_paste': 0.0}\n",
      "Saved runs\\obb\\tune21\\tune_scatter_plots.png\n",
      "Saved runs\\obb\\tune21\\tune_fitness.png\n",
      "\n",
      "\u001b[34m\u001b[1mTuner: \u001b[0m47/100 iterations complete  (45612.88s)\n",
      "\u001b[34m\u001b[1mTuner: \u001b[0mResults saved to \u001b[1mruns\\obb\\tune21\u001b[0m\n",
      "\u001b[34m\u001b[1mTuner: \u001b[0mBest fitness=0.48351 observed at iteration 47\n",
      "\u001b[34m\u001b[1mTuner: \u001b[0mBest fitness metrics are {'metrics/precision(B)': 0.76201, 'metrics/recall(B)': 0.62974, 'metrics/mAP50(B)': 0.67543, 'metrics/mAP50-95(B)': 0.46219, 'val/box_loss': 0.23683, 'val/cls_loss': 1.12257, 'val/dfl_loss': 1.20283, 'fitness': 0.48351}\n",
      "\u001b[34m\u001b[1mTuner: \u001b[0mBest fitness model is runs\\obb\\tunning_1024_label49\n",
      "\u001b[34m\u001b[1mTuner: \u001b[0mBest fitness hyperparameters are printed below.\n",
      "\n",
      "Printing '\u001b[1m\u001b[30mruns\\obb\\tune21\\best_hyperparameters.yaml\u001b[0m'\n",
      "\n",
      "lr0: 0.00075\n",
      "lrf: 0.01485\n",
      "momentum: 0.81514\n",
      "weight_decay: 0.00045\n",
      "warmup_epochs: 1.94707\n",
      "warmup_momentum: 0.82425\n",
      "box: 1.28189\n",
      "cls: 0.41103\n",
      "dfl: 1.31322\n",
      "hsv_h: 0.01424\n",
      "hsv_s: 0.9\n",
      "hsv_v: 0.41861\n",
      "degrees: 0.0\n",
      "translate: 0.05909\n",
      "scale: 0.85199\n",
      "shear: 0.0\n",
      "perspective: 0.0\n",
      "flipud: 0.3886\n",
      "fliplr: 0.36978\n",
      "bgr: 0.0\n",
      "mosaic: 0.74622\n",
      "mixup: 0.0\n",
      "copy_paste: 0.0\n",
      "\n",
      "\u001b[34m\u001b[1mTuner: \u001b[0mStarting iteration 48/100 with hyperparameters: {'lr0': 0.00073, 'lrf': 0.01606, 'momentum': 0.79913, 'weight_decay': 0.00044, 'warmup_epochs': 1.94707, 'warmup_momentum': 0.83285, 'box': 1.27516, 'cls': 0.39286, 'dfl': 1.30704, 'hsv_h': 0.01459, 'hsv_s': 0.89403, 'hsv_v': 0.3757, 'degrees': 0.0, 'translate': 0.05834, 'scale': 0.85199, 'shear': 0.0, 'perspective': 0.0, 'flipud': 0.39599, 'fliplr': 0.37324, 'bgr': 0.0, 'mosaic': 0.72624, 'mixup': 0.0, 'copy_paste': 0.0}\n",
      "Saved runs\\obb\\tune21\\tune_scatter_plots.png\n",
      "Saved runs\\obb\\tune21\\tune_fitness.png\n",
      "\n",
      "\u001b[34m\u001b[1mTuner: \u001b[0m48/100 iterations complete  (46565.22s)\n",
      "\u001b[34m\u001b[1mTuner: \u001b[0mResults saved to \u001b[1mruns\\obb\\tune21\u001b[0m\n",
      "\u001b[34m\u001b[1mTuner: \u001b[0mBest fitness=0.48595 observed at iteration 48\n",
      "\u001b[34m\u001b[1mTuner: \u001b[0mBest fitness metrics are {'metrics/precision(B)': 0.76015, 'metrics/recall(B)': 0.63304, 'metrics/mAP50(B)': 0.68156, 'metrics/mAP50-95(B)': 0.46422, 'val/box_loss': 0.2276, 'val/cls_loss': 1.09271, 'val/dfl_loss': 1.16518, 'fitness': 0.48595}\n",
      "\u001b[34m\u001b[1mTuner: \u001b[0mBest fitness model is runs\\obb\\tunning_1024_label50\n",
      "\u001b[34m\u001b[1mTuner: \u001b[0mBest fitness hyperparameters are printed below.\n",
      "\n",
      "Printing '\u001b[1m\u001b[30mruns\\obb\\tune21\\best_hyperparameters.yaml\u001b[0m'\n",
      "\n",
      "lr0: 0.00073\n",
      "lrf: 0.01606\n",
      "momentum: 0.79913\n",
      "weight_decay: 0.00044\n",
      "warmup_epochs: 1.94707\n",
      "warmup_momentum: 0.83285\n",
      "box: 1.27516\n",
      "cls: 0.39286\n",
      "dfl: 1.30704\n",
      "hsv_h: 0.01459\n",
      "hsv_s: 0.89403\n",
      "hsv_v: 0.3757\n",
      "degrees: 0.0\n",
      "translate: 0.05834\n",
      "scale: 0.85199\n",
      "shear: 0.0\n",
      "perspective: 0.0\n",
      "flipud: 0.39599\n",
      "fliplr: 0.37324\n",
      "bgr: 0.0\n",
      "mosaic: 0.72624\n",
      "mixup: 0.0\n",
      "copy_paste: 0.0\n",
      "\n",
      "\u001b[34m\u001b[1mTuner: \u001b[0mStarting iteration 49/100 with hyperparameters: {'lr0': 0.00084, 'lrf': 0.01208, 'momentum': 0.88299, 'weight_decay': 0.00059, 'warmup_epochs': 2.72432, 'warmup_momentum': 0.95, 'box': 1.21724, 'cls': 0.60388, 'dfl': 1.48151, 'hsv_h': 0.01378, 'hsv_s': 0.9, 'hsv_v': 0.4767, 'degrees': 0.0, 'translate': 0.06498, 'scale': 0.89467, 'shear': 0.0, 'perspective': 0.0, 'flipud': 0.4599, 'fliplr': 0.37602, 'bgr': 0.0, 'mosaic': 0.61049, 'mixup': 0.0, 'copy_paste': 0.0}\n",
      "Saved runs\\obb\\tune21\\tune_scatter_plots.png\n",
      "Saved runs\\obb\\tune21\\tune_fitness.png\n",
      "\n",
      "\u001b[34m\u001b[1mTuner: \u001b[0m49/100 iterations complete  (47549.56s)\n",
      "\u001b[34m\u001b[1mTuner: \u001b[0mResults saved to \u001b[1mruns\\obb\\tune21\u001b[0m\n",
      "\u001b[34m\u001b[1mTuner: \u001b[0mBest fitness=0.48595 observed at iteration 48\n",
      "\u001b[34m\u001b[1mTuner: \u001b[0mBest fitness metrics are {'metrics/precision(B)': 0.76015, 'metrics/recall(B)': 0.63304, 'metrics/mAP50(B)': 0.68156, 'metrics/mAP50-95(B)': 0.46422, 'val/box_loss': 0.2276, 'val/cls_loss': 1.09271, 'val/dfl_loss': 1.16518, 'fitness': 0.48595}\n",
      "\u001b[34m\u001b[1mTuner: \u001b[0mBest fitness model is runs\\obb\\tunning_1024_label50\n",
      "\u001b[34m\u001b[1mTuner: \u001b[0mBest fitness hyperparameters are printed below.\n",
      "\n",
      "Printing '\u001b[1m\u001b[30mruns\\obb\\tune21\\best_hyperparameters.yaml\u001b[0m'\n",
      "\n",
      "lr0: 0.00073\n",
      "lrf: 0.01606\n",
      "momentum: 0.79913\n",
      "weight_decay: 0.00044\n",
      "warmup_epochs: 1.94707\n",
      "warmup_momentum: 0.83285\n",
      "box: 1.27516\n",
      "cls: 0.39286\n",
      "dfl: 1.30704\n",
      "hsv_h: 0.01459\n",
      "hsv_s: 0.89403\n",
      "hsv_v: 0.3757\n",
      "degrees: 0.0\n",
      "translate: 0.05834\n",
      "scale: 0.85199\n",
      "shear: 0.0\n",
      "perspective: 0.0\n",
      "flipud: 0.39599\n",
      "fliplr: 0.37324\n",
      "bgr: 0.0\n",
      "mosaic: 0.72624\n",
      "mixup: 0.0\n",
      "copy_paste: 0.0\n",
      "\n",
      "\u001b[34m\u001b[1mTuner: \u001b[0mStarting iteration 50/100 with hyperparameters: {'lr0': 0.00075, 'lrf': 0.01051, 'momentum': 0.90896, 'weight_decay': 0.00058, 'warmup_epochs': 2.35876, 'warmup_momentum': 0.64276, 'box': 1.4223, 'cls': 0.55712, 'dfl': 1.49117, 'hsv_h': 0.01476, 'hsv_s': 0.9, 'hsv_v': 0.48558, 'degrees': 0.0, 'translate': 0.04328, 'scale': 0.63189, 'shear': 0.0, 'perspective': 0.0, 'flipud': 0.56745, 'fliplr': 0.29048, 'bgr': 0.0, 'mosaic': 0.61049, 'mixup': 0.0, 'copy_paste': 0.0}\n",
      "Saved runs\\obb\\tune21\\tune_scatter_plots.png\n",
      "Saved runs\\obb\\tune21\\tune_fitness.png\n",
      "\n",
      "\u001b[34m\u001b[1mTuner: \u001b[0m50/100 iterations complete  (48507.29s)\n",
      "\u001b[34m\u001b[1mTuner: \u001b[0mResults saved to \u001b[1mruns\\obb\\tune21\u001b[0m\n",
      "\u001b[34m\u001b[1mTuner: \u001b[0mBest fitness=0.48599 observed at iteration 50\n",
      "\u001b[34m\u001b[1mTuner: \u001b[0mBest fitness metrics are {'metrics/precision(B)': 0.76042, 'metrics/recall(B)': 0.63187, 'metrics/mAP50(B)': 0.68833, 'metrics/mAP50-95(B)': 0.46351, 'val/box_loss': 0.25755, 'val/cls_loss': 1.49424, 'val/dfl_loss': 1.3377, 'fitness': 0.48599}\n",
      "\u001b[34m\u001b[1mTuner: \u001b[0mBest fitness model is runs\\obb\\tunning_1024_label52\n",
      "\u001b[34m\u001b[1mTuner: \u001b[0mBest fitness hyperparameters are printed below.\n",
      "\n",
      "Printing '\u001b[1m\u001b[30mruns\\obb\\tune21\\best_hyperparameters.yaml\u001b[0m'\n",
      "\n",
      "lr0: 0.00075\n",
      "lrf: 0.01051\n",
      "momentum: 0.90896\n",
      "weight_decay: 0.00058\n",
      "warmup_epochs: 2.35876\n",
      "warmup_momentum: 0.64276\n",
      "box: 1.4223\n",
      "cls: 0.55712\n",
      "dfl: 1.49117\n",
      "hsv_h: 0.01476\n",
      "hsv_s: 0.9\n",
      "hsv_v: 0.48558\n",
      "degrees: 0.0\n",
      "translate: 0.04328\n",
      "scale: 0.63189\n",
      "shear: 0.0\n",
      "perspective: 0.0\n",
      "flipud: 0.56745\n",
      "fliplr: 0.29048\n",
      "bgr: 0.0\n",
      "mosaic: 0.61049\n",
      "mixup: 0.0\n",
      "copy_paste: 0.0\n",
      "\n",
      "\u001b[34m\u001b[1mTuner: \u001b[0mStarting iteration 51/100 with hyperparameters: {'lr0': 0.00074, 'lrf': 0.01425, 'momentum': 0.85704, 'weight_decay': 0.0004, 'warmup_epochs': 1.94707, 'warmup_momentum': 0.74805, 'box': 1.47006, 'cls': 0.29132, 'dfl': 1.41141, 'hsv_h': 0.01459, 'hsv_s': 0.81544, 'hsv_v': 0.40039, 'degrees': 0.0, 'translate': 0.06162, 'scale': 0.91564, 'shear': 0.0, 'perspective': 0.0, 'flipud': 0.35558, 'fliplr': 0.3494, 'bgr': 0.0, 'mosaic': 0.86952, 'mixup': 0.0, 'copy_paste': 0.0}\n",
      "Saved runs\\obb\\tune21\\tune_scatter_plots.png\n",
      "Saved runs\\obb\\tune21\\tune_fitness.png\n",
      "\n",
      "\u001b[34m\u001b[1mTuner: \u001b[0m51/100 iterations complete  (49463.48s)\n",
      "\u001b[34m\u001b[1mTuner: \u001b[0mResults saved to \u001b[1mruns\\obb\\tune21\u001b[0m\n",
      "\u001b[34m\u001b[1mTuner: \u001b[0mBest fitness=0.48599 observed at iteration 50\n",
      "\u001b[34m\u001b[1mTuner: \u001b[0mBest fitness metrics are {'metrics/precision(B)': 0.76042, 'metrics/recall(B)': 0.63187, 'metrics/mAP50(B)': 0.68833, 'metrics/mAP50-95(B)': 0.46351, 'val/box_loss': 0.25755, 'val/cls_loss': 1.49424, 'val/dfl_loss': 1.3377, 'fitness': 0.48599}\n",
      "\u001b[34m\u001b[1mTuner: \u001b[0mBest fitness model is runs\\obb\\tunning_1024_label52\n",
      "\u001b[34m\u001b[1mTuner: \u001b[0mBest fitness hyperparameters are printed below.\n",
      "\n",
      "Printing '\u001b[1m\u001b[30mruns\\obb\\tune21\\best_hyperparameters.yaml\u001b[0m'\n",
      "\n",
      "lr0: 0.00075\n",
      "lrf: 0.01051\n",
      "momentum: 0.90896\n",
      "weight_decay: 0.00058\n",
      "warmup_epochs: 2.35876\n",
      "warmup_momentum: 0.64276\n",
      "box: 1.4223\n",
      "cls: 0.55712\n",
      "dfl: 1.49117\n",
      "hsv_h: 0.01476\n",
      "hsv_s: 0.9\n",
      "hsv_v: 0.48558\n",
      "degrees: 0.0\n",
      "translate: 0.04328\n",
      "scale: 0.63189\n",
      "shear: 0.0\n",
      "perspective: 0.0\n",
      "flipud: 0.56745\n",
      "fliplr: 0.29048\n",
      "bgr: 0.0\n",
      "mosaic: 0.61049\n",
      "mixup: 0.0\n",
      "copy_paste: 0.0\n",
      "\n",
      "\u001b[34m\u001b[1mTuner: \u001b[0mStarting iteration 52/100 with hyperparameters: {'lr0': 0.00084, 'lrf': 0.01779, 'momentum': 0.8062, 'weight_decay': 0.00051, 'warmup_epochs': 2.04077, 'warmup_momentum': 0.61775, 'box': 1.50483, 'cls': 0.36894, 'dfl': 1.101, 'hsv_h': 0.01382, 'hsv_s': 0.8742, 'hsv_v': 0.24714, 'degrees': 0.0, 'translate': 0.07818, 'scale': 0.70824, 'shear': 0.0, 'perspective': 0.0, 'flipud': 0.28181, 'fliplr': 0.36978, 'bgr': 0.0, 'mosaic': 0.70265, 'mixup': 0.0, 'copy_paste': 0.0}\n",
      "Saved runs\\obb\\tune21\\tune_scatter_plots.png\n",
      "Saved runs\\obb\\tune21\\tune_fitness.png\n",
      "\n",
      "\u001b[34m\u001b[1mTuner: \u001b[0m52/100 iterations complete  (50420.87s)\n",
      "\u001b[34m\u001b[1mTuner: \u001b[0mResults saved to \u001b[1mruns\\obb\\tune21\u001b[0m\n",
      "\u001b[34m\u001b[1mTuner: \u001b[0mBest fitness=0.49614 observed at iteration 52\n",
      "\u001b[34m\u001b[1mTuner: \u001b[0mBest fitness metrics are {'metrics/precision(B)': 0.73716, 'metrics/recall(B)': 0.63528, 'metrics/mAP50(B)': 0.67969, 'metrics/mAP50-95(B)': 0.47575, 'val/box_loss': 0.2645, 'val/cls_loss': 0.97007, 'val/dfl_loss': 1.00078, 'fitness': 0.49614}\n",
      "\u001b[34m\u001b[1mTuner: \u001b[0mBest fitness model is runs\\obb\\tunning_1024_label54\n",
      "\u001b[34m\u001b[1mTuner: \u001b[0mBest fitness hyperparameters are printed below.\n",
      "\n",
      "Printing '\u001b[1m\u001b[30mruns\\obb\\tune21\\best_hyperparameters.yaml\u001b[0m'\n",
      "\n",
      "lr0: 0.00084\n",
      "lrf: 0.01779\n",
      "momentum: 0.8062\n",
      "weight_decay: 0.00051\n",
      "warmup_epochs: 2.04077\n",
      "warmup_momentum: 0.61775\n",
      "box: 1.50483\n",
      "cls: 0.36894\n",
      "dfl: 1.101\n",
      "hsv_h: 0.01382\n",
      "hsv_s: 0.8742\n",
      "hsv_v: 0.24714\n",
      "degrees: 0.0\n",
      "translate: 0.07818\n",
      "scale: 0.70824\n",
      "shear: 0.0\n",
      "perspective: 0.0\n",
      "flipud: 0.28181\n",
      "fliplr: 0.36978\n",
      "bgr: 0.0\n",
      "mosaic: 0.70265\n",
      "mixup: 0.0\n",
      "copy_paste: 0.0\n",
      "\n",
      "\u001b[34m\u001b[1mTuner: \u001b[0mStarting iteration 53/100 with hyperparameters: {'lr0': 0.00077, 'lrf': 0.00962, 'momentum': 0.90896, 'weight_decay': 0.00061, 'warmup_epochs': 2.35876, 'warmup_momentum': 0.71064, 'box': 1.5102, 'cls': 0.52732, 'dfl': 1.49117, 'hsv_h': 0.01457, 'hsv_s': 0.9, 'hsv_v': 0.48558, 'degrees': 0.0, 'translate': 0.04328, 'scale': 0.63649, 'shear': 0.0, 'perspective': 0.0, 'flipud': 0.53481, 'fliplr': 0.29048, 'bgr': 0.0, 'mosaic': 0.63139, 'mixup': 0.0, 'copy_paste': 0.0}\n",
      "Saved runs\\obb\\tune21\\tune_scatter_plots.png\n",
      "Saved runs\\obb\\tune21\\tune_fitness.png\n",
      "\n",
      "\u001b[34m\u001b[1mTuner: \u001b[0m53/100 iterations complete  (51386.26s)\n",
      "\u001b[34m\u001b[1mTuner: \u001b[0mResults saved to \u001b[1mruns\\obb\\tune21\u001b[0m\n",
      "\u001b[34m\u001b[1mTuner: \u001b[0mBest fitness=0.49614 observed at iteration 52\n",
      "\u001b[34m\u001b[1mTuner: \u001b[0mBest fitness metrics are {'metrics/precision(B)': 0.73716, 'metrics/recall(B)': 0.63528, 'metrics/mAP50(B)': 0.67969, 'metrics/mAP50-95(B)': 0.47575, 'val/box_loss': 0.2645, 'val/cls_loss': 0.97007, 'val/dfl_loss': 1.00078, 'fitness': 0.49614}\n",
      "\u001b[34m\u001b[1mTuner: \u001b[0mBest fitness model is runs\\obb\\tunning_1024_label54\n",
      "\u001b[34m\u001b[1mTuner: \u001b[0mBest fitness hyperparameters are printed below.\n",
      "\n",
      "Printing '\u001b[1m\u001b[30mruns\\obb\\tune21\\best_hyperparameters.yaml\u001b[0m'\n",
      "\n",
      "lr0: 0.00084\n",
      "lrf: 0.01779\n",
      "momentum: 0.8062\n",
      "weight_decay: 0.00051\n",
      "warmup_epochs: 2.04077\n",
      "warmup_momentum: 0.61775\n",
      "box: 1.50483\n",
      "cls: 0.36894\n",
      "dfl: 1.101\n",
      "hsv_h: 0.01382\n",
      "hsv_s: 0.8742\n",
      "hsv_v: 0.24714\n",
      "degrees: 0.0\n",
      "translate: 0.07818\n",
      "scale: 0.70824\n",
      "shear: 0.0\n",
      "perspective: 0.0\n",
      "flipud: 0.28181\n",
      "fliplr: 0.36978\n",
      "bgr: 0.0\n",
      "mosaic: 0.70265\n",
      "mixup: 0.0\n",
      "copy_paste: 0.0\n",
      "\n",
      "\u001b[34m\u001b[1mTuner: \u001b[0mStarting iteration 54/100 with hyperparameters: {'lr0': 0.00041, 'lrf': 0.01195, 'momentum': 0.86254, 'weight_decay': 0.0005, 'warmup_epochs': 2.42034, 'warmup_momentum': 0.69721, 'box': 1.43806, 'cls': 0.62295, 'dfl': 2.20005, 'hsv_h': 0.01648, 'hsv_s': 0.9, 'hsv_v': 0.48558, 'degrees': 0.0, 'translate': 0.04328, 'scale': 0.69808, 'shear': 0.0, 'perspective': 0.0, 'flipud': 0.56745, 'fliplr': 0.24855, 'bgr': 0.0, 'mosaic': 0.61049, 'mixup': 0.0, 'copy_paste': 0.0}\n"
     ]
    }
   ],
   "source": [
    "# 하이퍼 파라미터 튜닝\n",
    "from ultralytics import YOLO\n",
    "model = YOLO(\"yolo11x-obb.pt\")\n",
    "args = {\n",
    "    \"box\": 0.8,\n",
    "    \"cls\": 0.5,\n",
    "    \"lr0\": 0.001,\n",
    "    \"momentum\": 0.937,\n",
    "    \"weight_decay\": 0.0005,\n",
    "    \"warmup_epochs\": 3.0,\n",
    "    \"warmup_momentum\": 0.8,\n",
    "    \"warmup_bias_lr\": 0.1,\n",
    "    \"hsv_h\": 0.015,\n",
    "    \"hsv_s\": 0.7,\n",
    "    \"hsv_v\": 0.4,\n",
    "    \"degrees\": 0.0,\n",
    "    \"translate\": 0.1,\n",
    "    \"scale\": 0.92,\n",
    "    \"shear\": 0.0,\n",
    "    \"perspective\": 0.0,\n",
    "    \"flipud\": 0.5,\n",
    "    \"fliplr\": 0.5,\n",
    "    \"mosaic\": 1.0,\n",
    "    \"mixup\": 0.0,\n",
    "    \"copy_paste\": 0.0,\n",
    "    \"label_smoothing\":0.1\n",
    "}\n",
    "\n",
    "model.tune(\n",
    "    data = \"data_com.yaml\", \n",
    "    epochs = 10, \n",
    "    imgsz = 1024, \n",
    "    batch=2, \n",
    "    device = \"cuda:0\", \n",
    "    # cfg = \"runs/obb/tune4/best_hyperparameters.yaml\",\n",
    "    iterations=100, \n",
    "    optimizer=\"AdamW\", \n",
    "    name =\"tunning_1024_label\", \n",
    "    **args, \n",
    "    # label_smoothing = 0.3,\n",
    "    )"
   ]
  },
  {
   "cell_type": "code",
   "execution_count": 1,
   "metadata": {},
   "outputs": [
    {
     "name": "stdout",
     "output_type": "stream",
     "text": [
      "New https://pypi.org/project/ultralytics/8.3.18 available  Update with 'pip install -U ultralytics'\n",
      "Ultralytics 8.3.16  Python-3.12.7 torch-2.4.1+cu121 CUDA:0 (NVIDIA GeForce RTX 4070 Ti, 12282MiB)\n",
      "\u001b[34m\u001b[1mengine\\trainer: \u001b[0mtask=obb, mode=train, model=yolo11x-obb.pt, data=data_com.yaml, epochs=500, time=None, patience=18, batch=4, imgsz=768, save=True, save_period=-1, cache=False, device=0, workers=8, project=None, name=x_s768_bgr05_scale09_box8, exist_ok=False, pretrained=True, optimizer=AdamW, verbose=True, seed=0, deterministic=True, single_cls=False, rect=False, cos_lr=False, close_mosaic=10, resume=False, amp=True, fraction=1.0, profile=False, freeze=None, multi_scale=False, overlap_mask=True, mask_ratio=4, dropout=0.35, val=True, split=val, save_json=False, save_hybrid=False, conf=None, iou=0.7, max_det=300, half=False, dnn=False, plots=True, source=None, vid_stride=1, stream_buffer=False, visualize=False, augment=False, agnostic_nms=False, classes=None, retina_masks=False, embed=None, show=False, save_frames=False, save_txt=False, save_conf=False, save_crop=False, show_labels=True, show_conf=True, show_boxes=True, line_width=None, format=torchscript, keras=False, optimize=False, int8=False, dynamic=False, simplify=True, opset=None, workspace=4, nms=False, lr0=0.00333, lrf=0.00305, momentum=0.7, weight_decay=0.00049, warmup_epochs=4.78773, warmup_momentum=0.86096, warmup_bias_lr=0.1, box=8.83147, cls=0.55571, dfl=1.72141, pose=12.0, kobj=1.0, label_smoothing=0.0, nbs=64, hsv_h=0.01527, hsv_s=0.68368, hsv_v=0.35707, degrees=0.0, translate=0.11826, scale=0.9, shear=0.0, perspective=0.0, flipud=0.65733, fliplr=0.44244, bgr=0.7538, mosaic=0.9319, mixup=0.0, copy_paste=0.0, copy_paste_mode=flip, auto_augment=randaugment, erasing=0.4, crop_fraction=1.0, cfg=None, tracker=botsort.yaml, save_dir=runs\\obb\\x_s768_bgr05_scale09_box8\n",
      "Overriding model.yaml nc=80 with nc=2\n",
      "\n",
      "                   from  n    params  module                                       arguments                     \n",
      "  0                  -1  1      2784  ultralytics.nn.modules.conv.Conv             [3, 96, 3, 2]                 \n",
      "  1                  -1  1    166272  ultralytics.nn.modules.conv.Conv             [96, 192, 3, 2]               \n",
      "  2                  -1  2    389760  ultralytics.nn.modules.block.C3k2            [192, 384, 2, True, 0.25]     \n",
      "  3                  -1  1   1327872  ultralytics.nn.modules.conv.Conv             [384, 384, 3, 2]              \n",
      "  4                  -1  2   1553664  ultralytics.nn.modules.block.C3k2            [384, 768, 2, True, 0.25]     \n",
      "  5                  -1  1   5309952  ultralytics.nn.modules.conv.Conv             [768, 768, 3, 2]              \n",
      "  6                  -1  2   5022720  ultralytics.nn.modules.block.C3k2            [768, 768, 2, True]           \n",
      "  7                  -1  1   5309952  ultralytics.nn.modules.conv.Conv             [768, 768, 3, 2]              \n",
      "  8                  -1  2   5022720  ultralytics.nn.modules.block.C3k2            [768, 768, 2, True]           \n",
      "  9                  -1  1   1476864  ultralytics.nn.modules.block.SPPF            [768, 768, 5]                 \n",
      " 10                  -1  2   3264768  ultralytics.nn.modules.block.C2PSA           [768, 768, 2]                 \n",
      " 11                  -1  1         0  torch.nn.modules.upsampling.Upsample         [None, 2, 'nearest']          \n",
      " 12             [-1, 6]  1         0  ultralytics.nn.modules.conv.Concat           [1]                           \n",
      " 13                  -1  2   5612544  ultralytics.nn.modules.block.C3k2            [1536, 768, 2, True]          \n",
      " 14                  -1  1         0  torch.nn.modules.upsampling.Upsample         [None, 2, 'nearest']          \n",
      " 15             [-1, 4]  1         0  ultralytics.nn.modules.conv.Concat           [1]                           \n",
      " 16                  -1  2   1700352  ultralytics.nn.modules.block.C3k2            [1536, 384, 2, True]          \n",
      " 17                  -1  1   1327872  ultralytics.nn.modules.conv.Conv             [384, 384, 3, 2]              \n",
      " 18            [-1, 13]  1         0  ultralytics.nn.modules.conv.Concat           [1]                           \n",
      " 19                  -1  2   5317632  ultralytics.nn.modules.block.C3k2            [1152, 768, 2, True]          \n",
      " 20                  -1  1   5309952  ultralytics.nn.modules.conv.Conv             [768, 768, 3, 2]              \n",
      " 21            [-1, 10]  1         0  ultralytics.nn.modules.conv.Concat           [1]                           \n",
      " 22                  -1  2   5612544  ultralytics.nn.modules.block.C3k2            [1536, 768, 2, True]          \n",
      " 23        [16, 19, 22]  1   5057017  ultralytics.nn.modules.head.OBB              [2, 1, [384, 768, 768]]       \n",
      "YOLO11x-obb summary: 656 layers, 58,785,241 parameters, 58,785,225 gradients, 203.8 GFLOPs\n",
      "\n",
      "Transferred 1051/1057 items from pretrained weights\n"
     ]
    },
    {
     "name": "stderr",
     "output_type": "stream",
     "text": [
      "\u001b[34m\u001b[1mwandb\u001b[0m: Using wandb-core as the SDK backend. Please refer to https://wandb.me/wandb-core for more information.\n",
      "\u001b[34m\u001b[1mwandb\u001b[0m: Currently logged in as: \u001b[33mwoow070840\u001b[0m (\u001b[33mwaooang\u001b[0m). Use \u001b[1m`wandb login --relogin`\u001b[0m to force relogin\n"
     ]
    },
    {
     "data": {
      "text/html": [
       "Tracking run with wandb version 0.18.3"
      ],
      "text/plain": [
       "<IPython.core.display.HTML object>"
      ]
     },
     "metadata": {},
     "output_type": "display_data"
    },
    {
     "data": {
      "text/html": [
       "Run data is saved locally in <code>e:\\Workspace\\SatellieteIMGDetection\\wandb\\run-20241020_123908-6a0dguch</code>"
      ],
      "text/plain": [
       "<IPython.core.display.HTML object>"
      ]
     },
     "metadata": {},
     "output_type": "display_data"
    },
    {
     "data": {
      "text/html": [
       "Syncing run <strong><a href='https://wandb.ai/waooang/Ultralytics/runs/6a0dguch' target=\"_blank\">x_s768_bgr05_scale09_box8</a></strong> to <a href='https://wandb.ai/waooang/Ultralytics' target=\"_blank\">Weights & Biases</a> (<a href='https://wandb.me/run' target=\"_blank\">docs</a>)<br/>"
      ],
      "text/plain": [
       "<IPython.core.display.HTML object>"
      ]
     },
     "metadata": {},
     "output_type": "display_data"
    },
    {
     "data": {
      "text/html": [
       " View project at <a href='https://wandb.ai/waooang/Ultralytics' target=\"_blank\">https://wandb.ai/waooang/Ultralytics</a>"
      ],
      "text/plain": [
       "<IPython.core.display.HTML object>"
      ]
     },
     "metadata": {},
     "output_type": "display_data"
    },
    {
     "data": {
      "text/html": [
       " View run at <a href='https://wandb.ai/waooang/Ultralytics/runs/6a0dguch' target=\"_blank\">https://wandb.ai/waooang/Ultralytics/runs/6a0dguch</a>"
      ],
      "text/plain": [
       "<IPython.core.display.HTML object>"
      ]
     },
     "metadata": {},
     "output_type": "display_data"
    },
    {
     "name": "stdout",
     "output_type": "stream",
     "text": [
      "Freezing layer 'model.23.dfl.conv.weight'\n",
      "\u001b[34m\u001b[1mAMP: \u001b[0mrunning Automatic Mixed Precision (AMP) checks with YOLO11n...\n",
      "\u001b[34m\u001b[1mAMP: \u001b[0mchecks passed \n"
     ]
    },
    {
     "name": "stderr",
     "output_type": "stream",
     "text": [
      "\u001b[34m\u001b[1mtrain: \u001b[0mScanning E:\\Workspace\\SatellieteIMGDetection\\datasets\\labels\\train.cache... 876 images, 140 backgrounds, 0 corrupt: 100%|██████████| 876/876 [00:00<?, ?it/s]\n",
      "\u001b[34m\u001b[1mval: \u001b[0mScanning E:\\Workspace\\SatellieteIMGDetection\\datasets\\labels\\val.cache... 92 images, 0 backgrounds, 0 corrupt: 100%|██████████| 92/92 [00:00<?, ?it/s]\n"
     ]
    },
    {
     "name": "stdout",
     "output_type": "stream",
     "text": [
      "Plotting labels to runs\\obb\\x_s768_bgr05_scale09_box8\\labels.jpg... \n",
      "\u001b[34m\u001b[1moptimizer:\u001b[0m AdamW(lr=0.00333, momentum=0.7) with parameter groups 173 weight(decay=0.0), 183 weight(decay=0.00049), 182 bias(decay=0.0)\n",
      "Image sizes 768 train, 768 val\n",
      "Using 8 dataloader workers\n",
      "Logging results to \u001b[1mruns\\obb\\x_s768_bgr05_scale09_box8\u001b[0m\n",
      "Starting training for 500 epochs...\n",
      "\n",
      "      Epoch    GPU_mem   box_loss   cls_loss   dfl_loss  Instances       Size\n"
     ]
    },
    {
     "name": "stderr",
     "output_type": "stream",
     "text": [
      "      1/500      9.61G       2.18      2.554      1.718         67        768: 100%|██████████| 219/219 [00:46<00:00,  4.75it/s]\n",
      "                 Class     Images  Instances      Box(P          R      mAP50  mAP50-95): 100%|██████████| 23/23 [00:02<00:00,  9.39it/s]"
     ]
    },
    {
     "name": "stdout",
     "output_type": "stream",
     "text": [
      "                   all         92       4910      0.455      0.361       0.36      0.219\n"
     ]
    },
    {
     "name": "stderr",
     "output_type": "stream",
     "text": [
      "\n"
     ]
    },
    {
     "name": "stdout",
     "output_type": "stream",
     "text": [
      "\n",
      "      Epoch    GPU_mem   box_loss   cls_loss   dfl_loss  Instances       Size\n"
     ]
    },
    {
     "name": "stderr",
     "output_type": "stream",
     "text": [
      "      2/500      8.96G      2.337      2.341      1.792        174        768: 100%|██████████| 219/219 [00:41<00:00,  5.22it/s]\n",
      "                 Class     Images  Instances      Box(P          R      mAP50  mAP50-95): 100%|██████████| 23/23 [00:02<00:00, 10.60it/s]\n"
     ]
    },
    {
     "name": "stdout",
     "output_type": "stream",
     "text": [
      "                   all         92       4910      0.629      0.421      0.473      0.264\n",
      "\n",
      "      Epoch    GPU_mem   box_loss   cls_loss   dfl_loss  Instances       Size\n"
     ]
    },
    {
     "name": "stderr",
     "output_type": "stream",
     "text": [
      "      3/500       9.4G      2.458      2.587      1.912        150        768: 100%|██████████| 219/219 [00:41<00:00,  5.30it/s]\n",
      "                 Class     Images  Instances      Box(P          R      mAP50  mAP50-95): 100%|██████████| 23/23 [00:02<00:00,  9.53it/s]"
     ]
    },
    {
     "name": "stdout",
     "output_type": "stream",
     "text": [
      "                   all         92       4910      0.582      0.417      0.427      0.243\n"
     ]
    },
    {
     "name": "stderr",
     "output_type": "stream",
     "text": [
      "\n"
     ]
    },
    {
     "name": "stdout",
     "output_type": "stream",
     "text": [
      "\n",
      "      Epoch    GPU_mem   box_loss   cls_loss   dfl_loss  Instances       Size\n"
     ]
    },
    {
     "name": "stderr",
     "output_type": "stream",
     "text": [
      "      4/500      7.94G      2.567      2.425      1.963        106        768: 100%|██████████| 219/219 [00:40<00:00,  5.37it/s]\n",
      "                 Class     Images  Instances      Box(P          R      mAP50  mAP50-95): 100%|██████████| 23/23 [00:02<00:00,  9.65it/s]\n"
     ]
    },
    {
     "name": "stdout",
     "output_type": "stream",
     "text": [
      "                   all         92       4910      0.527      0.391       0.38      0.198\n",
      "\n",
      "      Epoch    GPU_mem   box_loss   cls_loss   dfl_loss  Instances       Size\n"
     ]
    },
    {
     "name": "stderr",
     "output_type": "stream",
     "text": [
      "      5/500      9.53G      2.447       2.68      1.917        187        768: 100%|██████████| 219/219 [00:41<00:00,  5.33it/s]\n",
      "                 Class     Images  Instances      Box(P          R      mAP50  mAP50-95): 100%|██████████| 23/23 [00:03<00:00,  7.58it/s]"
     ]
    },
    {
     "name": "stdout",
     "output_type": "stream",
     "text": [
      "                   all         92       4910      0.312      0.393      0.316      0.174\n"
     ]
    },
    {
     "name": "stderr",
     "output_type": "stream",
     "text": [
      "\n"
     ]
    },
    {
     "name": "stdout",
     "output_type": "stream",
     "text": [
      "\n",
      "      Epoch    GPU_mem   box_loss   cls_loss   dfl_loss  Instances       Size\n"
     ]
    },
    {
     "name": "stderr",
     "output_type": "stream",
     "text": [
      "      6/500      8.58G      2.397      2.307        1.9        598        768: 100%|██████████| 219/219 [00:40<00:00,  5.40it/s]\n",
      "                 Class     Images  Instances      Box(P          R      mAP50  mAP50-95): 100%|██████████| 23/23 [00:02<00:00, 10.13it/s]\n"
     ]
    },
    {
     "name": "stdout",
     "output_type": "stream",
     "text": [
      "                   all         92       4910      0.568      0.432      0.427      0.244\n",
      "\n",
      "      Epoch    GPU_mem   box_loss   cls_loss   dfl_loss  Instances       Size\n"
     ]
    },
    {
     "name": "stderr",
     "output_type": "stream",
     "text": [
      "      7/500      8.03G      2.463      2.284      1.923        224        768: 100%|██████████| 219/219 [00:40<00:00,  5.40it/s]\n",
      "                 Class     Images  Instances      Box(P          R      mAP50  mAP50-95): 100%|██████████| 23/23 [00:02<00:00, 10.13it/s]"
     ]
    },
    {
     "name": "stdout",
     "output_type": "stream",
     "text": [
      "                   all         92       4910      0.534      0.368       0.38      0.205\n"
     ]
    },
    {
     "name": "stderr",
     "output_type": "stream",
     "text": [
      "\n"
     ]
    },
    {
     "name": "stdout",
     "output_type": "stream",
     "text": [
      "\n",
      "      Epoch    GPU_mem   box_loss   cls_loss   dfl_loss  Instances       Size\n"
     ]
    },
    {
     "name": "stderr",
     "output_type": "stream",
     "text": [
      "      8/500      8.99G      2.435      2.406      1.923         29        768: 100%|██████████| 219/219 [00:40<00:00,  5.38it/s]\n",
      "                 Class     Images  Instances      Box(P          R      mAP50  mAP50-95): 100%|██████████| 23/23 [00:02<00:00, 10.82it/s]\n"
     ]
    },
    {
     "name": "stdout",
     "output_type": "stream",
     "text": [
      "                   all         92       4910      0.511      0.359      0.355      0.194\n",
      "\n",
      "      Epoch    GPU_mem   box_loss   cls_loss   dfl_loss  Instances       Size\n"
     ]
    },
    {
     "name": "stderr",
     "output_type": "stream",
     "text": [
      "      9/500      8.88G      2.271      2.178      1.838         38        768: 100%|██████████| 219/219 [00:40<00:00,  5.38it/s]\n",
      "                 Class     Images  Instances      Box(P          R      mAP50  mAP50-95): 100%|██████████| 23/23 [00:02<00:00, 10.70it/s]\n"
     ]
    },
    {
     "name": "stdout",
     "output_type": "stream",
     "text": [
      "                   all         92       4910      0.481      0.484      0.414      0.239\n",
      "\n",
      "      Epoch    GPU_mem   box_loss   cls_loss   dfl_loss  Instances       Size\n"
     ]
    },
    {
     "name": "stderr",
     "output_type": "stream",
     "text": [
      "     10/500      9.15G      2.167      2.092      1.846         88        768: 100%|██████████| 219/219 [00:40<00:00,  5.38it/s]\n",
      "                 Class     Images  Instances      Box(P          R      mAP50  mAP50-95): 100%|██████████| 23/23 [00:02<00:00, 10.53it/s]"
     ]
    },
    {
     "name": "stdout",
     "output_type": "stream",
     "text": [
      "                   all         92       4910      0.568      0.406      0.443       0.26\n"
     ]
    },
    {
     "name": "stderr",
     "output_type": "stream",
     "text": [
      "\n"
     ]
    },
    {
     "name": "stdout",
     "output_type": "stream",
     "text": [
      "\n",
      "      Epoch    GPU_mem   box_loss   cls_loss   dfl_loss  Instances       Size\n"
     ]
    },
    {
     "name": "stderr",
     "output_type": "stream",
     "text": [
      "     11/500      9.11G      2.208      2.074      1.819       1449        768: 100%|██████████| 219/219 [00:40<00:00,  5.37it/s]\n",
      "                 Class     Images  Instances      Box(P          R      mAP50  mAP50-95): 100%|██████████| 23/23 [00:02<00:00,  9.43it/s]"
     ]
    },
    {
     "name": "stdout",
     "output_type": "stream",
     "text": [
      "                   all         92       4910      0.599      0.491      0.472      0.272\n"
     ]
    },
    {
     "name": "stderr",
     "output_type": "stream",
     "text": [
      "\n"
     ]
    },
    {
     "name": "stdout",
     "output_type": "stream",
     "text": [
      "\n",
      "      Epoch    GPU_mem   box_loss   cls_loss   dfl_loss  Instances       Size\n"
     ]
    },
    {
     "name": "stderr",
     "output_type": "stream",
     "text": [
      "     12/500      9.45G      2.198      2.094      1.802        375        768: 100%|██████████| 219/219 [00:41<00:00,  5.31it/s]\n",
      "                 Class     Images  Instances      Box(P          R      mAP50  mAP50-95): 100%|██████████| 23/23 [00:02<00:00, 10.87it/s]"
     ]
    },
    {
     "name": "stdout",
     "output_type": "stream",
     "text": [
      "                   all         92       4910      0.626      0.448      0.483      0.294\n"
     ]
    },
    {
     "name": "stderr",
     "output_type": "stream",
     "text": [
      "\n"
     ]
    },
    {
     "name": "stdout",
     "output_type": "stream",
     "text": [
      "\n",
      "      Epoch    GPU_mem   box_loss   cls_loss   dfl_loss  Instances       Size\n"
     ]
    },
    {
     "name": "stderr",
     "output_type": "stream",
     "text": [
      "     13/500      10.5G       2.21      2.073      1.839       1322        768: 100%|██████████| 219/219 [00:40<00:00,  5.38it/s]\n",
      "                 Class     Images  Instances      Box(P          R      mAP50  mAP50-95): 100%|██████████| 23/23 [00:03<00:00,  6.67it/s]"
     ]
    },
    {
     "name": "stdout",
     "output_type": "stream",
     "text": [
      "                   all         92       4910       0.62      0.494      0.495      0.298\n"
     ]
    },
    {
     "name": "stderr",
     "output_type": "stream",
     "text": [
      "\n"
     ]
    },
    {
     "name": "stdout",
     "output_type": "stream",
     "text": [
      "\n",
      "      Epoch    GPU_mem   box_loss   cls_loss   dfl_loss  Instances       Size\n"
     ]
    },
    {
     "name": "stderr",
     "output_type": "stream",
     "text": [
      "     14/500      8.95G      2.261      2.018      1.845         26        768: 100%|██████████| 219/219 [00:41<00:00,  5.34it/s]\n",
      "                 Class     Images  Instances      Box(P          R      mAP50  mAP50-95): 100%|██████████| 23/23 [00:02<00:00,  9.86it/s]"
     ]
    },
    {
     "name": "stdout",
     "output_type": "stream",
     "text": [
      "                   all         92       4910      0.639      0.419       0.45      0.255\n"
     ]
    },
    {
     "name": "stderr",
     "output_type": "stream",
     "text": [
      "\n"
     ]
    },
    {
     "name": "stdout",
     "output_type": "stream",
     "text": [
      "\n",
      "      Epoch    GPU_mem   box_loss   cls_loss   dfl_loss  Instances       Size\n"
     ]
    },
    {
     "name": "stderr",
     "output_type": "stream",
     "text": [
      "     15/500      9.49G      2.273      2.061      1.868        272        768: 100%|██████████| 219/219 [00:40<00:00,  5.39it/s]\n",
      "                 Class     Images  Instances      Box(P          R      mAP50  mAP50-95): 100%|██████████| 23/23 [00:02<00:00, 10.49it/s]"
     ]
    },
    {
     "name": "stdout",
     "output_type": "stream",
     "text": [
      "                   all         92       4910      0.589      0.457      0.467      0.274\n"
     ]
    },
    {
     "name": "stderr",
     "output_type": "stream",
     "text": [
      "\n"
     ]
    },
    {
     "name": "stdout",
     "output_type": "stream",
     "text": [
      "\n",
      "      Epoch    GPU_mem   box_loss   cls_loss   dfl_loss  Instances       Size\n"
     ]
    },
    {
     "name": "stderr",
     "output_type": "stream",
     "text": [
      "     16/500      10.2G      2.157      2.259      1.821        139        768: 100%|██████████| 219/219 [00:40<00:00,  5.41it/s]\n",
      "                 Class     Images  Instances      Box(P          R      mAP50  mAP50-95): 100%|██████████| 23/23 [00:02<00:00, 10.88it/s]"
     ]
    },
    {
     "name": "stdout",
     "output_type": "stream",
     "text": [
      "                   all         92       4910       0.58      0.466      0.475      0.284\n"
     ]
    },
    {
     "name": "stderr",
     "output_type": "stream",
     "text": [
      "\n"
     ]
    },
    {
     "name": "stdout",
     "output_type": "stream",
     "text": [
      "\n",
      "      Epoch    GPU_mem   box_loss   cls_loss   dfl_loss  Instances       Size\n"
     ]
    },
    {
     "name": "stderr",
     "output_type": "stream",
     "text": [
      "     17/500        10G      2.107       2.01      1.756         36        768: 100%|██████████| 219/219 [00:40<00:00,  5.42it/s]\n",
      "                 Class     Images  Instances      Box(P          R      mAP50  mAP50-95): 100%|██████████| 23/23 [00:02<00:00, 10.40it/s]"
     ]
    },
    {
     "name": "stdout",
     "output_type": "stream",
     "text": [
      "                   all         92       4910      0.557      0.496      0.493      0.302\n"
     ]
    },
    {
     "name": "stderr",
     "output_type": "stream",
     "text": [
      "\n"
     ]
    },
    {
     "name": "stdout",
     "output_type": "stream",
     "text": [
      "\n",
      "      Epoch    GPU_mem   box_loss   cls_loss   dfl_loss  Instances       Size\n"
     ]
    },
    {
     "name": "stderr",
     "output_type": "stream",
     "text": [
      "     18/500      9.47G      2.028      1.875      1.743        194        768: 100%|██████████| 219/219 [00:40<00:00,  5.41it/s]\n",
      "                 Class     Images  Instances      Box(P          R      mAP50  mAP50-95): 100%|██████████| 23/23 [00:02<00:00, 11.20it/s]"
     ]
    },
    {
     "name": "stdout",
     "output_type": "stream",
     "text": [
      "                   all         92       4910      0.589      0.433      0.464      0.278\n"
     ]
    },
    {
     "name": "stderr",
     "output_type": "stream",
     "text": [
      "\n"
     ]
    },
    {
     "name": "stdout",
     "output_type": "stream",
     "text": [
      "\n",
      "      Epoch    GPU_mem   box_loss   cls_loss   dfl_loss  Instances       Size\n"
     ]
    },
    {
     "name": "stderr",
     "output_type": "stream",
     "text": [
      "     19/500      9.87G      2.084      2.173      1.744         53        768: 100%|██████████| 219/219 [00:40<00:00,  5.41it/s]\n",
      "                 Class     Images  Instances      Box(P          R      mAP50  mAP50-95): 100%|██████████| 23/23 [00:02<00:00, 10.95it/s]"
     ]
    },
    {
     "name": "stdout",
     "output_type": "stream",
     "text": [
      "                   all         92       4910      0.544      0.417      0.404      0.237\n"
     ]
    },
    {
     "name": "stderr",
     "output_type": "stream",
     "text": [
      "\n"
     ]
    },
    {
     "name": "stdout",
     "output_type": "stream",
     "text": [
      "\n",
      "      Epoch    GPU_mem   box_loss   cls_loss   dfl_loss  Instances       Size\n"
     ]
    },
    {
     "name": "stderr",
     "output_type": "stream",
     "text": [
      "     20/500      9.25G      2.086      2.128      1.794        234        768: 100%|██████████| 219/219 [00:40<00:00,  5.41it/s]\n",
      "                 Class     Images  Instances      Box(P          R      mAP50  mAP50-95): 100%|██████████| 23/23 [00:02<00:00, 10.03it/s]\n"
     ]
    },
    {
     "name": "stdout",
     "output_type": "stream",
     "text": [
      "                   all         92       4910      0.629      0.485      0.504      0.314\n",
      "\n",
      "      Epoch    GPU_mem   box_loss   cls_loss   dfl_loss  Instances       Size\n"
     ]
    },
    {
     "name": "stderr",
     "output_type": "stream",
     "text": [
      "     21/500      9.41G      2.078      1.875      1.717         71        768: 100%|██████████| 219/219 [00:40<00:00,  5.41it/s]\n",
      "                 Class     Images  Instances      Box(P          R      mAP50  mAP50-95): 100%|██████████| 23/23 [00:02<00:00, 10.53it/s]"
     ]
    },
    {
     "name": "stdout",
     "output_type": "stream",
     "text": [
      "                   all         92       4910      0.649      0.488      0.534      0.327\n"
     ]
    },
    {
     "name": "stderr",
     "output_type": "stream",
     "text": [
      "\n"
     ]
    },
    {
     "name": "stdout",
     "output_type": "stream",
     "text": [
      "\n",
      "      Epoch    GPU_mem   box_loss   cls_loss   dfl_loss  Instances       Size\n"
     ]
    },
    {
     "name": "stderr",
     "output_type": "stream",
     "text": [
      "     22/500         9G      2.083      1.881       1.76        109        768: 100%|██████████| 219/219 [00:40<00:00,  5.43it/s]\n",
      "                 Class     Images  Instances      Box(P          R      mAP50  mAP50-95): 100%|██████████| 23/23 [00:02<00:00, 10.32it/s]"
     ]
    },
    {
     "name": "stdout",
     "output_type": "stream",
     "text": [
      "                   all         92       4910      0.646       0.46      0.502      0.299\n"
     ]
    },
    {
     "name": "stderr",
     "output_type": "stream",
     "text": [
      "\n"
     ]
    },
    {
     "name": "stdout",
     "output_type": "stream",
     "text": [
      "\n",
      "      Epoch    GPU_mem   box_loss   cls_loss   dfl_loss  Instances       Size\n"
     ]
    },
    {
     "name": "stderr",
     "output_type": "stream",
     "text": [
      "     23/500      9.61G      2.118      1.887      1.755        138        768: 100%|██████████| 219/219 [00:40<00:00,  5.40it/s]\n",
      "                 Class     Images  Instances      Box(P          R      mAP50  mAP50-95): 100%|██████████| 23/23 [00:02<00:00, 10.10it/s]"
     ]
    },
    {
     "name": "stdout",
     "output_type": "stream",
     "text": [
      "                   all         92       4910      0.632      0.535      0.534      0.339\n"
     ]
    },
    {
     "name": "stderr",
     "output_type": "stream",
     "text": [
      "\n"
     ]
    },
    {
     "name": "stdout",
     "output_type": "stream",
     "text": [
      "\n",
      "      Epoch    GPU_mem   box_loss   cls_loss   dfl_loss  Instances       Size\n"
     ]
    },
    {
     "name": "stderr",
     "output_type": "stream",
     "text": [
      "     24/500       9.1G      2.042      1.799      1.766        106        768: 100%|██████████| 219/219 [00:40<00:00,  5.42it/s]\n",
      "                 Class     Images  Instances      Box(P          R      mAP50  mAP50-95): 100%|██████████| 23/23 [00:02<00:00, 10.76it/s]\n"
     ]
    },
    {
     "name": "stdout",
     "output_type": "stream",
     "text": [
      "                   all         92       4910      0.651       0.51      0.554      0.337\n",
      "\n",
      "      Epoch    GPU_mem   box_loss   cls_loss   dfl_loss  Instances       Size\n"
     ]
    },
    {
     "name": "stderr",
     "output_type": "stream",
     "text": [
      "     25/500      8.79G      2.147      2.013      1.803         76        768: 100%|██████████| 219/219 [00:40<00:00,  5.42it/s]\n",
      "                 Class     Images  Instances      Box(P          R      mAP50  mAP50-95): 100%|██████████| 23/23 [00:02<00:00, 10.67it/s]\n"
     ]
    },
    {
     "name": "stdout",
     "output_type": "stream",
     "text": [
      "                   all         92       4910      0.674      0.513      0.544      0.344\n",
      "\n",
      "      Epoch    GPU_mem   box_loss   cls_loss   dfl_loss  Instances       Size\n"
     ]
    },
    {
     "name": "stderr",
     "output_type": "stream",
     "text": [
      "     26/500      8.93G      2.027      1.916      1.787        168        768: 100%|██████████| 219/219 [00:40<00:00,  5.41it/s]\n",
      "                 Class     Images  Instances      Box(P          R      mAP50  mAP50-95): 100%|██████████| 23/23 [00:02<00:00, 10.59it/s]"
     ]
    },
    {
     "name": "stdout",
     "output_type": "stream",
     "text": [
      "                   all         92       4910      0.613      0.498      0.516      0.325\n"
     ]
    },
    {
     "name": "stderr",
     "output_type": "stream",
     "text": [
      "\n"
     ]
    },
    {
     "name": "stdout",
     "output_type": "stream",
     "text": [
      "\n",
      "      Epoch    GPU_mem   box_loss   cls_loss   dfl_loss  Instances       Size\n"
     ]
    },
    {
     "name": "stderr",
     "output_type": "stream",
     "text": [
      "     27/500      8.83G      2.005      1.777      1.764        202        768: 100%|██████████| 219/219 [00:40<00:00,  5.41it/s]\n",
      "                 Class     Images  Instances      Box(P          R      mAP50  mAP50-95): 100%|██████████| 23/23 [00:02<00:00, 11.07it/s]"
     ]
    },
    {
     "name": "stdout",
     "output_type": "stream",
     "text": [
      "                   all         92       4910      0.661      0.478      0.525      0.326\n"
     ]
    },
    {
     "name": "stderr",
     "output_type": "stream",
     "text": [
      "\n"
     ]
    },
    {
     "name": "stdout",
     "output_type": "stream",
     "text": [
      "\n",
      "      Epoch    GPU_mem   box_loss   cls_loss   dfl_loss  Instances       Size\n"
     ]
    },
    {
     "name": "stderr",
     "output_type": "stream",
     "text": [
      "     28/500      8.85G      2.015       1.72      1.753        404        768: 100%|██████████| 219/219 [00:40<00:00,  5.38it/s]\n",
      "                 Class     Images  Instances      Box(P          R      mAP50  mAP50-95): 100%|██████████| 23/23 [00:02<00:00, 11.16it/s]\n"
     ]
    },
    {
     "name": "stdout",
     "output_type": "stream",
     "text": [
      "                   all         92       4910      0.613      0.514      0.511      0.324\n",
      "\n",
      "      Epoch    GPU_mem   box_loss   cls_loss   dfl_loss  Instances       Size\n"
     ]
    },
    {
     "name": "stderr",
     "output_type": "stream",
     "text": [
      "     29/500       9.1G       1.98      1.801      1.749        293        768: 100%|██████████| 219/219 [00:40<00:00,  5.43it/s]\n",
      "                 Class     Images  Instances      Box(P          R      mAP50  mAP50-95): 100%|██████████| 23/23 [00:02<00:00, 11.00it/s]\n"
     ]
    },
    {
     "name": "stdout",
     "output_type": "stream",
     "text": [
      "                   all         92       4910      0.664      0.518      0.554      0.349\n",
      "\n",
      "      Epoch    GPU_mem   box_loss   cls_loss   dfl_loss  Instances       Size\n"
     ]
    },
    {
     "name": "stderr",
     "output_type": "stream",
     "text": [
      "     30/500       9.4G      1.924      1.686      1.659         90        768: 100%|██████████| 219/219 [00:40<00:00,  5.39it/s]\n",
      "                 Class     Images  Instances      Box(P          R      mAP50  mAP50-95): 100%|██████████| 23/23 [00:02<00:00, 10.91it/s]"
     ]
    },
    {
     "name": "stdout",
     "output_type": "stream",
     "text": [
      "                   all         92       4910      0.674      0.523      0.556      0.346\n"
     ]
    },
    {
     "name": "stderr",
     "output_type": "stream",
     "text": [
      "\n"
     ]
    },
    {
     "name": "stdout",
     "output_type": "stream",
     "text": [
      "\n",
      "      Epoch    GPU_mem   box_loss   cls_loss   dfl_loss  Instances       Size\n"
     ]
    },
    {
     "name": "stderr",
     "output_type": "stream",
     "text": [
      "     31/500      10.6G      1.958      1.752      1.707         86        768: 100%|██████████| 219/219 [00:40<00:00,  5.43it/s]\n",
      "                 Class     Images  Instances      Box(P          R      mAP50  mAP50-95): 100%|██████████| 23/23 [00:02<00:00, 11.17it/s]"
     ]
    },
    {
     "name": "stdout",
     "output_type": "stream",
     "text": [
      "                   all         92       4910      0.629      0.519      0.556      0.349\n"
     ]
    },
    {
     "name": "stderr",
     "output_type": "stream",
     "text": [
      "\n"
     ]
    },
    {
     "name": "stdout",
     "output_type": "stream",
     "text": [
      "\n",
      "      Epoch    GPU_mem   box_loss   cls_loss   dfl_loss  Instances       Size\n"
     ]
    },
    {
     "name": "stderr",
     "output_type": "stream",
     "text": [
      "     32/500      9.15G      1.966      1.784      1.718        613        768: 100%|██████████| 219/219 [00:40<00:00,  5.43it/s]\n",
      "                 Class     Images  Instances      Box(P          R      mAP50  mAP50-95): 100%|██████████| 23/23 [00:02<00:00, 11.19it/s]"
     ]
    },
    {
     "name": "stdout",
     "output_type": "stream",
     "text": [
      "                   all         92       4910      0.637        0.5      0.518      0.323\n"
     ]
    },
    {
     "name": "stderr",
     "output_type": "stream",
     "text": [
      "\n"
     ]
    },
    {
     "name": "stdout",
     "output_type": "stream",
     "text": [
      "\n",
      "      Epoch    GPU_mem   box_loss   cls_loss   dfl_loss  Instances       Size\n"
     ]
    },
    {
     "name": "stderr",
     "output_type": "stream",
     "text": [
      "     33/500      7.98G      1.914      1.692      1.644         13        768: 100%|██████████| 219/219 [00:41<00:00,  5.29it/s]\n",
      "                 Class     Images  Instances      Box(P          R      mAP50  mAP50-95): 100%|██████████| 23/23 [00:02<00:00, 10.83it/s]"
     ]
    },
    {
     "name": "stdout",
     "output_type": "stream",
     "text": [
      "                   all         92       4910      0.662      0.521      0.545       0.34\n"
     ]
    },
    {
     "name": "stderr",
     "output_type": "stream",
     "text": [
      "\n"
     ]
    },
    {
     "name": "stdout",
     "output_type": "stream",
     "text": [
      "\n",
      "      Epoch    GPU_mem   box_loss   cls_loss   dfl_loss  Instances       Size\n"
     ]
    },
    {
     "name": "stderr",
     "output_type": "stream",
     "text": [
      "     34/500      9.08G      1.959      1.687      1.706        262        768: 100%|██████████| 219/219 [00:41<00:00,  5.25it/s]\n",
      "                 Class     Images  Instances      Box(P          R      mAP50  mAP50-95): 100%|██████████| 23/23 [00:02<00:00, 10.51it/s]"
     ]
    },
    {
     "name": "stdout",
     "output_type": "stream",
     "text": [
      "                   all         92       4910      0.667      0.534      0.578      0.374\n"
     ]
    },
    {
     "name": "stderr",
     "output_type": "stream",
     "text": [
      "\n"
     ]
    },
    {
     "name": "stdout",
     "output_type": "stream",
     "text": [
      "\n",
      "      Epoch    GPU_mem   box_loss   cls_loss   dfl_loss  Instances       Size\n"
     ]
    },
    {
     "name": "stderr",
     "output_type": "stream",
     "text": [
      "     35/500      8.61G        1.9      1.752      1.663        145        768: 100%|██████████| 219/219 [00:40<00:00,  5.36it/s]\n",
      "                 Class     Images  Instances      Box(P          R      mAP50  mAP50-95): 100%|██████████| 23/23 [00:02<00:00, 10.86it/s]\n"
     ]
    },
    {
     "name": "stdout",
     "output_type": "stream",
     "text": [
      "                   all         92       4910      0.636       0.54      0.556      0.353\n",
      "\n",
      "      Epoch    GPU_mem   box_loss   cls_loss   dfl_loss  Instances       Size\n"
     ]
    },
    {
     "name": "stderr",
     "output_type": "stream",
     "text": [
      "     36/500      9.99G      1.986      1.779      1.743        430        768: 100%|██████████| 219/219 [00:41<00:00,  5.32it/s]\n",
      "                 Class     Images  Instances      Box(P          R      mAP50  mAP50-95): 100%|██████████| 23/23 [00:02<00:00, 10.80it/s]"
     ]
    },
    {
     "name": "stdout",
     "output_type": "stream",
     "text": [
      "                   all         92       4910      0.638      0.531      0.554      0.345\n"
     ]
    },
    {
     "name": "stderr",
     "output_type": "stream",
     "text": [
      "\n"
     ]
    },
    {
     "name": "stdout",
     "output_type": "stream",
     "text": [
      "\n",
      "      Epoch    GPU_mem   box_loss   cls_loss   dfl_loss  Instances       Size\n"
     ]
    },
    {
     "name": "stderr",
     "output_type": "stream",
     "text": [
      "     37/500      8.94G      1.965      1.685      1.716         32        768: 100%|██████████| 219/219 [00:40<00:00,  5.40it/s]\n",
      "                 Class     Images  Instances      Box(P          R      mAP50  mAP50-95): 100%|██████████| 23/23 [00:02<00:00, 11.13it/s]"
     ]
    },
    {
     "name": "stdout",
     "output_type": "stream",
     "text": [
      "                   all         92       4910      0.645      0.544       0.53      0.342\n"
     ]
    },
    {
     "name": "stderr",
     "output_type": "stream",
     "text": [
      "\n"
     ]
    },
    {
     "name": "stdout",
     "output_type": "stream",
     "text": [
      "\n",
      "      Epoch    GPU_mem   box_loss   cls_loss   dfl_loss  Instances       Size\n"
     ]
    },
    {
     "name": "stderr",
     "output_type": "stream",
     "text": [
      "     38/500      10.3G      1.923      1.629      1.711         16        768: 100%|██████████| 219/219 [00:41<00:00,  5.33it/s]\n",
      "                 Class     Images  Instances      Box(P          R      mAP50  mAP50-95): 100%|██████████| 23/23 [00:02<00:00, 10.48it/s]"
     ]
    },
    {
     "name": "stdout",
     "output_type": "stream",
     "text": [
      "                   all         92       4910      0.672      0.541       0.57      0.361\n"
     ]
    },
    {
     "name": "stderr",
     "output_type": "stream",
     "text": [
      "\n"
     ]
    },
    {
     "name": "stdout",
     "output_type": "stream",
     "text": [
      "\n",
      "      Epoch    GPU_mem   box_loss   cls_loss   dfl_loss  Instances       Size\n"
     ]
    },
    {
     "name": "stderr",
     "output_type": "stream",
     "text": [
      "     39/500      8.67G      1.889      1.703      1.708        345        768: 100%|██████████| 219/219 [00:41<00:00,  5.31it/s]\n",
      "                 Class     Images  Instances      Box(P          R      mAP50  mAP50-95): 100%|██████████| 23/23 [00:02<00:00, 10.67it/s]\n"
     ]
    },
    {
     "name": "stdout",
     "output_type": "stream",
     "text": [
      "                   all         92       4910      0.685      0.545      0.585      0.382\n",
      "\n",
      "      Epoch    GPU_mem   box_loss   cls_loss   dfl_loss  Instances       Size\n"
     ]
    },
    {
     "name": "stderr",
     "output_type": "stream",
     "text": [
      "     40/500      8.85G      1.894       1.59      1.662         53        768: 100%|██████████| 219/219 [00:41<00:00,  5.33it/s]\n",
      "                 Class     Images  Instances      Box(P          R      mAP50  mAP50-95): 100%|██████████| 23/23 [00:02<00:00, 10.97it/s]"
     ]
    },
    {
     "name": "stdout",
     "output_type": "stream",
     "text": [
      "                   all         92       4910      0.664      0.529       0.57      0.367\n"
     ]
    },
    {
     "name": "stderr",
     "output_type": "stream",
     "text": [
      "\n"
     ]
    },
    {
     "name": "stdout",
     "output_type": "stream",
     "text": [
      "\n",
      "      Epoch    GPU_mem   box_loss   cls_loss   dfl_loss  Instances       Size\n"
     ]
    },
    {
     "name": "stderr",
     "output_type": "stream",
     "text": [
      "     41/500      8.83G      1.921      1.687       1.69        129        768: 100%|██████████| 219/219 [00:40<00:00,  5.37it/s]\n",
      "                 Class     Images  Instances      Box(P          R      mAP50  mAP50-95): 100%|██████████| 23/23 [00:02<00:00, 10.78it/s]"
     ]
    },
    {
     "name": "stdout",
     "output_type": "stream",
     "text": [
      "                   all         92       4910      0.666      0.526      0.557      0.358\n"
     ]
    },
    {
     "name": "stderr",
     "output_type": "stream",
     "text": [
      "\n"
     ]
    },
    {
     "name": "stdout",
     "output_type": "stream",
     "text": [
      "\n",
      "      Epoch    GPU_mem   box_loss   cls_loss   dfl_loss  Instances       Size\n"
     ]
    },
    {
     "name": "stderr",
     "output_type": "stream",
     "text": [
      "     42/500      8.67G        1.9      1.678      1.703          9        768: 100%|██████████| 219/219 [00:40<00:00,  5.38it/s]\n",
      "                 Class     Images  Instances      Box(P          R      mAP50  mAP50-95): 100%|██████████| 23/23 [00:02<00:00, 11.00it/s]"
     ]
    },
    {
     "name": "stdout",
     "output_type": "stream",
     "text": [
      "                   all         92       4910      0.677      0.533      0.572      0.367\n"
     ]
    },
    {
     "name": "stderr",
     "output_type": "stream",
     "text": [
      "\n"
     ]
    },
    {
     "name": "stdout",
     "output_type": "stream",
     "text": [
      "\n",
      "      Epoch    GPU_mem   box_loss   cls_loss   dfl_loss  Instances       Size\n"
     ]
    },
    {
     "name": "stderr",
     "output_type": "stream",
     "text": [
      "     43/500      10.4G      1.905      1.859      1.664        312        768: 100%|██████████| 219/219 [00:42<00:00,  5.17it/s]\n",
      "                 Class     Images  Instances      Box(P          R      mAP50  mAP50-95): 100%|██████████| 23/23 [00:02<00:00,  9.87it/s]"
     ]
    },
    {
     "name": "stdout",
     "output_type": "stream",
     "text": [
      "                   all         92       4910      0.643      0.557      0.555      0.355\n"
     ]
    },
    {
     "name": "stderr",
     "output_type": "stream",
     "text": [
      "\n"
     ]
    },
    {
     "name": "stdout",
     "output_type": "stream",
     "text": [
      "\n",
      "      Epoch    GPU_mem   box_loss   cls_loss   dfl_loss  Instances       Size\n"
     ]
    },
    {
     "name": "stderr",
     "output_type": "stream",
     "text": [
      "     44/500      9.96G      1.801      1.636      1.638        278        768: 100%|██████████| 219/219 [00:41<00:00,  5.26it/s]\n",
      "                 Class     Images  Instances      Box(P          R      mAP50  mAP50-95): 100%|██████████| 23/23 [00:02<00:00, 10.97it/s]\n"
     ]
    },
    {
     "name": "stdout",
     "output_type": "stream",
     "text": [
      "                   all         92       4910      0.656      0.574      0.581      0.373\n",
      "\n",
      "      Epoch    GPU_mem   box_loss   cls_loss   dfl_loss  Instances       Size\n"
     ]
    },
    {
     "name": "stderr",
     "output_type": "stream",
     "text": [
      "     45/500      7.78G      1.914      1.832      1.757         35        768: 100%|██████████| 219/219 [00:40<00:00,  5.40it/s]\n",
      "                 Class     Images  Instances      Box(P          R      mAP50  mAP50-95): 100%|██████████| 23/23 [00:02<00:00, 10.96it/s]"
     ]
    },
    {
     "name": "stdout",
     "output_type": "stream",
     "text": [
      "                   all         92       4910      0.585      0.565      0.544      0.339\n"
     ]
    },
    {
     "name": "stderr",
     "output_type": "stream",
     "text": [
      "\n"
     ]
    },
    {
     "name": "stdout",
     "output_type": "stream",
     "text": [
      "\n",
      "      Epoch    GPU_mem   box_loss   cls_loss   dfl_loss  Instances       Size\n"
     ]
    },
    {
     "name": "stderr",
     "output_type": "stream",
     "text": [
      "     46/500      9.01G      1.885      1.645      1.653       1346        768: 100%|██████████| 219/219 [00:40<00:00,  5.37it/s]\n",
      "                 Class     Images  Instances      Box(P          R      mAP50  mAP50-95): 100%|██████████| 23/23 [00:02<00:00, 10.48it/s]"
     ]
    },
    {
     "name": "stdout",
     "output_type": "stream",
     "text": [
      "                   all         92       4910      0.635      0.534      0.538      0.343\n"
     ]
    },
    {
     "name": "stderr",
     "output_type": "stream",
     "text": [
      "\n"
     ]
    },
    {
     "name": "stdout",
     "output_type": "stream",
     "text": [
      "\n",
      "      Epoch    GPU_mem   box_loss   cls_loss   dfl_loss  Instances       Size\n"
     ]
    },
    {
     "name": "stderr",
     "output_type": "stream",
     "text": [
      "     47/500      10.7G      1.827      1.566      1.649        258        768: 100%|██████████| 219/219 [00:42<00:00,  5.11it/s]\n",
      "                 Class     Images  Instances      Box(P          R      mAP50  mAP50-95): 100%|██████████| 23/23 [00:02<00:00,  9.98it/s]"
     ]
    },
    {
     "name": "stdout",
     "output_type": "stream",
     "text": [
      "                   all         92       4910      0.664      0.516      0.564      0.367\n"
     ]
    },
    {
     "name": "stderr",
     "output_type": "stream",
     "text": [
      "\n"
     ]
    },
    {
     "name": "stdout",
     "output_type": "stream",
     "text": [
      "\n",
      "      Epoch    GPU_mem   box_loss   cls_loss   dfl_loss  Instances       Size\n"
     ]
    },
    {
     "name": "stderr",
     "output_type": "stream",
     "text": [
      "     48/500      8.98G      1.818      1.538      1.622        159        768: 100%|██████████| 219/219 [00:41<00:00,  5.27it/s]\n",
      "                 Class     Images  Instances      Box(P          R      mAP50  mAP50-95): 100%|██████████| 23/23 [00:02<00:00, 11.08it/s]"
     ]
    },
    {
     "name": "stdout",
     "output_type": "stream",
     "text": [
      "                   all         92       4910      0.698      0.556      0.601      0.397\n"
     ]
    },
    {
     "name": "stderr",
     "output_type": "stream",
     "text": [
      "\n"
     ]
    },
    {
     "name": "stdout",
     "output_type": "stream",
     "text": [
      "\n",
      "      Epoch    GPU_mem   box_loss   cls_loss   dfl_loss  Instances       Size\n"
     ]
    },
    {
     "name": "stderr",
     "output_type": "stream",
     "text": [
      "     49/500      9.48G      1.887      1.639      1.688         29        768: 100%|██████████| 219/219 [00:40<00:00,  5.34it/s]\n",
      "                 Class     Images  Instances      Box(P          R      mAP50  mAP50-95): 100%|██████████| 23/23 [00:02<00:00, 10.97it/s]\n"
     ]
    },
    {
     "name": "stdout",
     "output_type": "stream",
     "text": [
      "                   all         92       4910      0.667      0.506      0.551      0.359\n",
      "\n",
      "      Epoch    GPU_mem   box_loss   cls_loss   dfl_loss  Instances       Size\n"
     ]
    },
    {
     "name": "stderr",
     "output_type": "stream",
     "text": [
      "     50/500      8.62G      1.776      1.563      1.652          9        768: 100%|██████████| 219/219 [00:40<00:00,  5.36it/s]\n",
      "                 Class     Images  Instances      Box(P          R      mAP50  mAP50-95): 100%|██████████| 23/23 [00:02<00:00, 11.09it/s]"
     ]
    },
    {
     "name": "stdout",
     "output_type": "stream",
     "text": [
      "                   all         92       4910      0.701      0.544      0.589      0.385\n"
     ]
    },
    {
     "name": "stderr",
     "output_type": "stream",
     "text": [
      "\n"
     ]
    },
    {
     "name": "stdout",
     "output_type": "stream",
     "text": [
      "\n",
      "      Epoch    GPU_mem   box_loss   cls_loss   dfl_loss  Instances       Size\n"
     ]
    },
    {
     "name": "stderr",
     "output_type": "stream",
     "text": [
      "     51/500      9.97G      1.905       1.75      1.649        360        768: 100%|██████████| 219/219 [00:40<00:00,  5.35it/s]\n",
      "                 Class     Images  Instances      Box(P          R      mAP50  mAP50-95): 100%|██████████| 23/23 [00:02<00:00, 10.30it/s]"
     ]
    },
    {
     "name": "stdout",
     "output_type": "stream",
     "text": [
      "                   all         92       4910      0.648       0.51      0.541      0.347\n"
     ]
    },
    {
     "name": "stderr",
     "output_type": "stream",
     "text": [
      "\n"
     ]
    },
    {
     "name": "stdout",
     "output_type": "stream",
     "text": [
      "\n",
      "      Epoch    GPU_mem   box_loss   cls_loss   dfl_loss  Instances       Size\n"
     ]
    },
    {
     "name": "stderr",
     "output_type": "stream",
     "text": [
      "     52/500      9.13G      1.877      2.483      1.651        156        768: 100%|██████████| 219/219 [00:40<00:00,  5.34it/s]\n",
      "                 Class     Images  Instances      Box(P          R      mAP50  mAP50-95): 100%|██████████| 23/23 [00:02<00:00, 10.87it/s]"
     ]
    },
    {
     "name": "stdout",
     "output_type": "stream",
     "text": [
      "                   all         92       4910      0.734      0.552      0.618      0.393\n"
     ]
    },
    {
     "name": "stderr",
     "output_type": "stream",
     "text": [
      "\n"
     ]
    },
    {
     "name": "stdout",
     "output_type": "stream",
     "text": [
      "\n",
      "      Epoch    GPU_mem   box_loss   cls_loss   dfl_loss  Instances       Size\n"
     ]
    },
    {
     "name": "stderr",
     "output_type": "stream",
     "text": [
      "     53/500      9.45G       1.87      1.628      1.657        709        768: 100%|██████████| 219/219 [00:41<00:00,  5.33it/s]\n",
      "                 Class     Images  Instances      Box(P          R      mAP50  mAP50-95): 100%|██████████| 23/23 [00:02<00:00, 11.13it/s]\n"
     ]
    },
    {
     "name": "stdout",
     "output_type": "stream",
     "text": [
      "                   all         92       4910      0.686       0.56      0.587      0.385\n",
      "\n",
      "      Epoch    GPU_mem   box_loss   cls_loss   dfl_loss  Instances       Size\n"
     ]
    },
    {
     "name": "stderr",
     "output_type": "stream",
     "text": [
      "     54/500      9.34G      1.764      1.485      1.606        262        768: 100%|██████████| 219/219 [00:40<00:00,  5.37it/s]\n",
      "                 Class     Images  Instances      Box(P          R      mAP50  mAP50-95): 100%|██████████| 23/23 [00:02<00:00, 11.04it/s]"
     ]
    },
    {
     "name": "stdout",
     "output_type": "stream",
     "text": [
      "                   all         92       4910      0.691      0.597      0.621      0.411\n"
     ]
    },
    {
     "name": "stderr",
     "output_type": "stream",
     "text": [
      "\n"
     ]
    },
    {
     "name": "stdout",
     "output_type": "stream",
     "text": [
      "\n",
      "      Epoch    GPU_mem   box_loss   cls_loss   dfl_loss  Instances       Size\n"
     ]
    },
    {
     "name": "stderr",
     "output_type": "stream",
     "text": [
      "     55/500      8.03G      1.797      1.531      1.666        764        768: 100%|██████████| 219/219 [00:40<00:00,  5.38it/s]\n",
      "                 Class     Images  Instances      Box(P          R      mAP50  mAP50-95): 100%|██████████| 23/23 [00:02<00:00, 11.02it/s]\n"
     ]
    },
    {
     "name": "stdout",
     "output_type": "stream",
     "text": [
      "                   all         92       4910      0.707      0.561      0.599      0.399\n",
      "\n",
      "      Epoch    GPU_mem   box_loss   cls_loss   dfl_loss  Instances       Size\n"
     ]
    },
    {
     "name": "stderr",
     "output_type": "stream",
     "text": [
      "     56/500      8.77G      1.793      1.608      1.597         59        768: 100%|██████████| 219/219 [00:40<00:00,  5.36it/s]\n",
      "                 Class     Images  Instances      Box(P          R      mAP50  mAP50-95): 100%|██████████| 23/23 [00:02<00:00, 11.12it/s]"
     ]
    },
    {
     "name": "stdout",
     "output_type": "stream",
     "text": [
      "                   all         92       4910      0.697      0.573      0.615      0.409\n"
     ]
    },
    {
     "name": "stderr",
     "output_type": "stream",
     "text": [
      "\n"
     ]
    },
    {
     "name": "stdout",
     "output_type": "stream",
     "text": [
      "\n",
      "      Epoch    GPU_mem   box_loss   cls_loss   dfl_loss  Instances       Size\n"
     ]
    },
    {
     "name": "stderr",
     "output_type": "stream",
     "text": [
      "     57/500      8.38G      1.855      1.608       1.69        121        768: 100%|██████████| 219/219 [00:40<00:00,  5.38it/s]\n",
      "                 Class     Images  Instances      Box(P          R      mAP50  mAP50-95): 100%|██████████| 23/23 [00:02<00:00, 10.89it/s]\n"
     ]
    },
    {
     "name": "stdout",
     "output_type": "stream",
     "text": [
      "                   all         92       4910      0.709      0.554      0.613      0.408\n",
      "\n",
      "      Epoch    GPU_mem   box_loss   cls_loss   dfl_loss  Instances       Size\n"
     ]
    },
    {
     "name": "stderr",
     "output_type": "stream",
     "text": [
      "     58/500      8.96G      1.781      1.481       1.62        265        768: 100%|██████████| 219/219 [00:40<00:00,  5.36it/s]\n",
      "                 Class     Images  Instances      Box(P          R      mAP50  mAP50-95): 100%|██████████| 23/23 [00:02<00:00, 11.00it/s]"
     ]
    },
    {
     "name": "stdout",
     "output_type": "stream",
     "text": [
      "                   all         92       4910      0.683      0.576      0.617      0.399\n"
     ]
    },
    {
     "name": "stderr",
     "output_type": "stream",
     "text": [
      "\n"
     ]
    },
    {
     "name": "stdout",
     "output_type": "stream",
     "text": [
      "\n",
      "      Epoch    GPU_mem   box_loss   cls_loss   dfl_loss  Instances       Size\n"
     ]
    },
    {
     "name": "stderr",
     "output_type": "stream",
     "text": [
      "     59/500      8.37G      1.776      1.557      1.603         26        768: 100%|██████████| 219/219 [00:40<00:00,  5.37it/s]\n",
      "                 Class     Images  Instances      Box(P          R      mAP50  mAP50-95): 100%|██████████| 23/23 [00:02<00:00, 10.76it/s]\n"
     ]
    },
    {
     "name": "stdout",
     "output_type": "stream",
     "text": [
      "                   all         92       4910      0.725      0.565      0.611      0.404\n",
      "\n",
      "      Epoch    GPU_mem   box_loss   cls_loss   dfl_loss  Instances       Size\n"
     ]
    },
    {
     "name": "stderr",
     "output_type": "stream",
     "text": [
      "     60/500      9.88G      1.805      1.432      1.646         83        768: 100%|██████████| 219/219 [00:40<00:00,  5.35it/s]\n",
      "                 Class     Images  Instances      Box(P          R      mAP50  mAP50-95): 100%|██████████| 23/23 [00:02<00:00, 10.93it/s]"
     ]
    },
    {
     "name": "stdout",
     "output_type": "stream",
     "text": [
      "                   all         92       4910      0.695      0.571      0.607      0.398\n"
     ]
    },
    {
     "name": "stderr",
     "output_type": "stream",
     "text": [
      "\n"
     ]
    },
    {
     "name": "stdout",
     "output_type": "stream",
     "text": [
      "\n",
      "      Epoch    GPU_mem   box_loss   cls_loss   dfl_loss  Instances       Size\n"
     ]
    },
    {
     "name": "stderr",
     "output_type": "stream",
     "text": [
      "     61/500      9.72G      1.789      1.572      1.606        262        768: 100%|██████████| 219/219 [00:40<00:00,  5.35it/s]\n",
      "                 Class     Images  Instances      Box(P          R      mAP50  mAP50-95): 100%|██████████| 23/23 [00:02<00:00, 10.37it/s]\n"
     ]
    },
    {
     "name": "stdout",
     "output_type": "stream",
     "text": [
      "                   all         92       4910      0.639      0.588      0.567      0.376\n",
      "\n",
      "      Epoch    GPU_mem   box_loss   cls_loss   dfl_loss  Instances       Size\n"
     ]
    },
    {
     "name": "stderr",
     "output_type": "stream",
     "text": [
      "     62/500      8.55G      1.748      1.472      1.583        211        768: 100%|██████████| 219/219 [00:41<00:00,  5.30it/s]\n",
      "                 Class     Images  Instances      Box(P          R      mAP50  mAP50-95): 100%|██████████| 23/23 [00:02<00:00, 10.89it/s]\n"
     ]
    },
    {
     "name": "stdout",
     "output_type": "stream",
     "text": [
      "                   all         92       4910      0.699      0.577      0.608      0.412\n",
      "\n",
      "      Epoch    GPU_mem   box_loss   cls_loss   dfl_loss  Instances       Size\n"
     ]
    },
    {
     "name": "stderr",
     "output_type": "stream",
     "text": [
      "     63/500      9.97G      1.738      1.474      1.595        382        768: 100%|██████████| 219/219 [00:40<00:00,  5.34it/s]\n",
      "                 Class     Images  Instances      Box(P          R      mAP50  mAP50-95): 100%|██████████| 23/23 [00:02<00:00, 11.13it/s]"
     ]
    },
    {
     "name": "stdout",
     "output_type": "stream",
     "text": [
      "                   all         92       4910       0.69      0.584      0.616      0.409\n"
     ]
    },
    {
     "name": "stderr",
     "output_type": "stream",
     "text": [
      "\n"
     ]
    },
    {
     "name": "stdout",
     "output_type": "stream",
     "text": [
      "\n",
      "      Epoch    GPU_mem   box_loss   cls_loss   dfl_loss  Instances       Size\n"
     ]
    },
    {
     "name": "stderr",
     "output_type": "stream",
     "text": [
      "     64/500      10.4G      1.749      1.424      1.624         89        768: 100%|██████████| 219/219 [00:40<00:00,  5.36it/s]\n",
      "                 Class     Images  Instances      Box(P          R      mAP50  mAP50-95): 100%|██████████| 23/23 [00:02<00:00, 11.04it/s]"
     ]
    },
    {
     "name": "stdout",
     "output_type": "stream",
     "text": [
      "                   all         92       4910      0.688      0.575      0.617      0.412\n"
     ]
    },
    {
     "name": "stderr",
     "output_type": "stream",
     "text": [
      "\n"
     ]
    },
    {
     "name": "stdout",
     "output_type": "stream",
     "text": [
      "\n",
      "      Epoch    GPU_mem   box_loss   cls_loss   dfl_loss  Instances       Size\n"
     ]
    },
    {
     "name": "stderr",
     "output_type": "stream",
     "text": [
      "     65/500      9.18G      1.738      1.504      1.644         66        768: 100%|██████████| 219/219 [00:40<00:00,  5.36it/s]\n",
      "                 Class     Images  Instances      Box(P          R      mAP50  mAP50-95): 100%|██████████| 23/23 [00:02<00:00, 10.86it/s]\n"
     ]
    },
    {
     "name": "stdout",
     "output_type": "stream",
     "text": [
      "                   all         92       4910      0.705      0.595      0.626      0.416\n",
      "\n",
      "      Epoch    GPU_mem   box_loss   cls_loss   dfl_loss  Instances       Size\n"
     ]
    },
    {
     "name": "stderr",
     "output_type": "stream",
     "text": [
      "     66/500      9.17G      1.795      1.669      1.671        378        768: 100%|██████████| 219/219 [00:40<00:00,  5.35it/s]\n",
      "                 Class     Images  Instances      Box(P          R      mAP50  mAP50-95): 100%|██████████| 23/23 [00:02<00:00, 10.88it/s]\n"
     ]
    },
    {
     "name": "stdout",
     "output_type": "stream",
     "text": [
      "                   all         92       4910      0.669      0.567      0.598      0.398\n",
      "\n",
      "      Epoch    GPU_mem   box_loss   cls_loss   dfl_loss  Instances       Size\n"
     ]
    },
    {
     "name": "stderr",
     "output_type": "stream",
     "text": [
      "     67/500      9.07G      1.714      1.493      1.624         14        768: 100%|██████████| 219/219 [00:40<00:00,  5.38it/s]\n",
      "                 Class     Images  Instances      Box(P          R      mAP50  mAP50-95): 100%|██████████| 23/23 [00:02<00:00, 11.10it/s]"
     ]
    },
    {
     "name": "stdout",
     "output_type": "stream",
     "text": [
      "                   all         92       4910      0.707      0.579      0.615      0.402\n"
     ]
    },
    {
     "name": "stderr",
     "output_type": "stream",
     "text": [
      "\n"
     ]
    },
    {
     "name": "stdout",
     "output_type": "stream",
     "text": [
      "\n",
      "      Epoch    GPU_mem   box_loss   cls_loss   dfl_loss  Instances       Size\n"
     ]
    },
    {
     "name": "stderr",
     "output_type": "stream",
     "text": [
      "     68/500      9.35G      1.747       1.52      1.561        189        768: 100%|██████████| 219/219 [00:40<00:00,  5.35it/s]\n",
      "                 Class     Images  Instances      Box(P          R      mAP50  mAP50-95): 100%|██████████| 23/23 [00:02<00:00, 11.07it/s]"
     ]
    },
    {
     "name": "stdout",
     "output_type": "stream",
     "text": [
      "                   all         92       4910      0.686      0.586      0.617      0.397\n"
     ]
    },
    {
     "name": "stderr",
     "output_type": "stream",
     "text": [
      "\n"
     ]
    },
    {
     "name": "stdout",
     "output_type": "stream",
     "text": [
      "\n",
      "      Epoch    GPU_mem   box_loss   cls_loss   dfl_loss  Instances       Size\n"
     ]
    },
    {
     "name": "stderr",
     "output_type": "stream",
     "text": [
      "     69/500      9.81G      1.755      1.443      1.595         82        768: 100%|██████████| 219/219 [00:40<00:00,  5.36it/s]\n",
      "                 Class     Images  Instances      Box(P          R      mAP50  mAP50-95): 100%|██████████| 23/23 [00:02<00:00, 11.10it/s]"
     ]
    },
    {
     "name": "stdout",
     "output_type": "stream",
     "text": [
      "                   all         92       4910      0.732      0.586      0.633      0.425\n"
     ]
    },
    {
     "name": "stderr",
     "output_type": "stream",
     "text": [
      "\n"
     ]
    },
    {
     "name": "stdout",
     "output_type": "stream",
     "text": [
      "\n",
      "      Epoch    GPU_mem   box_loss   cls_loss   dfl_loss  Instances       Size\n"
     ]
    },
    {
     "name": "stderr",
     "output_type": "stream",
     "text": [
      "     70/500      8.24G      1.735      1.798      1.645        181        768: 100%|██████████| 219/219 [00:40<00:00,  5.36it/s]\n",
      "                 Class     Images  Instances      Box(P          R      mAP50  mAP50-95): 100%|██████████| 23/23 [00:02<00:00, 10.90it/s]"
     ]
    },
    {
     "name": "stdout",
     "output_type": "stream",
     "text": [
      "                   all         92       4910      0.682      0.569       0.61      0.404\n"
     ]
    },
    {
     "name": "stderr",
     "output_type": "stream",
     "text": [
      "\n"
     ]
    },
    {
     "name": "stdout",
     "output_type": "stream",
     "text": [
      "\n",
      "      Epoch    GPU_mem   box_loss   cls_loss   dfl_loss  Instances       Size\n"
     ]
    },
    {
     "name": "stderr",
     "output_type": "stream",
     "text": [
      "     71/500      8.59G      1.727      1.496      1.604         26        768: 100%|██████████| 219/219 [00:40<00:00,  5.39it/s]\n",
      "                 Class     Images  Instances      Box(P          R      mAP50  mAP50-95): 100%|██████████| 23/23 [00:02<00:00, 10.94it/s]"
     ]
    },
    {
     "name": "stdout",
     "output_type": "stream",
     "text": [
      "                   all         92       4910       0.69       0.58      0.616      0.412\n"
     ]
    },
    {
     "name": "stderr",
     "output_type": "stream",
     "text": [
      "\n"
     ]
    },
    {
     "name": "stdout",
     "output_type": "stream",
     "text": [
      "\n",
      "      Epoch    GPU_mem   box_loss   cls_loss   dfl_loss  Instances       Size\n"
     ]
    },
    {
     "name": "stderr",
     "output_type": "stream",
     "text": [
      "     72/500      8.78G      1.755      1.453      1.633        285        768: 100%|██████████| 219/219 [00:40<00:00,  5.38it/s]\n",
      "                 Class     Images  Instances      Box(P          R      mAP50  mAP50-95): 100%|██████████| 23/23 [00:02<00:00, 11.28it/s]\n"
     ]
    },
    {
     "name": "stdout",
     "output_type": "stream",
     "text": [
      "                   all         92       4910      0.724      0.575      0.634      0.425\n",
      "\n",
      "      Epoch    GPU_mem   box_loss   cls_loss   dfl_loss  Instances       Size\n"
     ]
    },
    {
     "name": "stderr",
     "output_type": "stream",
     "text": [
      "     73/500      8.92G      1.704       1.39       1.65          7        768: 100%|██████████| 219/219 [00:40<00:00,  5.38it/s]\n",
      "                 Class     Images  Instances      Box(P          R      mAP50  mAP50-95): 100%|██████████| 23/23 [00:02<00:00, 10.82it/s]"
     ]
    },
    {
     "name": "stdout",
     "output_type": "stream",
     "text": [
      "                   all         92       4910      0.715      0.621      0.648      0.436\n"
     ]
    },
    {
     "name": "stderr",
     "output_type": "stream",
     "text": [
      "\n"
     ]
    },
    {
     "name": "stdout",
     "output_type": "stream",
     "text": [
      "\n",
      "      Epoch    GPU_mem   box_loss   cls_loss   dfl_loss  Instances       Size\n"
     ]
    },
    {
     "name": "stderr",
     "output_type": "stream",
     "text": [
      "     74/500      9.25G      1.736      1.431       1.62        121        768: 100%|██████████| 219/219 [00:40<00:00,  5.38it/s]\n",
      "                 Class     Images  Instances      Box(P          R      mAP50  mAP50-95): 100%|██████████| 23/23 [00:02<00:00, 10.68it/s]"
     ]
    },
    {
     "name": "stdout",
     "output_type": "stream",
     "text": [
      "                   all         92       4910      0.689      0.585      0.603      0.404\n"
     ]
    },
    {
     "name": "stderr",
     "output_type": "stream",
     "text": [
      "\n"
     ]
    },
    {
     "name": "stdout",
     "output_type": "stream",
     "text": [
      "\n",
      "      Epoch    GPU_mem   box_loss   cls_loss   dfl_loss  Instances       Size\n"
     ]
    },
    {
     "name": "stderr",
     "output_type": "stream",
     "text": [
      "     75/500      8.77G      1.684      1.357      1.605         50        768: 100%|██████████| 219/219 [00:40<00:00,  5.37it/s]\n",
      "                 Class     Images  Instances      Box(P          R      mAP50  mAP50-95): 100%|██████████| 23/23 [00:02<00:00, 10.79it/s]\n"
     ]
    },
    {
     "name": "stdout",
     "output_type": "stream",
     "text": [
      "                   all         92       4910      0.743      0.575      0.631      0.422\n",
      "\n",
      "      Epoch    GPU_mem   box_loss   cls_loss   dfl_loss  Instances       Size\n"
     ]
    },
    {
     "name": "stderr",
     "output_type": "stream",
     "text": [
      "     76/500      10.1G      1.753      1.473      1.624         23        768: 100%|██████████| 219/219 [00:40<00:00,  5.35it/s]\n",
      "                 Class     Images  Instances      Box(P          R      mAP50  mAP50-95): 100%|██████████| 23/23 [00:02<00:00, 11.05it/s]"
     ]
    },
    {
     "name": "stdout",
     "output_type": "stream",
     "text": [
      "                   all         92       4910      0.721      0.596      0.637      0.426\n"
     ]
    },
    {
     "name": "stderr",
     "output_type": "stream",
     "text": [
      "\n"
     ]
    },
    {
     "name": "stdout",
     "output_type": "stream",
     "text": [
      "\n",
      "      Epoch    GPU_mem   box_loss   cls_loss   dfl_loss  Instances       Size\n"
     ]
    },
    {
     "name": "stderr",
     "output_type": "stream",
     "text": [
      "     77/500      8.67G      1.729      1.372      1.567        216        768: 100%|██████████| 219/219 [00:40<00:00,  5.36it/s]\n",
      "                 Class     Images  Instances      Box(P          R      mAP50  mAP50-95): 100%|██████████| 23/23 [00:02<00:00, 10.84it/s]"
     ]
    },
    {
     "name": "stdout",
     "output_type": "stream",
     "text": [
      "                   all         92       4910      0.658        0.6      0.589      0.391\n"
     ]
    },
    {
     "name": "stderr",
     "output_type": "stream",
     "text": [
      "\n"
     ]
    },
    {
     "name": "stdout",
     "output_type": "stream",
     "text": [
      "\n",
      "      Epoch    GPU_mem   box_loss   cls_loss   dfl_loss  Instances       Size\n"
     ]
    },
    {
     "name": "stderr",
     "output_type": "stream",
     "text": [
      "     78/500      8.51G      1.686      1.358      1.616        334        768: 100%|██████████| 219/219 [00:40<00:00,  5.38it/s]\n",
      "                 Class     Images  Instances      Box(P          R      mAP50  mAP50-95): 100%|██████████| 23/23 [00:02<00:00, 10.89it/s]\n"
     ]
    },
    {
     "name": "stdout",
     "output_type": "stream",
     "text": [
      "                   all         92       4910      0.743      0.599      0.652      0.439\n",
      "\n",
      "      Epoch    GPU_mem   box_loss   cls_loss   dfl_loss  Instances       Size\n"
     ]
    },
    {
     "name": "stderr",
     "output_type": "stream",
     "text": [
      "     79/500      10.4G      1.698      1.395      1.536        140        768: 100%|██████████| 219/219 [00:40<00:00,  5.35it/s]\n",
      "                 Class     Images  Instances      Box(P          R      mAP50  mAP50-95): 100%|██████████| 23/23 [00:02<00:00, 11.27it/s]"
     ]
    },
    {
     "name": "stdout",
     "output_type": "stream",
     "text": [
      "                   all         92       4910      0.746      0.603      0.656      0.441\n"
     ]
    },
    {
     "name": "stderr",
     "output_type": "stream",
     "text": [
      "\n"
     ]
    },
    {
     "name": "stdout",
     "output_type": "stream",
     "text": [
      "\n",
      "      Epoch    GPU_mem   box_loss   cls_loss   dfl_loss  Instances       Size\n"
     ]
    },
    {
     "name": "stderr",
     "output_type": "stream",
     "text": [
      "     80/500      8.69G      1.646      1.328      1.583        270        768: 100%|██████████| 219/219 [00:40<00:00,  5.36it/s]\n",
      "                 Class     Images  Instances      Box(P          R      mAP50  mAP50-95): 100%|██████████| 23/23 [00:02<00:00, 11.16it/s]"
     ]
    },
    {
     "name": "stdout",
     "output_type": "stream",
     "text": [
      "                   all         92       4910      0.731      0.597      0.641      0.425\n"
     ]
    },
    {
     "name": "stderr",
     "output_type": "stream",
     "text": [
      "\n"
     ]
    },
    {
     "name": "stdout",
     "output_type": "stream",
     "text": [
      "\n",
      "      Epoch    GPU_mem   box_loss   cls_loss   dfl_loss  Instances       Size\n"
     ]
    },
    {
     "name": "stderr",
     "output_type": "stream",
     "text": [
      "     81/500      8.32G      1.695      1.358      1.558         47        768: 100%|██████████| 219/219 [00:40<00:00,  5.36it/s]\n",
      "                 Class     Images  Instances      Box(P          R      mAP50  mAP50-95): 100%|██████████| 23/23 [00:02<00:00, 10.66it/s]\n"
     ]
    },
    {
     "name": "stdout",
     "output_type": "stream",
     "text": [
      "                   all         92       4910      0.714      0.623      0.636       0.43\n",
      "\n",
      "      Epoch    GPU_mem   box_loss   cls_loss   dfl_loss  Instances       Size\n"
     ]
    },
    {
     "name": "stderr",
     "output_type": "stream",
     "text": [
      "     82/500      9.53G      1.685       1.42      1.594         58        768: 100%|██████████| 219/219 [00:40<00:00,  5.35it/s]\n",
      "                 Class     Images  Instances      Box(P          R      mAP50  mAP50-95): 100%|██████████| 23/23 [00:02<00:00, 10.75it/s]"
     ]
    },
    {
     "name": "stdout",
     "output_type": "stream",
     "text": [
      "                   all         92       4910       0.73      0.579       0.64      0.433\n"
     ]
    },
    {
     "name": "stderr",
     "output_type": "stream",
     "text": [
      "\n"
     ]
    },
    {
     "name": "stdout",
     "output_type": "stream",
     "text": [
      "\n",
      "      Epoch    GPU_mem   box_loss   cls_loss   dfl_loss  Instances       Size\n"
     ]
    },
    {
     "name": "stderr",
     "output_type": "stream",
     "text": [
      "     83/500      8.57G      1.679       1.51      1.614         96        768: 100%|██████████| 219/219 [00:40<00:00,  5.38it/s]\n",
      "                 Class     Images  Instances      Box(P          R      mAP50  mAP50-95): 100%|██████████| 23/23 [00:02<00:00, 11.09it/s]"
     ]
    },
    {
     "name": "stdout",
     "output_type": "stream",
     "text": [
      "                   all         92       4910      0.727      0.607      0.642       0.43\n"
     ]
    },
    {
     "name": "stderr",
     "output_type": "stream",
     "text": [
      "\n"
     ]
    },
    {
     "name": "stdout",
     "output_type": "stream",
     "text": [
      "\n",
      "      Epoch    GPU_mem   box_loss   cls_loss   dfl_loss  Instances       Size\n"
     ]
    },
    {
     "name": "stderr",
     "output_type": "stream",
     "text": [
      "     84/500      8.03G      1.668      1.366      1.648         78        768: 100%|██████████| 219/219 [00:40<00:00,  5.39it/s]\n",
      "                 Class     Images  Instances      Box(P          R      mAP50  mAP50-95): 100%|██████████| 23/23 [00:02<00:00, 11.04it/s]"
     ]
    },
    {
     "name": "stdout",
     "output_type": "stream",
     "text": [
      "                   all         92       4910      0.681      0.603      0.615      0.409\n"
     ]
    },
    {
     "name": "stderr",
     "output_type": "stream",
     "text": [
      "\n"
     ]
    },
    {
     "name": "stdout",
     "output_type": "stream",
     "text": [
      "\n",
      "      Epoch    GPU_mem   box_loss   cls_loss   dfl_loss  Instances       Size\n"
     ]
    },
    {
     "name": "stderr",
     "output_type": "stream",
     "text": [
      "     85/500      7.91G      1.719      1.466      1.661        102        768: 100%|██████████| 219/219 [00:40<00:00,  5.39it/s]\n",
      "                 Class     Images  Instances      Box(P          R      mAP50  mAP50-95): 100%|██████████| 23/23 [00:02<00:00, 11.16it/s]"
     ]
    },
    {
     "name": "stdout",
     "output_type": "stream",
     "text": [
      "                   all         92       4910       0.75      0.608      0.663       0.44\n"
     ]
    },
    {
     "name": "stderr",
     "output_type": "stream",
     "text": [
      "\n"
     ]
    },
    {
     "name": "stdout",
     "output_type": "stream",
     "text": [
      "\n",
      "      Epoch    GPU_mem   box_loss   cls_loss   dfl_loss  Instances       Size\n"
     ]
    },
    {
     "name": "stderr",
     "output_type": "stream",
     "text": [
      "     86/500        10G      1.736      1.604      1.572        183        768: 100%|██████████| 219/219 [00:40<00:00,  5.36it/s]\n",
      "                 Class     Images  Instances      Box(P          R      mAP50  mAP50-95): 100%|██████████| 23/23 [00:02<00:00, 11.09it/s]"
     ]
    },
    {
     "name": "stdout",
     "output_type": "stream",
     "text": [
      "                   all         92       4910       0.72      0.613      0.642      0.435\n"
     ]
    },
    {
     "name": "stderr",
     "output_type": "stream",
     "text": [
      "\n"
     ]
    },
    {
     "name": "stdout",
     "output_type": "stream",
     "text": [
      "\n",
      "      Epoch    GPU_mem   box_loss   cls_loss   dfl_loss  Instances       Size\n"
     ]
    },
    {
     "name": "stderr",
     "output_type": "stream",
     "text": [
      "     87/500       9.4G      1.701      1.482      1.573         84        768: 100%|██████████| 219/219 [00:40<00:00,  5.36it/s]\n",
      "                 Class     Images  Instances      Box(P          R      mAP50  mAP50-95): 100%|██████████| 23/23 [00:02<00:00, 11.03it/s]"
     ]
    },
    {
     "name": "stdout",
     "output_type": "stream",
     "text": [
      "                   all         92       4910      0.738      0.613      0.665      0.455\n"
     ]
    },
    {
     "name": "stderr",
     "output_type": "stream",
     "text": [
      "\n"
     ]
    },
    {
     "name": "stdout",
     "output_type": "stream",
     "text": [
      "\n",
      "      Epoch    GPU_mem   box_loss   cls_loss   dfl_loss  Instances       Size\n"
     ]
    },
    {
     "name": "stderr",
     "output_type": "stream",
     "text": [
      "     88/500      10.3G      1.632      1.324      1.574        362        768: 100%|██████████| 219/219 [00:40<00:00,  5.36it/s]\n",
      "                 Class     Images  Instances      Box(P          R      mAP50  mAP50-95): 100%|██████████| 23/23 [00:02<00:00, 11.02it/s]\n"
     ]
    },
    {
     "name": "stdout",
     "output_type": "stream",
     "text": [
      "                   all         92       4910      0.726      0.599       0.64      0.436\n",
      "\n",
      "      Epoch    GPU_mem   box_loss   cls_loss   dfl_loss  Instances       Size\n"
     ]
    },
    {
     "name": "stderr",
     "output_type": "stream",
     "text": [
      "     89/500      8.09G      1.669      1.428       1.55        209        768: 100%|██████████| 219/219 [00:40<00:00,  5.36it/s]\n",
      "                 Class     Images  Instances      Box(P          R      mAP50  mAP50-95): 100%|██████████| 23/23 [00:02<00:00, 11.00it/s]"
     ]
    },
    {
     "name": "stdout",
     "output_type": "stream",
     "text": [
      "                   all         92       4910      0.702      0.615      0.645      0.434\n"
     ]
    },
    {
     "name": "stderr",
     "output_type": "stream",
     "text": [
      "\n"
     ]
    },
    {
     "name": "stdout",
     "output_type": "stream",
     "text": [
      "\n",
      "      Epoch    GPU_mem   box_loss   cls_loss   dfl_loss  Instances       Size\n"
     ]
    },
    {
     "name": "stderr",
     "output_type": "stream",
     "text": [
      "     90/500      9.57G      1.697        1.4      1.577        231        768: 100%|██████████| 219/219 [00:40<00:00,  5.37it/s]\n",
      "                 Class     Images  Instances      Box(P          R      mAP50  mAP50-95): 100%|██████████| 23/23 [00:02<00:00, 11.10it/s]"
     ]
    },
    {
     "name": "stdout",
     "output_type": "stream",
     "text": [
      "                   all         92       4910      0.738      0.577      0.638      0.426\n"
     ]
    },
    {
     "name": "stderr",
     "output_type": "stream",
     "text": [
      "\n"
     ]
    },
    {
     "name": "stdout",
     "output_type": "stream",
     "text": [
      "\n",
      "      Epoch    GPU_mem   box_loss   cls_loss   dfl_loss  Instances       Size\n"
     ]
    },
    {
     "name": "stderr",
     "output_type": "stream",
     "text": [
      "     91/500      8.72G      1.666      1.899       1.58         96        768: 100%|██████████| 219/219 [00:40<00:00,  5.38it/s]\n",
      "                 Class     Images  Instances      Box(P          R      mAP50  mAP50-95): 100%|██████████| 23/23 [00:02<00:00, 11.15it/s]"
     ]
    },
    {
     "name": "stdout",
     "output_type": "stream",
     "text": [
      "                   all         92       4910      0.719      0.584      0.635       0.43\n"
     ]
    },
    {
     "name": "stderr",
     "output_type": "stream",
     "text": [
      "\n"
     ]
    },
    {
     "name": "stdout",
     "output_type": "stream",
     "text": [
      "\n",
      "      Epoch    GPU_mem   box_loss   cls_loss   dfl_loss  Instances       Size\n"
     ]
    },
    {
     "name": "stderr",
     "output_type": "stream",
     "text": [
      "     92/500      9.63G      1.662      1.403      1.544        170        768: 100%|██████████| 219/219 [00:40<00:00,  5.35it/s]\n",
      "                 Class     Images  Instances      Box(P          R      mAP50  mAP50-95): 100%|██████████| 23/23 [00:02<00:00, 10.55it/s]\n"
     ]
    },
    {
     "name": "stdout",
     "output_type": "stream",
     "text": [
      "                   all         92       4910      0.723      0.616      0.652      0.449\n",
      "\n",
      "      Epoch    GPU_mem   box_loss   cls_loss   dfl_loss  Instances       Size\n"
     ]
    },
    {
     "name": "stderr",
     "output_type": "stream",
     "text": [
      "     93/500      7.75G      1.618      1.344        1.6        283        768: 100%|██████████| 219/219 [00:40<00:00,  5.41it/s]\n",
      "                 Class     Images  Instances      Box(P          R      mAP50  mAP50-95): 100%|██████████| 23/23 [00:02<00:00, 10.99it/s]"
     ]
    },
    {
     "name": "stdout",
     "output_type": "stream",
     "text": [
      "                   all         92       4910      0.682      0.631       0.62      0.422\n"
     ]
    },
    {
     "name": "stderr",
     "output_type": "stream",
     "text": [
      "\n"
     ]
    },
    {
     "name": "stdout",
     "output_type": "stream",
     "text": [
      "\n",
      "      Epoch    GPU_mem   box_loss   cls_loss   dfl_loss  Instances       Size\n"
     ]
    },
    {
     "name": "stderr",
     "output_type": "stream",
     "text": [
      "     94/500      9.68G       1.74      1.399      1.615         56        768: 100%|██████████| 219/219 [00:40<00:00,  5.37it/s]\n",
      "                 Class     Images  Instances      Box(P          R      mAP50  mAP50-95): 100%|██████████| 23/23 [00:02<00:00, 11.11it/s]"
     ]
    },
    {
     "name": "stdout",
     "output_type": "stream",
     "text": [
      "                   all         92       4910       0.72      0.609      0.647      0.431\n"
     ]
    },
    {
     "name": "stderr",
     "output_type": "stream",
     "text": [
      "\n"
     ]
    },
    {
     "name": "stdout",
     "output_type": "stream",
     "text": [
      "\n",
      "      Epoch    GPU_mem   box_loss   cls_loss   dfl_loss  Instances       Size\n"
     ]
    },
    {
     "name": "stderr",
     "output_type": "stream",
     "text": [
      "     95/500      9.35G       1.64      1.329      1.583        171        768: 100%|██████████| 219/219 [00:40<00:00,  5.38it/s]\n",
      "                 Class     Images  Instances      Box(P          R      mAP50  mAP50-95): 100%|██████████| 23/23 [00:02<00:00, 11.20it/s]"
     ]
    },
    {
     "name": "stdout",
     "output_type": "stream",
     "text": [
      "                   all         92       4910      0.715      0.611       0.64      0.436\n"
     ]
    },
    {
     "name": "stderr",
     "output_type": "stream",
     "text": [
      "\n"
     ]
    },
    {
     "name": "stdout",
     "output_type": "stream",
     "text": [
      "\n",
      "      Epoch    GPU_mem   box_loss   cls_loss   dfl_loss  Instances       Size\n"
     ]
    },
    {
     "name": "stderr",
     "output_type": "stream",
     "text": [
      "     96/500      8.94G      1.602      1.478       1.57         30        768: 100%|██████████| 219/219 [00:40<00:00,  5.36it/s]\n",
      "                 Class     Images  Instances      Box(P          R      mAP50  mAP50-95): 100%|██████████| 23/23 [00:02<00:00, 11.02it/s]"
     ]
    },
    {
     "name": "stdout",
     "output_type": "stream",
     "text": [
      "                   all         92       4910      0.666      0.606      0.609      0.416\n"
     ]
    },
    {
     "name": "stderr",
     "output_type": "stream",
     "text": [
      "\n"
     ]
    },
    {
     "name": "stdout",
     "output_type": "stream",
     "text": [
      "\n",
      "      Epoch    GPU_mem   box_loss   cls_loss   dfl_loss  Instances       Size\n"
     ]
    },
    {
     "name": "stderr",
     "output_type": "stream",
     "text": [
      "     97/500      8.43G      1.617      1.381      1.533        343        768: 100%|██████████| 219/219 [00:40<00:00,  5.39it/s]\n",
      "                 Class     Images  Instances      Box(P          R      mAP50  mAP50-95): 100%|██████████| 23/23 [00:02<00:00, 10.70it/s]\n"
     ]
    },
    {
     "name": "stdout",
     "output_type": "stream",
     "text": [
      "                   all         92       4910      0.689      0.624      0.627      0.432\n",
      "\n",
      "      Epoch    GPU_mem   box_loss   cls_loss   dfl_loss  Instances       Size\n"
     ]
    },
    {
     "name": "stderr",
     "output_type": "stream",
     "text": [
      "     98/500      10.5G      1.665      1.472      1.649        345        768: 100%|██████████| 219/219 [00:42<00:00,  5.12it/s]\n",
      "                 Class     Images  Instances      Box(P          R      mAP50  mAP50-95): 100%|██████████| 23/23 [00:02<00:00, 10.33it/s]\n"
     ]
    },
    {
     "name": "stdout",
     "output_type": "stream",
     "text": [
      "                   all         92       4910      0.623      0.626      0.555      0.375\n",
      "\n",
      "      Epoch    GPU_mem   box_loss   cls_loss   dfl_loss  Instances       Size\n"
     ]
    },
    {
     "name": "stderr",
     "output_type": "stream",
     "text": [
      "     99/500      10.6G      1.628      1.341      1.596        235        768: 100%|██████████| 219/219 [00:40<00:00,  5.37it/s]\n",
      "                 Class     Images  Instances      Box(P          R      mAP50  mAP50-95): 100%|██████████| 23/23 [00:02<00:00, 11.01it/s]"
     ]
    },
    {
     "name": "stdout",
     "output_type": "stream",
     "text": [
      "                   all         92       4910      0.757      0.605      0.672      0.459\n"
     ]
    },
    {
     "name": "stderr",
     "output_type": "stream",
     "text": [
      "\n"
     ]
    },
    {
     "name": "stdout",
     "output_type": "stream",
     "text": [
      "\n",
      "      Epoch    GPU_mem   box_loss   cls_loss   dfl_loss  Instances       Size\n"
     ]
    },
    {
     "name": "stderr",
     "output_type": "stream",
     "text": [
      "    100/500         9G      1.641      1.281      1.558        223        768: 100%|██████████| 219/219 [00:40<00:00,  5.36it/s]\n",
      "                 Class     Images  Instances      Box(P          R      mAP50  mAP50-95): 100%|██████████| 23/23 [00:02<00:00, 11.13it/s]"
     ]
    },
    {
     "name": "stdout",
     "output_type": "stream",
     "text": [
      "                   all         92       4910      0.716      0.602      0.643      0.437\n"
     ]
    },
    {
     "name": "stderr",
     "output_type": "stream",
     "text": [
      "\n"
     ]
    },
    {
     "name": "stdout",
     "output_type": "stream",
     "text": [
      "\n",
      "      Epoch    GPU_mem   box_loss   cls_loss   dfl_loss  Instances       Size\n"
     ]
    },
    {
     "name": "stderr",
     "output_type": "stream",
     "text": [
      "    101/500      9.08G      1.579        1.4      1.575        126        768: 100%|██████████| 219/219 [00:40<00:00,  5.38it/s]\n",
      "                 Class     Images  Instances      Box(P          R      mAP50  mAP50-95): 100%|██████████| 23/23 [00:02<00:00, 10.96it/s]"
     ]
    },
    {
     "name": "stdout",
     "output_type": "stream",
     "text": [
      "                   all         92       4910      0.748      0.605      0.664      0.459\n"
     ]
    },
    {
     "name": "stderr",
     "output_type": "stream",
     "text": [
      "\n"
     ]
    },
    {
     "name": "stdout",
     "output_type": "stream",
     "text": [
      "\n",
      "      Epoch    GPU_mem   box_loss   cls_loss   dfl_loss  Instances       Size\n"
     ]
    },
    {
     "name": "stderr",
     "output_type": "stream",
     "text": [
      "    102/500      8.43G       1.61      1.361      1.572         70        768: 100%|██████████| 219/219 [00:40<00:00,  5.40it/s]\n",
      "                 Class     Images  Instances      Box(P          R      mAP50  mAP50-95): 100%|██████████| 23/23 [00:02<00:00, 11.04it/s]"
     ]
    },
    {
     "name": "stdout",
     "output_type": "stream",
     "text": [
      "                   all         92       4910      0.798       0.59      0.667      0.455\n"
     ]
    },
    {
     "name": "stderr",
     "output_type": "stream",
     "text": [
      "\n"
     ]
    },
    {
     "name": "stdout",
     "output_type": "stream",
     "text": [
      "\n",
      "      Epoch    GPU_mem   box_loss   cls_loss   dfl_loss  Instances       Size\n"
     ]
    },
    {
     "name": "stderr",
     "output_type": "stream",
     "text": [
      "    103/500      9.23G      1.587      1.291      1.529       1249        768: 100%|██████████| 219/219 [00:41<00:00,  5.33it/s]\n",
      "                 Class     Images  Instances      Box(P          R      mAP50  mAP50-95): 100%|██████████| 23/23 [00:02<00:00, 10.86it/s]"
     ]
    },
    {
     "name": "stdout",
     "output_type": "stream",
     "text": [
      "                   all         92       4910      0.739      0.612      0.655      0.444\n"
     ]
    },
    {
     "name": "stderr",
     "output_type": "stream",
     "text": [
      "\n"
     ]
    },
    {
     "name": "stdout",
     "output_type": "stream",
     "text": [
      "\n",
      "      Epoch    GPU_mem   box_loss   cls_loss   dfl_loss  Instances       Size\n"
     ]
    },
    {
     "name": "stderr",
     "output_type": "stream",
     "text": [
      "    104/500      9.06G      1.659      1.444      1.567        223        768: 100%|██████████| 219/219 [00:40<00:00,  5.38it/s]\n",
      "                 Class     Images  Instances      Box(P          R      mAP50  mAP50-95): 100%|██████████| 23/23 [00:02<00:00, 10.95it/s]"
     ]
    },
    {
     "name": "stdout",
     "output_type": "stream",
     "text": [
      "                   all         92       4910      0.748      0.579      0.645      0.438\n"
     ]
    },
    {
     "name": "stderr",
     "output_type": "stream",
     "text": [
      "\n"
     ]
    },
    {
     "name": "stdout",
     "output_type": "stream",
     "text": [
      "\n",
      "      Epoch    GPU_mem   box_loss   cls_loss   dfl_loss  Instances       Size\n"
     ]
    },
    {
     "name": "stderr",
     "output_type": "stream",
     "text": [
      "    105/500      8.71G      1.643      1.301      1.535         95        768: 100%|██████████| 219/219 [00:40<00:00,  5.41it/s]\n",
      "                 Class     Images  Instances      Box(P          R      mAP50  mAP50-95): 100%|██████████| 23/23 [00:02<00:00, 11.06it/s]"
     ]
    },
    {
     "name": "stdout",
     "output_type": "stream",
     "text": [
      "                   all         92       4910       0.73      0.601      0.647      0.444\n"
     ]
    },
    {
     "name": "stderr",
     "output_type": "stream",
     "text": [
      "\n"
     ]
    },
    {
     "name": "stdout",
     "output_type": "stream",
     "text": [
      "\n",
      "      Epoch    GPU_mem   box_loss   cls_loss   dfl_loss  Instances       Size\n"
     ]
    },
    {
     "name": "stderr",
     "output_type": "stream",
     "text": [
      "    106/500      8.43G      1.577      1.269      1.503        204        768: 100%|██████████| 219/219 [00:40<00:00,  5.42it/s]\n",
      "                 Class     Images  Instances      Box(P          R      mAP50  mAP50-95): 100%|██████████| 23/23 [00:02<00:00, 10.90it/s]"
     ]
    },
    {
     "name": "stdout",
     "output_type": "stream",
     "text": [
      "                   all         92       4910      0.758      0.611      0.663       0.46\n"
     ]
    },
    {
     "name": "stderr",
     "output_type": "stream",
     "text": [
      "\n"
     ]
    },
    {
     "name": "stdout",
     "output_type": "stream",
     "text": [
      "\n",
      "      Epoch    GPU_mem   box_loss   cls_loss   dfl_loss  Instances       Size\n"
     ]
    },
    {
     "name": "stderr",
     "output_type": "stream",
     "text": [
      "    107/500      8.11G      1.609       1.38      1.592         21        768: 100%|██████████| 219/219 [00:40<00:00,  5.40it/s]\n",
      "                 Class     Images  Instances      Box(P          R      mAP50  mAP50-95): 100%|██████████| 23/23 [00:02<00:00, 11.06it/s]"
     ]
    },
    {
     "name": "stdout",
     "output_type": "stream",
     "text": [
      "                   all         92       4910      0.721       0.61      0.643       0.44\n"
     ]
    },
    {
     "name": "stderr",
     "output_type": "stream",
     "text": [
      "\n"
     ]
    },
    {
     "name": "stdout",
     "output_type": "stream",
     "text": [
      "\n",
      "      Epoch    GPU_mem   box_loss   cls_loss   dfl_loss  Instances       Size\n"
     ]
    },
    {
     "name": "stderr",
     "output_type": "stream",
     "text": [
      "    108/500      8.56G      1.628      1.286      1.545        126        768: 100%|██████████| 219/219 [00:40<00:00,  5.37it/s]\n",
      "                 Class     Images  Instances      Box(P          R      mAP50  mAP50-95): 100%|██████████| 23/23 [00:02<00:00, 11.18it/s]"
     ]
    },
    {
     "name": "stdout",
     "output_type": "stream",
     "text": [
      "                   all         92       4910      0.732      0.612      0.659      0.446\n"
     ]
    },
    {
     "name": "stderr",
     "output_type": "stream",
     "text": [
      "\n"
     ]
    },
    {
     "name": "stdout",
     "output_type": "stream",
     "text": [
      "\n",
      "      Epoch    GPU_mem   box_loss   cls_loss   dfl_loss  Instances       Size\n"
     ]
    },
    {
     "name": "stderr",
     "output_type": "stream",
     "text": [
      "    109/500      9.05G      1.592      1.313      1.575        186        768: 100%|██████████| 219/219 [00:40<00:00,  5.40it/s]\n",
      "                 Class     Images  Instances      Box(P          R      mAP50  mAP50-95): 100%|██████████| 23/23 [00:02<00:00, 11.12it/s]"
     ]
    },
    {
     "name": "stdout",
     "output_type": "stream",
     "text": [
      "                   all         92       4910      0.748      0.638      0.677      0.462\n"
     ]
    },
    {
     "name": "stderr",
     "output_type": "stream",
     "text": [
      "\n"
     ]
    },
    {
     "name": "stdout",
     "output_type": "stream",
     "text": [
      "\n",
      "      Epoch    GPU_mem   box_loss   cls_loss   dfl_loss  Instances       Size\n"
     ]
    },
    {
     "name": "stderr",
     "output_type": "stream",
     "text": [
      "    110/500      8.77G      1.594       1.41      1.531         98        768: 100%|██████████| 219/219 [00:40<00:00,  5.38it/s]\n",
      "                 Class     Images  Instances      Box(P          R      mAP50  mAP50-95): 100%|██████████| 23/23 [00:02<00:00, 10.82it/s]\n"
     ]
    },
    {
     "name": "stdout",
     "output_type": "stream",
     "text": [
      "                   all         92       4910      0.731      0.631      0.659      0.455\n",
      "\n",
      "      Epoch    GPU_mem   box_loss   cls_loss   dfl_loss  Instances       Size\n"
     ]
    },
    {
     "name": "stderr",
     "output_type": "stream",
     "text": [
      "    111/500      7.64G      1.586      1.583      1.597         69        768: 100%|██████████| 219/219 [00:40<00:00,  5.43it/s]\n",
      "                 Class     Images  Instances      Box(P          R      mAP50  mAP50-95): 100%|██████████| 23/23 [00:02<00:00, 11.15it/s]"
     ]
    },
    {
     "name": "stdout",
     "output_type": "stream",
     "text": [
      "                   all         92       4910      0.678      0.599      0.605      0.416\n"
     ]
    },
    {
     "name": "stderr",
     "output_type": "stream",
     "text": [
      "\n"
     ]
    },
    {
     "name": "stdout",
     "output_type": "stream",
     "text": [
      "\n",
      "      Epoch    GPU_mem   box_loss   cls_loss   dfl_loss  Instances       Size\n"
     ]
    },
    {
     "name": "stderr",
     "output_type": "stream",
     "text": [
      "    112/500      8.26G      1.646      1.325      1.553        414        768: 100%|██████████| 219/219 [00:40<00:00,  5.42it/s]\n",
      "                 Class     Images  Instances      Box(P          R      mAP50  mAP50-95): 100%|██████████| 23/23 [00:02<00:00, 11.08it/s]"
     ]
    },
    {
     "name": "stdout",
     "output_type": "stream",
     "text": [
      "                   all         92       4910      0.752      0.604      0.654      0.446\n"
     ]
    },
    {
     "name": "stderr",
     "output_type": "stream",
     "text": [
      "\n"
     ]
    },
    {
     "name": "stdout",
     "output_type": "stream",
     "text": [
      "\n",
      "      Epoch    GPU_mem   box_loss   cls_loss   dfl_loss  Instances       Size\n"
     ]
    },
    {
     "name": "stderr",
     "output_type": "stream",
     "text": [
      "    113/500      9.15G      1.634      1.517      1.591        195        768: 100%|██████████| 219/219 [00:40<00:00,  5.43it/s]\n",
      "                 Class     Images  Instances      Box(P          R      mAP50  mAP50-95): 100%|██████████| 23/23 [00:02<00:00, 10.97it/s]"
     ]
    },
    {
     "name": "stdout",
     "output_type": "stream",
     "text": [
      "                   all         92       4910      0.745      0.624      0.658      0.455\n"
     ]
    },
    {
     "name": "stderr",
     "output_type": "stream",
     "text": [
      "\n"
     ]
    },
    {
     "name": "stdout",
     "output_type": "stream",
     "text": [
      "\n",
      "      Epoch    GPU_mem   box_loss   cls_loss   dfl_loss  Instances       Size\n"
     ]
    },
    {
     "name": "stderr",
     "output_type": "stream",
     "text": [
      "    114/500      9.57G      1.613      1.306      1.566         37        768: 100%|██████████| 219/219 [00:40<00:00,  5.41it/s]\n",
      "                 Class     Images  Instances      Box(P          R      mAP50  mAP50-95): 100%|██████████| 23/23 [00:02<00:00, 11.06it/s]"
     ]
    },
    {
     "name": "stdout",
     "output_type": "stream",
     "text": [
      "                   all         92       4910      0.765      0.614      0.664       0.45\n"
     ]
    },
    {
     "name": "stderr",
     "output_type": "stream",
     "text": [
      "\n"
     ]
    },
    {
     "name": "stdout",
     "output_type": "stream",
     "text": [
      "\n",
      "      Epoch    GPU_mem   box_loss   cls_loss   dfl_loss  Instances       Size\n"
     ]
    },
    {
     "name": "stderr",
     "output_type": "stream",
     "text": [
      "    115/500      9.21G      1.582      1.353      1.549         42        768: 100%|██████████| 219/219 [00:40<00:00,  5.42it/s]\n",
      "                 Class     Images  Instances      Box(P          R      mAP50  mAP50-95): 100%|██████████| 23/23 [00:02<00:00, 11.08it/s]"
     ]
    },
    {
     "name": "stdout",
     "output_type": "stream",
     "text": [
      "                   all         92       4910      0.706      0.622      0.656      0.454\n"
     ]
    },
    {
     "name": "stderr",
     "output_type": "stream",
     "text": [
      "\n"
     ]
    },
    {
     "name": "stdout",
     "output_type": "stream",
     "text": [
      "\n",
      "      Epoch    GPU_mem   box_loss   cls_loss   dfl_loss  Instances       Size\n"
     ]
    },
    {
     "name": "stderr",
     "output_type": "stream",
     "text": [
      "    116/500      9.05G      1.584      1.242      1.531        859        768: 100%|██████████| 219/219 [00:40<00:00,  5.41it/s]\n",
      "                 Class     Images  Instances      Box(P          R      mAP50  mAP50-95): 100%|██████████| 23/23 [00:02<00:00, 11.00it/s]"
     ]
    },
    {
     "name": "stdout",
     "output_type": "stream",
     "text": [
      "                   all         92       4910      0.781        0.6      0.665      0.462\n"
     ]
    },
    {
     "name": "stderr",
     "output_type": "stream",
     "text": [
      "\n"
     ]
    },
    {
     "name": "stdout",
     "output_type": "stream",
     "text": [
      "\n",
      "      Epoch    GPU_mem   box_loss   cls_loss   dfl_loss  Instances       Size\n"
     ]
    },
    {
     "name": "stderr",
     "output_type": "stream",
     "text": [
      "    117/500       8.9G      1.608      1.234       1.55        517        768: 100%|██████████| 219/219 [00:40<00:00,  5.36it/s]\n",
      "                 Class     Images  Instances      Box(P          R      mAP50  mAP50-95): 100%|██████████| 23/23 [00:02<00:00, 11.30it/s]"
     ]
    },
    {
     "name": "stdout",
     "output_type": "stream",
     "text": [
      "                   all         92       4910      0.746      0.628      0.667      0.458\n"
     ]
    },
    {
     "name": "stderr",
     "output_type": "stream",
     "text": [
      "\n"
     ]
    },
    {
     "name": "stdout",
     "output_type": "stream",
     "text": [
      "\n",
      "      Epoch    GPU_mem   box_loss   cls_loss   dfl_loss  Instances       Size\n"
     ]
    },
    {
     "name": "stderr",
     "output_type": "stream",
     "text": [
      "    118/500      9.61G      1.637      1.384      1.586         50        768: 100%|██████████| 219/219 [00:40<00:00,  5.39it/s]\n",
      "                 Class     Images  Instances      Box(P          R      mAP50  mAP50-95): 100%|██████████| 23/23 [00:02<00:00, 11.08it/s]"
     ]
    },
    {
     "name": "stdout",
     "output_type": "stream",
     "text": [
      "                   all         92       4910      0.746      0.621      0.659      0.459\n"
     ]
    },
    {
     "name": "stderr",
     "output_type": "stream",
     "text": [
      "\n"
     ]
    },
    {
     "name": "stdout",
     "output_type": "stream",
     "text": [
      "\n",
      "      Epoch    GPU_mem   box_loss   cls_loss   dfl_loss  Instances       Size\n"
     ]
    },
    {
     "name": "stderr",
     "output_type": "stream",
     "text": [
      "    119/500      8.71G      1.603      1.228      1.538        424        768: 100%|██████████| 219/219 [00:40<00:00,  5.39it/s]\n",
      "                 Class     Images  Instances      Box(P          R      mAP50  mAP50-95): 100%|██████████| 23/23 [00:02<00:00, 11.11it/s]"
     ]
    },
    {
     "name": "stdout",
     "output_type": "stream",
     "text": [
      "                   all         92       4910      0.772      0.605      0.669      0.461\n"
     ]
    },
    {
     "name": "stderr",
     "output_type": "stream",
     "text": [
      "\n"
     ]
    },
    {
     "name": "stdout",
     "output_type": "stream",
     "text": [
      "\n",
      "      Epoch    GPU_mem   box_loss   cls_loss   dfl_loss  Instances       Size\n"
     ]
    },
    {
     "name": "stderr",
     "output_type": "stream",
     "text": [
      "    120/500      10.1G      1.553      1.348      1.545         33        768: 100%|██████████| 219/219 [00:40<00:00,  5.37it/s]\n",
      "                 Class     Images  Instances      Box(P          R      mAP50  mAP50-95): 100%|██████████| 23/23 [00:02<00:00, 11.09it/s]"
     ]
    },
    {
     "name": "stdout",
     "output_type": "stream",
     "text": [
      "                   all         92       4910      0.761      0.615      0.671      0.467\n"
     ]
    },
    {
     "name": "stderr",
     "output_type": "stream",
     "text": [
      "\n"
     ]
    },
    {
     "name": "stdout",
     "output_type": "stream",
     "text": [
      "\n",
      "      Epoch    GPU_mem   box_loss   cls_loss   dfl_loss  Instances       Size\n"
     ]
    },
    {
     "name": "stderr",
     "output_type": "stream",
     "text": [
      "    121/500       8.8G      1.554      1.218      1.523         92        768: 100%|██████████| 219/219 [00:40<00:00,  5.36it/s]\n",
      "                 Class     Images  Instances      Box(P          R      mAP50  mAP50-95): 100%|██████████| 23/23 [00:02<00:00, 10.79it/s]"
     ]
    },
    {
     "name": "stdout",
     "output_type": "stream",
     "text": [
      "                   all         92       4910      0.744      0.627      0.672      0.463\n"
     ]
    },
    {
     "name": "stderr",
     "output_type": "stream",
     "text": [
      "\n"
     ]
    },
    {
     "name": "stdout",
     "output_type": "stream",
     "text": [
      "\n",
      "      Epoch    GPU_mem   box_loss   cls_loss   dfl_loss  Instances       Size\n"
     ]
    },
    {
     "name": "stderr",
     "output_type": "stream",
     "text": [
      "    122/500      8.08G      1.628      1.374      1.525        426        768: 100%|██████████| 219/219 [00:40<00:00,  5.40it/s]\n",
      "                 Class     Images  Instances      Box(P          R      mAP50  mAP50-95): 100%|██████████| 23/23 [00:02<00:00, 11.18it/s]"
     ]
    },
    {
     "name": "stdout",
     "output_type": "stream",
     "text": [
      "                   all         92       4910       0.76       0.62      0.669      0.465\n"
     ]
    },
    {
     "name": "stderr",
     "output_type": "stream",
     "text": [
      "\n"
     ]
    },
    {
     "name": "stdout",
     "output_type": "stream",
     "text": [
      "\n",
      "      Epoch    GPU_mem   box_loss   cls_loss   dfl_loss  Instances       Size\n"
     ]
    },
    {
     "name": "stderr",
     "output_type": "stream",
     "text": [
      "    123/500      9.68G      1.613      1.263       1.59        430        768: 100%|██████████| 219/219 [00:40<00:00,  5.35it/s]\n",
      "                 Class     Images  Instances      Box(P          R      mAP50  mAP50-95): 100%|██████████| 23/23 [00:02<00:00, 11.21it/s]"
     ]
    },
    {
     "name": "stdout",
     "output_type": "stream",
     "text": [
      "                   all         92       4910      0.734       0.63      0.672      0.462\n"
     ]
    },
    {
     "name": "stderr",
     "output_type": "stream",
     "text": [
      "\n"
     ]
    },
    {
     "name": "stdout",
     "output_type": "stream",
     "text": [
      "\n",
      "      Epoch    GPU_mem   box_loss   cls_loss   dfl_loss  Instances       Size\n"
     ]
    },
    {
     "name": "stderr",
     "output_type": "stream",
     "text": [
      "    124/500      10.7G      1.605      1.289       1.52        134        768: 100%|██████████| 219/219 [00:44<00:00,  4.98it/s]\n",
      "                 Class     Images  Instances      Box(P          R      mAP50  mAP50-95): 100%|██████████| 23/23 [00:02<00:00,  9.88it/s]"
     ]
    },
    {
     "name": "stdout",
     "output_type": "stream",
     "text": [
      "                   all         92       4910      0.726      0.595      0.649      0.441\n"
     ]
    },
    {
     "name": "stderr",
     "output_type": "stream",
     "text": [
      "\n"
     ]
    },
    {
     "name": "stdout",
     "output_type": "stream",
     "text": [
      "\n",
      "      Epoch    GPU_mem   box_loss   cls_loss   dfl_loss  Instances       Size\n"
     ]
    },
    {
     "name": "stderr",
     "output_type": "stream",
     "text": [
      "    125/500      9.83G      1.617      1.318      1.565         44        768: 100%|██████████| 219/219 [00:41<00:00,  5.25it/s]\n",
      "                 Class     Images  Instances      Box(P          R      mAP50  mAP50-95): 100%|██████████| 23/23 [00:02<00:00, 11.05it/s]"
     ]
    },
    {
     "name": "stdout",
     "output_type": "stream",
     "text": [
      "                   all         92       4910      0.759      0.617      0.664      0.457\n"
     ]
    },
    {
     "name": "stderr",
     "output_type": "stream",
     "text": [
      "\n"
     ]
    },
    {
     "name": "stdout",
     "output_type": "stream",
     "text": [
      "\n",
      "      Epoch    GPU_mem   box_loss   cls_loss   dfl_loss  Instances       Size\n"
     ]
    },
    {
     "name": "stderr",
     "output_type": "stream",
     "text": [
      "    126/500      8.77G        1.6      1.326      1.568         45        768: 100%|██████████| 219/219 [00:40<00:00,  5.37it/s]\n",
      "                 Class     Images  Instances      Box(P          R      mAP50  mAP50-95): 100%|██████████| 23/23 [00:02<00:00, 11.16it/s]"
     ]
    },
    {
     "name": "stdout",
     "output_type": "stream",
     "text": [
      "                   all         92       4910      0.762      0.624      0.678      0.477\n"
     ]
    },
    {
     "name": "stderr",
     "output_type": "stream",
     "text": [
      "\n"
     ]
    },
    {
     "name": "stdout",
     "output_type": "stream",
     "text": [
      "\n",
      "      Epoch    GPU_mem   box_loss   cls_loss   dfl_loss  Instances       Size\n"
     ]
    },
    {
     "name": "stderr",
     "output_type": "stream",
     "text": [
      "    127/500      8.95G      1.561      1.371      1.559        170        768: 100%|██████████| 219/219 [00:40<00:00,  5.37it/s]\n",
      "                 Class     Images  Instances      Box(P          R      mAP50  mAP50-95): 100%|██████████| 23/23 [00:02<00:00, 11.07it/s]"
     ]
    },
    {
     "name": "stdout",
     "output_type": "stream",
     "text": [
      "                   all         92       4910      0.714      0.617      0.644       0.45\n"
     ]
    },
    {
     "name": "stderr",
     "output_type": "stream",
     "text": [
      "\n"
     ]
    },
    {
     "name": "stdout",
     "output_type": "stream",
     "text": [
      "\n",
      "      Epoch    GPU_mem   box_loss   cls_loss   dfl_loss  Instances       Size\n"
     ]
    },
    {
     "name": "stderr",
     "output_type": "stream",
     "text": [
      "    128/500      8.62G      1.553      1.251      1.542         81        768: 100%|██████████| 219/219 [00:40<00:00,  5.38it/s]\n",
      "                 Class     Images  Instances      Box(P          R      mAP50  mAP50-95): 100%|██████████| 23/23 [00:02<00:00, 10.98it/s]\n"
     ]
    },
    {
     "name": "stdout",
     "output_type": "stream",
     "text": [
      "                   all         92       4910      0.715      0.635      0.661      0.459\n",
      "\n",
      "      Epoch    GPU_mem   box_loss   cls_loss   dfl_loss  Instances       Size\n"
     ]
    },
    {
     "name": "stderr",
     "output_type": "stream",
     "text": [
      "    129/500      8.23G      1.544      1.292      1.515         12        768: 100%|██████████| 219/219 [00:40<00:00,  5.40it/s]\n",
      "                 Class     Images  Instances      Box(P          R      mAP50  mAP50-95): 100%|██████████| 23/23 [00:02<00:00, 10.93it/s]"
     ]
    },
    {
     "name": "stdout",
     "output_type": "stream",
     "text": [
      "                   all         92       4910      0.734       0.63      0.664      0.461\n"
     ]
    },
    {
     "name": "stderr",
     "output_type": "stream",
     "text": [
      "\n"
     ]
    },
    {
     "name": "stdout",
     "output_type": "stream",
     "text": [
      "\n",
      "      Epoch    GPU_mem   box_loss   cls_loss   dfl_loss  Instances       Size\n"
     ]
    },
    {
     "name": "stderr",
     "output_type": "stream",
     "text": [
      "    130/500      8.78G      1.546      1.226      1.501        295        768: 100%|██████████| 219/219 [00:40<00:00,  5.38it/s]\n",
      "                 Class     Images  Instances      Box(P          R      mAP50  mAP50-95): 100%|██████████| 23/23 [00:02<00:00, 11.12it/s]"
     ]
    },
    {
     "name": "stdout",
     "output_type": "stream",
     "text": [
      "                   all         92       4910       0.75      0.614      0.675      0.472\n"
     ]
    },
    {
     "name": "stderr",
     "output_type": "stream",
     "text": [
      "\n"
     ]
    },
    {
     "name": "stdout",
     "output_type": "stream",
     "text": [
      "\n",
      "      Epoch    GPU_mem   box_loss   cls_loss   dfl_loss  Instances       Size\n"
     ]
    },
    {
     "name": "stderr",
     "output_type": "stream",
     "text": [
      "    131/500      9.87G      1.573      1.313      1.539        276        768: 100%|██████████| 219/219 [00:40<00:00,  5.37it/s]\n",
      "                 Class     Images  Instances      Box(P          R      mAP50  mAP50-95): 100%|██████████| 23/23 [00:02<00:00, 11.02it/s]"
     ]
    },
    {
     "name": "stdout",
     "output_type": "stream",
     "text": [
      "                   all         92       4910      0.771      0.607      0.674       0.47\n"
     ]
    },
    {
     "name": "stderr",
     "output_type": "stream",
     "text": [
      "\n"
     ]
    },
    {
     "name": "stdout",
     "output_type": "stream",
     "text": [
      "\n",
      "      Epoch    GPU_mem   box_loss   cls_loss   dfl_loss  Instances       Size\n"
     ]
    },
    {
     "name": "stderr",
     "output_type": "stream",
     "text": [
      "    132/500      8.69G      1.585       1.47      1.503        102        768: 100%|██████████| 219/219 [00:40<00:00,  5.37it/s]\n",
      "                 Class     Images  Instances      Box(P          R      mAP50  mAP50-95): 100%|██████████| 23/23 [00:02<00:00, 11.09it/s]"
     ]
    },
    {
     "name": "stdout",
     "output_type": "stream",
     "text": [
      "                   all         92       4910      0.743      0.607      0.653      0.456\n"
     ]
    },
    {
     "name": "stderr",
     "output_type": "stream",
     "text": [
      "\n"
     ]
    },
    {
     "name": "stdout",
     "output_type": "stream",
     "text": [
      "\n",
      "      Epoch    GPU_mem   box_loss   cls_loss   dfl_loss  Instances       Size\n"
     ]
    },
    {
     "name": "stderr",
     "output_type": "stream",
     "text": [
      "    133/500      8.83G      1.592      1.305      1.492         20        768: 100%|██████████| 219/219 [00:40<00:00,  5.35it/s]\n",
      "                 Class     Images  Instances      Box(P          R      mAP50  mAP50-95): 100%|██████████| 23/23 [00:02<00:00, 11.13it/s]"
     ]
    },
    {
     "name": "stdout",
     "output_type": "stream",
     "text": [
      "                   all         92       4910      0.734      0.629      0.663       0.45\n"
     ]
    },
    {
     "name": "stderr",
     "output_type": "stream",
     "text": [
      "\n"
     ]
    },
    {
     "name": "stdout",
     "output_type": "stream",
     "text": [
      "\n",
      "      Epoch    GPU_mem   box_loss   cls_loss   dfl_loss  Instances       Size\n"
     ]
    },
    {
     "name": "stderr",
     "output_type": "stream",
     "text": [
      "    134/500       8.7G      1.577      1.249      1.555        322        768: 100%|██████████| 219/219 [00:40<00:00,  5.35it/s]\n",
      "                 Class     Images  Instances      Box(P          R      mAP50  mAP50-95): 100%|██████████| 23/23 [00:02<00:00, 11.28it/s]"
     ]
    },
    {
     "name": "stdout",
     "output_type": "stream",
     "text": [
      "                   all         92       4910      0.736      0.618      0.667      0.461\n"
     ]
    },
    {
     "name": "stderr",
     "output_type": "stream",
     "text": [
      "\n"
     ]
    },
    {
     "name": "stdout",
     "output_type": "stream",
     "text": [
      "\n",
      "      Epoch    GPU_mem   box_loss   cls_loss   dfl_loss  Instances       Size\n"
     ]
    },
    {
     "name": "stderr",
     "output_type": "stream",
     "text": [
      "    135/500      9.38G      1.606      1.213      1.528        134        768: 100%|██████████| 219/219 [00:40<00:00,  5.36it/s]\n",
      "                 Class     Images  Instances      Box(P          R      mAP50  mAP50-95): 100%|██████████| 23/23 [00:02<00:00, 11.07it/s]"
     ]
    },
    {
     "name": "stdout",
     "output_type": "stream",
     "text": [
      "                   all         92       4910      0.768      0.629      0.684      0.472\n"
     ]
    },
    {
     "name": "stderr",
     "output_type": "stream",
     "text": [
      "\n"
     ]
    },
    {
     "name": "stdout",
     "output_type": "stream",
     "text": [
      "\n",
      "      Epoch    GPU_mem   box_loss   cls_loss   dfl_loss  Instances       Size\n"
     ]
    },
    {
     "name": "stderr",
     "output_type": "stream",
     "text": [
      "    136/500      8.51G      1.549       1.22      1.531        377        768: 100%|██████████| 219/219 [00:40<00:00,  5.35it/s]\n",
      "                 Class     Images  Instances      Box(P          R      mAP50  mAP50-95): 100%|██████████| 23/23 [00:02<00:00, 11.17it/s]"
     ]
    },
    {
     "name": "stdout",
     "output_type": "stream",
     "text": [
      "                   all         92       4910      0.751      0.651      0.693      0.473\n"
     ]
    },
    {
     "name": "stderr",
     "output_type": "stream",
     "text": [
      "\n"
     ]
    },
    {
     "name": "stdout",
     "output_type": "stream",
     "text": [
      "\n",
      "      Epoch    GPU_mem   box_loss   cls_loss   dfl_loss  Instances       Size\n"
     ]
    },
    {
     "name": "stderr",
     "output_type": "stream",
     "text": [
      "    137/500        10G      1.563      1.262      1.545        193        768: 100%|██████████| 219/219 [00:40<00:00,  5.34it/s]\n",
      "                 Class     Images  Instances      Box(P          R      mAP50  mAP50-95): 100%|██████████| 23/23 [00:02<00:00, 11.02it/s]"
     ]
    },
    {
     "name": "stdout",
     "output_type": "stream",
     "text": [
      "                   all         92       4910      0.757      0.624      0.666      0.463\n"
     ]
    },
    {
     "name": "stderr",
     "output_type": "stream",
     "text": [
      "\n"
     ]
    },
    {
     "name": "stdout",
     "output_type": "stream",
     "text": [
      "\n",
      "      Epoch    GPU_mem   box_loss   cls_loss   dfl_loss  Instances       Size\n"
     ]
    },
    {
     "name": "stderr",
     "output_type": "stream",
     "text": [
      "    138/500      8.88G      1.535      1.196       1.51        281        768: 100%|██████████| 219/219 [00:40<00:00,  5.36it/s]\n",
      "                 Class     Images  Instances      Box(P          R      mAP50  mAP50-95): 100%|██████████| 23/23 [00:02<00:00, 10.90it/s]"
     ]
    },
    {
     "name": "stdout",
     "output_type": "stream",
     "text": [
      "                   all         92       4910      0.743      0.643      0.681      0.471\n"
     ]
    },
    {
     "name": "stderr",
     "output_type": "stream",
     "text": [
      "\n"
     ]
    },
    {
     "name": "stdout",
     "output_type": "stream",
     "text": [
      "\n",
      "      Epoch    GPU_mem   box_loss   cls_loss   dfl_loss  Instances       Size\n"
     ]
    },
    {
     "name": "stderr",
     "output_type": "stream",
     "text": [
      "    139/500      8.44G      1.631      1.444      1.518         79        768: 100%|██████████| 219/219 [00:40<00:00,  5.34it/s]\n",
      "                 Class     Images  Instances      Box(P          R      mAP50  mAP50-95): 100%|██████████| 23/23 [00:02<00:00, 11.07it/s]"
     ]
    },
    {
     "name": "stdout",
     "output_type": "stream",
     "text": [
      "                   all         92       4910      0.691       0.66      0.653      0.455\n"
     ]
    },
    {
     "name": "stderr",
     "output_type": "stream",
     "text": [
      "\n"
     ]
    },
    {
     "name": "stdout",
     "output_type": "stream",
     "text": [
      "\n",
      "      Epoch    GPU_mem   box_loss   cls_loss   dfl_loss  Instances       Size\n"
     ]
    },
    {
     "name": "stderr",
     "output_type": "stream",
     "text": [
      "    140/500      8.41G      1.549      1.181      1.535        154        768: 100%|██████████| 219/219 [00:40<00:00,  5.39it/s]\n",
      "                 Class     Images  Instances      Box(P          R      mAP50  mAP50-95): 100%|██████████| 23/23 [00:02<00:00, 11.02it/s]"
     ]
    },
    {
     "name": "stdout",
     "output_type": "stream",
     "text": [
      "                   all         92       4910      0.741      0.629      0.668       0.46\n"
     ]
    },
    {
     "name": "stderr",
     "output_type": "stream",
     "text": [
      "\n"
     ]
    },
    {
     "name": "stdout",
     "output_type": "stream",
     "text": [
      "\n",
      "      Epoch    GPU_mem   box_loss   cls_loss   dfl_loss  Instances       Size\n"
     ]
    },
    {
     "name": "stderr",
     "output_type": "stream",
     "text": [
      "    141/500      10.6G      1.521       1.29      1.524         31        768: 100%|██████████| 219/219 [00:42<00:00,  5.21it/s]\n",
      "                 Class     Images  Instances      Box(P          R      mAP50  mAP50-95): 100%|██████████| 23/23 [00:02<00:00, 11.00it/s]\n"
     ]
    },
    {
     "name": "stdout",
     "output_type": "stream",
     "text": [
      "                   all         92       4910      0.752       0.64      0.684      0.473\n",
      "\n",
      "      Epoch    GPU_mem   box_loss   cls_loss   dfl_loss  Instances       Size\n"
     ]
    },
    {
     "name": "stderr",
     "output_type": "stream",
     "text": [
      "    142/500       9.2G      1.584      1.205      1.578        167        768: 100%|██████████| 219/219 [00:39<00:00,  5.53it/s]\n",
      "                 Class     Images  Instances      Box(P          R      mAP50  mAP50-95): 100%|██████████| 23/23 [00:02<00:00, 11.34it/s]"
     ]
    },
    {
     "name": "stdout",
     "output_type": "stream",
     "text": [
      "                   all         92       4910      0.772      0.643      0.691      0.479\n"
     ]
    },
    {
     "name": "stderr",
     "output_type": "stream",
     "text": [
      "\n"
     ]
    },
    {
     "name": "stdout",
     "output_type": "stream",
     "text": [
      "\n",
      "      Epoch    GPU_mem   box_loss   cls_loss   dfl_loss  Instances       Size\n"
     ]
    },
    {
     "name": "stderr",
     "output_type": "stream",
     "text": [
      "    143/500       8.7G      1.519      1.215      1.492         63        768: 100%|██████████| 219/219 [00:39<00:00,  5.54it/s]\n",
      "                 Class     Images  Instances      Box(P          R      mAP50  mAP50-95): 100%|██████████| 23/23 [00:02<00:00, 11.47it/s]"
     ]
    },
    {
     "name": "stdout",
     "output_type": "stream",
     "text": [
      "                   all         92       4910      0.747      0.646      0.686      0.479\n"
     ]
    },
    {
     "name": "stderr",
     "output_type": "stream",
     "text": [
      "\n"
     ]
    },
    {
     "name": "stdout",
     "output_type": "stream",
     "text": [
      "\n",
      "      Epoch    GPU_mem   box_loss   cls_loss   dfl_loss  Instances       Size\n"
     ]
    },
    {
     "name": "stderr",
     "output_type": "stream",
     "text": [
      "    144/500      8.15G      1.556       1.26      1.517         57        768: 100%|██████████| 219/219 [00:39<00:00,  5.56it/s]\n",
      "                 Class     Images  Instances      Box(P          R      mAP50  mAP50-95): 100%|██████████| 23/23 [00:02<00:00, 11.08it/s]"
     ]
    },
    {
     "name": "stdout",
     "output_type": "stream",
     "text": [
      "                   all         92       4910      0.702      0.668      0.671      0.478\n"
     ]
    },
    {
     "name": "stderr",
     "output_type": "stream",
     "text": [
      "\n"
     ]
    },
    {
     "name": "stdout",
     "output_type": "stream",
     "text": [
      "\n",
      "      Epoch    GPU_mem   box_loss   cls_loss   dfl_loss  Instances       Size\n"
     ]
    },
    {
     "name": "stderr",
     "output_type": "stream",
     "text": [
      "    145/500      9.08G      1.555      1.208      1.503        203        768: 100%|██████████| 219/219 [00:39<00:00,  5.51it/s]\n",
      "                 Class     Images  Instances      Box(P          R      mAP50  mAP50-95): 100%|██████████| 23/23 [00:01<00:00, 11.59it/s]"
     ]
    },
    {
     "name": "stdout",
     "output_type": "stream",
     "text": [
      "                   all         92       4910      0.758      0.615      0.668       0.47\n"
     ]
    },
    {
     "name": "stderr",
     "output_type": "stream",
     "text": [
      "\n"
     ]
    },
    {
     "name": "stdout",
     "output_type": "stream",
     "text": [
      "\n",
      "      Epoch    GPU_mem   box_loss   cls_loss   dfl_loss  Instances       Size\n"
     ]
    },
    {
     "name": "stderr",
     "output_type": "stream",
     "text": [
      "    146/500      10.9G      1.516      1.385      1.523        356        768: 100%|██████████| 219/219 [00:39<00:00,  5.53it/s]\n",
      "                 Class     Images  Instances      Box(P          R      mAP50  mAP50-95): 100%|██████████| 23/23 [00:01<00:00, 11.67it/s]"
     ]
    },
    {
     "name": "stdout",
     "output_type": "stream",
     "text": [
      "                   all         92       4910      0.744       0.64      0.686      0.481\n"
     ]
    },
    {
     "name": "stderr",
     "output_type": "stream",
     "text": [
      "\n"
     ]
    },
    {
     "name": "stdout",
     "output_type": "stream",
     "text": [
      "\n",
      "      Epoch    GPU_mem   box_loss   cls_loss   dfl_loss  Instances       Size\n"
     ]
    },
    {
     "name": "stderr",
     "output_type": "stream",
     "text": [
      "    147/500       9.4G      1.539      1.195      1.517        276        768: 100%|██████████| 219/219 [00:39<00:00,  5.52it/s]\n",
      "                 Class     Images  Instances      Box(P          R      mAP50  mAP50-95): 100%|██████████| 23/23 [00:02<00:00, 11.26it/s]"
     ]
    },
    {
     "name": "stdout",
     "output_type": "stream",
     "text": [
      "                   all         92       4910      0.742      0.629      0.689       0.48\n"
     ]
    },
    {
     "name": "stderr",
     "output_type": "stream",
     "text": [
      "\n"
     ]
    },
    {
     "name": "stdout",
     "output_type": "stream",
     "text": [
      "\n",
      "      Epoch    GPU_mem   box_loss   cls_loss   dfl_loss  Instances       Size\n"
     ]
    },
    {
     "name": "stderr",
     "output_type": "stream",
     "text": [
      "    148/500      9.24G      1.544      1.331      1.504         21        768: 100%|██████████| 219/219 [00:39<00:00,  5.52it/s]\n",
      "                 Class     Images  Instances      Box(P          R      mAP50  mAP50-95): 100%|██████████| 23/23 [00:02<00:00, 11.41it/s]"
     ]
    },
    {
     "name": "stdout",
     "output_type": "stream",
     "text": [
      "                   all         92       4910      0.753      0.638      0.685       0.48\n"
     ]
    },
    {
     "name": "stderr",
     "output_type": "stream",
     "text": [
      "\n"
     ]
    },
    {
     "name": "stdout",
     "output_type": "stream",
     "text": [
      "\n",
      "      Epoch    GPU_mem   box_loss   cls_loss   dfl_loss  Instances       Size\n"
     ]
    },
    {
     "name": "stderr",
     "output_type": "stream",
     "text": [
      "    149/500      7.65G      1.495      1.223      1.476         56        768: 100%|██████████| 219/219 [00:39<00:00,  5.53it/s]\n",
      "                 Class     Images  Instances      Box(P          R      mAP50  mAP50-95): 100%|██████████| 23/23 [00:01<00:00, 11.60it/s]"
     ]
    },
    {
     "name": "stdout",
     "output_type": "stream",
     "text": [
      "                   all         92       4910      0.729      0.651      0.673      0.473\n"
     ]
    },
    {
     "name": "stderr",
     "output_type": "stream",
     "text": [
      "\n"
     ]
    },
    {
     "name": "stdout",
     "output_type": "stream",
     "text": [
      "\n",
      "      Epoch    GPU_mem   box_loss   cls_loss   dfl_loss  Instances       Size\n"
     ]
    },
    {
     "name": "stderr",
     "output_type": "stream",
     "text": [
      "    150/500      8.81G       1.55      1.248      1.479        218        768: 100%|██████████| 219/219 [00:39<00:00,  5.54it/s]\n",
      "                 Class     Images  Instances      Box(P          R      mAP50  mAP50-95): 100%|██████████| 23/23 [00:01<00:00, 11.56it/s]"
     ]
    },
    {
     "name": "stdout",
     "output_type": "stream",
     "text": [
      "                   all         92       4910      0.729      0.623      0.661      0.453\n"
     ]
    },
    {
     "name": "stderr",
     "output_type": "stream",
     "text": [
      "\n"
     ]
    },
    {
     "name": "stdout",
     "output_type": "stream",
     "text": [
      "\n",
      "      Epoch    GPU_mem   box_loss   cls_loss   dfl_loss  Instances       Size\n"
     ]
    },
    {
     "name": "stderr",
     "output_type": "stream",
     "text": [
      "    151/500      10.7G       1.57      1.417      1.492        346        768: 100%|██████████| 219/219 [00:39<00:00,  5.54it/s]\n",
      "                 Class     Images  Instances      Box(P          R      mAP50  mAP50-95): 100%|██████████| 23/23 [00:01<00:00, 11.53it/s]"
     ]
    },
    {
     "name": "stdout",
     "output_type": "stream",
     "text": [
      "                   all         92       4910      0.744      0.651      0.685      0.478\n"
     ]
    },
    {
     "name": "stderr",
     "output_type": "stream",
     "text": [
      "\n"
     ]
    },
    {
     "name": "stdout",
     "output_type": "stream",
     "text": [
      "\n",
      "      Epoch    GPU_mem   box_loss   cls_loss   dfl_loss  Instances       Size\n"
     ]
    },
    {
     "name": "stderr",
     "output_type": "stream",
     "text": [
      "    152/500      8.81G      1.519      1.198      1.499        107        768: 100%|██████████| 219/219 [00:39<00:00,  5.53it/s]\n",
      "                 Class     Images  Instances      Box(P          R      mAP50  mAP50-95): 100%|██████████| 23/23 [00:01<00:00, 11.52it/s]"
     ]
    },
    {
     "name": "stdout",
     "output_type": "stream",
     "text": [
      "                   all         92       4910      0.746      0.645      0.682      0.478\n"
     ]
    },
    {
     "name": "stderr",
     "output_type": "stream",
     "text": [
      "\n"
     ]
    },
    {
     "name": "stdout",
     "output_type": "stream",
     "text": [
      "\n",
      "      Epoch    GPU_mem   box_loss   cls_loss   dfl_loss  Instances       Size\n"
     ]
    },
    {
     "name": "stderr",
     "output_type": "stream",
     "text": [
      "    153/500      7.68G        1.5      1.087      1.504        228        768: 100%|██████████| 219/219 [00:39<00:00,  5.55it/s]\n",
      "                 Class     Images  Instances      Box(P          R      mAP50  mAP50-95): 100%|██████████| 23/23 [00:02<00:00, 11.36it/s]"
     ]
    },
    {
     "name": "stdout",
     "output_type": "stream",
     "text": [
      "                   all         92       4910      0.747      0.668      0.702      0.494\n"
     ]
    },
    {
     "name": "stderr",
     "output_type": "stream",
     "text": [
      "\n"
     ]
    },
    {
     "name": "stdout",
     "output_type": "stream",
     "text": [
      "\n",
      "      Epoch    GPU_mem   box_loss   cls_loss   dfl_loss  Instances       Size\n"
     ]
    },
    {
     "name": "stderr",
     "output_type": "stream",
     "text": [
      "    154/500       8.3G      1.504      1.173      1.479         27        768: 100%|██████████| 219/219 [00:39<00:00,  5.52it/s]\n",
      "                 Class     Images  Instances      Box(P          R      mAP50  mAP50-95): 100%|██████████| 23/23 [00:02<00:00, 11.26it/s]"
     ]
    },
    {
     "name": "stdout",
     "output_type": "stream",
     "text": [
      "                   all         92       4910       0.75      0.639      0.688      0.489\n"
     ]
    },
    {
     "name": "stderr",
     "output_type": "stream",
     "text": [
      "\n"
     ]
    },
    {
     "name": "stdout",
     "output_type": "stream",
     "text": [
      "\n",
      "      Epoch    GPU_mem   box_loss   cls_loss   dfl_loss  Instances       Size\n"
     ]
    },
    {
     "name": "stderr",
     "output_type": "stream",
     "text": [
      "    155/500      9.58G      1.541      1.256      1.575       1135        768: 100%|██████████| 219/219 [00:39<00:00,  5.52it/s]\n",
      "                 Class     Images  Instances      Box(P          R      mAP50  mAP50-95): 100%|██████████| 23/23 [00:02<00:00, 11.47it/s]"
     ]
    },
    {
     "name": "stdout",
     "output_type": "stream",
     "text": [
      "                   all         92       4910      0.743      0.664      0.698      0.488\n"
     ]
    },
    {
     "name": "stderr",
     "output_type": "stream",
     "text": [
      "\n"
     ]
    },
    {
     "name": "stdout",
     "output_type": "stream",
     "text": [
      "\n",
      "      Epoch    GPU_mem   box_loss   cls_loss   dfl_loss  Instances       Size\n"
     ]
    },
    {
     "name": "stderr",
     "output_type": "stream",
     "text": [
      "    156/500      9.18G      1.538      1.145      1.477        243        768: 100%|██████████| 219/219 [00:39<00:00,  5.51it/s]\n",
      "                 Class     Images  Instances      Box(P          R      mAP50  mAP50-95): 100%|██████████| 23/23 [00:01<00:00, 11.54it/s]"
     ]
    },
    {
     "name": "stdout",
     "output_type": "stream",
     "text": [
      "                   all         92       4910      0.802      0.625      0.697      0.486\n"
     ]
    },
    {
     "name": "stderr",
     "output_type": "stream",
     "text": [
      "\n"
     ]
    },
    {
     "name": "stdout",
     "output_type": "stream",
     "text": [
      "\n",
      "      Epoch    GPU_mem   box_loss   cls_loss   dfl_loss  Instances       Size\n"
     ]
    },
    {
     "name": "stderr",
     "output_type": "stream",
     "text": [
      "    157/500      9.03G      1.484       1.24      1.485        140        768: 100%|██████████| 219/219 [00:39<00:00,  5.52it/s]\n",
      "                 Class     Images  Instances      Box(P          R      mAP50  mAP50-95): 100%|██████████| 23/23 [00:01<00:00, 11.55it/s]"
     ]
    },
    {
     "name": "stdout",
     "output_type": "stream",
     "text": [
      "                   all         92       4910      0.779      0.627      0.702      0.489\n"
     ]
    },
    {
     "name": "stderr",
     "output_type": "stream",
     "text": [
      "\n"
     ]
    },
    {
     "name": "stdout",
     "output_type": "stream",
     "text": [
      "\n",
      "      Epoch    GPU_mem   box_loss   cls_loss   dfl_loss  Instances       Size\n"
     ]
    },
    {
     "name": "stderr",
     "output_type": "stream",
     "text": [
      "    158/500      8.52G      1.496      1.223       1.47        135        768: 100%|██████████| 219/219 [00:39<00:00,  5.53it/s]\n",
      "                 Class     Images  Instances      Box(P          R      mAP50  mAP50-95): 100%|██████████| 23/23 [00:02<00:00, 11.23it/s]"
     ]
    },
    {
     "name": "stdout",
     "output_type": "stream",
     "text": [
      "                   all         92       4910      0.765      0.637      0.697      0.496\n"
     ]
    },
    {
     "name": "stderr",
     "output_type": "stream",
     "text": [
      "\n"
     ]
    },
    {
     "name": "stdout",
     "output_type": "stream",
     "text": [
      "\n",
      "      Epoch    GPU_mem   box_loss   cls_loss   dfl_loss  Instances       Size\n"
     ]
    },
    {
     "name": "stderr",
     "output_type": "stream",
     "text": [
      "    159/500      7.94G       1.45      1.252      1.476        204        768: 100%|██████████| 219/219 [00:39<00:00,  5.56it/s]\n",
      "                 Class     Images  Instances      Box(P          R      mAP50  mAP50-95): 100%|██████████| 23/23 [00:02<00:00, 11.31it/s]"
     ]
    },
    {
     "name": "stdout",
     "output_type": "stream",
     "text": [
      "                   all         92       4910      0.752      0.631      0.684      0.481\n"
     ]
    },
    {
     "name": "stderr",
     "output_type": "stream",
     "text": [
      "\n"
     ]
    },
    {
     "name": "stdout",
     "output_type": "stream",
     "text": [
      "\n",
      "      Epoch    GPU_mem   box_loss   cls_loss   dfl_loss  Instances       Size\n"
     ]
    },
    {
     "name": "stderr",
     "output_type": "stream",
     "text": [
      "    160/500      8.29G      1.518      1.285      1.545        643        768: 100%|██████████| 219/219 [00:39<00:00,  5.53it/s]\n",
      "                 Class     Images  Instances      Box(P          R      mAP50  mAP50-95): 100%|██████████| 23/23 [00:01<00:00, 11.56it/s]"
     ]
    },
    {
     "name": "stdout",
     "output_type": "stream",
     "text": [
      "                   all         92       4910      0.754       0.63      0.673      0.473\n"
     ]
    },
    {
     "name": "stderr",
     "output_type": "stream",
     "text": [
      "\n"
     ]
    },
    {
     "name": "stdout",
     "output_type": "stream",
     "text": [
      "\n",
      "      Epoch    GPU_mem   box_loss   cls_loss   dfl_loss  Instances       Size\n"
     ]
    },
    {
     "name": "stderr",
     "output_type": "stream",
     "text": [
      "    161/500      8.87G      1.486      1.179      1.491        110        768: 100%|██████████| 219/219 [00:39<00:00,  5.53it/s]\n",
      "                 Class     Images  Instances      Box(P          R      mAP50  mAP50-95): 100%|██████████| 23/23 [00:02<00:00, 11.48it/s]"
     ]
    },
    {
     "name": "stdout",
     "output_type": "stream",
     "text": [
      "                   all         92       4910       0.75      0.626      0.676      0.474\n"
     ]
    },
    {
     "name": "stderr",
     "output_type": "stream",
     "text": [
      "\n"
     ]
    },
    {
     "name": "stdout",
     "output_type": "stream",
     "text": [
      "\n",
      "      Epoch    GPU_mem   box_loss   cls_loss   dfl_loss  Instances       Size\n"
     ]
    },
    {
     "name": "stderr",
     "output_type": "stream",
     "text": [
      "    162/500      8.78G      1.497      1.297      1.515        314        768: 100%|██████████| 219/219 [00:39<00:00,  5.53it/s]\n",
      "                 Class     Images  Instances      Box(P          R      mAP50  mAP50-95): 100%|██████████| 23/23 [00:02<00:00, 11.28it/s]"
     ]
    },
    {
     "name": "stdout",
     "output_type": "stream",
     "text": [
      "                   all         92       4910       0.76      0.623      0.679      0.481\n"
     ]
    },
    {
     "name": "stderr",
     "output_type": "stream",
     "text": [
      "\n"
     ]
    },
    {
     "name": "stdout",
     "output_type": "stream",
     "text": [
      "\n",
      "      Epoch    GPU_mem   box_loss   cls_loss   dfl_loss  Instances       Size\n"
     ]
    },
    {
     "name": "stderr",
     "output_type": "stream",
     "text": [
      "    163/500      8.09G      1.513      1.166      1.477         54        768: 100%|██████████| 219/219 [00:39<00:00,  5.52it/s]\n",
      "                 Class     Images  Instances      Box(P          R      mAP50  mAP50-95): 100%|██████████| 23/23 [00:02<00:00, 11.45it/s]"
     ]
    },
    {
     "name": "stdout",
     "output_type": "stream",
     "text": [
      "                   all         92       4910      0.732      0.637      0.669      0.468\n"
     ]
    },
    {
     "name": "stderr",
     "output_type": "stream",
     "text": [
      "\n"
     ]
    },
    {
     "name": "stdout",
     "output_type": "stream",
     "text": [
      "\n",
      "      Epoch    GPU_mem   box_loss   cls_loss   dfl_loss  Instances       Size\n"
     ]
    },
    {
     "name": "stderr",
     "output_type": "stream",
     "text": [
      "    164/500      9.66G      1.512      1.274      1.571        247        768: 100%|██████████| 219/219 [00:39<00:00,  5.54it/s]\n",
      "                 Class     Images  Instances      Box(P          R      mAP50  mAP50-95): 100%|██████████| 23/23 [00:01<00:00, 11.57it/s]"
     ]
    },
    {
     "name": "stdout",
     "output_type": "stream",
     "text": [
      "                   all         92       4910      0.742      0.638      0.673      0.465\n"
     ]
    },
    {
     "name": "stderr",
     "output_type": "stream",
     "text": [
      "\n"
     ]
    },
    {
     "name": "stdout",
     "output_type": "stream",
     "text": [
      "\n",
      "      Epoch    GPU_mem   box_loss   cls_loss   dfl_loss  Instances       Size\n"
     ]
    },
    {
     "name": "stderr",
     "output_type": "stream",
     "text": [
      "    165/500      8.66G      1.541      1.307      1.509         59        768: 100%|██████████| 219/219 [00:39<00:00,  5.51it/s]\n",
      "                 Class     Images  Instances      Box(P          R      mAP50  mAP50-95): 100%|██████████| 23/23 [00:02<00:00, 11.39it/s]"
     ]
    },
    {
     "name": "stdout",
     "output_type": "stream",
     "text": [
      "                   all         92       4910       0.77      0.646      0.698      0.492\n"
     ]
    },
    {
     "name": "stderr",
     "output_type": "stream",
     "text": [
      "\n"
     ]
    },
    {
     "name": "stdout",
     "output_type": "stream",
     "text": [
      "\n",
      "      Epoch    GPU_mem   box_loss   cls_loss   dfl_loss  Instances       Size\n"
     ]
    },
    {
     "name": "stderr",
     "output_type": "stream",
     "text": [
      "    166/500      8.75G      1.502      1.178      1.504         87        768: 100%|██████████| 219/219 [00:39<00:00,  5.52it/s]\n",
      "                 Class     Images  Instances      Box(P          R      mAP50  mAP50-95): 100%|██████████| 23/23 [00:01<00:00, 11.53it/s]"
     ]
    },
    {
     "name": "stdout",
     "output_type": "stream",
     "text": [
      "                   all         92       4910       0.73      0.645      0.668      0.469\n"
     ]
    },
    {
     "name": "stderr",
     "output_type": "stream",
     "text": [
      "\n"
     ]
    },
    {
     "name": "stdout",
     "output_type": "stream",
     "text": [
      "\n",
      "      Epoch    GPU_mem   box_loss   cls_loss   dfl_loss  Instances       Size\n"
     ]
    },
    {
     "name": "stderr",
     "output_type": "stream",
     "text": [
      "    167/500       9.3G      1.537      1.132      1.471        456        768: 100%|██████████| 219/219 [00:39<00:00,  5.53it/s]\n",
      "                 Class     Images  Instances      Box(P          R      mAP50  mAP50-95): 100%|██████████| 23/23 [00:01<00:00, 11.60it/s]"
     ]
    },
    {
     "name": "stdout",
     "output_type": "stream",
     "text": [
      "                   all         92       4910      0.793      0.628      0.701      0.496\n"
     ]
    },
    {
     "name": "stderr",
     "output_type": "stream",
     "text": [
      "\n"
     ]
    },
    {
     "name": "stdout",
     "output_type": "stream",
     "text": [
      "\n",
      "      Epoch    GPU_mem   box_loss   cls_loss   dfl_loss  Instances       Size\n"
     ]
    },
    {
     "name": "stderr",
     "output_type": "stream",
     "text": [
      "    168/500      9.31G      1.492      1.187      1.499         36        768: 100%|██████████| 219/219 [00:39<00:00,  5.52it/s]\n",
      "                 Class     Images  Instances      Box(P          R      mAP50  mAP50-95): 100%|██████████| 23/23 [00:01<00:00, 11.64it/s]"
     ]
    },
    {
     "name": "stdout",
     "output_type": "stream",
     "text": [
      "                   all         92       4910      0.723      0.667      0.682      0.481\n"
     ]
    },
    {
     "name": "stderr",
     "output_type": "stream",
     "text": [
      "\n"
     ]
    },
    {
     "name": "stdout",
     "output_type": "stream",
     "text": [
      "\n",
      "      Epoch    GPU_mem   box_loss   cls_loss   dfl_loss  Instances       Size\n"
     ]
    },
    {
     "name": "stderr",
     "output_type": "stream",
     "text": [
      "    169/500      8.61G      1.525      1.201      1.489        269        768: 100%|██████████| 219/219 [00:39<00:00,  5.54it/s]\n",
      "                 Class     Images  Instances      Box(P          R      mAP50  mAP50-95): 100%|██████████| 23/23 [00:02<00:00, 11.40it/s]"
     ]
    },
    {
     "name": "stdout",
     "output_type": "stream",
     "text": [
      "                   all         92       4910      0.769      0.633      0.681      0.479\n"
     ]
    },
    {
     "name": "stderr",
     "output_type": "stream",
     "text": [
      "\n"
     ]
    },
    {
     "name": "stdout",
     "output_type": "stream",
     "text": [
      "\n",
      "      Epoch    GPU_mem   box_loss   cls_loss   dfl_loss  Instances       Size\n"
     ]
    },
    {
     "name": "stderr",
     "output_type": "stream",
     "text": [
      "    170/500      9.14G       1.49      1.173      1.476         81        768: 100%|██████████| 219/219 [00:39<00:00,  5.51it/s]\n",
      "                 Class     Images  Instances      Box(P          R      mAP50  mAP50-95): 100%|██████████| 23/23 [00:02<00:00, 11.43it/s]"
     ]
    },
    {
     "name": "stdout",
     "output_type": "stream",
     "text": [
      "                   all         92       4910      0.766      0.642      0.679      0.477\n"
     ]
    },
    {
     "name": "stderr",
     "output_type": "stream",
     "text": [
      "\n"
     ]
    },
    {
     "name": "stdout",
     "output_type": "stream",
     "text": [
      "\n",
      "      Epoch    GPU_mem   box_loss   cls_loss   dfl_loss  Instances       Size\n"
     ]
    },
    {
     "name": "stderr",
     "output_type": "stream",
     "text": [
      "    171/500      9.86G      1.523      1.136       1.47         22        768: 100%|██████████| 219/219 [00:39<00:00,  5.51it/s]\n",
      "                 Class     Images  Instances      Box(P          R      mAP50  mAP50-95): 100%|██████████| 23/23 [00:01<00:00, 11.71it/s]"
     ]
    },
    {
     "name": "stdout",
     "output_type": "stream",
     "text": [
      "                   all         92       4910      0.747      0.656      0.693      0.482\n"
     ]
    },
    {
     "name": "stderr",
     "output_type": "stream",
     "text": [
      "\n"
     ]
    },
    {
     "name": "stdout",
     "output_type": "stream",
     "text": [
      "\n",
      "      Epoch    GPU_mem   box_loss   cls_loss   dfl_loss  Instances       Size\n"
     ]
    },
    {
     "name": "stderr",
     "output_type": "stream",
     "text": [
      "    172/500      9.57G       1.51      1.137      1.486        497        768: 100%|██████████| 219/219 [00:39<00:00,  5.52it/s]\n",
      "                 Class     Images  Instances      Box(P          R      mAP50  mAP50-95): 100%|██████████| 23/23 [00:02<00:00, 11.35it/s]"
     ]
    },
    {
     "name": "stdout",
     "output_type": "stream",
     "text": [
      "                   all         92       4910      0.768      0.645      0.692      0.485\n"
     ]
    },
    {
     "name": "stderr",
     "output_type": "stream",
     "text": [
      "\n"
     ]
    },
    {
     "name": "stdout",
     "output_type": "stream",
     "text": [
      "\n",
      "      Epoch    GPU_mem   box_loss   cls_loss   dfl_loss  Instances       Size\n"
     ]
    },
    {
     "name": "stderr",
     "output_type": "stream",
     "text": [
      "    173/500      8.11G      1.512      1.326      1.471        322        768: 100%|██████████| 219/219 [00:40<00:00,  5.42it/s]\n",
      "                 Class     Images  Instances      Box(P          R      mAP50  mAP50-95): 100%|██████████| 23/23 [00:02<00:00, 10.80it/s]"
     ]
    },
    {
     "name": "stdout",
     "output_type": "stream",
     "text": [
      "                   all         92       4910      0.751       0.62      0.664      0.469\n"
     ]
    },
    {
     "name": "stderr",
     "output_type": "stream",
     "text": [
      "\n"
     ]
    },
    {
     "name": "stdout",
     "output_type": "stream",
     "text": [
      "\n",
      "      Epoch    GPU_mem   box_loss   cls_loss   dfl_loss  Instances       Size\n"
     ]
    },
    {
     "name": "stderr",
     "output_type": "stream",
     "text": [
      "    174/500      8.64G      1.505       1.51      1.481         22        768: 100%|██████████| 219/219 [00:40<00:00,  5.36it/s]\n",
      "                 Class     Images  Instances      Box(P          R      mAP50  mAP50-95): 100%|██████████| 23/23 [00:02<00:00, 11.20it/s]"
     ]
    },
    {
     "name": "stdout",
     "output_type": "stream",
     "text": [
      "                   all         92       4910      0.749      0.628      0.674      0.472\n"
     ]
    },
    {
     "name": "stderr",
     "output_type": "stream",
     "text": [
      "\n"
     ]
    },
    {
     "name": "stdout",
     "output_type": "stream",
     "text": [
      "\n",
      "      Epoch    GPU_mem   box_loss   cls_loss   dfl_loss  Instances       Size\n"
     ]
    },
    {
     "name": "stderr",
     "output_type": "stream",
     "text": [
      "    175/500      8.84G      1.453      1.086      1.458        161        768: 100%|██████████| 219/219 [00:40<00:00,  5.36it/s]\n",
      "                 Class     Images  Instances      Box(P          R      mAP50  mAP50-95): 100%|██████████| 23/23 [00:02<00:00, 11.08it/s]"
     ]
    },
    {
     "name": "stdout",
     "output_type": "stream",
     "text": [
      "                   all         92       4910      0.758      0.643      0.694       0.49\n"
     ]
    },
    {
     "name": "stderr",
     "output_type": "stream",
     "text": [
      "\n"
     ]
    },
    {
     "name": "stdout",
     "output_type": "stream",
     "text": [
      "\n",
      "      Epoch    GPU_mem   box_loss   cls_loss   dfl_loss  Instances       Size\n"
     ]
    },
    {
     "name": "stderr",
     "output_type": "stream",
     "text": [
      "    176/500      8.35G      1.542      1.229      1.494        413        768: 100%|██████████| 219/219 [00:40<00:00,  5.38it/s]\n",
      "                 Class     Images  Instances      Box(P          R      mAP50  mAP50-95): 100%|██████████| 23/23 [00:02<00:00, 10.92it/s]"
     ]
    },
    {
     "name": "stdout",
     "output_type": "stream",
     "text": [
      "                   all         92       4910      0.751      0.632       0.68      0.484\n"
     ]
    },
    {
     "name": "stderr",
     "output_type": "stream",
     "text": [
      "\n"
     ]
    },
    {
     "name": "stdout",
     "output_type": "stream",
     "text": [
      "\n",
      "      Epoch    GPU_mem   box_loss   cls_loss   dfl_loss  Instances       Size\n"
     ]
    },
    {
     "name": "stderr",
     "output_type": "stream",
     "text": [
      "    177/500      9.72G      1.519      1.134       1.44        313        768: 100%|██████████| 219/219 [00:40<00:00,  5.37it/s]\n",
      "                 Class     Images  Instances      Box(P          R      mAP50  mAP50-95): 100%|██████████| 23/23 [00:02<00:00, 11.24it/s]"
     ]
    },
    {
     "name": "stdout",
     "output_type": "stream",
     "text": [
      "                   all         92       4910      0.729      0.648      0.678      0.481\n"
     ]
    },
    {
     "name": "stderr",
     "output_type": "stream",
     "text": [
      "\n"
     ]
    },
    {
     "name": "stdout",
     "output_type": "stream",
     "text": [
      "\n",
      "      Epoch    GPU_mem   box_loss   cls_loss   dfl_loss  Instances       Size\n"
     ]
    },
    {
     "name": "stderr",
     "output_type": "stream",
     "text": [
      "    178/500       9.3G      1.508      1.119      1.469        105        768: 100%|██████████| 219/219 [00:40<00:00,  5.36it/s]\n",
      "                 Class     Images  Instances      Box(P          R      mAP50  mAP50-95): 100%|██████████| 23/23 [00:02<00:00, 10.94it/s]"
     ]
    },
    {
     "name": "stdout",
     "output_type": "stream",
     "text": [
      "                   all         92       4910      0.766      0.624      0.678      0.482\n"
     ]
    },
    {
     "name": "stderr",
     "output_type": "stream",
     "text": [
      "\n"
     ]
    },
    {
     "name": "stdout",
     "output_type": "stream",
     "text": [
      "\n",
      "      Epoch    GPU_mem   box_loss   cls_loss   dfl_loss  Instances       Size\n"
     ]
    },
    {
     "name": "stderr",
     "output_type": "stream",
     "text": [
      "    179/500      8.82G      1.467      1.127      1.468        149        768: 100%|██████████| 219/219 [00:40<00:00,  5.36it/s]\n",
      "                 Class     Images  Instances      Box(P          R      mAP50  mAP50-95): 100%|██████████| 23/23 [00:02<00:00, 11.26it/s]"
     ]
    },
    {
     "name": "stdout",
     "output_type": "stream",
     "text": [
      "                   all         92       4910      0.747       0.66      0.689      0.489\n"
     ]
    },
    {
     "name": "stderr",
     "output_type": "stream",
     "text": [
      "\n"
     ]
    },
    {
     "name": "stdout",
     "output_type": "stream",
     "text": [
      "\n",
      "      Epoch    GPU_mem   box_loss   cls_loss   dfl_loss  Instances       Size\n"
     ]
    },
    {
     "name": "stderr",
     "output_type": "stream",
     "text": [
      "    180/500      9.63G      1.458      1.087      1.455         61        768: 100%|██████████| 219/219 [00:40<00:00,  5.37it/s]\n",
      "                 Class     Images  Instances      Box(P          R      mAP50  mAP50-95): 100%|██████████| 23/23 [00:02<00:00, 11.29it/s]"
     ]
    },
    {
     "name": "stdout",
     "output_type": "stream",
     "text": [
      "                   all         92       4910      0.724      0.662      0.674      0.484\n"
     ]
    },
    {
     "name": "stderr",
     "output_type": "stream",
     "text": [
      "\n"
     ]
    },
    {
     "name": "stdout",
     "output_type": "stream",
     "text": [
      "\n",
      "      Epoch    GPU_mem   box_loss   cls_loss   dfl_loss  Instances       Size\n"
     ]
    },
    {
     "name": "stderr",
     "output_type": "stream",
     "text": [
      "    181/500      8.04G      1.463      1.134        1.5        238        768: 100%|██████████| 219/219 [00:40<00:00,  5.37it/s]\n",
      "                 Class     Images  Instances      Box(P          R      mAP50  mAP50-95): 100%|██████████| 23/23 [00:02<00:00, 11.04it/s]"
     ]
    },
    {
     "name": "stdout",
     "output_type": "stream",
     "text": [
      "                   all         92       4910      0.752      0.639      0.695      0.499\n"
     ]
    },
    {
     "name": "stderr",
     "output_type": "stream",
     "text": [
      "\n"
     ]
    },
    {
     "name": "stdout",
     "output_type": "stream",
     "text": [
      "\n",
      "      Epoch    GPU_mem   box_loss   cls_loss   dfl_loss  Instances       Size\n"
     ]
    },
    {
     "name": "stderr",
     "output_type": "stream",
     "text": [
      "    182/500      9.27G      1.529      1.243      1.507        417        768: 100%|██████████| 219/219 [00:40<00:00,  5.36it/s]\n",
      "                 Class     Images  Instances      Box(P          R      mAP50  mAP50-95): 100%|██████████| 23/23 [00:02<00:00, 11.24it/s]"
     ]
    },
    {
     "name": "stdout",
     "output_type": "stream",
     "text": [
      "                   all         92       4910      0.741      0.629      0.679      0.478\n"
     ]
    },
    {
     "name": "stderr",
     "output_type": "stream",
     "text": [
      "\n"
     ]
    },
    {
     "name": "stdout",
     "output_type": "stream",
     "text": [
      "\n",
      "      Epoch    GPU_mem   box_loss   cls_loss   dfl_loss  Instances       Size\n"
     ]
    },
    {
     "name": "stderr",
     "output_type": "stream",
     "text": [
      "    183/500      8.11G      1.481      1.175      1.487        165        768: 100%|██████████| 219/219 [00:40<00:00,  5.40it/s]\n",
      "                 Class     Images  Instances      Box(P          R      mAP50  mAP50-95): 100%|██████████| 23/23 [00:02<00:00, 11.04it/s]"
     ]
    },
    {
     "name": "stdout",
     "output_type": "stream",
     "text": [
      "                   all         92       4910      0.728       0.63      0.679      0.481\n"
     ]
    },
    {
     "name": "stderr",
     "output_type": "stream",
     "text": [
      "\n"
     ]
    },
    {
     "name": "stdout",
     "output_type": "stream",
     "text": [
      "\n",
      "      Epoch    GPU_mem   box_loss   cls_loss   dfl_loss  Instances       Size\n"
     ]
    },
    {
     "name": "stderr",
     "output_type": "stream",
     "text": [
      "    184/500      10.4G      1.499      1.131      1.481        311        768: 100%|██████████| 219/219 [00:40<00:00,  5.35it/s]\n",
      "                 Class     Images  Instances      Box(P          R      mAP50  mAP50-95): 100%|██████████| 23/23 [00:02<00:00, 11.02it/s]"
     ]
    },
    {
     "name": "stdout",
     "output_type": "stream",
     "text": [
      "                   all         92       4910       0.77      0.629      0.694      0.498\n"
     ]
    },
    {
     "name": "stderr",
     "output_type": "stream",
     "text": [
      "\n"
     ]
    },
    {
     "name": "stdout",
     "output_type": "stream",
     "text": [
      "\n",
      "      Epoch    GPU_mem   box_loss   cls_loss   dfl_loss  Instances       Size\n"
     ]
    },
    {
     "name": "stderr",
     "output_type": "stream",
     "text": [
      "    185/500      10.6G      1.508      1.162      1.497        192        768: 100%|██████████| 219/219 [00:41<00:00,  5.33it/s]\n",
      "                 Class     Images  Instances      Box(P          R      mAP50  mAP50-95): 100%|██████████| 23/23 [00:02<00:00, 10.41it/s]\n"
     ]
    },
    {
     "name": "stdout",
     "output_type": "stream",
     "text": [
      "                   all         92       4910      0.747      0.641      0.675      0.478\n",
      "\n",
      "      Epoch    GPU_mem   box_loss   cls_loss   dfl_loss  Instances       Size\n"
     ]
    },
    {
     "name": "stderr",
     "output_type": "stream",
     "text": [
      "    186/500      8.31G      1.502      1.163      1.468        383        768: 100%|██████████| 219/219 [00:40<00:00,  5.36it/s]\n",
      "                 Class     Images  Instances      Box(P          R      mAP50  mAP50-95): 100%|██████████| 23/23 [00:02<00:00, 11.03it/s]"
     ]
    },
    {
     "name": "stdout",
     "output_type": "stream",
     "text": [
      "                   all         92       4910      0.755      0.648      0.701      0.496\n"
     ]
    },
    {
     "name": "stderr",
     "output_type": "stream",
     "text": [
      "\n"
     ]
    },
    {
     "name": "stdout",
     "output_type": "stream",
     "text": [
      "\n",
      "      Epoch    GPU_mem   box_loss   cls_loss   dfl_loss  Instances       Size\n"
     ]
    },
    {
     "name": "stderr",
     "output_type": "stream",
     "text": [
      "    187/500      9.17G      1.451      1.214      1.499        206        768: 100%|██████████| 219/219 [00:40<00:00,  5.36it/s]\n",
      "                 Class     Images  Instances      Box(P          R      mAP50  mAP50-95): 100%|██████████| 23/23 [00:02<00:00, 11.23it/s]"
     ]
    },
    {
     "name": "stdout",
     "output_type": "stream",
     "text": [
      "                   all         92       4910       0.74      0.644      0.687      0.487\n"
     ]
    },
    {
     "name": "stderr",
     "output_type": "stream",
     "text": [
      "\n"
     ]
    },
    {
     "name": "stdout",
     "output_type": "stream",
     "text": [
      "\n",
      "      Epoch    GPU_mem   box_loss   cls_loss   dfl_loss  Instances       Size\n"
     ]
    },
    {
     "name": "stderr",
     "output_type": "stream",
     "text": [
      "    188/500      9.16G      1.452      1.102      1.458        722        768: 100%|██████████| 219/219 [00:40<00:00,  5.36it/s]\n",
      "                 Class     Images  Instances      Box(P          R      mAP50  mAP50-95): 100%|██████████| 23/23 [00:02<00:00, 10.89it/s]"
     ]
    },
    {
     "name": "stdout",
     "output_type": "stream",
     "text": [
      "                   all         92       4910      0.749      0.661      0.704      0.502\n"
     ]
    },
    {
     "name": "stderr",
     "output_type": "stream",
     "text": [
      "\n"
     ]
    },
    {
     "name": "stdout",
     "output_type": "stream",
     "text": [
      "\n",
      "      Epoch    GPU_mem   box_loss   cls_loss   dfl_loss  Instances       Size\n"
     ]
    },
    {
     "name": "stderr",
     "output_type": "stream",
     "text": [
      "    189/500      8.92G      1.483      1.163       1.51         63        768: 100%|██████████| 219/219 [00:40<00:00,  5.38it/s]\n",
      "                 Class     Images  Instances      Box(P          R      mAP50  mAP50-95): 100%|██████████| 23/23 [00:02<00:00, 10.97it/s]"
     ]
    },
    {
     "name": "stdout",
     "output_type": "stream",
     "text": [
      "                   all         92       4910       0.72      0.675      0.695      0.494\n"
     ]
    },
    {
     "name": "stderr",
     "output_type": "stream",
     "text": [
      "\n"
     ]
    },
    {
     "name": "stdout",
     "output_type": "stream",
     "text": [
      "\n",
      "      Epoch    GPU_mem   box_loss   cls_loss   dfl_loss  Instances       Size\n"
     ]
    },
    {
     "name": "stderr",
     "output_type": "stream",
     "text": [
      "    190/500      10.1G      1.487      1.094      1.511        480        768: 100%|██████████| 219/219 [00:40<00:00,  5.36it/s]\n",
      "                 Class     Images  Instances      Box(P          R      mAP50  mAP50-95): 100%|██████████| 23/23 [00:02<00:00, 11.24it/s]"
     ]
    },
    {
     "name": "stdout",
     "output_type": "stream",
     "text": [
      "                   all         92       4910      0.742       0.65      0.694      0.496\n"
     ]
    },
    {
     "name": "stderr",
     "output_type": "stream",
     "text": [
      "\n"
     ]
    },
    {
     "name": "stdout",
     "output_type": "stream",
     "text": [
      "\n",
      "      Epoch    GPU_mem   box_loss   cls_loss   dfl_loss  Instances       Size\n"
     ]
    },
    {
     "name": "stderr",
     "output_type": "stream",
     "text": [
      "    191/500      9.87G      1.433      1.127      1.478        307        768: 100%|██████████| 219/219 [00:40<00:00,  5.37it/s]\n",
      "                 Class     Images  Instances      Box(P          R      mAP50  mAP50-95): 100%|██████████| 23/23 [00:02<00:00, 11.30it/s]"
     ]
    },
    {
     "name": "stdout",
     "output_type": "stream",
     "text": [
      "                   all         92       4910      0.787      0.623        0.7      0.501\n"
     ]
    },
    {
     "name": "stderr",
     "output_type": "stream",
     "text": [
      "\n"
     ]
    },
    {
     "name": "stdout",
     "output_type": "stream",
     "text": [
      "\n",
      "      Epoch    GPU_mem   box_loss   cls_loss   dfl_loss  Instances       Size\n"
     ]
    },
    {
     "name": "stderr",
     "output_type": "stream",
     "text": [
      "    192/500      9.72G      1.399      1.156      1.468         52        768: 100%|██████████| 219/219 [00:40<00:00,  5.38it/s]\n",
      "                 Class     Images  Instances      Box(P          R      mAP50  mAP50-95): 100%|██████████| 23/23 [00:02<00:00, 10.97it/s]"
     ]
    },
    {
     "name": "stdout",
     "output_type": "stream",
     "text": [
      "                   all         92       4910      0.764      0.672      0.708      0.506\n"
     ]
    },
    {
     "name": "stderr",
     "output_type": "stream",
     "text": [
      "\n"
     ]
    },
    {
     "name": "stdout",
     "output_type": "stream",
     "text": [
      "\n",
      "      Epoch    GPU_mem   box_loss   cls_loss   dfl_loss  Instances       Size\n"
     ]
    },
    {
     "name": "stderr",
     "output_type": "stream",
     "text": [
      "    193/500      9.29G      1.442      1.133      1.463        154        768: 100%|██████████| 219/219 [00:40<00:00,  5.37it/s]\n",
      "                 Class     Images  Instances      Box(P          R      mAP50  mAP50-95): 100%|██████████| 23/23 [00:02<00:00, 11.31it/s]"
     ]
    },
    {
     "name": "stdout",
     "output_type": "stream",
     "text": [
      "                   all         92       4910      0.775      0.636      0.695      0.495\n"
     ]
    },
    {
     "name": "stderr",
     "output_type": "stream",
     "text": [
      "\n"
     ]
    },
    {
     "name": "stdout",
     "output_type": "stream",
     "text": [
      "\n",
      "      Epoch    GPU_mem   box_loss   cls_loss   dfl_loss  Instances       Size\n"
     ]
    },
    {
     "name": "stderr",
     "output_type": "stream",
     "text": [
      "    194/500       9.6G      1.466       1.13      1.488         86        768: 100%|██████████| 219/219 [00:40<00:00,  5.35it/s]\n",
      "                 Class     Images  Instances      Box(P          R      mAP50  mAP50-95): 100%|██████████| 23/23 [00:02<00:00, 11.28it/s]"
     ]
    },
    {
     "name": "stdout",
     "output_type": "stream",
     "text": [
      "                   all         92       4910      0.736      0.662      0.686      0.492\n"
     ]
    },
    {
     "name": "stderr",
     "output_type": "stream",
     "text": [
      "\n"
     ]
    },
    {
     "name": "stdout",
     "output_type": "stream",
     "text": [
      "\n",
      "      Epoch    GPU_mem   box_loss   cls_loss   dfl_loss  Instances       Size\n"
     ]
    },
    {
     "name": "stderr",
     "output_type": "stream",
     "text": [
      "    195/500      8.68G      1.416      1.125      1.457         38        768: 100%|██████████| 219/219 [00:40<00:00,  5.38it/s]\n",
      "                 Class     Images  Instances      Box(P          R      mAP50  mAP50-95): 100%|██████████| 23/23 [00:02<00:00, 11.12it/s]"
     ]
    },
    {
     "name": "stdout",
     "output_type": "stream",
     "text": [
      "                   all         92       4910      0.761      0.641      0.695        0.5\n"
     ]
    },
    {
     "name": "stderr",
     "output_type": "stream",
     "text": [
      "\n"
     ]
    },
    {
     "name": "stdout",
     "output_type": "stream",
     "text": [
      "\n",
      "      Epoch    GPU_mem   box_loss   cls_loss   dfl_loss  Instances       Size\n"
     ]
    },
    {
     "name": "stderr",
     "output_type": "stream",
     "text": [
      "    196/500      9.31G      1.449      1.124      1.453        229        768: 100%|██████████| 219/219 [00:40<00:00,  5.38it/s]\n",
      "                 Class     Images  Instances      Box(P          R      mAP50  mAP50-95): 100%|██████████| 23/23 [00:02<00:00, 11.24it/s]"
     ]
    },
    {
     "name": "stdout",
     "output_type": "stream",
     "text": [
      "                   all         92       4910      0.743      0.663      0.691      0.498\n"
     ]
    },
    {
     "name": "stderr",
     "output_type": "stream",
     "text": [
      "\n"
     ]
    },
    {
     "name": "stdout",
     "output_type": "stream",
     "text": [
      "\n",
      "      Epoch    GPU_mem   box_loss   cls_loss   dfl_loss  Instances       Size\n"
     ]
    },
    {
     "name": "stderr",
     "output_type": "stream",
     "text": [
      "    197/500      8.56G      1.487      1.216      1.543        620        768: 100%|██████████| 219/219 [00:40<00:00,  5.36it/s]\n",
      "                 Class     Images  Instances      Box(P          R      mAP50  mAP50-95): 100%|██████████| 23/23 [00:01<00:00, 11.54it/s]"
     ]
    },
    {
     "name": "stdout",
     "output_type": "stream",
     "text": [
      "                   all         92       4910       0.68      0.688      0.671      0.476\n"
     ]
    },
    {
     "name": "stderr",
     "output_type": "stream",
     "text": [
      "\n"
     ]
    },
    {
     "name": "stdout",
     "output_type": "stream",
     "text": [
      "\n",
      "      Epoch    GPU_mem   box_loss   cls_loss   dfl_loss  Instances       Size\n"
     ]
    },
    {
     "name": "stderr",
     "output_type": "stream",
     "text": [
      "    198/500      8.98G      1.435      1.137      1.537         90        768: 100%|██████████| 219/219 [00:39<00:00,  5.54it/s]\n",
      "                 Class     Images  Instances      Box(P          R      mAP50  mAP50-95): 100%|██████████| 23/23 [00:01<00:00, 11.63it/s]"
     ]
    },
    {
     "name": "stdout",
     "output_type": "stream",
     "text": [
      "                   all         92       4910       0.77      0.652      0.709      0.508\n"
     ]
    },
    {
     "name": "stderr",
     "output_type": "stream",
     "text": [
      "\n"
     ]
    },
    {
     "name": "stdout",
     "output_type": "stream",
     "text": [
      "\n",
      "      Epoch    GPU_mem   box_loss   cls_loss   dfl_loss  Instances       Size\n"
     ]
    },
    {
     "name": "stderr",
     "output_type": "stream",
     "text": [
      "    199/500      9.39G      1.483      1.129      1.466        329        768: 100%|██████████| 219/219 [00:39<00:00,  5.52it/s]\n",
      "                 Class     Images  Instances      Box(P          R      mAP50  mAP50-95): 100%|██████████| 23/23 [00:01<00:00, 11.59it/s]"
     ]
    },
    {
     "name": "stdout",
     "output_type": "stream",
     "text": [
      "                   all         92       4910       0.77      0.648      0.706      0.501\n"
     ]
    },
    {
     "name": "stderr",
     "output_type": "stream",
     "text": [
      "\n"
     ]
    },
    {
     "name": "stdout",
     "output_type": "stream",
     "text": [
      "\n",
      "      Epoch    GPU_mem   box_loss   cls_loss   dfl_loss  Instances       Size\n"
     ]
    },
    {
     "name": "stderr",
     "output_type": "stream",
     "text": [
      "    200/500      8.69G      1.494      1.112      1.464         64        768: 100%|██████████| 219/219 [00:39<00:00,  5.55it/s]\n",
      "                 Class     Images  Instances      Box(P          R      mAP50  mAP50-95): 100%|██████████| 23/23 [00:02<00:00, 11.28it/s]"
     ]
    },
    {
     "name": "stdout",
     "output_type": "stream",
     "text": [
      "                   all         92       4910      0.794      0.643      0.711      0.506\n"
     ]
    },
    {
     "name": "stderr",
     "output_type": "stream",
     "text": [
      "\n"
     ]
    },
    {
     "name": "stdout",
     "output_type": "stream",
     "text": [
      "\n",
      "      Epoch    GPU_mem   box_loss   cls_loss   dfl_loss  Instances       Size\n"
     ]
    },
    {
     "name": "stderr",
     "output_type": "stream",
     "text": [
      "    201/500      8.52G      1.465      1.055      1.475         80        768: 100%|██████████| 219/219 [00:39<00:00,  5.52it/s]\n",
      "                 Class     Images  Instances      Box(P          R      mAP50  mAP50-95): 100%|██████████| 23/23 [00:01<00:00, 11.51it/s]"
     ]
    },
    {
     "name": "stdout",
     "output_type": "stream",
     "text": [
      "                   all         92       4910      0.764      0.662      0.705      0.505\n"
     ]
    },
    {
     "name": "stderr",
     "output_type": "stream",
     "text": [
      "\n"
     ]
    },
    {
     "name": "stdout",
     "output_type": "stream",
     "text": [
      "\n",
      "      Epoch    GPU_mem   box_loss   cls_loss   dfl_loss  Instances       Size\n"
     ]
    },
    {
     "name": "stderr",
     "output_type": "stream",
     "text": [
      "    202/500      8.38G       1.43      1.128      1.444        920        768: 100%|██████████| 219/219 [00:39<00:00,  5.52it/s]\n",
      "                 Class     Images  Instances      Box(P          R      mAP50  mAP50-95): 100%|██████████| 23/23 [00:01<00:00, 11.57it/s]"
     ]
    },
    {
     "name": "stdout",
     "output_type": "stream",
     "text": [
      "                   all         92       4910      0.773      0.652      0.702      0.504\n"
     ]
    },
    {
     "name": "stderr",
     "output_type": "stream",
     "text": [
      "\n"
     ]
    },
    {
     "name": "stdout",
     "output_type": "stream",
     "text": [
      "\n",
      "      Epoch    GPU_mem   box_loss   cls_loss   dfl_loss  Instances       Size\n"
     ]
    },
    {
     "name": "stderr",
     "output_type": "stream",
     "text": [
      "    203/500       8.8G      1.467      1.149      1.455        497        768: 100%|██████████| 219/219 [00:39<00:00,  5.52it/s]\n",
      "                 Class     Images  Instances      Box(P          R      mAP50  mAP50-95): 100%|██████████| 23/23 [00:01<00:00, 11.58it/s]"
     ]
    },
    {
     "name": "stdout",
     "output_type": "stream",
     "text": [
      "                   all         92       4910      0.759      0.638      0.688      0.492\n"
     ]
    },
    {
     "name": "stderr",
     "output_type": "stream",
     "text": [
      "\n"
     ]
    },
    {
     "name": "stdout",
     "output_type": "stream",
     "text": [
      "\n",
      "      Epoch    GPU_mem   box_loss   cls_loss   dfl_loss  Instances       Size\n"
     ]
    },
    {
     "name": "stderr",
     "output_type": "stream",
     "text": [
      "    204/500      9.08G      1.424      1.094       1.44        295        768: 100%|██████████| 219/219 [00:39<00:00,  5.51it/s]\n",
      "                 Class     Images  Instances      Box(P          R      mAP50  mAP50-95): 100%|██████████| 23/23 [00:01<00:00, 11.62it/s]"
     ]
    },
    {
     "name": "stdout",
     "output_type": "stream",
     "text": [
      "                   all         92       4910      0.742       0.65      0.698      0.501\n"
     ]
    },
    {
     "name": "stderr",
     "output_type": "stream",
     "text": [
      "\n"
     ]
    },
    {
     "name": "stdout",
     "output_type": "stream",
     "text": [
      "\n",
      "      Epoch    GPU_mem   box_loss   cls_loss   dfl_loss  Instances       Size\n"
     ]
    },
    {
     "name": "stderr",
     "output_type": "stream",
     "text": [
      "    205/500      9.09G       1.44      1.027       1.44        210        768: 100%|██████████| 219/219 [00:39<00:00,  5.51it/s]\n",
      "                 Class     Images  Instances      Box(P          R      mAP50  mAP50-95): 100%|██████████| 23/23 [00:01<00:00, 11.71it/s]"
     ]
    },
    {
     "name": "stdout",
     "output_type": "stream",
     "text": [
      "                   all         92       4910      0.769      0.646      0.699      0.503\n"
     ]
    },
    {
     "name": "stderr",
     "output_type": "stream",
     "text": [
      "\n"
     ]
    },
    {
     "name": "stdout",
     "output_type": "stream",
     "text": [
      "\n",
      "      Epoch    GPU_mem   box_loss   cls_loss   dfl_loss  Instances       Size\n"
     ]
    },
    {
     "name": "stderr",
     "output_type": "stream",
     "text": [
      "    206/500      9.97G      1.425      1.041      1.436        114        768: 100%|██████████| 219/219 [00:39<00:00,  5.49it/s]\n",
      "                 Class     Images  Instances      Box(P          R      mAP50  mAP50-95): 100%|██████████| 23/23 [00:02<00:00, 11.42it/s]"
     ]
    },
    {
     "name": "stdout",
     "output_type": "stream",
     "text": [
      "                   all         92       4910      0.777      0.634      0.709      0.515\n"
     ]
    },
    {
     "name": "stderr",
     "output_type": "stream",
     "text": [
      "\n"
     ]
    },
    {
     "name": "stdout",
     "output_type": "stream",
     "text": [
      "\n",
      "      Epoch    GPU_mem   box_loss   cls_loss   dfl_loss  Instances       Size\n"
     ]
    },
    {
     "name": "stderr",
     "output_type": "stream",
     "text": [
      "    207/500       7.5G      1.469      1.121      1.531        543        768: 100%|██████████| 219/219 [00:39<00:00,  5.54it/s]\n",
      "                 Class     Images  Instances      Box(P          R      mAP50  mAP50-95): 100%|██████████| 23/23 [00:02<00:00, 11.38it/s]"
     ]
    },
    {
     "name": "stdout",
     "output_type": "stream",
     "text": [
      "                   all         92       4910      0.755       0.66      0.702       0.51\n"
     ]
    },
    {
     "name": "stderr",
     "output_type": "stream",
     "text": [
      "\n"
     ]
    },
    {
     "name": "stdout",
     "output_type": "stream",
     "text": [
      "\n",
      "      Epoch    GPU_mem   box_loss   cls_loss   dfl_loss  Instances       Size\n"
     ]
    },
    {
     "name": "stderr",
     "output_type": "stream",
     "text": [
      "    208/500      7.94G      1.434      1.076      1.452         51        768: 100%|██████████| 219/219 [00:39<00:00,  5.55it/s]\n",
      "                 Class     Images  Instances      Box(P          R      mAP50  mAP50-95): 100%|██████████| 23/23 [00:01<00:00, 11.60it/s]"
     ]
    },
    {
     "name": "stdout",
     "output_type": "stream",
     "text": [
      "                   all         92       4910      0.764      0.657      0.706      0.511\n"
     ]
    },
    {
     "name": "stderr",
     "output_type": "stream",
     "text": [
      "\n"
     ]
    },
    {
     "name": "stdout",
     "output_type": "stream",
     "text": [
      "\n",
      "      Epoch    GPU_mem   box_loss   cls_loss   dfl_loss  Instances       Size\n"
     ]
    },
    {
     "name": "stderr",
     "output_type": "stream",
     "text": [
      "    209/500      8.82G      1.452      1.079      1.452        109        768: 100%|██████████| 219/219 [00:39<00:00,  5.51it/s]\n",
      "                 Class     Images  Instances      Box(P          R      mAP50  mAP50-95): 100%|██████████| 23/23 [00:01<00:00, 11.60it/s]"
     ]
    },
    {
     "name": "stdout",
     "output_type": "stream",
     "text": [
      "                   all         92       4910      0.779      0.646      0.701      0.506\n"
     ]
    },
    {
     "name": "stderr",
     "output_type": "stream",
     "text": [
      "\n"
     ]
    },
    {
     "name": "stdout",
     "output_type": "stream",
     "text": [
      "\n",
      "      Epoch    GPU_mem   box_loss   cls_loss   dfl_loss  Instances       Size\n"
     ]
    },
    {
     "name": "stderr",
     "output_type": "stream",
     "text": [
      "    210/500      9.14G       1.43      1.073      1.437        538        768: 100%|██████████| 219/219 [00:39<00:00,  5.51it/s]\n",
      "                 Class     Images  Instances      Box(P          R      mAP50  mAP50-95): 100%|██████████| 23/23 [00:01<00:00, 11.53it/s]"
     ]
    },
    {
     "name": "stdout",
     "output_type": "stream",
     "text": [
      "                   all         92       4910      0.776      0.635      0.713      0.517\n"
     ]
    },
    {
     "name": "stderr",
     "output_type": "stream",
     "text": [
      "\n"
     ]
    },
    {
     "name": "stdout",
     "output_type": "stream",
     "text": [
      "\n",
      "      Epoch    GPU_mem   box_loss   cls_loss   dfl_loss  Instances       Size\n"
     ]
    },
    {
     "name": "stderr",
     "output_type": "stream",
     "text": [
      "    211/500      9.19G       1.43      1.094       1.44        506        768: 100%|██████████| 219/219 [00:39<00:00,  5.53it/s]\n",
      "                 Class     Images  Instances      Box(P          R      mAP50  mAP50-95): 100%|██████████| 23/23 [00:02<00:00, 11.35it/s]"
     ]
    },
    {
     "name": "stdout",
     "output_type": "stream",
     "text": [
      "                   all         92       4910      0.769      0.644      0.701      0.505\n"
     ]
    },
    {
     "name": "stderr",
     "output_type": "stream",
     "text": [
      "\n"
     ]
    },
    {
     "name": "stdout",
     "output_type": "stream",
     "text": [
      "\n",
      "      Epoch    GPU_mem   box_loss   cls_loss   dfl_loss  Instances       Size\n"
     ]
    },
    {
     "name": "stderr",
     "output_type": "stream",
     "text": [
      "    212/500      7.85G      1.427      1.088      1.479        491        768: 100%|██████████| 219/219 [00:39<00:00,  5.53it/s]\n",
      "                 Class     Images  Instances      Box(P          R      mAP50  mAP50-95): 100%|██████████| 23/23 [00:01<00:00, 11.51it/s]"
     ]
    },
    {
     "name": "stdout",
     "output_type": "stream",
     "text": [
      "                   all         92       4910      0.755      0.663      0.713      0.518\n"
     ]
    },
    {
     "name": "stderr",
     "output_type": "stream",
     "text": [
      "\n"
     ]
    },
    {
     "name": "stdout",
     "output_type": "stream",
     "text": [
      "\n",
      "      Epoch    GPU_mem   box_loss   cls_loss   dfl_loss  Instances       Size\n"
     ]
    },
    {
     "name": "stderr",
     "output_type": "stream",
     "text": [
      "    213/500      8.37G      1.386      1.076      1.426         81        768: 100%|██████████| 219/219 [00:39<00:00,  5.53it/s]\n",
      "                 Class     Images  Instances      Box(P          R      mAP50  mAP50-95): 100%|██████████| 23/23 [00:01<00:00, 11.55it/s]"
     ]
    },
    {
     "name": "stdout",
     "output_type": "stream",
     "text": [
      "                   all         92       4910      0.792      0.654      0.718      0.521\n"
     ]
    },
    {
     "name": "stderr",
     "output_type": "stream",
     "text": [
      "\n"
     ]
    },
    {
     "name": "stdout",
     "output_type": "stream",
     "text": [
      "\n",
      "      Epoch    GPU_mem   box_loss   cls_loss   dfl_loss  Instances       Size\n"
     ]
    },
    {
     "name": "stderr",
     "output_type": "stream",
     "text": [
      "    214/500      10.3G      1.406      1.043       1.42        378        768: 100%|██████████| 219/219 [00:39<00:00,  5.52it/s]\n",
      "                 Class     Images  Instances      Box(P          R      mAP50  mAP50-95): 100%|██████████| 23/23 [00:02<00:00, 10.91it/s]"
     ]
    },
    {
     "name": "stdout",
     "output_type": "stream",
     "text": [
      "                   all         92       4910      0.784      0.644      0.707      0.511\n"
     ]
    },
    {
     "name": "stderr",
     "output_type": "stream",
     "text": [
      "\n"
     ]
    },
    {
     "name": "stdout",
     "output_type": "stream",
     "text": [
      "\n",
      "      Epoch    GPU_mem   box_loss   cls_loss   dfl_loss  Instances       Size\n"
     ]
    },
    {
     "name": "stderr",
     "output_type": "stream",
     "text": [
      "    215/500      8.33G      1.422      1.076      1.444        848        768: 100%|██████████| 219/219 [00:39<00:00,  5.50it/s]\n",
      "                 Class     Images  Instances      Box(P          R      mAP50  mAP50-95): 100%|██████████| 23/23 [00:02<00:00, 11.34it/s]"
     ]
    },
    {
     "name": "stdout",
     "output_type": "stream",
     "text": [
      "                   all         92       4910      0.791      0.663      0.721      0.521\n"
     ]
    },
    {
     "name": "stderr",
     "output_type": "stream",
     "text": [
      "\n"
     ]
    },
    {
     "name": "stdout",
     "output_type": "stream",
     "text": [
      "\n",
      "      Epoch    GPU_mem   box_loss   cls_loss   dfl_loss  Instances       Size\n"
     ]
    },
    {
     "name": "stderr",
     "output_type": "stream",
     "text": [
      "    216/500      9.45G      1.435      1.113      1.516        235        768: 100%|██████████| 219/219 [00:39<00:00,  5.50it/s]\n",
      "                 Class     Images  Instances      Box(P          R      mAP50  mAP50-95): 100%|██████████| 23/23 [00:01<00:00, 11.68it/s]"
     ]
    },
    {
     "name": "stdout",
     "output_type": "stream",
     "text": [
      "                   all         92       4910      0.754      0.645      0.698      0.507\n"
     ]
    },
    {
     "name": "stderr",
     "output_type": "stream",
     "text": [
      "\n"
     ]
    },
    {
     "name": "stdout",
     "output_type": "stream",
     "text": [
      "\n",
      "      Epoch    GPU_mem   box_loss   cls_loss   dfl_loss  Instances       Size\n"
     ]
    },
    {
     "name": "stderr",
     "output_type": "stream",
     "text": [
      "    217/500      8.04G      1.371      1.086      1.449         81        768: 100%|██████████| 219/219 [00:39<00:00,  5.55it/s]\n",
      "                 Class     Images  Instances      Box(P          R      mAP50  mAP50-95): 100%|██████████| 23/23 [00:02<00:00, 11.47it/s]"
     ]
    },
    {
     "name": "stdout",
     "output_type": "stream",
     "text": [
      "                   all         92       4910      0.757      0.658      0.698      0.503\n"
     ]
    },
    {
     "name": "stderr",
     "output_type": "stream",
     "text": [
      "\n"
     ]
    },
    {
     "name": "stdout",
     "output_type": "stream",
     "text": [
      "\n",
      "      Epoch    GPU_mem   box_loss   cls_loss   dfl_loss  Instances       Size\n"
     ]
    },
    {
     "name": "stderr",
     "output_type": "stream",
     "text": [
      "    218/500      9.57G      1.407      1.179      1.444        514        768: 100%|██████████| 219/219 [00:41<00:00,  5.29it/s]\n",
      "                 Class     Images  Instances      Box(P          R      mAP50  mAP50-95): 100%|██████████| 23/23 [00:02<00:00, 11.17it/s]"
     ]
    },
    {
     "name": "stdout",
     "output_type": "stream",
     "text": [
      "                   all         92       4910      0.772      0.653      0.702      0.511\n"
     ]
    },
    {
     "name": "stderr",
     "output_type": "stream",
     "text": [
      "\n"
     ]
    },
    {
     "name": "stdout",
     "output_type": "stream",
     "text": [
      "\n",
      "      Epoch    GPU_mem   box_loss   cls_loss   dfl_loss  Instances       Size\n"
     ]
    },
    {
     "name": "stderr",
     "output_type": "stream",
     "text": [
      "    219/500      9.92G      1.437       1.24      1.469         94        768: 100%|██████████| 219/219 [00:40<00:00,  5.35it/s]\n",
      "                 Class     Images  Instances      Box(P          R      mAP50  mAP50-95): 100%|██████████| 23/23 [00:02<00:00, 11.18it/s]"
     ]
    },
    {
     "name": "stdout",
     "output_type": "stream",
     "text": [
      "                   all         92       4910      0.777      0.662      0.719      0.524\n"
     ]
    },
    {
     "name": "stderr",
     "output_type": "stream",
     "text": [
      "\n"
     ]
    },
    {
     "name": "stdout",
     "output_type": "stream",
     "text": [
      "\n",
      "      Epoch    GPU_mem   box_loss   cls_loss   dfl_loss  Instances       Size\n"
     ]
    },
    {
     "name": "stderr",
     "output_type": "stream",
     "text": [
      "    220/500      9.21G       1.42      1.035      1.462          5        768: 100%|██████████| 219/219 [00:40<00:00,  5.36it/s]\n",
      "                 Class     Images  Instances      Box(P          R      mAP50  mAP50-95): 100%|██████████| 23/23 [00:02<00:00, 11.09it/s]"
     ]
    },
    {
     "name": "stdout",
     "output_type": "stream",
     "text": [
      "                   all         92       4910      0.775      0.645      0.705       0.51\n"
     ]
    },
    {
     "name": "stderr",
     "output_type": "stream",
     "text": [
      "\n"
     ]
    },
    {
     "name": "stdout",
     "output_type": "stream",
     "text": [
      "\n",
      "      Epoch    GPU_mem   box_loss   cls_loss   dfl_loss  Instances       Size\n"
     ]
    },
    {
     "name": "stderr",
     "output_type": "stream",
     "text": [
      "    221/500      10.5G      1.424      1.007      1.387         36        768: 100%|██████████| 219/219 [00:41<00:00,  5.28it/s]\n",
      "                 Class     Images  Instances      Box(P          R      mAP50  mAP50-95): 100%|██████████| 23/23 [00:02<00:00, 10.59it/s]"
     ]
    },
    {
     "name": "stdout",
     "output_type": "stream",
     "text": [
      "                   all         92       4910      0.771      0.662      0.707      0.513\n"
     ]
    },
    {
     "name": "stderr",
     "output_type": "stream",
     "text": [
      "\n"
     ]
    },
    {
     "name": "stdout",
     "output_type": "stream",
     "text": [
      "\n",
      "      Epoch    GPU_mem   box_loss   cls_loss   dfl_loss  Instances       Size\n"
     ]
    },
    {
     "name": "stderr",
     "output_type": "stream",
     "text": [
      "    222/500      9.31G      1.411      1.127      1.432        200        768: 100%|██████████| 219/219 [00:41<00:00,  5.32it/s]\n",
      "                 Class     Images  Instances      Box(P          R      mAP50  mAP50-95): 100%|██████████| 23/23 [00:02<00:00, 11.10it/s]"
     ]
    },
    {
     "name": "stdout",
     "output_type": "stream",
     "text": [
      "                   all         92       4910      0.735      0.676      0.696      0.504\n"
     ]
    },
    {
     "name": "stderr",
     "output_type": "stream",
     "text": [
      "\n"
     ]
    },
    {
     "name": "stdout",
     "output_type": "stream",
     "text": [
      "\n",
      "      Epoch    GPU_mem   box_loss   cls_loss   dfl_loss  Instances       Size\n"
     ]
    },
    {
     "name": "stderr",
     "output_type": "stream",
     "text": [
      "    223/500      9.64G      1.381      1.067      1.452        194        768: 100%|██████████| 219/219 [00:40<00:00,  5.37it/s]\n",
      "                 Class     Images  Instances      Box(P          R      mAP50  mAP50-95): 100%|██████████| 23/23 [00:02<00:00, 11.18it/s]"
     ]
    },
    {
     "name": "stdout",
     "output_type": "stream",
     "text": [
      "                   all         92       4910      0.737       0.68      0.705      0.514\n"
     ]
    },
    {
     "name": "stderr",
     "output_type": "stream",
     "text": [
      "\n"
     ]
    },
    {
     "name": "stdout",
     "output_type": "stream",
     "text": [
      "\n",
      "      Epoch    GPU_mem   box_loss   cls_loss   dfl_loss  Instances       Size\n"
     ]
    },
    {
     "name": "stderr",
     "output_type": "stream",
     "text": [
      "    224/500      8.92G      1.395      1.036      1.425        282        768: 100%|██████████| 219/219 [00:40<00:00,  5.38it/s]\n",
      "                 Class     Images  Instances      Box(P          R      mAP50  mAP50-95): 100%|██████████| 23/23 [00:02<00:00, 11.20it/s]"
     ]
    },
    {
     "name": "stdout",
     "output_type": "stream",
     "text": [
      "                   all         92       4910      0.739      0.674      0.702      0.512\n"
     ]
    },
    {
     "name": "stderr",
     "output_type": "stream",
     "text": [
      "\n"
     ]
    },
    {
     "name": "stdout",
     "output_type": "stream",
     "text": [
      "\n",
      "      Epoch    GPU_mem   box_loss   cls_loss   dfl_loss  Instances       Size\n"
     ]
    },
    {
     "name": "stderr",
     "output_type": "stream",
     "text": [
      "    225/500       9.1G      1.404      1.158      1.453        273        768: 100%|██████████| 219/219 [00:40<00:00,  5.36it/s]\n",
      "                 Class     Images  Instances      Box(P          R      mAP50  mAP50-95): 100%|██████████| 23/23 [00:02<00:00, 11.14it/s]"
     ]
    },
    {
     "name": "stdout",
     "output_type": "stream",
     "text": [
      "                   all         92       4910      0.762      0.662      0.713      0.513\n"
     ]
    },
    {
     "name": "stderr",
     "output_type": "stream",
     "text": [
      "\n"
     ]
    },
    {
     "name": "stdout",
     "output_type": "stream",
     "text": [
      "\n",
      "      Epoch    GPU_mem   box_loss   cls_loss   dfl_loss  Instances       Size\n"
     ]
    },
    {
     "name": "stderr",
     "output_type": "stream",
     "text": [
      "    226/500      7.91G      1.386      1.041      1.489        154        768: 100%|██████████| 219/219 [00:40<00:00,  5.40it/s]\n",
      "                 Class     Images  Instances      Box(P          R      mAP50  mAP50-95): 100%|██████████| 23/23 [00:02<00:00, 11.00it/s]"
     ]
    },
    {
     "name": "stdout",
     "output_type": "stream",
     "text": [
      "                   all         92       4910      0.756      0.668      0.704      0.507\n"
     ]
    },
    {
     "name": "stderr",
     "output_type": "stream",
     "text": [
      "\n"
     ]
    },
    {
     "name": "stdout",
     "output_type": "stream",
     "text": [
      "\n",
      "      Epoch    GPU_mem   box_loss   cls_loss   dfl_loss  Instances       Size\n"
     ]
    },
    {
     "name": "stderr",
     "output_type": "stream",
     "text": [
      "    227/500      8.21G      1.388       1.11      1.469         68        768: 100%|██████████| 219/219 [00:40<00:00,  5.39it/s]\n",
      "                 Class     Images  Instances      Box(P          R      mAP50  mAP50-95): 100%|██████████| 23/23 [00:02<00:00, 10.99it/s]"
     ]
    },
    {
     "name": "stdout",
     "output_type": "stream",
     "text": [
      "                   all         92       4910      0.763      0.659      0.712      0.519\n"
     ]
    },
    {
     "name": "stderr",
     "output_type": "stream",
     "text": [
      "\n"
     ]
    },
    {
     "name": "stdout",
     "output_type": "stream",
     "text": [
      "\n",
      "      Epoch    GPU_mem   box_loss   cls_loss   dfl_loss  Instances       Size\n"
     ]
    },
    {
     "name": "stderr",
     "output_type": "stream",
     "text": [
      "    228/500      8.19G      1.417      1.106      1.492        453        768: 100%|██████████| 219/219 [00:40<00:00,  5.40it/s]\n",
      "                 Class     Images  Instances      Box(P          R      mAP50  mAP50-95): 100%|██████████| 23/23 [00:02<00:00, 11.06it/s]"
     ]
    },
    {
     "name": "stdout",
     "output_type": "stream",
     "text": [
      "                   all         92       4910      0.746      0.665      0.699      0.508\n"
     ]
    },
    {
     "name": "stderr",
     "output_type": "stream",
     "text": [
      "\n"
     ]
    },
    {
     "name": "stdout",
     "output_type": "stream",
     "text": [
      "\n",
      "      Epoch    GPU_mem   box_loss   cls_loss   dfl_loss  Instances       Size\n"
     ]
    },
    {
     "name": "stderr",
     "output_type": "stream",
     "text": [
      "    229/500      8.73G      1.439       1.03      1.465         68        768: 100%|██████████| 219/219 [00:40<00:00,  5.37it/s]\n",
      "                 Class     Images  Instances      Box(P          R      mAP50  mAP50-95): 100%|██████████| 23/23 [00:02<00:00, 10.99it/s]\n"
     ]
    },
    {
     "name": "stdout",
     "output_type": "stream",
     "text": [
      "                   all         92       4910       0.77      0.665      0.711      0.517\n",
      "\n",
      "      Epoch    GPU_mem   box_loss   cls_loss   dfl_loss  Instances       Size\n"
     ]
    },
    {
     "name": "stderr",
     "output_type": "stream",
     "text": [
      "    230/500      8.63G      1.415      1.049       1.43        294        768: 100%|██████████| 219/219 [00:40<00:00,  5.38it/s]\n",
      "                 Class     Images  Instances      Box(P          R      mAP50  mAP50-95): 100%|██████████| 23/23 [00:02<00:00, 11.07it/s]"
     ]
    },
    {
     "name": "stdout",
     "output_type": "stream",
     "text": [
      "                   all         92       4910      0.766       0.66      0.708      0.513\n"
     ]
    },
    {
     "name": "stderr",
     "output_type": "stream",
     "text": [
      "\n"
     ]
    },
    {
     "name": "stdout",
     "output_type": "stream",
     "text": [
      "\n",
      "      Epoch    GPU_mem   box_loss   cls_loss   dfl_loss  Instances       Size\n"
     ]
    },
    {
     "name": "stderr",
     "output_type": "stream",
     "text": [
      "    231/500      9.27G      1.407      1.115      1.389         76        768: 100%|██████████| 219/219 [00:40<00:00,  5.38it/s]\n",
      "                 Class     Images  Instances      Box(P          R      mAP50  mAP50-95): 100%|██████████| 23/23 [00:02<00:00, 11.21it/s]"
     ]
    },
    {
     "name": "stdout",
     "output_type": "stream",
     "text": [
      "                   all         92       4910      0.745      0.673      0.707      0.513\n"
     ]
    },
    {
     "name": "stderr",
     "output_type": "stream",
     "text": [
      "\n"
     ]
    },
    {
     "name": "stdout",
     "output_type": "stream",
     "text": [
      "\n",
      "      Epoch    GPU_mem   box_loss   cls_loss   dfl_loss  Instances       Size\n"
     ]
    },
    {
     "name": "stderr",
     "output_type": "stream",
     "text": [
      "    232/500      8.51G      1.416      1.033        1.4         57        768: 100%|██████████| 219/219 [00:40<00:00,  5.38it/s]\n",
      "                 Class     Images  Instances      Box(P          R      mAP50  mAP50-95): 100%|██████████| 23/23 [00:02<00:00, 11.08it/s]"
     ]
    },
    {
     "name": "stdout",
     "output_type": "stream",
     "text": [
      "                   all         92       4910      0.749      0.646      0.689      0.497\n"
     ]
    },
    {
     "name": "stderr",
     "output_type": "stream",
     "text": [
      "\n"
     ]
    },
    {
     "name": "stdout",
     "output_type": "stream",
     "text": [
      "\n",
      "      Epoch    GPU_mem   box_loss   cls_loss   dfl_loss  Instances       Size\n"
     ]
    },
    {
     "name": "stderr",
     "output_type": "stream",
     "text": [
      "    233/500      9.12G      1.427      1.125       1.44        312        768: 100%|██████████| 219/219 [00:40<00:00,  5.37it/s]\n",
      "                 Class     Images  Instances      Box(P          R      mAP50  mAP50-95): 100%|██████████| 23/23 [00:02<00:00, 11.32it/s]"
     ]
    },
    {
     "name": "stdout",
     "output_type": "stream",
     "text": [
      "                   all         92       4910      0.756      0.659      0.694      0.504\n"
     ]
    },
    {
     "name": "stderr",
     "output_type": "stream",
     "text": [
      "\n"
     ]
    },
    {
     "name": "stdout",
     "output_type": "stream",
     "text": [
      "\n",
      "      Epoch    GPU_mem   box_loss   cls_loss   dfl_loss  Instances       Size\n"
     ]
    },
    {
     "name": "stderr",
     "output_type": "stream",
     "text": [
      "    234/500      9.56G      1.409      1.049      1.391        176        768: 100%|██████████| 219/219 [00:40<00:00,  5.36it/s]\n",
      "                 Class     Images  Instances      Box(P          R      mAP50  mAP50-95): 100%|██████████| 23/23 [00:02<00:00, 11.13it/s]"
     ]
    },
    {
     "name": "stdout",
     "output_type": "stream",
     "text": [
      "                   all         92       4910      0.746      0.668      0.696      0.498\n"
     ]
    },
    {
     "name": "stderr",
     "output_type": "stream",
     "text": [
      "\n"
     ]
    },
    {
     "name": "stdout",
     "output_type": "stream",
     "text": [
      "\n",
      "      Epoch    GPU_mem   box_loss   cls_loss   dfl_loss  Instances       Size\n"
     ]
    },
    {
     "name": "stderr",
     "output_type": "stream",
     "text": [
      "    235/500      8.62G      1.391       1.06      1.434        323        768: 100%|██████████| 219/219 [00:40<00:00,  5.37it/s]\n",
      "                 Class     Images  Instances      Box(P          R      mAP50  mAP50-95): 100%|██████████| 23/23 [00:02<00:00, 11.17it/s]"
     ]
    },
    {
     "name": "stdout",
     "output_type": "stream",
     "text": [
      "                   all         92       4910      0.735       0.66       0.69      0.498\n"
     ]
    },
    {
     "name": "stderr",
     "output_type": "stream",
     "text": [
      "\n"
     ]
    },
    {
     "name": "stdout",
     "output_type": "stream",
     "text": [
      "\n",
      "      Epoch    GPU_mem   box_loss   cls_loss   dfl_loss  Instances       Size\n"
     ]
    },
    {
     "name": "stderr",
     "output_type": "stream",
     "text": [
      "    236/500      9.79G       1.38      1.023      1.382        268        768: 100%|██████████| 219/219 [00:40<00:00,  5.35it/s]\n",
      "                 Class     Images  Instances      Box(P          R      mAP50  mAP50-95): 100%|██████████| 23/23 [00:02<00:00, 11.32it/s]"
     ]
    },
    {
     "name": "stdout",
     "output_type": "stream",
     "text": [
      "                   all         92       4910      0.777      0.643      0.705      0.511\n"
     ]
    },
    {
     "name": "stderr",
     "output_type": "stream",
     "text": [
      "\n"
     ]
    },
    {
     "name": "stdout",
     "output_type": "stream",
     "text": [
      "\n",
      "      Epoch    GPU_mem   box_loss   cls_loss   dfl_loss  Instances       Size\n"
     ]
    },
    {
     "name": "stderr",
     "output_type": "stream",
     "text": [
      "    237/500      9.31G       1.41      1.092      1.433         76        768: 100%|██████████| 219/219 [00:40<00:00,  5.38it/s]\n",
      "                 Class     Images  Instances      Box(P          R      mAP50  mAP50-95): 100%|██████████| 23/23 [00:02<00:00, 11.14it/s]"
     ]
    },
    {
     "name": "stdout",
     "output_type": "stream",
     "text": [
      "                   all         92       4910      0.775      0.656      0.705      0.512\n",
      "\u001b[34m\u001b[1mEarlyStopping: \u001b[0mTraining stopped early as no improvement observed in last 18 epochs. Best results observed at epoch 219, best model saved as best.pt.\n",
      "To update EarlyStopping(patience=18) pass a new patience value, i.e. `patience=300` or use `patience=0` to disable EarlyStopping.\n"
     ]
    },
    {
     "name": "stderr",
     "output_type": "stream",
     "text": [
      "\n"
     ]
    },
    {
     "name": "stdout",
     "output_type": "stream",
     "text": [
      "\n",
      "237 epochs completed in 2.938 hours.\n",
      "Optimizer stripped from runs\\obb\\x_s768_bgr05_scale09_box8\\weights\\last.pt, 118.4MB\n",
      "Optimizer stripped from runs\\obb\\x_s768_bgr05_scale09_box8\\weights\\best.pt, 118.4MB\n",
      "\n",
      "Validating runs\\obb\\x_s768_bgr05_scale09_box8\\weights\\best.pt...\n",
      "Ultralytics 8.3.16  Python-3.12.7 torch-2.4.1+cu121 CUDA:0 (NVIDIA GeForce RTX 4070 Ti, 12282MiB)\n",
      "YOLO11x-obb summary (fused): 483 layers, 58,737,913 parameters, 0 gradients, 202.7 GFLOPs\n"
     ]
    },
    {
     "name": "stderr",
     "output_type": "stream",
     "text": [
      "                 Class     Images  Instances      Box(P          R      mAP50  mAP50-95): 100%|██████████| 23/23 [00:04<00:00,  5.62it/s]\n"
     ]
    },
    {
     "name": "stdout",
     "output_type": "stream",
     "text": [
      "                   all         92       4910      0.777      0.662      0.719      0.525\n",
      "               ship(s)         79       4334      0.882      0.621      0.715      0.503\n",
      "               ship(L)         61        576      0.672      0.702      0.723      0.546\n",
      "Speed: 0.6ms preprocess, 14.9ms inference, 0.0ms loss, 5.7ms postprocess per image\n",
      "Results saved to \u001b[1mruns\\obb\\x_s768_bgr05_scale09_box8\u001b[0m\n"
     ]
    },
    {
     "data": {
      "application/vnd.jupyter.widget-view+json": {
       "model_id": "68078a6568b546c09c54981f9ee9aafe",
       "version_major": 2,
       "version_minor": 0
      },
      "text/plain": [
       "VBox(children=(Label(value='5.714 MB of 117.534 MB uploaded\\r'), FloatProgress(value=0.048618009879928134, max…"
      ]
     },
     "metadata": {},
     "output_type": "display_data"
    },
    {
     "data": {
      "text/html": [
       "<style>\n",
       "    table.wandb td:nth-child(1) { padding: 0 10px; text-align: left ; width: auto;} td:nth-child(2) {text-align: left ; width: 100%}\n",
       "    .wandb-row { display: flex; flex-direction: row; flex-wrap: wrap; justify-content: flex-start; width: 100% }\n",
       "    .wandb-col { display: flex; flex-direction: column; flex-basis: 100%; flex: 1; padding: 10px; }\n",
       "    </style>\n",
       "<div class=\"wandb-row\"><div class=\"wandb-col\"><h3>Run history:</h3><br/><table class=\"wandb\"><tr><td>lr/pg0</td><td>█████▇▇▇▆▆▆▅▅▅▅▅▅▅▅▄▄▄▄▄▃▃▃▃▃▃▂▂▂▂▂▂▂▁▁▁</td></tr><tr><td>lr/pg1</td><td>████▇▇▇▆▆▆▆▆▆▆▅▅▅▅▅▅▄▄▄▄▄▃▃▃▃▃▂▂▂▂▂▁▁▁▁▁</td></tr><tr><td>lr/pg2</td><td>█▇▇▇▇▆▆▆▆▆▆▆▆▆▆▅▅▅▅▅▅▄▄▄▄▄▃▃▃▃▃▃▃▃▂▂▂▂▁▁</td></tr><tr><td>metrics/mAP50(B)</td><td>▁▁▃▄▅▆▆▆▆▆▅▆▆▆▇▇▇▇▇▆▇▇▇▇▇████▇▇▇███████▇</td></tr><tr><td>metrics/mAP50-95(B)</td><td>▁▃▃▅▄▅▅▅▅▅▆▆▇▆▆▇▇▇▇▇▇▇▇▇▇▇█▇█▇██████████</td></tr><tr><td>metrics/precision(B)</td><td>▁▃▄▅▅▅▅▆▆▆▆▆▇▆▇▇▇▆▇▆▇▇▇▇▇▇██▇▇▇▆▇██▇▇▇▇▇</td></tr><tr><td>metrics/recall(B)</td><td>▂▁▄▄▄▅▄▄▄▆▆▆▇▆▆▆▆▇▇▇▇▇▇▇▇▇▇▇▇▇▇▇▇█▇▇▇▇█▇</td></tr><tr><td>model/GFLOPs</td><td>▁</td></tr><tr><td>model/parameters</td><td>▁</td></tr><tr><td>model/speed_PyTorch(ms)</td><td>▁</td></tr><tr><td>train/box_loss</td><td>▆▇█▆▆▅▅▅▄▄▃▃▃▂▂▂▃▂▂▂▂▂▂▂▁▂▂▂▂▁▂▂▂▁▁▁▁▁▁▁</td></tr><tr><td>train/cls_loss</td><td>█▆▆▅▄▄▄▄▃▄▃▃▂▂▄▃▃▂▂▃▂▂▂▂▂▂▂▂▂▁▁▁▁▁▁▁▁▁▁▁</td></tr><tr><td>train/dfl_loss</td><td>▇█▆▆▆▄▄▄▃▄▃▃▃▃▃▄▃▂▂▃▂▂▂▃▃▂▂▂▁▁▂▂▂▁▁▁▂▂▁▁</td></tr><tr><td>val/box_loss</td><td>█▆▆▆▆▅▅▅▄▄▄▄▃▃▄▄▃▃▄▃▃▃▃▃▂▂▂▂▂▂▂▁▁▂▁▁▁▁▁▁</td></tr><tr><td>val/cls_loss</td><td>█▅▅▄▄▃▄▃▃▃▃▂▂▃▂▂▂▂▂▂▂▂▂▂▁▁▂▁▁▁▁▁▁▁▁▁▁▁▁▁</td></tr><tr><td>val/dfl_loss</td><td>▇███▇▇▅▆▄▅▃▅▃▄▄▄▄▃▄▄▃▃▂▅▂▂▂▂▂▂▁▂▃▂▂▁▃▄▁▂</td></tr></table><br/></div><div class=\"wandb-col\"><h3>Run summary:</h3><br/><table class=\"wandb\"><tr><td>lr/pg0</td><td>0.00176</td></tr><tr><td>lr/pg1</td><td>0.00176</td></tr><tr><td>lr/pg2</td><td>0.00176</td></tr><tr><td>metrics/mAP50(B)</td><td>0.71923</td></tr><tr><td>metrics/mAP50-95(B)</td><td>0.52472</td></tr><tr><td>metrics/precision(B)</td><td>0.77704</td></tr><tr><td>metrics/recall(B)</td><td>0.66165</td></tr><tr><td>model/GFLOPs</td><td>203.764</td></tr><tr><td>model/parameters</td><td>58785241</td></tr><tr><td>model/speed_PyTorch(ms)</td><td>12.608</td></tr><tr><td>train/box_loss</td><td>1.41003</td></tr><tr><td>train/cls_loss</td><td>1.09241</td></tr><tr><td>train/dfl_loss</td><td>1.43257</td></tr><tr><td>val/box_loss</td><td>1.24687</td></tr><tr><td>val/cls_loss</td><td>1.0086</td></tr><tr><td>val/dfl_loss</td><td>1.50187</td></tr></table><br/></div></div>"
      ],
      "text/plain": [
       "<IPython.core.display.HTML object>"
      ]
     },
     "metadata": {},
     "output_type": "display_data"
    },
    {
     "data": {
      "text/html": [
       " View run <strong style=\"color:#cdcd00\">x_s768_bgr05_scale09_box8</strong> at: <a href='https://wandb.ai/waooang/Ultralytics/runs/6a0dguch' target=\"_blank\">https://wandb.ai/waooang/Ultralytics/runs/6a0dguch</a><br/> View project at: <a href='https://wandb.ai/waooang/Ultralytics' target=\"_blank\">https://wandb.ai/waooang/Ultralytics</a><br/>Synced 5 W&B file(s), 0 media file(s), 4 artifact file(s) and 17 other file(s)"
      ],
      "text/plain": [
       "<IPython.core.display.HTML object>"
      ]
     },
     "metadata": {},
     "output_type": "display_data"
    },
    {
     "data": {
      "text/html": [
       "Find logs at: <code>.\\wandb\\run-20241020_123908-6a0dguch\\logs</code>"
      ],
      "text/plain": [
       "<IPython.core.display.HTML object>"
      ]
     },
     "metadata": {},
     "output_type": "display_data"
    }
   ],
   "source": [
    "# 직접 YOLO 클래스를 임포트\n",
    "from ultralytics import YOLO\n",
    "\n",
    "base = \"yolo11x-obb.pt\"\n",
    "resume =\"runs/obb/train13/weights/best.pt\"\n",
    "# YOLO 모델 초기화\n",
    "model = YOLO(base) \n",
    "results = model.train(\n",
    "    data=\"data_com.yaml\",\n",
    "    name = \"x_s768_bgr05_scale09_box8\",\n",
    "    epochs=500,\n",
    "    batch=4,\n",
    "    imgsz=768,\n",
    "    patience=18,\n",
    "    device=\"0\",\n",
    "    optimizer = \"AdamW\",\n",
    "    lr0= 0.00333,\n",
    "    lrf= 0.00305,\n",
    "    momentum= 0.7,\n",
    "    weight_decay= 0.00049,\n",
    "    warmup_epochs= 4.78773,\n",
    "    warmup_momentum= 0.86096,\n",
    "    box= 8.83147,\n",
    "    cls= 0.55571,\n",
    "    dfl= 1.72141,\n",
    "    hsv_h= 0.01527,\n",
    "    hsv_s= 0.68368,\n",
    "    hsv_v= 0.35707,\n",
    "    degrees= 0.0,\n",
    "    translate= 0.11826,\n",
    "    shear= 0.0,\n",
    "    perspective= 0.0,\n",
    "    flipud= 0.65733,\n",
    "    fliplr= 0.44244,\n",
    "    bgr= 0.7538,\n",
    "    mosaic= 0.9319,\n",
    "    mixup= 0.0,\n",
    "    copy_paste= 0.0,\n",
    "    scale = 0.9,\n",
    "    \n",
    "    dropout = 0.35,\n",
    "    # label_smoothing = 0.3,\n",
    "    )"
   ]
  },
  {
   "cell_type": "code",
   "execution_count": 6,
   "metadata": {},
   "outputs": [
    {
     "name": "stderr",
     "output_type": "stream",
     "text": [
      "<>:1: SyntaxWarning: invalid escape sequence '\\o'\n",
      "<>:1: SyntaxWarning: invalid escape sequence '\\o'\n",
      "C:\\Users\\Seungwoo\\AppData\\Local\\Temp\\ipykernel_35504\\4051414092.py:1: SyntaxWarning: invalid escape sequence '\\o'\n",
      "  model = YOLO(\"runs\\obb\\combine_1024\\weights/best.pt\")\n"
     ]
    },
    {
     "name": "stdout",
     "output_type": "stream",
     "text": [
      "Ultralytics 8.3.9  Python-3.12.7 torch-2.4.1+cu121 CUDA:0 (NVIDIA GeForce RTX 4070 Ti, 12282MiB)\n",
      "YOLO11x-obb summary (fused): 483 layers, 58,737,913 parameters, 0 gradients, 202.7 GFLOPs\n"
     ]
    },
    {
     "name": "stderr",
     "output_type": "stream",
     "text": [
      "\u001b[34m\u001b[1mval: \u001b[0mScanning E:\\Workspace\\SatellieteIMGDetection\\datasets\\labels\\val.cache... 92 images, 0 backgrounds, 0 corrupt: 100%|██████████| 92/92 [00:00<?, ?it/s]\n",
      "                 Class     Images  Instances      Box(P          R      mAP50  mAP50-95): 100%|██████████| 6/6 [00:14<00:00,  2.34s/it]\n"
     ]
    },
    {
     "name": "stdout",
     "output_type": "stream",
     "text": [
      "                   all         92       4910      0.877      0.688      0.782      0.591\n",
      "               ship(s)         79       4334      0.913      0.699      0.781       0.58\n",
      "               ship(L)         61        576      0.841      0.677      0.782      0.602\n",
      "Speed: 1.1ms preprocess, 106.3ms inference, 0.0ms loss, 8.8ms postprocess per image\n",
      "Results saved to \u001b[1mruns\\obb\\val\u001b[0m\n"
     ]
    },
    {
     "data": {
      "text/plain": [
       "array([    0.58025,     0.60218])"
      ]
     },
     "execution_count": 6,
     "metadata": {},
     "output_type": "execute_result"
    }
   ],
   "source": [
    "model = YOLO(\"runs\\obb\\combine_1024\\weights/best.pt\")\n",
    "\n",
    "# Validate the model\n",
    "metrics = model.val()  # no arguments needed, dataset and settings remembered\n",
    "metrics.box.map  # map50-95\n",
    "metrics.box.map50  # map50\n",
    "metrics.box.map75  # map75\n",
    "metrics.box.maps  # a list contains map50-95 of each category"
   ]
  },
  {
   "cell_type": "code",
   "execution_count": null,
   "metadata": {},
   "outputs": [],
   "source": [
    "# # YOLO 모델의 Detect 모듈을 제외한 백본만 추출\n",
    "# backbone = nn.Sequential(*list(yolo.model.model.children())[:-1])\n",
    "# backbone"
   ]
  },
  {
   "cell_type": "code",
   "execution_count": null,
   "metadata": {},
   "outputs": [],
   "source": [
    "# head = nn.Sequential(list(yolo.model.model.children())[-1])\n",
    "# head"
   ]
  },
  {
   "cell_type": "code",
   "execution_count": 1,
   "metadata": {},
   "outputs": [
    {
     "ename": "TypeError",
     "evalue": "cat() received an invalid combination of arguments - got (Tensor, int), but expected one of:\n * (tuple of Tensors tensors, int dim, *, Tensor out)\n * (tuple of Tensors tensors, name dim, *, Tensor out)\n",
     "output_type": "error",
     "traceback": [
      "\u001b[0;31m---------------------------------------------------------------------------\u001b[0m",
      "\u001b[0;31mTypeError\u001b[0m                                 Traceback (most recent call last)",
      "Cell \u001b[0;32mIn[1], line 50\u001b[0m\n\u001b[1;32m     47\u001b[0m input_data \u001b[38;5;241m=\u001b[39m torch\u001b[38;5;241m.\u001b[39mrandn(\u001b[38;5;241m1\u001b[39m, \u001b[38;5;241m3\u001b[39m, \u001b[38;5;241m640\u001b[39m, \u001b[38;5;241m640\u001b[39m)\n\u001b[1;32m     49\u001b[0m \u001b[38;5;66;03m# 모델 실행\u001b[39;00m\n\u001b[0;32m---> 50\u001b[0m yolo_output, custom_output \u001b[38;5;241m=\u001b[39m \u001b[43mmodel_with_custom_head\u001b[49m\u001b[43m(\u001b[49m\u001b[43minput_data\u001b[49m\u001b[43m)\u001b[49m\n\u001b[1;32m     52\u001b[0m \u001b[38;5;66;03m# 결과 출력\u001b[39;00m\n\u001b[1;32m     53\u001b[0m \u001b[38;5;28mprint\u001b[39m(\u001b[38;5;124m\"\u001b[39m\u001b[38;5;124mYOLO Output Shape:\u001b[39m\u001b[38;5;124m\"\u001b[39m, yolo_output\u001b[38;5;241m.\u001b[39mshape)\n",
      "File \u001b[0;32m~/anaconda3/envs/dust/lib/python3.12/site-packages/torch/nn/modules/module.py:1511\u001b[0m, in \u001b[0;36mModule._wrapped_call_impl\u001b[0;34m(self, *args, **kwargs)\u001b[0m\n\u001b[1;32m   1509\u001b[0m     \u001b[38;5;28;01mreturn\u001b[39;00m \u001b[38;5;28mself\u001b[39m\u001b[38;5;241m.\u001b[39m_compiled_call_impl(\u001b[38;5;241m*\u001b[39margs, \u001b[38;5;241m*\u001b[39m\u001b[38;5;241m*\u001b[39mkwargs)  \u001b[38;5;66;03m# type: ignore[misc]\u001b[39;00m\n\u001b[1;32m   1510\u001b[0m \u001b[38;5;28;01melse\u001b[39;00m:\n\u001b[0;32m-> 1511\u001b[0m     \u001b[38;5;28;01mreturn\u001b[39;00m \u001b[38;5;28;43mself\u001b[39;49m\u001b[38;5;241;43m.\u001b[39;49m\u001b[43m_call_impl\u001b[49m\u001b[43m(\u001b[49m\u001b[38;5;241;43m*\u001b[39;49m\u001b[43margs\u001b[49m\u001b[43m,\u001b[49m\u001b[43m \u001b[49m\u001b[38;5;241;43m*\u001b[39;49m\u001b[38;5;241;43m*\u001b[39;49m\u001b[43mkwargs\u001b[49m\u001b[43m)\u001b[49m\n",
      "File \u001b[0;32m~/anaconda3/envs/dust/lib/python3.12/site-packages/torch/nn/modules/module.py:1520\u001b[0m, in \u001b[0;36mModule._call_impl\u001b[0;34m(self, *args, **kwargs)\u001b[0m\n\u001b[1;32m   1515\u001b[0m \u001b[38;5;66;03m# If we don't have any hooks, we want to skip the rest of the logic in\u001b[39;00m\n\u001b[1;32m   1516\u001b[0m \u001b[38;5;66;03m# this function, and just call forward.\u001b[39;00m\n\u001b[1;32m   1517\u001b[0m \u001b[38;5;28;01mif\u001b[39;00m \u001b[38;5;129;01mnot\u001b[39;00m (\u001b[38;5;28mself\u001b[39m\u001b[38;5;241m.\u001b[39m_backward_hooks \u001b[38;5;129;01mor\u001b[39;00m \u001b[38;5;28mself\u001b[39m\u001b[38;5;241m.\u001b[39m_backward_pre_hooks \u001b[38;5;129;01mor\u001b[39;00m \u001b[38;5;28mself\u001b[39m\u001b[38;5;241m.\u001b[39m_forward_hooks \u001b[38;5;129;01mor\u001b[39;00m \u001b[38;5;28mself\u001b[39m\u001b[38;5;241m.\u001b[39m_forward_pre_hooks\n\u001b[1;32m   1518\u001b[0m         \u001b[38;5;129;01mor\u001b[39;00m _global_backward_pre_hooks \u001b[38;5;129;01mor\u001b[39;00m _global_backward_hooks\n\u001b[1;32m   1519\u001b[0m         \u001b[38;5;129;01mor\u001b[39;00m _global_forward_hooks \u001b[38;5;129;01mor\u001b[39;00m _global_forward_pre_hooks):\n\u001b[0;32m-> 1520\u001b[0m     \u001b[38;5;28;01mreturn\u001b[39;00m \u001b[43mforward_call\u001b[49m\u001b[43m(\u001b[49m\u001b[38;5;241;43m*\u001b[39;49m\u001b[43margs\u001b[49m\u001b[43m,\u001b[49m\u001b[43m \u001b[49m\u001b[38;5;241;43m*\u001b[39;49m\u001b[38;5;241;43m*\u001b[39;49m\u001b[43mkwargs\u001b[49m\u001b[43m)\u001b[49m\n\u001b[1;32m   1522\u001b[0m \u001b[38;5;28;01mtry\u001b[39;00m:\n\u001b[1;32m   1523\u001b[0m     result \u001b[38;5;241m=\u001b[39m \u001b[38;5;28;01mNone\u001b[39;00m\n",
      "Cell \u001b[0;32mIn[1], line 25\u001b[0m, in \u001b[0;36mYOLOv5WithCustomHead.forward\u001b[0;34m(self, x)\u001b[0m\n\u001b[1;32m     23\u001b[0m \u001b[38;5;66;03m# 중간 피처 맵을 추출하는 부분\u001b[39;00m\n\u001b[1;32m     24\u001b[0m \u001b[38;5;28;01mfor\u001b[39;00m i, layer \u001b[38;5;129;01min\u001b[39;00m \u001b[38;5;28menumerate\u001b[39m(\u001b[38;5;28mself\u001b[39m\u001b[38;5;241m.\u001b[39myolo\u001b[38;5;241m.\u001b[39mmodel):\n\u001b[0;32m---> 25\u001b[0m     x \u001b[38;5;241m=\u001b[39m \u001b[43mlayer\u001b[49m\u001b[43m(\u001b[49m\u001b[43mx\u001b[49m\u001b[43m)\u001b[49m\n\u001b[1;32m     26\u001b[0m     \u001b[38;5;28;01mif\u001b[39;00m \u001b[38;5;28misinstance\u001b[39m(x, \u001b[38;5;28mlist\u001b[39m):  \u001b[38;5;66;03m# x가 리스트인 경우\u001b[39;00m\n\u001b[1;32m     27\u001b[0m         x \u001b[38;5;241m=\u001b[39m torch\u001b[38;5;241m.\u001b[39mcat(x, dim\u001b[38;5;241m=\u001b[39m\u001b[38;5;241m1\u001b[39m)  \u001b[38;5;66;03m# 리스트의 텐서를 결합\u001b[39;00m\n",
      "File \u001b[0;32m~/anaconda3/envs/dust/lib/python3.12/site-packages/torch/nn/modules/module.py:1511\u001b[0m, in \u001b[0;36mModule._wrapped_call_impl\u001b[0;34m(self, *args, **kwargs)\u001b[0m\n\u001b[1;32m   1509\u001b[0m     \u001b[38;5;28;01mreturn\u001b[39;00m \u001b[38;5;28mself\u001b[39m\u001b[38;5;241m.\u001b[39m_compiled_call_impl(\u001b[38;5;241m*\u001b[39margs, \u001b[38;5;241m*\u001b[39m\u001b[38;5;241m*\u001b[39mkwargs)  \u001b[38;5;66;03m# type: ignore[misc]\u001b[39;00m\n\u001b[1;32m   1510\u001b[0m \u001b[38;5;28;01melse\u001b[39;00m:\n\u001b[0;32m-> 1511\u001b[0m     \u001b[38;5;28;01mreturn\u001b[39;00m \u001b[38;5;28;43mself\u001b[39;49m\u001b[38;5;241;43m.\u001b[39;49m\u001b[43m_call_impl\u001b[49m\u001b[43m(\u001b[49m\u001b[38;5;241;43m*\u001b[39;49m\u001b[43margs\u001b[49m\u001b[43m,\u001b[49m\u001b[43m \u001b[49m\u001b[38;5;241;43m*\u001b[39;49m\u001b[38;5;241;43m*\u001b[39;49m\u001b[43mkwargs\u001b[49m\u001b[43m)\u001b[49m\n",
      "File \u001b[0;32m~/anaconda3/envs/dust/lib/python3.12/site-packages/torch/nn/modules/module.py:1520\u001b[0m, in \u001b[0;36mModule._call_impl\u001b[0;34m(self, *args, **kwargs)\u001b[0m\n\u001b[1;32m   1515\u001b[0m \u001b[38;5;66;03m# If we don't have any hooks, we want to skip the rest of the logic in\u001b[39;00m\n\u001b[1;32m   1516\u001b[0m \u001b[38;5;66;03m# this function, and just call forward.\u001b[39;00m\n\u001b[1;32m   1517\u001b[0m \u001b[38;5;28;01mif\u001b[39;00m \u001b[38;5;129;01mnot\u001b[39;00m (\u001b[38;5;28mself\u001b[39m\u001b[38;5;241m.\u001b[39m_backward_hooks \u001b[38;5;129;01mor\u001b[39;00m \u001b[38;5;28mself\u001b[39m\u001b[38;5;241m.\u001b[39m_backward_pre_hooks \u001b[38;5;129;01mor\u001b[39;00m \u001b[38;5;28mself\u001b[39m\u001b[38;5;241m.\u001b[39m_forward_hooks \u001b[38;5;129;01mor\u001b[39;00m \u001b[38;5;28mself\u001b[39m\u001b[38;5;241m.\u001b[39m_forward_pre_hooks\n\u001b[1;32m   1518\u001b[0m         \u001b[38;5;129;01mor\u001b[39;00m _global_backward_pre_hooks \u001b[38;5;129;01mor\u001b[39;00m _global_backward_hooks\n\u001b[1;32m   1519\u001b[0m         \u001b[38;5;129;01mor\u001b[39;00m _global_forward_hooks \u001b[38;5;129;01mor\u001b[39;00m _global_forward_pre_hooks):\n\u001b[0;32m-> 1520\u001b[0m     \u001b[38;5;28;01mreturn\u001b[39;00m \u001b[43mforward_call\u001b[49m\u001b[43m(\u001b[49m\u001b[38;5;241;43m*\u001b[39;49m\u001b[43margs\u001b[49m\u001b[43m,\u001b[49m\u001b[43m \u001b[49m\u001b[38;5;241;43m*\u001b[39;49m\u001b[38;5;241;43m*\u001b[39;49m\u001b[43mkwargs\u001b[49m\u001b[43m)\u001b[49m\n\u001b[1;32m   1522\u001b[0m \u001b[38;5;28;01mtry\u001b[39;00m:\n\u001b[1;32m   1523\u001b[0m     result \u001b[38;5;241m=\u001b[39m \u001b[38;5;28;01mNone\u001b[39;00m\n",
      "File \u001b[0;32m~/anaconda3/envs/dust/lib/python3.12/site-packages/ultralytics/nn/modules/conv.py:332\u001b[0m, in \u001b[0;36mConcat.forward\u001b[0;34m(self, x)\u001b[0m\n\u001b[1;32m    330\u001b[0m \u001b[38;5;28;01mdef\u001b[39;00m \u001b[38;5;21mforward\u001b[39m(\u001b[38;5;28mself\u001b[39m, x):\n\u001b[1;32m    331\u001b[0m \u001b[38;5;250m    \u001b[39m\u001b[38;5;124;03m\"\"\"Forward pass for the YOLOv8 mask Proto module.\"\"\"\u001b[39;00m\n\u001b[0;32m--> 332\u001b[0m     \u001b[38;5;28;01mreturn\u001b[39;00m \u001b[43mtorch\u001b[49m\u001b[38;5;241;43m.\u001b[39;49m\u001b[43mcat\u001b[49m\u001b[43m(\u001b[49m\u001b[43mx\u001b[49m\u001b[43m,\u001b[49m\u001b[43m \u001b[49m\u001b[38;5;28;43mself\u001b[39;49m\u001b[38;5;241;43m.\u001b[39;49m\u001b[43md\u001b[49m\u001b[43m)\u001b[49m\n",
      "\u001b[0;31mTypeError\u001b[0m: cat() received an invalid combination of arguments - got (Tensor, int), but expected one of:\n * (tuple of Tensors tensors, int dim, *, Tensor out)\n * (tuple of Tensors tensors, name dim, *, Tensor out)\n"
     ]
    }
   ],
   "source": [
    "# import torch\n",
    "# import torch.nn as nn\n",
    "# from ultralytics import YOLO\n",
    "\n",
    "# # YOLO 모델 불러오기 (YOLOv5 예시)\n",
    "# class YOLOv5WithCustomHead(nn.Module):\n",
    "#     def __init__(self, yolo):\n",
    "#         super(YOLOv5WithCustomHead, self).__init__()\n",
    "#         self.yolo = yolo.model  # YOLO 모델의 모든 레이어\n",
    "        \n",
    "#         # YOLO의 중간층에서 사용할 레이어 인덱스를 확인해야 함\n",
    "#         self.custom_head = nn.Sequential(\n",
    "#             nn.Conv2d(256, 128, kernel_size=3, stride=1, padding=1),\n",
    "#             nn.ReLU(),\n",
    "#             nn.AdaptiveAvgPool2d((1, 1)),  # Global Average Pooling\n",
    "#             nn.Flatten(),\n",
    "#             nn.Linear(128, 10)  # 예시로 10개 클래스를 분류하는 헤드\n",
    "#         )\n",
    "\n",
    "#     def forward(self, x):\n",
    "#         outputs = []  # 여러 텐서를 저장할 리스트\n",
    "        \n",
    "#         # 중간 피처 맵을 추출하는 부분\n",
    "#         for i, layer in enumerate(self.yolo.model):\n",
    "#             x = layer(x)\n",
    "#             if isinstance(x, list):  # x가 리스트인 경우\n",
    "#                 x = torch.cat(x, dim=1)  # 리스트의 텐서를 결합\n",
    "#             if i == 9:  # 예시로 9번째 레이어 출력 사용\n",
    "#                 feature_map = x  # 중간 피처 맵 추출\n",
    "#                 outputs.append(feature_map)  # 필요한 피처 맵 저장\n",
    "\n",
    "#         # 기존 YOLO 아웃풋 (객체 탐지)\n",
    "#         yolo_output = x\n",
    "\n",
    "#         # 새로운 헤드에서 중간 피처 맵 사용\n",
    "#         custom_output = self.custom_head(feature_map)\n",
    "        \n",
    "#         return yolo_output, custom_output\n",
    "\n",
    "# # 기존 YOLOv5 모델 불러오기\n",
    "# yolo = YOLO('yolo11m.pt')\n",
    "\n",
    "# # 커스텀 모델 생성 (YOLOv5에 새로운 헤드 추가)\n",
    "# model_with_custom_head = YOLOv5WithCustomHead(yolo)\n",
    "\n",
    "# # 예시 입력 데이터\n",
    "# input_data = torch.randn(1, 3, 640, 640)\n",
    "\n",
    "# # 모델 실행\n",
    "# yolo_output, custom_output = model_with_custom_head(input_data)\n",
    "\n",
    "# # 결과 출력\n",
    "# print(\"YOLO Output Shape:\", yolo_output.shape)\n",
    "# print(\"Custom Head Output Shape:\", custom_output.shape)\n",
    "\n"
   ]
  },
  {
   "cell_type": "code",
   "execution_count": 9,
   "metadata": {},
   "outputs": [
    {
     "data": {
      "text/plain": [
       "DetectionModel(\n",
       "  (model): Sequential(\n",
       "    (0): Conv(\n",
       "      (conv): Conv2d(3, 64, kernel_size=(3, 3), stride=(2, 2), padding=(1, 1), bias=False)\n",
       "      (bn): BatchNorm2d(64, eps=0.001, momentum=0.03, affine=True, track_running_stats=True)\n",
       "      (act): SiLU(inplace=True)\n",
       "    )\n",
       "    (1): Conv(\n",
       "      (conv): Conv2d(64, 128, kernel_size=(3, 3), stride=(2, 2), padding=(1, 1), bias=False)\n",
       "      (bn): BatchNorm2d(128, eps=0.001, momentum=0.03, affine=True, track_running_stats=True)\n",
       "      (act): SiLU(inplace=True)\n",
       "    )\n",
       "    (2): C3k2(\n",
       "      (cv1): Conv(\n",
       "        (conv): Conv2d(128, 128, kernel_size=(1, 1), stride=(1, 1), bias=False)\n",
       "        (bn): BatchNorm2d(128, eps=0.001, momentum=0.03, affine=True, track_running_stats=True)\n",
       "        (act): SiLU(inplace=True)\n",
       "      )\n",
       "      (cv2): Conv(\n",
       "        (conv): Conv2d(192, 256, kernel_size=(1, 1), stride=(1, 1), bias=False)\n",
       "        (bn): BatchNorm2d(256, eps=0.001, momentum=0.03, affine=True, track_running_stats=True)\n",
       "        (act): SiLU(inplace=True)\n",
       "      )\n",
       "      (m): ModuleList(\n",
       "        (0): C3k(\n",
       "          (cv1): Conv(\n",
       "            (conv): Conv2d(64, 32, kernel_size=(1, 1), stride=(1, 1), bias=False)\n",
       "            (bn): BatchNorm2d(32, eps=0.001, momentum=0.03, affine=True, track_running_stats=True)\n",
       "            (act): SiLU(inplace=True)\n",
       "          )\n",
       "          (cv2): Conv(\n",
       "            (conv): Conv2d(64, 32, kernel_size=(1, 1), stride=(1, 1), bias=False)\n",
       "            (bn): BatchNorm2d(32, eps=0.001, momentum=0.03, affine=True, track_running_stats=True)\n",
       "            (act): SiLU(inplace=True)\n",
       "          )\n",
       "          (cv3): Conv(\n",
       "            (conv): Conv2d(64, 64, kernel_size=(1, 1), stride=(1, 1), bias=False)\n",
       "            (bn): BatchNorm2d(64, eps=0.001, momentum=0.03, affine=True, track_running_stats=True)\n",
       "            (act): SiLU(inplace=True)\n",
       "          )\n",
       "          (m): Sequential(\n",
       "            (0): Bottleneck(\n",
       "              (cv1): Conv(\n",
       "                (conv): Conv2d(32, 32, kernel_size=(3, 3), stride=(1, 1), padding=(1, 1), bias=False)\n",
       "                (bn): BatchNorm2d(32, eps=0.001, momentum=0.03, affine=True, track_running_stats=True)\n",
       "                (act): SiLU(inplace=True)\n",
       "              )\n",
       "              (cv2): Conv(\n",
       "                (conv): Conv2d(32, 32, kernel_size=(3, 3), stride=(1, 1), padding=(1, 1), bias=False)\n",
       "                (bn): BatchNorm2d(32, eps=0.001, momentum=0.03, affine=True, track_running_stats=True)\n",
       "                (act): SiLU(inplace=True)\n",
       "              )\n",
       "            )\n",
       "            (1): Bottleneck(\n",
       "              (cv1): Conv(\n",
       "                (conv): Conv2d(32, 32, kernel_size=(3, 3), stride=(1, 1), padding=(1, 1), bias=False)\n",
       "                (bn): BatchNorm2d(32, eps=0.001, momentum=0.03, affine=True, track_running_stats=True)\n",
       "                (act): SiLU(inplace=True)\n",
       "              )\n",
       "              (cv2): Conv(\n",
       "                (conv): Conv2d(32, 32, kernel_size=(3, 3), stride=(1, 1), padding=(1, 1), bias=False)\n",
       "                (bn): BatchNorm2d(32, eps=0.001, momentum=0.03, affine=True, track_running_stats=True)\n",
       "                (act): SiLU(inplace=True)\n",
       "              )\n",
       "            )\n",
       "          )\n",
       "        )\n",
       "      )\n",
       "    )\n",
       "    (3): Conv(\n",
       "      (conv): Conv2d(256, 256, kernel_size=(3, 3), stride=(2, 2), padding=(1, 1), bias=False)\n",
       "      (bn): BatchNorm2d(256, eps=0.001, momentum=0.03, affine=True, track_running_stats=True)\n",
       "      (act): SiLU(inplace=True)\n",
       "    )\n",
       "    (4): C3k2(\n",
       "      (cv1): Conv(\n",
       "        (conv): Conv2d(256, 256, kernel_size=(1, 1), stride=(1, 1), bias=False)\n",
       "        (bn): BatchNorm2d(256, eps=0.001, momentum=0.03, affine=True, track_running_stats=True)\n",
       "        (act): SiLU(inplace=True)\n",
       "      )\n",
       "      (cv2): Conv(\n",
       "        (conv): Conv2d(384, 512, kernel_size=(1, 1), stride=(1, 1), bias=False)\n",
       "        (bn): BatchNorm2d(512, eps=0.001, momentum=0.03, affine=True, track_running_stats=True)\n",
       "        (act): SiLU(inplace=True)\n",
       "      )\n",
       "      (m): ModuleList(\n",
       "        (0): C3k(\n",
       "          (cv1): Conv(\n",
       "            (conv): Conv2d(128, 64, kernel_size=(1, 1), stride=(1, 1), bias=False)\n",
       "            (bn): BatchNorm2d(64, eps=0.001, momentum=0.03, affine=True, track_running_stats=True)\n",
       "            (act): SiLU(inplace=True)\n",
       "          )\n",
       "          (cv2): Conv(\n",
       "            (conv): Conv2d(128, 64, kernel_size=(1, 1), stride=(1, 1), bias=False)\n",
       "            (bn): BatchNorm2d(64, eps=0.001, momentum=0.03, affine=True, track_running_stats=True)\n",
       "            (act): SiLU(inplace=True)\n",
       "          )\n",
       "          (cv3): Conv(\n",
       "            (conv): Conv2d(128, 128, kernel_size=(1, 1), stride=(1, 1), bias=False)\n",
       "            (bn): BatchNorm2d(128, eps=0.001, momentum=0.03, affine=True, track_running_stats=True)\n",
       "            (act): SiLU(inplace=True)\n",
       "          )\n",
       "          (m): Sequential(\n",
       "            (0): Bottleneck(\n",
       "              (cv1): Conv(\n",
       "                (conv): Conv2d(64, 64, kernel_size=(3, 3), stride=(1, 1), padding=(1, 1), bias=False)\n",
       "                (bn): BatchNorm2d(64, eps=0.001, momentum=0.03, affine=True, track_running_stats=True)\n",
       "                (act): SiLU(inplace=True)\n",
       "              )\n",
       "              (cv2): Conv(\n",
       "                (conv): Conv2d(64, 64, kernel_size=(3, 3), stride=(1, 1), padding=(1, 1), bias=False)\n",
       "                (bn): BatchNorm2d(64, eps=0.001, momentum=0.03, affine=True, track_running_stats=True)\n",
       "                (act): SiLU(inplace=True)\n",
       "              )\n",
       "            )\n",
       "            (1): Bottleneck(\n",
       "              (cv1): Conv(\n",
       "                (conv): Conv2d(64, 64, kernel_size=(3, 3), stride=(1, 1), padding=(1, 1), bias=False)\n",
       "                (bn): BatchNorm2d(64, eps=0.001, momentum=0.03, affine=True, track_running_stats=True)\n",
       "                (act): SiLU(inplace=True)\n",
       "              )\n",
       "              (cv2): Conv(\n",
       "                (conv): Conv2d(64, 64, kernel_size=(3, 3), stride=(1, 1), padding=(1, 1), bias=False)\n",
       "                (bn): BatchNorm2d(64, eps=0.001, momentum=0.03, affine=True, track_running_stats=True)\n",
       "                (act): SiLU(inplace=True)\n",
       "              )\n",
       "            )\n",
       "          )\n",
       "        )\n",
       "      )\n",
       "    )\n",
       "    (5): Conv(\n",
       "      (conv): Conv2d(512, 512, kernel_size=(3, 3), stride=(2, 2), padding=(1, 1), bias=False)\n",
       "      (bn): BatchNorm2d(512, eps=0.001, momentum=0.03, affine=True, track_running_stats=True)\n",
       "      (act): SiLU(inplace=True)\n",
       "    )\n",
       "    (6): C3k2(\n",
       "      (cv1): Conv(\n",
       "        (conv): Conv2d(512, 512, kernel_size=(1, 1), stride=(1, 1), bias=False)\n",
       "        (bn): BatchNorm2d(512, eps=0.001, momentum=0.03, affine=True, track_running_stats=True)\n",
       "        (act): SiLU(inplace=True)\n",
       "      )\n",
       "      (cv2): Conv(\n",
       "        (conv): Conv2d(768, 512, kernel_size=(1, 1), stride=(1, 1), bias=False)\n",
       "        (bn): BatchNorm2d(512, eps=0.001, momentum=0.03, affine=True, track_running_stats=True)\n",
       "        (act): SiLU(inplace=True)\n",
       "      )\n",
       "      (m): ModuleList(\n",
       "        (0): C3k(\n",
       "          (cv1): Conv(\n",
       "            (conv): Conv2d(256, 128, kernel_size=(1, 1), stride=(1, 1), bias=False)\n",
       "            (bn): BatchNorm2d(128, eps=0.001, momentum=0.03, affine=True, track_running_stats=True)\n",
       "            (act): SiLU(inplace=True)\n",
       "          )\n",
       "          (cv2): Conv(\n",
       "            (conv): Conv2d(256, 128, kernel_size=(1, 1), stride=(1, 1), bias=False)\n",
       "            (bn): BatchNorm2d(128, eps=0.001, momentum=0.03, affine=True, track_running_stats=True)\n",
       "            (act): SiLU(inplace=True)\n",
       "          )\n",
       "          (cv3): Conv(\n",
       "            (conv): Conv2d(256, 256, kernel_size=(1, 1), stride=(1, 1), bias=False)\n",
       "            (bn): BatchNorm2d(256, eps=0.001, momentum=0.03, affine=True, track_running_stats=True)\n",
       "            (act): SiLU(inplace=True)\n",
       "          )\n",
       "          (m): Sequential(\n",
       "            (0): Bottleneck(\n",
       "              (cv1): Conv(\n",
       "                (conv): Conv2d(128, 128, kernel_size=(3, 3), stride=(1, 1), padding=(1, 1), bias=False)\n",
       "                (bn): BatchNorm2d(128, eps=0.001, momentum=0.03, affine=True, track_running_stats=True)\n",
       "                (act): SiLU(inplace=True)\n",
       "              )\n",
       "              (cv2): Conv(\n",
       "                (conv): Conv2d(128, 128, kernel_size=(3, 3), stride=(1, 1), padding=(1, 1), bias=False)\n",
       "                (bn): BatchNorm2d(128, eps=0.001, momentum=0.03, affine=True, track_running_stats=True)\n",
       "                (act): SiLU(inplace=True)\n",
       "              )\n",
       "            )\n",
       "            (1): Bottleneck(\n",
       "              (cv1): Conv(\n",
       "                (conv): Conv2d(128, 128, kernel_size=(3, 3), stride=(1, 1), padding=(1, 1), bias=False)\n",
       "                (bn): BatchNorm2d(128, eps=0.001, momentum=0.03, affine=True, track_running_stats=True)\n",
       "                (act): SiLU(inplace=True)\n",
       "              )\n",
       "              (cv2): Conv(\n",
       "                (conv): Conv2d(128, 128, kernel_size=(3, 3), stride=(1, 1), padding=(1, 1), bias=False)\n",
       "                (bn): BatchNorm2d(128, eps=0.001, momentum=0.03, affine=True, track_running_stats=True)\n",
       "                (act): SiLU(inplace=True)\n",
       "              )\n",
       "            )\n",
       "          )\n",
       "        )\n",
       "      )\n",
       "    )\n",
       "    (7): Conv(\n",
       "      (conv): Conv2d(512, 512, kernel_size=(3, 3), stride=(2, 2), padding=(1, 1), bias=False)\n",
       "      (bn): BatchNorm2d(512, eps=0.001, momentum=0.03, affine=True, track_running_stats=True)\n",
       "      (act): SiLU(inplace=True)\n",
       "    )\n",
       "    (8): C3k2(\n",
       "      (cv1): Conv(\n",
       "        (conv): Conv2d(512, 512, kernel_size=(1, 1), stride=(1, 1), bias=False)\n",
       "        (bn): BatchNorm2d(512, eps=0.001, momentum=0.03, affine=True, track_running_stats=True)\n",
       "        (act): SiLU(inplace=True)\n",
       "      )\n",
       "      (cv2): Conv(\n",
       "        (conv): Conv2d(768, 512, kernel_size=(1, 1), stride=(1, 1), bias=False)\n",
       "        (bn): BatchNorm2d(512, eps=0.001, momentum=0.03, affine=True, track_running_stats=True)\n",
       "        (act): SiLU(inplace=True)\n",
       "      )\n",
       "      (m): ModuleList(\n",
       "        (0): C3k(\n",
       "          (cv1): Conv(\n",
       "            (conv): Conv2d(256, 128, kernel_size=(1, 1), stride=(1, 1), bias=False)\n",
       "            (bn): BatchNorm2d(128, eps=0.001, momentum=0.03, affine=True, track_running_stats=True)\n",
       "            (act): SiLU(inplace=True)\n",
       "          )\n",
       "          (cv2): Conv(\n",
       "            (conv): Conv2d(256, 128, kernel_size=(1, 1), stride=(1, 1), bias=False)\n",
       "            (bn): BatchNorm2d(128, eps=0.001, momentum=0.03, affine=True, track_running_stats=True)\n",
       "            (act): SiLU(inplace=True)\n",
       "          )\n",
       "          (cv3): Conv(\n",
       "            (conv): Conv2d(256, 256, kernel_size=(1, 1), stride=(1, 1), bias=False)\n",
       "            (bn): BatchNorm2d(256, eps=0.001, momentum=0.03, affine=True, track_running_stats=True)\n",
       "            (act): SiLU(inplace=True)\n",
       "          )\n",
       "          (m): Sequential(\n",
       "            (0): Bottleneck(\n",
       "              (cv1): Conv(\n",
       "                (conv): Conv2d(128, 128, kernel_size=(3, 3), stride=(1, 1), padding=(1, 1), bias=False)\n",
       "                (bn): BatchNorm2d(128, eps=0.001, momentum=0.03, affine=True, track_running_stats=True)\n",
       "                (act): SiLU(inplace=True)\n",
       "              )\n",
       "              (cv2): Conv(\n",
       "                (conv): Conv2d(128, 128, kernel_size=(3, 3), stride=(1, 1), padding=(1, 1), bias=False)\n",
       "                (bn): BatchNorm2d(128, eps=0.001, momentum=0.03, affine=True, track_running_stats=True)\n",
       "                (act): SiLU(inplace=True)\n",
       "              )\n",
       "            )\n",
       "            (1): Bottleneck(\n",
       "              (cv1): Conv(\n",
       "                (conv): Conv2d(128, 128, kernel_size=(3, 3), stride=(1, 1), padding=(1, 1), bias=False)\n",
       "                (bn): BatchNorm2d(128, eps=0.001, momentum=0.03, affine=True, track_running_stats=True)\n",
       "                (act): SiLU(inplace=True)\n",
       "              )\n",
       "              (cv2): Conv(\n",
       "                (conv): Conv2d(128, 128, kernel_size=(3, 3), stride=(1, 1), padding=(1, 1), bias=False)\n",
       "                (bn): BatchNorm2d(128, eps=0.001, momentum=0.03, affine=True, track_running_stats=True)\n",
       "                (act): SiLU(inplace=True)\n",
       "              )\n",
       "            )\n",
       "          )\n",
       "        )\n",
       "      )\n",
       "    )\n",
       "    (9): SPPF(\n",
       "      (cv1): Conv(\n",
       "        (conv): Conv2d(512, 256, kernel_size=(1, 1), stride=(1, 1), bias=False)\n",
       "        (bn): BatchNorm2d(256, eps=0.001, momentum=0.03, affine=True, track_running_stats=True)\n",
       "        (act): SiLU(inplace=True)\n",
       "      )\n",
       "      (cv2): Conv(\n",
       "        (conv): Conv2d(1024, 512, kernel_size=(1, 1), stride=(1, 1), bias=False)\n",
       "        (bn): BatchNorm2d(512, eps=0.001, momentum=0.03, affine=True, track_running_stats=True)\n",
       "        (act): SiLU(inplace=True)\n",
       "      )\n",
       "      (m): MaxPool2d(kernel_size=5, stride=1, padding=2, dilation=1, ceil_mode=False)\n",
       "    )\n",
       "    (10): C2PSA(\n",
       "      (cv1): Conv(\n",
       "        (conv): Conv2d(512, 512, kernel_size=(1, 1), stride=(1, 1), bias=False)\n",
       "        (bn): BatchNorm2d(512, eps=0.001, momentum=0.03, affine=True, track_running_stats=True)\n",
       "        (act): SiLU(inplace=True)\n",
       "      )\n",
       "      (cv2): Conv(\n",
       "        (conv): Conv2d(512, 512, kernel_size=(1, 1), stride=(1, 1), bias=False)\n",
       "        (bn): BatchNorm2d(512, eps=0.001, momentum=0.03, affine=True, track_running_stats=True)\n",
       "        (act): SiLU(inplace=True)\n",
       "      )\n",
       "      (m): Sequential(\n",
       "        (0): PSABlock(\n",
       "          (attn): Attention(\n",
       "            (qkv): Conv(\n",
       "              (conv): Conv2d(256, 512, kernel_size=(1, 1), stride=(1, 1), bias=False)\n",
       "              (bn): BatchNorm2d(512, eps=0.001, momentum=0.03, affine=True, track_running_stats=True)\n",
       "              (act): Identity()\n",
       "            )\n",
       "            (proj): Conv(\n",
       "              (conv): Conv2d(256, 256, kernel_size=(1, 1), stride=(1, 1), bias=False)\n",
       "              (bn): BatchNorm2d(256, eps=0.001, momentum=0.03, affine=True, track_running_stats=True)\n",
       "              (act): Identity()\n",
       "            )\n",
       "            (pe): Conv(\n",
       "              (conv): Conv2d(256, 256, kernel_size=(3, 3), stride=(1, 1), padding=(1, 1), groups=256, bias=False)\n",
       "              (bn): BatchNorm2d(256, eps=0.001, momentum=0.03, affine=True, track_running_stats=True)\n",
       "              (act): Identity()\n",
       "            )\n",
       "          )\n",
       "          (ffn): Sequential(\n",
       "            (0): Conv(\n",
       "              (conv): Conv2d(256, 512, kernel_size=(1, 1), stride=(1, 1), bias=False)\n",
       "              (bn): BatchNorm2d(512, eps=0.001, momentum=0.03, affine=True, track_running_stats=True)\n",
       "              (act): SiLU(inplace=True)\n",
       "            )\n",
       "            (1): Conv(\n",
       "              (conv): Conv2d(512, 256, kernel_size=(1, 1), stride=(1, 1), bias=False)\n",
       "              (bn): BatchNorm2d(256, eps=0.001, momentum=0.03, affine=True, track_running_stats=True)\n",
       "              (act): Identity()\n",
       "            )\n",
       "          )\n",
       "        )\n",
       "      )\n",
       "    )\n",
       "    (11): Upsample(scale_factor=2.0, mode='nearest')\n",
       "    (12): Concat()\n",
       "    (13): C3k2(\n",
       "      (cv1): Conv(\n",
       "        (conv): Conv2d(1024, 512, kernel_size=(1, 1), stride=(1, 1), bias=False)\n",
       "        (bn): BatchNorm2d(512, eps=0.001, momentum=0.03, affine=True, track_running_stats=True)\n",
       "        (act): SiLU(inplace=True)\n",
       "      )\n",
       "      (cv2): Conv(\n",
       "        (conv): Conv2d(768, 512, kernel_size=(1, 1), stride=(1, 1), bias=False)\n",
       "        (bn): BatchNorm2d(512, eps=0.001, momentum=0.03, affine=True, track_running_stats=True)\n",
       "        (act): SiLU(inplace=True)\n",
       "      )\n",
       "      (m): ModuleList(\n",
       "        (0): C3k(\n",
       "          (cv1): Conv(\n",
       "            (conv): Conv2d(256, 128, kernel_size=(1, 1), stride=(1, 1), bias=False)\n",
       "            (bn): BatchNorm2d(128, eps=0.001, momentum=0.03, affine=True, track_running_stats=True)\n",
       "            (act): SiLU(inplace=True)\n",
       "          )\n",
       "          (cv2): Conv(\n",
       "            (conv): Conv2d(256, 128, kernel_size=(1, 1), stride=(1, 1), bias=False)\n",
       "            (bn): BatchNorm2d(128, eps=0.001, momentum=0.03, affine=True, track_running_stats=True)\n",
       "            (act): SiLU(inplace=True)\n",
       "          )\n",
       "          (cv3): Conv(\n",
       "            (conv): Conv2d(256, 256, kernel_size=(1, 1), stride=(1, 1), bias=False)\n",
       "            (bn): BatchNorm2d(256, eps=0.001, momentum=0.03, affine=True, track_running_stats=True)\n",
       "            (act): SiLU(inplace=True)\n",
       "          )\n",
       "          (m): Sequential(\n",
       "            (0): Bottleneck(\n",
       "              (cv1): Conv(\n",
       "                (conv): Conv2d(128, 128, kernel_size=(3, 3), stride=(1, 1), padding=(1, 1), bias=False)\n",
       "                (bn): BatchNorm2d(128, eps=0.001, momentum=0.03, affine=True, track_running_stats=True)\n",
       "                (act): SiLU(inplace=True)\n",
       "              )\n",
       "              (cv2): Conv(\n",
       "                (conv): Conv2d(128, 128, kernel_size=(3, 3), stride=(1, 1), padding=(1, 1), bias=False)\n",
       "                (bn): BatchNorm2d(128, eps=0.001, momentum=0.03, affine=True, track_running_stats=True)\n",
       "                (act): SiLU(inplace=True)\n",
       "              )\n",
       "            )\n",
       "            (1): Bottleneck(\n",
       "              (cv1): Conv(\n",
       "                (conv): Conv2d(128, 128, kernel_size=(3, 3), stride=(1, 1), padding=(1, 1), bias=False)\n",
       "                (bn): BatchNorm2d(128, eps=0.001, momentum=0.03, affine=True, track_running_stats=True)\n",
       "                (act): SiLU(inplace=True)\n",
       "              )\n",
       "              (cv2): Conv(\n",
       "                (conv): Conv2d(128, 128, kernel_size=(3, 3), stride=(1, 1), padding=(1, 1), bias=False)\n",
       "                (bn): BatchNorm2d(128, eps=0.001, momentum=0.03, affine=True, track_running_stats=True)\n",
       "                (act): SiLU(inplace=True)\n",
       "              )\n",
       "            )\n",
       "          )\n",
       "        )\n",
       "      )\n",
       "    )\n",
       "    (14): Upsample(scale_factor=2.0, mode='nearest')\n",
       "    (15): Concat()\n",
       "    (16): C3k2(\n",
       "      (cv1): Conv(\n",
       "        (conv): Conv2d(1024, 256, kernel_size=(1, 1), stride=(1, 1), bias=False)\n",
       "        (bn): BatchNorm2d(256, eps=0.001, momentum=0.03, affine=True, track_running_stats=True)\n",
       "        (act): SiLU(inplace=True)\n",
       "      )\n",
       "      (cv2): Conv(\n",
       "        (conv): Conv2d(384, 256, kernel_size=(1, 1), stride=(1, 1), bias=False)\n",
       "        (bn): BatchNorm2d(256, eps=0.001, momentum=0.03, affine=True, track_running_stats=True)\n",
       "        (act): SiLU(inplace=True)\n",
       "      )\n",
       "      (m): ModuleList(\n",
       "        (0): C3k(\n",
       "          (cv1): Conv(\n",
       "            (conv): Conv2d(128, 64, kernel_size=(1, 1), stride=(1, 1), bias=False)\n",
       "            (bn): BatchNorm2d(64, eps=0.001, momentum=0.03, affine=True, track_running_stats=True)\n",
       "            (act): SiLU(inplace=True)\n",
       "          )\n",
       "          (cv2): Conv(\n",
       "            (conv): Conv2d(128, 64, kernel_size=(1, 1), stride=(1, 1), bias=False)\n",
       "            (bn): BatchNorm2d(64, eps=0.001, momentum=0.03, affine=True, track_running_stats=True)\n",
       "            (act): SiLU(inplace=True)\n",
       "          )\n",
       "          (cv3): Conv(\n",
       "            (conv): Conv2d(128, 128, kernel_size=(1, 1), stride=(1, 1), bias=False)\n",
       "            (bn): BatchNorm2d(128, eps=0.001, momentum=0.03, affine=True, track_running_stats=True)\n",
       "            (act): SiLU(inplace=True)\n",
       "          )\n",
       "          (m): Sequential(\n",
       "            (0): Bottleneck(\n",
       "              (cv1): Conv(\n",
       "                (conv): Conv2d(64, 64, kernel_size=(3, 3), stride=(1, 1), padding=(1, 1), bias=False)\n",
       "                (bn): BatchNorm2d(64, eps=0.001, momentum=0.03, affine=True, track_running_stats=True)\n",
       "                (act): SiLU(inplace=True)\n",
       "              )\n",
       "              (cv2): Conv(\n",
       "                (conv): Conv2d(64, 64, kernel_size=(3, 3), stride=(1, 1), padding=(1, 1), bias=False)\n",
       "                (bn): BatchNorm2d(64, eps=0.001, momentum=0.03, affine=True, track_running_stats=True)\n",
       "                (act): SiLU(inplace=True)\n",
       "              )\n",
       "            )\n",
       "            (1): Bottleneck(\n",
       "              (cv1): Conv(\n",
       "                (conv): Conv2d(64, 64, kernel_size=(3, 3), stride=(1, 1), padding=(1, 1), bias=False)\n",
       "                (bn): BatchNorm2d(64, eps=0.001, momentum=0.03, affine=True, track_running_stats=True)\n",
       "                (act): SiLU(inplace=True)\n",
       "              )\n",
       "              (cv2): Conv(\n",
       "                (conv): Conv2d(64, 64, kernel_size=(3, 3), stride=(1, 1), padding=(1, 1), bias=False)\n",
       "                (bn): BatchNorm2d(64, eps=0.001, momentum=0.03, affine=True, track_running_stats=True)\n",
       "                (act): SiLU(inplace=True)\n",
       "              )\n",
       "            )\n",
       "          )\n",
       "        )\n",
       "      )\n",
       "    )\n",
       "    (17): Conv(\n",
       "      (conv): Conv2d(256, 256, kernel_size=(3, 3), stride=(2, 2), padding=(1, 1), bias=False)\n",
       "      (bn): BatchNorm2d(256, eps=0.001, momentum=0.03, affine=True, track_running_stats=True)\n",
       "      (act): SiLU(inplace=True)\n",
       "    )\n",
       "    (18): Concat()\n",
       "    (19): C3k2(\n",
       "      (cv1): Conv(\n",
       "        (conv): Conv2d(768, 512, kernel_size=(1, 1), stride=(1, 1), bias=False)\n",
       "        (bn): BatchNorm2d(512, eps=0.001, momentum=0.03, affine=True, track_running_stats=True)\n",
       "        (act): SiLU(inplace=True)\n",
       "      )\n",
       "      (cv2): Conv(\n",
       "        (conv): Conv2d(768, 512, kernel_size=(1, 1), stride=(1, 1), bias=False)\n",
       "        (bn): BatchNorm2d(512, eps=0.001, momentum=0.03, affine=True, track_running_stats=True)\n",
       "        (act): SiLU(inplace=True)\n",
       "      )\n",
       "      (m): ModuleList(\n",
       "        (0): C3k(\n",
       "          (cv1): Conv(\n",
       "            (conv): Conv2d(256, 128, kernel_size=(1, 1), stride=(1, 1), bias=False)\n",
       "            (bn): BatchNorm2d(128, eps=0.001, momentum=0.03, affine=True, track_running_stats=True)\n",
       "            (act): SiLU(inplace=True)\n",
       "          )\n",
       "          (cv2): Conv(\n",
       "            (conv): Conv2d(256, 128, kernel_size=(1, 1), stride=(1, 1), bias=False)\n",
       "            (bn): BatchNorm2d(128, eps=0.001, momentum=0.03, affine=True, track_running_stats=True)\n",
       "            (act): SiLU(inplace=True)\n",
       "          )\n",
       "          (cv3): Conv(\n",
       "            (conv): Conv2d(256, 256, kernel_size=(1, 1), stride=(1, 1), bias=False)\n",
       "            (bn): BatchNorm2d(256, eps=0.001, momentum=0.03, affine=True, track_running_stats=True)\n",
       "            (act): SiLU(inplace=True)\n",
       "          )\n",
       "          (m): Sequential(\n",
       "            (0): Bottleneck(\n",
       "              (cv1): Conv(\n",
       "                (conv): Conv2d(128, 128, kernel_size=(3, 3), stride=(1, 1), padding=(1, 1), bias=False)\n",
       "                (bn): BatchNorm2d(128, eps=0.001, momentum=0.03, affine=True, track_running_stats=True)\n",
       "                (act): SiLU(inplace=True)\n",
       "              )\n",
       "              (cv2): Conv(\n",
       "                (conv): Conv2d(128, 128, kernel_size=(3, 3), stride=(1, 1), padding=(1, 1), bias=False)\n",
       "                (bn): BatchNorm2d(128, eps=0.001, momentum=0.03, affine=True, track_running_stats=True)\n",
       "                (act): SiLU(inplace=True)\n",
       "              )\n",
       "            )\n",
       "            (1): Bottleneck(\n",
       "              (cv1): Conv(\n",
       "                (conv): Conv2d(128, 128, kernel_size=(3, 3), stride=(1, 1), padding=(1, 1), bias=False)\n",
       "                (bn): BatchNorm2d(128, eps=0.001, momentum=0.03, affine=True, track_running_stats=True)\n",
       "                (act): SiLU(inplace=True)\n",
       "              )\n",
       "              (cv2): Conv(\n",
       "                (conv): Conv2d(128, 128, kernel_size=(3, 3), stride=(1, 1), padding=(1, 1), bias=False)\n",
       "                (bn): BatchNorm2d(128, eps=0.001, momentum=0.03, affine=True, track_running_stats=True)\n",
       "                (act): SiLU(inplace=True)\n",
       "              )\n",
       "            )\n",
       "          )\n",
       "        )\n",
       "      )\n",
       "    )\n",
       "    (20): Conv(\n",
       "      (conv): Conv2d(512, 512, kernel_size=(3, 3), stride=(2, 2), padding=(1, 1), bias=False)\n",
       "      (bn): BatchNorm2d(512, eps=0.001, momentum=0.03, affine=True, track_running_stats=True)\n",
       "      (act): SiLU(inplace=True)\n",
       "    )\n",
       "    (21): Concat()\n",
       "    (22): C3k2(\n",
       "      (cv1): Conv(\n",
       "        (conv): Conv2d(1024, 512, kernel_size=(1, 1), stride=(1, 1), bias=False)\n",
       "        (bn): BatchNorm2d(512, eps=0.001, momentum=0.03, affine=True, track_running_stats=True)\n",
       "        (act): SiLU(inplace=True)\n",
       "      )\n",
       "      (cv2): Conv(\n",
       "        (conv): Conv2d(768, 512, kernel_size=(1, 1), stride=(1, 1), bias=False)\n",
       "        (bn): BatchNorm2d(512, eps=0.001, momentum=0.03, affine=True, track_running_stats=True)\n",
       "        (act): SiLU(inplace=True)\n",
       "      )\n",
       "      (m): ModuleList(\n",
       "        (0): C3k(\n",
       "          (cv1): Conv(\n",
       "            (conv): Conv2d(256, 128, kernel_size=(1, 1), stride=(1, 1), bias=False)\n",
       "            (bn): BatchNorm2d(128, eps=0.001, momentum=0.03, affine=True, track_running_stats=True)\n",
       "            (act): SiLU(inplace=True)\n",
       "          )\n",
       "          (cv2): Conv(\n",
       "            (conv): Conv2d(256, 128, kernel_size=(1, 1), stride=(1, 1), bias=False)\n",
       "            (bn): BatchNorm2d(128, eps=0.001, momentum=0.03, affine=True, track_running_stats=True)\n",
       "            (act): SiLU(inplace=True)\n",
       "          )\n",
       "          (cv3): Conv(\n",
       "            (conv): Conv2d(256, 256, kernel_size=(1, 1), stride=(1, 1), bias=False)\n",
       "            (bn): BatchNorm2d(256, eps=0.001, momentum=0.03, affine=True, track_running_stats=True)\n",
       "            (act): SiLU(inplace=True)\n",
       "          )\n",
       "          (m): Sequential(\n",
       "            (0): Bottleneck(\n",
       "              (cv1): Conv(\n",
       "                (conv): Conv2d(128, 128, kernel_size=(3, 3), stride=(1, 1), padding=(1, 1), bias=False)\n",
       "                (bn): BatchNorm2d(128, eps=0.001, momentum=0.03, affine=True, track_running_stats=True)\n",
       "                (act): SiLU(inplace=True)\n",
       "              )\n",
       "              (cv2): Conv(\n",
       "                (conv): Conv2d(128, 128, kernel_size=(3, 3), stride=(1, 1), padding=(1, 1), bias=False)\n",
       "                (bn): BatchNorm2d(128, eps=0.001, momentum=0.03, affine=True, track_running_stats=True)\n",
       "                (act): SiLU(inplace=True)\n",
       "              )\n",
       "            )\n",
       "            (1): Bottleneck(\n",
       "              (cv1): Conv(\n",
       "                (conv): Conv2d(128, 128, kernel_size=(3, 3), stride=(1, 1), padding=(1, 1), bias=False)\n",
       "                (bn): BatchNorm2d(128, eps=0.001, momentum=0.03, affine=True, track_running_stats=True)\n",
       "                (act): SiLU(inplace=True)\n",
       "              )\n",
       "              (cv2): Conv(\n",
       "                (conv): Conv2d(128, 128, kernel_size=(3, 3), stride=(1, 1), padding=(1, 1), bias=False)\n",
       "                (bn): BatchNorm2d(128, eps=0.001, momentum=0.03, affine=True, track_running_stats=True)\n",
       "                (act): SiLU(inplace=True)\n",
       "              )\n",
       "            )\n",
       "          )\n",
       "        )\n",
       "      )\n",
       "    )\n",
       "    (23): Detect(\n",
       "      (cv2): ModuleList(\n",
       "        (0): Sequential(\n",
       "          (0): Conv(\n",
       "            (conv): Conv2d(256, 64, kernel_size=(3, 3), stride=(1, 1), padding=(1, 1), bias=False)\n",
       "            (bn): BatchNorm2d(64, eps=0.001, momentum=0.03, affine=True, track_running_stats=True)\n",
       "            (act): SiLU(inplace=True)\n",
       "          )\n",
       "          (1): Conv(\n",
       "            (conv): Conv2d(64, 64, kernel_size=(3, 3), stride=(1, 1), padding=(1, 1), bias=False)\n",
       "            (bn): BatchNorm2d(64, eps=0.001, momentum=0.03, affine=True, track_running_stats=True)\n",
       "            (act): SiLU(inplace=True)\n",
       "          )\n",
       "          (2): Conv2d(64, 64, kernel_size=(1, 1), stride=(1, 1))\n",
       "        )\n",
       "        (1-2): 2 x Sequential(\n",
       "          (0): Conv(\n",
       "            (conv): Conv2d(512, 64, kernel_size=(3, 3), stride=(1, 1), padding=(1, 1), bias=False)\n",
       "            (bn): BatchNorm2d(64, eps=0.001, momentum=0.03, affine=True, track_running_stats=True)\n",
       "            (act): SiLU(inplace=True)\n",
       "          )\n",
       "          (1): Conv(\n",
       "            (conv): Conv2d(64, 64, kernel_size=(3, 3), stride=(1, 1), padding=(1, 1), bias=False)\n",
       "            (bn): BatchNorm2d(64, eps=0.001, momentum=0.03, affine=True, track_running_stats=True)\n",
       "            (act): SiLU(inplace=True)\n",
       "          )\n",
       "          (2): Conv2d(64, 64, kernel_size=(1, 1), stride=(1, 1))\n",
       "        )\n",
       "      )\n",
       "      (cv3): ModuleList(\n",
       "        (0): Sequential(\n",
       "          (0): Sequential(\n",
       "            (0): DWConv(\n",
       "              (conv): Conv2d(256, 256, kernel_size=(3, 3), stride=(1, 1), padding=(1, 1), groups=256, bias=False)\n",
       "              (bn): BatchNorm2d(256, eps=0.001, momentum=0.03, affine=True, track_running_stats=True)\n",
       "              (act): SiLU(inplace=True)\n",
       "            )\n",
       "            (1): Conv(\n",
       "              (conv): Conv2d(256, 256, kernel_size=(1, 1), stride=(1, 1), bias=False)\n",
       "              (bn): BatchNorm2d(256, eps=0.001, momentum=0.03, affine=True, track_running_stats=True)\n",
       "              (act): SiLU(inplace=True)\n",
       "            )\n",
       "          )\n",
       "          (1): Sequential(\n",
       "            (0): DWConv(\n",
       "              (conv): Conv2d(256, 256, kernel_size=(3, 3), stride=(1, 1), padding=(1, 1), groups=256, bias=False)\n",
       "              (bn): BatchNorm2d(256, eps=0.001, momentum=0.03, affine=True, track_running_stats=True)\n",
       "              (act): SiLU(inplace=True)\n",
       "            )\n",
       "            (1): Conv(\n",
       "              (conv): Conv2d(256, 256, kernel_size=(1, 1), stride=(1, 1), bias=False)\n",
       "              (bn): BatchNorm2d(256, eps=0.001, momentum=0.03, affine=True, track_running_stats=True)\n",
       "              (act): SiLU(inplace=True)\n",
       "            )\n",
       "          )\n",
       "          (2): Conv2d(256, 80, kernel_size=(1, 1), stride=(1, 1))\n",
       "        )\n",
       "        (1-2): 2 x Sequential(\n",
       "          (0): Sequential(\n",
       "            (0): DWConv(\n",
       "              (conv): Conv2d(512, 512, kernel_size=(3, 3), stride=(1, 1), padding=(1, 1), groups=512, bias=False)\n",
       "              (bn): BatchNorm2d(512, eps=0.001, momentum=0.03, affine=True, track_running_stats=True)\n",
       "              (act): SiLU(inplace=True)\n",
       "            )\n",
       "            (1): Conv(\n",
       "              (conv): Conv2d(512, 256, kernel_size=(1, 1), stride=(1, 1), bias=False)\n",
       "              (bn): BatchNorm2d(256, eps=0.001, momentum=0.03, affine=True, track_running_stats=True)\n",
       "              (act): SiLU(inplace=True)\n",
       "            )\n",
       "          )\n",
       "          (1): Sequential(\n",
       "            (0): DWConv(\n",
       "              (conv): Conv2d(256, 256, kernel_size=(3, 3), stride=(1, 1), padding=(1, 1), groups=256, bias=False)\n",
       "              (bn): BatchNorm2d(256, eps=0.001, momentum=0.03, affine=True, track_running_stats=True)\n",
       "              (act): SiLU(inplace=True)\n",
       "            )\n",
       "            (1): Conv(\n",
       "              (conv): Conv2d(256, 256, kernel_size=(1, 1), stride=(1, 1), bias=False)\n",
       "              (bn): BatchNorm2d(256, eps=0.001, momentum=0.03, affine=True, track_running_stats=True)\n",
       "              (act): SiLU(inplace=True)\n",
       "            )\n",
       "          )\n",
       "          (2): Conv2d(256, 80, kernel_size=(1, 1), stride=(1, 1))\n",
       "        )\n",
       "      )\n",
       "      (dfl): DFL(\n",
       "        (conv): Conv2d(16, 1, kernel_size=(1, 1), stride=(1, 1), bias=False)\n",
       "      )\n",
       "    )\n",
       "  )\n",
       ")"
      ]
     },
     "execution_count": 9,
     "metadata": {},
     "output_type": "execute_result"
    }
   ],
   "source": [
    "yolo.model"
   ]
  }
 ],
 "metadata": {
  "kernelspec": {
   "display_name": "ship",
   "language": "python",
   "name": "python3"
  },
  "language_info": {
   "codemirror_mode": {
    "name": "ipython",
    "version": 3
   },
   "file_extension": ".py",
   "mimetype": "text/x-python",
   "name": "python",
   "nbconvert_exporter": "python",
   "pygments_lexer": "ipython3",
   "version": "3.12.7"
  }
 },
 "nbformat": 4,
 "nbformat_minor": 2
}
