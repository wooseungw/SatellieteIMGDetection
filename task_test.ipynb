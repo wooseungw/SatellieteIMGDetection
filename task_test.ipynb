{
 "cells": [
  {
   "cell_type": "code",
   "execution_count": null,
   "metadata": {},
   "outputs": [],
   "source": [
    "!pip install -U -q ultralytics\n",
    "!pip install -U -q aifactory\n",
    "!pip install -q tqdm"
   ]
  },
  {
   "cell_type": "code",
   "execution_count": 1,
   "metadata": {},
   "outputs": [],
   "source": [
    "import os\n",
    "from PIL import Image, ImageFile\n",
    "import torch\n",
    "from torch.utils.data import Dataset, DataLoader\n",
    "from torchvision import transforms\n",
    "import numpy as np\n",
    "from tqdm import tqdm\n",
    "\n",
    "ImageFile.LOAD_TRUNCATED_IMAGES = True  # 이미지 파일이 손상되었을 때 에러 발생 방지\n",
    "\n",
    "def get_imglist(dir=\"./sample/img\"):\n",
    "    imglist = [os.path.join(dir, f).replace(\"\\\\\", \"/\") for f in os.listdir(dir) if f.endswith('.png')]\n",
    "    return imglist\n",
    "import os\n",
    "import shutil\n",
    "\n",
    "def create_temp_dir(base_dir='./temp_cropped_patches'):\n",
    "    # 임시 폴더가 이미 존재하면 삭제하고 새로 생성\n",
    "    if os.path.exists(base_dir):\n",
    "        shutil.rmtree(base_dir)\n",
    "    os.makedirs(base_dir)\n",
    "    return base_dir\n",
    "\n",
    "def save_cropped_patches_single_image(image_path, crop_size, save_dir):\n",
    "    image_name = os.path.basename(image_path)\n",
    "    print(f\"Cropping image: {image_name}\")\n",
    "    \n",
    "    image = Image.open(image_path).convert('RGB')\n",
    "    image_width, image_height = image.size\n",
    "    \n",
    "    num_patches_x = (image_width + crop_size - 1) // crop_size\n",
    "    num_patches_y = (image_height + crop_size - 1) // crop_size\n",
    "    \n",
    "    for i in tqdm(range(num_patches_x)):\n",
    "        for j in range(num_patches_y):\n",
    "            top_left_x = i * crop_size\n",
    "            top_left_y = j * crop_size\n",
    "            bottom_right_x = min(top_left_x + crop_size, image_width)\n",
    "            bottom_right_y = min(top_left_y + crop_size, image_height)\n",
    "            \n",
    "            if bottom_right_x - top_left_x < crop_size:\n",
    "                top_left_x = max(image_width - crop_size, 0)\n",
    "                bottom_right_x = image_width\n",
    "            if bottom_right_y - top_left_y < crop_size:\n",
    "                top_left_y = max(image_height - crop_size, 0)\n",
    "                bottom_right_y = image_height\n",
    "            \n",
    "            cropped_image = image.crop((top_left_x, top_left_y, bottom_right_x, bottom_right_y))\n",
    "            \n",
    "            \n",
    "            \n",
    "            crop_filename = f\"{os.path.splitext(image_name)[0]}_{top_left_x}_{top_left_y}.png\"\n",
    "            crop_path = os.path.join(save_dir, crop_filename)\n",
    "            cropped_image.save(crop_path)\n",
    "    \n",
    "    del image\n",
    "    \n",
    "class CroppedPatchDataset(Dataset):\n",
    "    def __init__(self, crop_image_dir,resize_size):\n",
    "        self.crop_image_paths = crop_image_dir\n",
    "        self.transform = transforms.ToTensor()\n",
    "        self.resize_size = resize_size\n",
    "    def __len__(self):\n",
    "        return len(self.crop_image_paths)\n",
    "    \n",
    "    def __getitem__(self, idx):\n",
    "        crop_image_path = self.crop_image_paths[idx]\n",
    "        image_name = os.path.basename(crop_image_path)\n",
    "        \n",
    "        cropped_image = Image.open(crop_image_path).convert('RGB')\n",
    "        \n",
    "        cropped_image = cropped_image.resize((self.resize_size,self.resize_size), resample=Image.Resampling.LANCZOS)\n",
    "        # BGR로 변환\n",
    "        cropped_image_np = np.array(cropped_image)\n",
    "        cropped_image_bgr = cropped_image_np[:, :, ::-1]\n",
    "        cropped_image_pil = Image.fromarray(cropped_image_bgr, 'RGB')\n",
    "        \n",
    "        cropped_image_tensor = self.transform(cropped_image_pil)\n",
    "        \n",
    "        \n",
    "        name_parts = image_name.split('_')\n",
    "        top_left_x = int(name_parts[-2])\n",
    "        top_left_y = int(name_parts[-1].split('.')[0])\n",
    "        position = torch.tensor([top_left_x, top_left_y])\n",
    "        \n",
    "        original_image_name = '_'.join(name_parts[:-2]) + '.png'\n",
    "        \n",
    "        return {\n",
    "            'image_name': original_image_name,\n",
    "            'image': cropped_image_tensor,\n",
    "            'top_left_position': position\n",
    "        }\n"
   ]
  },
  {
   "cell_type": "code",
   "execution_count": 5,
   "metadata": {},
   "outputs": [
    {
     "name": "stdout",
     "output_type": "stream",
     "text": [
      "\n",
      "0: 896x896 434.5ms\n",
      "1: 896x896 (no detections), 434.5ms\n",
      "2: 896x896 434.5ms\n",
      "3: 896x896 (no detections), 434.5ms\n",
      "4: 896x896 (no detections), 434.5ms\n",
      "5: 896x896 (no detections), 434.5ms\n",
      "6: 896x896 (no detections), 434.5ms\n",
      "7: 896x896 (no detections), 434.5ms\n",
      "8: 896x896 434.5ms\n",
      "9: 896x896 (no detections), 434.5ms\n",
      "10: 896x896 (no detections), 434.5ms\n",
      "11: 896x896 (no detections), 434.5ms\n",
      "12: 896x896 (no detections), 434.5ms\n",
      "13: 896x896 (no detections), 434.5ms\n",
      "14: 896x896 (no detections), 434.5ms\n",
      "15: 896x896 434.5ms\n",
      "16: 896x896 (no detections), 434.5ms\n",
      "17: 896x896 (no detections), 434.5ms\n",
      "18: 896x896 (no detections), 434.5ms\n",
      "19: 896x896 434.5ms\n",
      "20: 896x896 (no detections), 434.5ms\n",
      "21: 896x896 (no detections), 434.5ms\n",
      "22: 896x896 (no detections), 434.5ms\n",
      "23: 896x896 (no detections), 434.5ms\n",
      "24: 896x896 (no detections), 434.5ms\n",
      "25: 896x896 (no detections), 434.5ms\n",
      "26: 896x896 (no detections), 434.5ms\n",
      "27: 896x896 434.5ms\n",
      "28: 896x896 (no detections), 434.5ms\n",
      "29: 896x896 (no detections), 434.5ms\n",
      "30: 896x896 (no detections), 434.5ms\n",
      "31: 896x896 (no detections), 434.5ms\n",
      "Speed: 0.0ms preprocess, 434.5ms inference, 2.5ms postprocess per image at shape (1, 3, 896, 896)\n",
      "Results saved to \u001b[1mruns/obb/predict4\u001b[0m\n"
     ]
    }
   ],
   "source": [
    "# from ultralytics import YOLO\n",
    "# model = YOLO(\"yolo11s-obb.pt\")\n",
    "# preds = model.predict(images,conf=0.1, save=True)"
   ]
  },
  {
   "cell_type": "code",
   "execution_count": 8,
   "metadata": {},
   "outputs": [
    {
     "data": {
      "text/plain": [
       "tensor([[323.2016, 157.5453, 411.3317, 170.7461,   1.8658]])"
      ]
     },
     "execution_count": 8,
     "metadata": {},
     "output_type": "execute_result"
    }
   ],
   "source": [
    "# preds[27].obb.xywhr"
   ]
  },
  {
   "cell_type": "code",
   "execution_count": 9,
   "metadata": {},
   "outputs": [
    {
     "data": {
      "text/plain": [
       "tensor([0.1042])"
      ]
     },
     "execution_count": 9,
     "metadata": {},
     "output_type": "execute_result"
    }
   ],
   "source": [
    "# preds[27].obb.conf[0]"
   ]
  },
  {
   "cell_type": "code",
   "execution_count": 2,
   "metadata": {},
   "outputs": [],
   "source": [
    "def run_model(image_names, images, positions, model, result):\n",
    "    scale_factor = 0.25  # 예측 스케일과 패치 스케일의 비율: 256 / 1024\n",
    "\n",
    "    preds = model.predict(images, conf=0.1, save=False)  # 예측 결과: [batch_size]\n",
    "\n",
    "    for img_name, pred, pos in zip(image_names, preds, positions):\n",
    "        if img_name not in result:\n",
    "            result[img_name] = []\n",
    "\n",
    "        top_left_x, top_left_y = pos[0].item(), pos[1].item()\n",
    "\n",
    "        # 좌표 변환 및 conf 값 포함하여 저장\n",
    "        for i in range(len(pred)):\n",
    "            bbox = pred.obb.xywhr[i]  # [x, y, w, h, r]\n",
    "            confidence = pred.obb.conf[i]  # confidence 값\n",
    "            \n",
    "            # bbox가 비어 있는 경우 해당 항목을 넘김\n",
    "            if not bbox:\n",
    "                continue\n",
    "\n",
    "            # 예측된 좌표를 원본 이미지 좌표로 변환\n",
    "            x = bbox[0].item() * scale_factor + top_left_x\n",
    "            y = bbox[1].item() * scale_factor + top_left_y\n",
    "            w = bbox[2].item() * scale_factor\n",
    "            h = bbox[3].item() * scale_factor\n",
    "            r = bbox[4].item()  # 각도 값은 변환 불필요\n",
    "\n",
    "            # 변환된 좌표와 confidence를 결과 리스트에 추가\n",
    "            result[img_name].append({\n",
    "                'xywhr': [x, y, w, h, r],\n",
    "                'conf': confidence.item()\n",
    "            })\n"
   ]
  },
  {
   "cell_type": "code",
   "execution_count": 3,
   "metadata": {},
   "outputs": [
    {
     "name": "stdout",
     "output_type": "stream",
     "text": [
      "Processing image: task_smaple.png\n",
      "Cropping image: task_smaple.png\n"
     ]
    },
    {
     "name": "stderr",
     "output_type": "stream",
     "text": [
      "c:\\ProgramData\\anaconda3\\envs\\ship\\Lib\\site-packages\\PIL\\Image.py:3186: DecompressionBombWarning: Image size (120560400 pixels) exceeds limit of 89478485 pixels, could be decompression bomb DOS attack.\n",
      "  warnings.warn(\n",
      "100%|██████████| 43/43 [00:33<00:00,  1.30it/s]\n",
      "  0%|          | 0/116 [00:00<?, ?it/s]"
     ]
    },
    {
     "name": "stdout",
     "output_type": "stream",
     "text": [
      "\n",
      "0: 1024x1024 (no detections), 47.4ms\n",
      "1: 1024x1024 (no detections), 47.4ms\n",
      "2: 1024x1024 47.4ms\n",
      "3: 1024x1024 (no detections), 47.4ms\n",
      "4: 1024x1024 (no detections), 47.4ms\n",
      "5: 1024x1024 (no detections), 47.4ms\n",
      "6: 1024x1024 (no detections), 47.4ms\n",
      "7: 1024x1024 (no detections), 47.4ms\n",
      "8: 1024x1024 (no detections), 47.4ms\n",
      "9: 1024x1024 (no detections), 47.4ms\n",
      "10: 1024x1024 (no detections), 47.4ms\n",
      "11: 1024x1024 (no detections), 47.4ms\n",
      "12: 1024x1024 (no detections), 47.4ms\n",
      "13: 1024x1024 (no detections), 47.4ms\n",
      "14: 1024x1024 (no detections), 47.4ms\n",
      "15: 1024x1024 (no detections), 47.4ms\n",
      "Speed: 1.9ms preprocess, 47.4ms inference, 10.1ms postprocess per image at shape (1, 3, 1024, 1024)\n"
     ]
    },
    {
     "name": "stderr",
     "output_type": "stream",
     "text": [
      "  1%|          | 1/116 [00:02<04:10,  2.18s/it]"
     ]
    },
    {
     "name": "stdout",
     "output_type": "stream",
     "text": [
      "\n",
      "0: 1024x1024 (no detections), 38.9ms\n",
      "1: 1024x1024 (no detections), 38.9ms\n",
      "2: 1024x1024 (no detections), 38.9ms\n",
      "3: 1024x1024 (no detections), 38.9ms\n",
      "4: 1024x1024 (no detections), 38.9ms\n",
      "5: 1024x1024 (no detections), 38.9ms\n",
      "6: 1024x1024 (no detections), 38.9ms\n",
      "7: 1024x1024 (no detections), 38.9ms\n",
      "8: 1024x1024 (no detections), 38.9ms\n",
      "9: 1024x1024 (no detections), 38.9ms\n",
      "10: 1024x1024 (no detections), 38.9ms\n",
      "11: 1024x1024 38.9ms\n",
      "12: 1024x1024 (no detections), 38.9ms\n",
      "13: 1024x1024 (no detections), 38.9ms\n",
      "14: 1024x1024 (no detections), 38.9ms\n",
      "15: 1024x1024 (no detections), 38.9ms\n",
      "Speed: 1.5ms preprocess, 38.9ms inference, 6.7ms postprocess per image at shape (1, 3, 1024, 1024)\n"
     ]
    },
    {
     "name": "stderr",
     "output_type": "stream",
     "text": [
      "  2%|▏         | 2/116 [00:03<03:08,  1.66s/it]"
     ]
    },
    {
     "name": "stdout",
     "output_type": "stream",
     "text": [
      "\n",
      "0: 1024x1024 (no detections), 38.7ms\n",
      "1: 1024x1024 (no detections), 38.7ms\n",
      "2: 1024x1024 (no detections), 38.7ms\n",
      "3: 1024x1024 (no detections), 38.7ms\n",
      "4: 1024x1024 (no detections), 38.7ms\n",
      "5: 1024x1024 (no detections), 38.7ms\n",
      "6: 1024x1024 (no detections), 38.7ms\n",
      "7: 1024x1024 38.7ms\n",
      "8: 1024x1024 38.7ms\n",
      "9: 1024x1024 38.7ms\n",
      "10: 1024x1024 (no detections), 38.7ms\n",
      "11: 1024x1024 38.7ms\n",
      "12: 1024x1024 38.7ms\n",
      "13: 1024x1024 (no detections), 38.7ms\n",
      "14: 1024x1024 (no detections), 38.7ms\n",
      "15: 1024x1024 (no detections), 38.7ms\n",
      "Speed: 1.5ms preprocess, 38.7ms inference, 6.6ms postprocess per image at shape (1, 3, 1024, 1024)\n"
     ]
    },
    {
     "name": "stderr",
     "output_type": "stream",
     "text": [
      "  3%|▎         | 3/116 [00:04<02:48,  1.49s/it]"
     ]
    },
    {
     "name": "stdout",
     "output_type": "stream",
     "text": [
      "\n",
      "0: 1024x1024 38.9ms\n",
      "1: 1024x1024 (no detections), 38.9ms\n",
      "2: 1024x1024 (no detections), 38.9ms\n",
      "3: 1024x1024 (no detections), 38.9ms\n",
      "4: 1024x1024 (no detections), 38.9ms\n",
      "5: 1024x1024 38.9ms\n",
      "6: 1024x1024 (no detections), 38.9ms\n",
      "7: 1024x1024 (no detections), 38.9ms\n",
      "8: 1024x1024 (no detections), 38.9ms\n",
      "9: 1024x1024 (no detections), 38.9ms\n",
      "10: 1024x1024 (no detections), 38.9ms\n",
      "11: 1024x1024 (no detections), 38.9ms\n",
      "12: 1024x1024 (no detections), 38.9ms\n",
      "13: 1024x1024 (no detections), 38.9ms\n",
      "14: 1024x1024 (no detections), 38.9ms\n",
      "15: 1024x1024 38.9ms\n",
      "Speed: 1.5ms preprocess, 38.9ms inference, 6.2ms postprocess per image at shape (1, 3, 1024, 1024)\n"
     ]
    },
    {
     "name": "stderr",
     "output_type": "stream",
     "text": [
      "  3%|▎         | 4/116 [00:06<02:37,  1.41s/it]"
     ]
    },
    {
     "name": "stdout",
     "output_type": "stream",
     "text": [
      "\n",
      "0: 1024x1024 38.5ms\n",
      "1: 1024x1024 (no detections), 38.5ms\n",
      "2: 1024x1024 (no detections), 38.5ms\n",
      "3: 1024x1024 (no detections), 38.5ms\n",
      "4: 1024x1024 (no detections), 38.5ms\n",
      "5: 1024x1024 38.5ms\n",
      "6: 1024x1024 (no detections), 38.5ms\n",
      "7: 1024x1024 (no detections), 38.5ms\n",
      "8: 1024x1024 (no detections), 38.5ms\n",
      "9: 1024x1024 (no detections), 38.5ms\n",
      "10: 1024x1024 (no detections), 38.5ms\n",
      "11: 1024x1024 38.5ms\n",
      "12: 1024x1024 (no detections), 38.5ms\n",
      "13: 1024x1024 (no detections), 38.5ms\n",
      "14: 1024x1024 (no detections), 38.5ms\n",
      "15: 1024x1024 (no detections), 38.5ms\n",
      "Speed: 1.4ms preprocess, 38.5ms inference, 6.5ms postprocess per image at shape (1, 3, 1024, 1024)\n"
     ]
    },
    {
     "name": "stderr",
     "output_type": "stream",
     "text": [
      "  4%|▍         | 5/116 [00:07<02:30,  1.35s/it]"
     ]
    },
    {
     "name": "stdout",
     "output_type": "stream",
     "text": [
      "\n",
      "0: 1024x1024 (no detections), 38.9ms\n",
      "1: 1024x1024 (no detections), 38.9ms\n",
      "2: 1024x1024 (no detections), 38.9ms\n",
      "3: 1024x1024 (no detections), 38.9ms\n",
      "4: 1024x1024 (no detections), 38.9ms\n",
      "5: 1024x1024 (no detections), 38.9ms\n",
      "6: 1024x1024 (no detections), 38.9ms\n",
      "7: 1024x1024 (no detections), 38.9ms\n",
      "8: 1024x1024 (no detections), 38.9ms\n",
      "9: 1024x1024 (no detections), 38.9ms\n",
      "10: 1024x1024 38.9ms\n",
      "11: 1024x1024 (no detections), 38.9ms\n",
      "12: 1024x1024 (no detections), 38.9ms\n",
      "13: 1024x1024 (no detections), 38.9ms\n",
      "14: 1024x1024 (no detections), 38.9ms\n",
      "15: 1024x1024 (no detections), 38.9ms\n",
      "Speed: 1.5ms preprocess, 38.9ms inference, 6.2ms postprocess per image at shape (1, 3, 1024, 1024)\n"
     ]
    },
    {
     "name": "stderr",
     "output_type": "stream",
     "text": [
      "  5%|▌         | 6/116 [00:08<02:25,  1.33s/it]"
     ]
    },
    {
     "name": "stdout",
     "output_type": "stream",
     "text": [
      "\n",
      "0: 1024x1024 (no detections), 38.6ms\n",
      "1: 1024x1024 (no detections), 38.6ms\n",
      "2: 1024x1024 (no detections), 38.6ms\n",
      "3: 1024x1024 (no detections), 38.6ms\n",
      "4: 1024x1024 (no detections), 38.6ms\n",
      "5: 1024x1024 (no detections), 38.6ms\n",
      "6: 1024x1024 (no detections), 38.6ms\n",
      "7: 1024x1024 (no detections), 38.6ms\n",
      "8: 1024x1024 (no detections), 38.6ms\n",
      "9: 1024x1024 (no detections), 38.6ms\n",
      "10: 1024x1024 (no detections), 38.6ms\n",
      "11: 1024x1024 (no detections), 38.6ms\n",
      "12: 1024x1024 (no detections), 38.6ms\n",
      "13: 1024x1024 (no detections), 38.6ms\n",
      "14: 1024x1024 (no detections), 38.6ms\n",
      "15: 1024x1024 (no detections), 38.6ms\n",
      "Speed: 1.5ms preprocess, 38.6ms inference, 6.4ms postprocess per image at shape (1, 3, 1024, 1024)\n"
     ]
    },
    {
     "name": "stderr",
     "output_type": "stream",
     "text": [
      "  6%|▌         | 7/116 [00:09<02:22,  1.30s/it]"
     ]
    },
    {
     "name": "stdout",
     "output_type": "stream",
     "text": [
      "\n",
      "0: 1024x1024 (no detections), 39.0ms\n",
      "1: 1024x1024 (no detections), 39.0ms\n",
      "2: 1024x1024 (no detections), 39.0ms\n",
      "3: 1024x1024 (no detections), 39.0ms\n",
      "4: 1024x1024 (no detections), 39.0ms\n",
      "5: 1024x1024 (no detections), 39.0ms\n",
      "6: 1024x1024 (no detections), 39.0ms\n",
      "7: 1024x1024 (no detections), 39.0ms\n",
      "8: 1024x1024 (no detections), 39.0ms\n",
      "9: 1024x1024 (no detections), 39.0ms\n",
      "10: 1024x1024 39.0ms\n",
      "11: 1024x1024 39.0ms\n",
      "12: 1024x1024 (no detections), 39.0ms\n",
      "13: 1024x1024 39.0ms\n",
      "14: 1024x1024 (no detections), 39.0ms\n",
      "15: 1024x1024 (no detections), 39.0ms\n",
      "Speed: 1.6ms preprocess, 39.0ms inference, 7.3ms postprocess per image at shape (1, 3, 1024, 1024)\n"
     ]
    },
    {
     "name": "stderr",
     "output_type": "stream",
     "text": [
      "  7%|▋         | 8/116 [00:11<02:20,  1.30s/it]"
     ]
    },
    {
     "name": "stdout",
     "output_type": "stream",
     "text": [
      "\n",
      "0: 1024x1024 (no detections), 38.8ms\n",
      "1: 1024x1024 (no detections), 38.8ms\n",
      "2: 1024x1024 38.8ms\n",
      "3: 1024x1024 (no detections), 38.8ms\n",
      "4: 1024x1024 (no detections), 38.8ms\n",
      "5: 1024x1024 38.8ms\n",
      "6: 1024x1024 38.8ms\n",
      "7: 1024x1024 38.8ms\n",
      "8: 1024x1024 (no detections), 38.8ms\n",
      "9: 1024x1024 (no detections), 38.8ms\n",
      "10: 1024x1024 (no detections), 38.8ms\n",
      "11: 1024x1024 38.8ms\n",
      "12: 1024x1024 (no detections), 38.8ms\n",
      "13: 1024x1024 (no detections), 38.8ms\n",
      "14: 1024x1024 (no detections), 38.8ms\n",
      "15: 1024x1024 (no detections), 38.8ms\n",
      "Speed: 1.6ms preprocess, 38.8ms inference, 6.7ms postprocess per image at shape (1, 3, 1024, 1024)\n"
     ]
    },
    {
     "name": "stderr",
     "output_type": "stream",
     "text": [
      "  8%|▊         | 9/116 [00:12<02:20,  1.31s/it]"
     ]
    },
    {
     "name": "stdout",
     "output_type": "stream",
     "text": [
      "\n",
      "0: 1024x1024 (no detections), 38.7ms\n",
      "1: 1024x1024 (no detections), 38.7ms\n",
      "2: 1024x1024 (no detections), 38.7ms\n",
      "3: 1024x1024 (no detections), 38.7ms\n",
      "4: 1024x1024 (no detections), 38.7ms\n",
      "5: 1024x1024 38.7ms\n",
      "6: 1024x1024 38.7ms\n",
      "7: 1024x1024 (no detections), 38.7ms\n",
      "8: 1024x1024 (no detections), 38.7ms\n",
      "9: 1024x1024 (no detections), 38.7ms\n",
      "10: 1024x1024 (no detections), 38.7ms\n",
      "11: 1024x1024 (no detections), 38.7ms\n",
      "12: 1024x1024 (no detections), 38.7ms\n",
      "13: 1024x1024 (no detections), 38.7ms\n",
      "14: 1024x1024 (no detections), 38.7ms\n",
      "15: 1024x1024 (no detections), 38.7ms\n",
      "Speed: 1.4ms preprocess, 38.7ms inference, 6.3ms postprocess per image at shape (1, 3, 1024, 1024)\n"
     ]
    },
    {
     "name": "stderr",
     "output_type": "stream",
     "text": [
      "  9%|▊         | 10/116 [00:13<02:17,  1.30s/it]"
     ]
    },
    {
     "name": "stdout",
     "output_type": "stream",
     "text": [
      "\n",
      "0: 1024x1024 (no detections), 38.6ms\n",
      "1: 1024x1024 38.6ms\n",
      "2: 1024x1024 (no detections), 38.6ms\n",
      "3: 1024x1024 (no detections), 38.6ms\n",
      "4: 1024x1024 (no detections), 38.6ms\n",
      "5: 1024x1024 (no detections), 38.6ms\n",
      "6: 1024x1024 (no detections), 38.6ms\n",
      "7: 1024x1024 (no detections), 38.6ms\n",
      "8: 1024x1024 (no detections), 38.6ms\n",
      "9: 1024x1024 (no detections), 38.6ms\n",
      "10: 1024x1024 38.6ms\n",
      "11: 1024x1024 (no detections), 38.6ms\n",
      "12: 1024x1024 (no detections), 38.6ms\n",
      "13: 1024x1024 38.6ms\n",
      "14: 1024x1024 (no detections), 38.6ms\n",
      "15: 1024x1024 (no detections), 38.6ms\n",
      "Speed: 1.5ms preprocess, 38.6ms inference, 6.2ms postprocess per image at shape (1, 3, 1024, 1024)\n"
     ]
    },
    {
     "name": "stderr",
     "output_type": "stream",
     "text": [
      "  9%|▉         | 11/116 [00:15<02:16,  1.30s/it]"
     ]
    },
    {
     "name": "stdout",
     "output_type": "stream",
     "text": [
      "\n",
      "0: 1024x1024 (no detections), 38.4ms\n",
      "1: 1024x1024 38.4ms\n",
      "2: 1024x1024 38.4ms\n",
      "3: 1024x1024 (no detections), 38.4ms\n",
      "4: 1024x1024 (no detections), 38.4ms\n",
      "5: 1024x1024 (no detections), 38.4ms\n",
      "6: 1024x1024 38.4ms\n",
      "7: 1024x1024 (no detections), 38.4ms\n",
      "8: 1024x1024 (no detections), 38.4ms\n",
      "9: 1024x1024 (no detections), 38.4ms\n",
      "10: 1024x1024 (no detections), 38.4ms\n",
      "11: 1024x1024 (no detections), 38.4ms\n",
      "12: 1024x1024 (no detections), 38.4ms\n",
      "13: 1024x1024 (no detections), 38.4ms\n",
      "14: 1024x1024 (no detections), 38.4ms\n",
      "15: 1024x1024 (no detections), 38.4ms\n",
      "Speed: 1.6ms preprocess, 38.4ms inference, 6.1ms postprocess per image at shape (1, 3, 1024, 1024)\n"
     ]
    },
    {
     "name": "stderr",
     "output_type": "stream",
     "text": [
      " 10%|█         | 12/116 [00:16<02:14,  1.29s/it]"
     ]
    },
    {
     "name": "stdout",
     "output_type": "stream",
     "text": [
      "\n",
      "0: 1024x1024 38.4ms\n",
      "1: 1024x1024 38.4ms\n",
      "2: 1024x1024 (no detections), 38.4ms\n",
      "3: 1024x1024 (no detections), 38.4ms\n",
      "4: 1024x1024 (no detections), 38.4ms\n",
      "5: 1024x1024 (no detections), 38.4ms\n",
      "6: 1024x1024 (no detections), 38.4ms\n",
      "7: 1024x1024 (no detections), 38.4ms\n",
      "8: 1024x1024 (no detections), 38.4ms\n",
      "9: 1024x1024 (no detections), 38.4ms\n",
      "10: 1024x1024 (no detections), 38.4ms\n",
      "11: 1024x1024 (no detections), 38.4ms\n",
      "12: 1024x1024 (no detections), 38.4ms\n",
      "13: 1024x1024 (no detections), 38.4ms\n",
      "14: 1024x1024 (no detections), 38.4ms\n",
      "15: 1024x1024 (no detections), 38.4ms\n",
      "Speed: 1.7ms preprocess, 38.4ms inference, 6.3ms postprocess per image at shape (1, 3, 1024, 1024)\n"
     ]
    },
    {
     "name": "stderr",
     "output_type": "stream",
     "text": [
      " 11%|█         | 13/116 [00:17<02:11,  1.28s/it]"
     ]
    },
    {
     "name": "stdout",
     "output_type": "stream",
     "text": [
      "\n",
      "0: 1024x1024 (no detections), 38.5ms\n",
      "1: 1024x1024 (no detections), 38.5ms\n",
      "2: 1024x1024 (no detections), 38.5ms\n",
      "3: 1024x1024 (no detections), 38.5ms\n",
      "4: 1024x1024 (no detections), 38.5ms\n",
      "5: 1024x1024 (no detections), 38.5ms\n",
      "6: 1024x1024 (no detections), 38.5ms\n",
      "7: 1024x1024 (no detections), 38.5ms\n",
      "8: 1024x1024 (no detections), 38.5ms\n",
      "9: 1024x1024 (no detections), 38.5ms\n",
      "10: 1024x1024 (no detections), 38.5ms\n",
      "11: 1024x1024 (no detections), 38.5ms\n",
      "12: 1024x1024 (no detections), 38.5ms\n",
      "13: 1024x1024 (no detections), 38.5ms\n",
      "14: 1024x1024 (no detections), 38.5ms\n",
      "15: 1024x1024 (no detections), 38.5ms\n",
      "Speed: 1.5ms preprocess, 38.5ms inference, 6.5ms postprocess per image at shape (1, 3, 1024, 1024)\n"
     ]
    },
    {
     "name": "stderr",
     "output_type": "stream",
     "text": [
      " 12%|█▏        | 14/116 [00:18<02:10,  1.28s/it]"
     ]
    },
    {
     "name": "stdout",
     "output_type": "stream",
     "text": [
      "\n",
      "0: 1024x1024 (no detections), 38.4ms\n",
      "1: 1024x1024 (no detections), 38.4ms\n",
      "2: 1024x1024 (no detections), 38.4ms\n",
      "3: 1024x1024 (no detections), 38.4ms\n",
      "4: 1024x1024 (no detections), 38.4ms\n",
      "5: 1024x1024 (no detections), 38.4ms\n",
      "6: 1024x1024 (no detections), 38.4ms\n",
      "7: 1024x1024 (no detections), 38.4ms\n",
      "8: 1024x1024 (no detections), 38.4ms\n",
      "9: 1024x1024 (no detections), 38.4ms\n",
      "10: 1024x1024 (no detections), 38.4ms\n",
      "11: 1024x1024 (no detections), 38.4ms\n",
      "12: 1024x1024 (no detections), 38.4ms\n",
      "13: 1024x1024 (no detections), 38.4ms\n",
      "14: 1024x1024 (no detections), 38.4ms\n",
      "15: 1024x1024 (no detections), 38.4ms\n",
      "Speed: 1.5ms preprocess, 38.4ms inference, 6.0ms postprocess per image at shape (1, 3, 1024, 1024)\n"
     ]
    },
    {
     "name": "stderr",
     "output_type": "stream",
     "text": [
      " 13%|█▎        | 15/116 [00:20<02:08,  1.28s/it]"
     ]
    },
    {
     "name": "stdout",
     "output_type": "stream",
     "text": [
      "\n",
      "0: 1024x1024 (no detections), 38.4ms\n",
      "1: 1024x1024 (no detections), 38.4ms\n",
      "2: 1024x1024 (no detections), 38.4ms\n",
      "3: 1024x1024 (no detections), 38.4ms\n",
      "4: 1024x1024 (no detections), 38.4ms\n",
      "5: 1024x1024 (no detections), 38.4ms\n",
      "6: 1024x1024 (no detections), 38.4ms\n",
      "7: 1024x1024 (no detections), 38.4ms\n",
      "8: 1024x1024 (no detections), 38.4ms\n",
      "9: 1024x1024 (no detections), 38.4ms\n",
      "10: 1024x1024 (no detections), 38.4ms\n",
      "11: 1024x1024 (no detections), 38.4ms\n",
      "12: 1024x1024 38.4ms\n",
      "13: 1024x1024 (no detections), 38.4ms\n",
      "14: 1024x1024 (no detections), 38.4ms\n",
      "15: 1024x1024 (no detections), 38.4ms\n",
      "Speed: 1.5ms preprocess, 38.4ms inference, 6.2ms postprocess per image at shape (1, 3, 1024, 1024)\n"
     ]
    },
    {
     "name": "stderr",
     "output_type": "stream",
     "text": [
      " 14%|█▍        | 16/116 [00:21<02:07,  1.27s/it]"
     ]
    },
    {
     "name": "stdout",
     "output_type": "stream",
     "text": [
      "\n",
      "0: 1024x1024 (no detections), 38.5ms\n",
      "1: 1024x1024 (no detections), 38.5ms\n",
      "2: 1024x1024 (no detections), 38.5ms\n",
      "3: 1024x1024 (no detections), 38.5ms\n",
      "4: 1024x1024 (no detections), 38.5ms\n",
      "5: 1024x1024 (no detections), 38.5ms\n",
      "6: 1024x1024 (no detections), 38.5ms\n",
      "7: 1024x1024 (no detections), 38.5ms\n",
      "8: 1024x1024 (no detections), 38.5ms\n",
      "9: 1024x1024 (no detections), 38.5ms\n",
      "10: 1024x1024 (no detections), 38.5ms\n",
      "11: 1024x1024 (no detections), 38.5ms\n",
      "12: 1024x1024 (no detections), 38.5ms\n",
      "13: 1024x1024 (no detections), 38.5ms\n",
      "14: 1024x1024 (no detections), 38.5ms\n",
      "15: 1024x1024 (no detections), 38.5ms\n",
      "Speed: 1.8ms preprocess, 38.5ms inference, 6.1ms postprocess per image at shape (1, 3, 1024, 1024)\n"
     ]
    },
    {
     "name": "stderr",
     "output_type": "stream",
     "text": [
      " 15%|█▍        | 17/116 [00:22<02:05,  1.27s/it]"
     ]
    },
    {
     "name": "stdout",
     "output_type": "stream",
     "text": [
      "\n",
      "0: 1024x1024 (no detections), 38.5ms\n",
      "1: 1024x1024 (no detections), 38.5ms\n",
      "2: 1024x1024 (no detections), 38.5ms\n",
      "3: 1024x1024 (no detections), 38.5ms\n",
      "4: 1024x1024 (no detections), 38.5ms\n",
      "5: 1024x1024 (no detections), 38.5ms\n",
      "6: 1024x1024 (no detections), 38.5ms\n",
      "7: 1024x1024 (no detections), 38.5ms\n",
      "8: 1024x1024 (no detections), 38.5ms\n",
      "9: 1024x1024 (no detections), 38.5ms\n",
      "10: 1024x1024 (no detections), 38.5ms\n",
      "11: 1024x1024 (no detections), 38.5ms\n",
      "12: 1024x1024 (no detections), 38.5ms\n",
      "13: 1024x1024 (no detections), 38.5ms\n",
      "14: 1024x1024 (no detections), 38.5ms\n",
      "15: 1024x1024 (no detections), 38.5ms\n",
      "Speed: 1.5ms preprocess, 38.5ms inference, 6.3ms postprocess per image at shape (1, 3, 1024, 1024)\n"
     ]
    },
    {
     "name": "stderr",
     "output_type": "stream",
     "text": [
      " 16%|█▌        | 18/116 [00:23<02:04,  1.27s/it]"
     ]
    },
    {
     "name": "stdout",
     "output_type": "stream",
     "text": [
      "\n",
      "0: 1024x1024 (no detections), 38.5ms\n",
      "1: 1024x1024 (no detections), 38.5ms\n",
      "2: 1024x1024 (no detections), 38.5ms\n",
      "3: 1024x1024 (no detections), 38.5ms\n",
      "4: 1024x1024 (no detections), 38.5ms\n",
      "5: 1024x1024 (no detections), 38.5ms\n",
      "6: 1024x1024 (no detections), 38.5ms\n",
      "7: 1024x1024 (no detections), 38.5ms\n",
      "8: 1024x1024 (no detections), 38.5ms\n",
      "9: 1024x1024 (no detections), 38.5ms\n",
      "10: 1024x1024 (no detections), 38.5ms\n",
      "11: 1024x1024 (no detections), 38.5ms\n",
      "12: 1024x1024 (no detections), 38.5ms\n",
      "13: 1024x1024 (no detections), 38.5ms\n",
      "14: 1024x1024 (no detections), 38.5ms\n",
      "15: 1024x1024 (no detections), 38.5ms\n",
      "Speed: 1.5ms preprocess, 38.5ms inference, 6.0ms postprocess per image at shape (1, 3, 1024, 1024)\n"
     ]
    },
    {
     "name": "stderr",
     "output_type": "stream",
     "text": [
      " 16%|█▋        | 19/116 [00:25<02:02,  1.26s/it]"
     ]
    },
    {
     "name": "stdout",
     "output_type": "stream",
     "text": [
      "\n",
      "0: 1024x1024 (no detections), 38.4ms\n",
      "1: 1024x1024 (no detections), 38.4ms\n",
      "2: 1024x1024 (no detections), 38.4ms\n",
      "3: 1024x1024 (no detections), 38.4ms\n",
      "4: 1024x1024 (no detections), 38.4ms\n",
      "5: 1024x1024 (no detections), 38.4ms\n",
      "6: 1024x1024 (no detections), 38.4ms\n",
      "7: 1024x1024 (no detections), 38.4ms\n",
      "8: 1024x1024 (no detections), 38.4ms\n",
      "9: 1024x1024 (no detections), 38.4ms\n",
      "10: 1024x1024 (no detections), 38.4ms\n",
      "11: 1024x1024 (no detections), 38.4ms\n",
      "12: 1024x1024 (no detections), 38.4ms\n",
      "13: 1024x1024 (no detections), 38.4ms\n",
      "14: 1024x1024 (no detections), 38.4ms\n",
      "15: 1024x1024 (no detections), 38.4ms\n",
      "Speed: 1.4ms preprocess, 38.4ms inference, 6.3ms postprocess per image at shape (1, 3, 1024, 1024)\n"
     ]
    },
    {
     "name": "stderr",
     "output_type": "stream",
     "text": [
      " 17%|█▋        | 20/116 [00:26<02:00,  1.26s/it]"
     ]
    },
    {
     "name": "stdout",
     "output_type": "stream",
     "text": [
      "\n",
      "0: 1024x1024 (no detections), 38.4ms\n",
      "1: 1024x1024 (no detections), 38.4ms\n",
      "2: 1024x1024 (no detections), 38.4ms\n",
      "3: 1024x1024 (no detections), 38.4ms\n",
      "4: 1024x1024 (no detections), 38.4ms\n",
      "5: 1024x1024 (no detections), 38.4ms\n",
      "6: 1024x1024 (no detections), 38.4ms\n",
      "7: 1024x1024 (no detections), 38.4ms\n",
      "8: 1024x1024 (no detections), 38.4ms\n",
      "9: 1024x1024 (no detections), 38.4ms\n",
      "10: 1024x1024 (no detections), 38.4ms\n",
      "11: 1024x1024 (no detections), 38.4ms\n",
      "12: 1024x1024 (no detections), 38.4ms\n",
      "13: 1024x1024 (no detections), 38.4ms\n",
      "14: 1024x1024 (no detections), 38.4ms\n",
      "15: 1024x1024 (no detections), 38.4ms\n",
      "Speed: 1.5ms preprocess, 38.4ms inference, 6.5ms postprocess per image at shape (1, 3, 1024, 1024)\n"
     ]
    },
    {
     "name": "stderr",
     "output_type": "stream",
     "text": [
      " 18%|█▊        | 21/116 [00:27<01:59,  1.26s/it]"
     ]
    },
    {
     "name": "stdout",
     "output_type": "stream",
     "text": [
      "\n",
      "0: 1024x1024 (no detections), 38.6ms\n",
      "1: 1024x1024 (no detections), 38.6ms\n",
      "2: 1024x1024 (no detections), 38.6ms\n",
      "3: 1024x1024 (no detections), 38.6ms\n",
      "4: 1024x1024 (no detections), 38.6ms\n",
      "5: 1024x1024 (no detections), 38.6ms\n",
      "6: 1024x1024 (no detections), 38.6ms\n",
      "7: 1024x1024 (no detections), 38.6ms\n",
      "8: 1024x1024 (no detections), 38.6ms\n",
      "9: 1024x1024 (no detections), 38.6ms\n",
      "10: 1024x1024 (no detections), 38.6ms\n",
      "11: 1024x1024 (no detections), 38.6ms\n",
      "12: 1024x1024 (no detections), 38.6ms\n",
      "13: 1024x1024 (no detections), 38.6ms\n",
      "14: 1024x1024 (no detections), 38.6ms\n",
      "15: 1024x1024 (no detections), 38.6ms\n",
      "Speed: 1.9ms preprocess, 38.6ms inference, 6.0ms postprocess per image at shape (1, 3, 1024, 1024)\n"
     ]
    },
    {
     "name": "stderr",
     "output_type": "stream",
     "text": [
      " 19%|█▉        | 22/116 [00:28<01:58,  1.26s/it]"
     ]
    },
    {
     "name": "stdout",
     "output_type": "stream",
     "text": [
      "\n",
      "0: 1024x1024 (no detections), 38.6ms\n",
      "1: 1024x1024 (no detections), 38.6ms\n",
      "2: 1024x1024 (no detections), 38.6ms\n",
      "3: 1024x1024 (no detections), 38.6ms\n",
      "4: 1024x1024 (no detections), 38.6ms\n",
      "5: 1024x1024 (no detections), 38.6ms\n",
      "6: 1024x1024 (no detections), 38.6ms\n",
      "7: 1024x1024 (no detections), 38.6ms\n",
      "8: 1024x1024 (no detections), 38.6ms\n",
      "9: 1024x1024 (no detections), 38.6ms\n",
      "10: 1024x1024 (no detections), 38.6ms\n",
      "11: 1024x1024 (no detections), 38.6ms\n",
      "12: 1024x1024 (no detections), 38.6ms\n",
      "13: 1024x1024 (no detections), 38.6ms\n",
      "14: 1024x1024 (no detections), 38.6ms\n",
      "15: 1024x1024 (no detections), 38.6ms\n",
      "Speed: 1.6ms preprocess, 38.6ms inference, 6.4ms postprocess per image at shape (1, 3, 1024, 1024)\n"
     ]
    },
    {
     "name": "stderr",
     "output_type": "stream",
     "text": [
      " 20%|█▉        | 23/116 [00:30<01:57,  1.26s/it]"
     ]
    },
    {
     "name": "stdout",
     "output_type": "stream",
     "text": [
      "\n",
      "0: 1024x1024 (no detections), 38.6ms\n",
      "1: 1024x1024 (no detections), 38.6ms\n",
      "2: 1024x1024 (no detections), 38.6ms\n",
      "3: 1024x1024 38.6ms\n",
      "4: 1024x1024 (no detections), 38.6ms\n",
      "5: 1024x1024 (no detections), 38.6ms\n",
      "6: 1024x1024 (no detections), 38.6ms\n",
      "7: 1024x1024 (no detections), 38.6ms\n",
      "8: 1024x1024 (no detections), 38.6ms\n",
      "9: 1024x1024 (no detections), 38.6ms\n",
      "10: 1024x1024 (no detections), 38.6ms\n",
      "11: 1024x1024 (no detections), 38.6ms\n",
      "12: 1024x1024 (no detections), 38.6ms\n",
      "13: 1024x1024 (no detections), 38.6ms\n",
      "14: 1024x1024 (no detections), 38.6ms\n",
      "15: 1024x1024 (no detections), 38.6ms\n",
      "Speed: 1.8ms preprocess, 38.6ms inference, 6.0ms postprocess per image at shape (1, 3, 1024, 1024)\n"
     ]
    },
    {
     "name": "stderr",
     "output_type": "stream",
     "text": [
      " 21%|██        | 24/116 [00:31<01:55,  1.26s/it]"
     ]
    },
    {
     "name": "stdout",
     "output_type": "stream",
     "text": [
      "\n",
      "0: 1024x1024 (no detections), 38.4ms\n",
      "1: 1024x1024 (no detections), 38.4ms\n",
      "2: 1024x1024 (no detections), 38.4ms\n",
      "3: 1024x1024 (no detections), 38.4ms\n",
      "4: 1024x1024 (no detections), 38.4ms\n",
      "5: 1024x1024 (no detections), 38.4ms\n",
      "6: 1024x1024 (no detections), 38.4ms\n",
      "7: 1024x1024 (no detections), 38.4ms\n",
      "8: 1024x1024 (no detections), 38.4ms\n",
      "9: 1024x1024 (no detections), 38.4ms\n",
      "10: 1024x1024 (no detections), 38.4ms\n",
      "11: 1024x1024 (no detections), 38.4ms\n",
      "12: 1024x1024 (no detections), 38.4ms\n",
      "13: 1024x1024 (no detections), 38.4ms\n",
      "14: 1024x1024 38.4ms\n",
      "15: 1024x1024 (no detections), 38.4ms\n",
      "Speed: 1.5ms preprocess, 38.4ms inference, 6.8ms postprocess per image at shape (1, 3, 1024, 1024)\n"
     ]
    },
    {
     "name": "stderr",
     "output_type": "stream",
     "text": [
      " 22%|██▏       | 25/116 [00:32<01:55,  1.27s/it]"
     ]
    },
    {
     "name": "stdout",
     "output_type": "stream",
     "text": [
      "\n",
      "0: 1024x1024 (no detections), 38.4ms\n",
      "1: 1024x1024 (no detections), 38.4ms\n",
      "2: 1024x1024 (no detections), 38.4ms\n",
      "3: 1024x1024 (no detections), 38.4ms\n",
      "4: 1024x1024 (no detections), 38.4ms\n",
      "5: 1024x1024 (no detections), 38.4ms\n",
      "6: 1024x1024 (no detections), 38.4ms\n",
      "7: 1024x1024 (no detections), 38.4ms\n",
      "8: 1024x1024 (no detections), 38.4ms\n",
      "9: 1024x1024 (no detections), 38.4ms\n",
      "10: 1024x1024 (no detections), 38.4ms\n",
      "11: 1024x1024 (no detections), 38.4ms\n",
      "12: 1024x1024 (no detections), 38.4ms\n",
      "13: 1024x1024 (no detections), 38.4ms\n",
      "14: 1024x1024 (no detections), 38.4ms\n",
      "15: 1024x1024 (no detections), 38.4ms\n",
      "Speed: 1.7ms preprocess, 38.4ms inference, 5.8ms postprocess per image at shape (1, 3, 1024, 1024)\n"
     ]
    },
    {
     "name": "stderr",
     "output_type": "stream",
     "text": [
      " 22%|██▏       | 26/116 [00:33<01:54,  1.27s/it]"
     ]
    },
    {
     "name": "stdout",
     "output_type": "stream",
     "text": [
      "\n",
      "0: 1024x1024 (no detections), 38.4ms\n",
      "1: 1024x1024 (no detections), 38.4ms\n",
      "2: 1024x1024 (no detections), 38.4ms\n",
      "3: 1024x1024 (no detections), 38.4ms\n",
      "4: 1024x1024 (no detections), 38.4ms\n",
      "5: 1024x1024 (no detections), 38.4ms\n",
      "6: 1024x1024 (no detections), 38.4ms\n",
      "7: 1024x1024 38.4ms\n",
      "8: 1024x1024 38.4ms\n",
      "9: 1024x1024 (no detections), 38.4ms\n",
      "10: 1024x1024 (no detections), 38.4ms\n",
      "11: 1024x1024 (no detections), 38.4ms\n",
      "12: 1024x1024 (no detections), 38.4ms\n",
      "13: 1024x1024 (no detections), 38.4ms\n",
      "14: 1024x1024 (no detections), 38.4ms\n",
      "15: 1024x1024 (no detections), 38.4ms\n",
      "Speed: 1.4ms preprocess, 38.4ms inference, 6.2ms postprocess per image at shape (1, 3, 1024, 1024)\n"
     ]
    },
    {
     "name": "stderr",
     "output_type": "stream",
     "text": [
      " 23%|██▎       | 27/116 [00:35<01:52,  1.27s/it]"
     ]
    },
    {
     "name": "stdout",
     "output_type": "stream",
     "text": [
      "\n",
      "0: 1024x1024 (no detections), 38.3ms\n",
      "1: 1024x1024 (no detections), 38.3ms\n",
      "2: 1024x1024 (no detections), 38.3ms\n",
      "3: 1024x1024 (no detections), 38.3ms\n",
      "4: 1024x1024 (no detections), 38.3ms\n",
      "5: 1024x1024 (no detections), 38.3ms\n",
      "6: 1024x1024 (no detections), 38.3ms\n",
      "7: 1024x1024 (no detections), 38.3ms\n",
      "8: 1024x1024 (no detections), 38.3ms\n",
      "9: 1024x1024 (no detections), 38.3ms\n",
      "10: 1024x1024 (no detections), 38.3ms\n",
      "11: 1024x1024 (no detections), 38.3ms\n",
      "12: 1024x1024 (no detections), 38.3ms\n",
      "13: 1024x1024 (no detections), 38.3ms\n",
      "14: 1024x1024 (no detections), 38.3ms\n",
      "15: 1024x1024 (no detections), 38.3ms\n",
      "Speed: 1.6ms preprocess, 38.3ms inference, 5.9ms postprocess per image at shape (1, 3, 1024, 1024)\n"
     ]
    },
    {
     "name": "stderr",
     "output_type": "stream",
     "text": [
      " 24%|██▍       | 28/116 [00:36<01:51,  1.26s/it]"
     ]
    },
    {
     "name": "stdout",
     "output_type": "stream",
     "text": [
      "\n",
      "0: 1024x1024 (no detections), 38.2ms\n",
      "1: 1024x1024 (no detections), 38.2ms\n",
      "2: 1024x1024 (no detections), 38.2ms\n",
      "3: 1024x1024 (no detections), 38.2ms\n",
      "4: 1024x1024 (no detections), 38.2ms\n",
      "5: 1024x1024 (no detections), 38.2ms\n",
      "6: 1024x1024 (no detections), 38.2ms\n",
      "7: 1024x1024 (no detections), 38.2ms\n",
      "8: 1024x1024 (no detections), 38.2ms\n",
      "9: 1024x1024 (no detections), 38.2ms\n",
      "10: 1024x1024 (no detections), 38.2ms\n",
      "11: 1024x1024 (no detections), 38.2ms\n",
      "12: 1024x1024 (no detections), 38.2ms\n",
      "13: 1024x1024 38.2ms\n",
      "14: 1024x1024 (no detections), 38.2ms\n",
      "15: 1024x1024 (no detections), 38.2ms\n",
      "Speed: 1.5ms preprocess, 38.2ms inference, 6.0ms postprocess per image at shape (1, 3, 1024, 1024)\n"
     ]
    },
    {
     "name": "stderr",
     "output_type": "stream",
     "text": [
      " 25%|██▌       | 29/116 [00:37<01:49,  1.26s/it]"
     ]
    },
    {
     "name": "stdout",
     "output_type": "stream",
     "text": [
      "\n",
      "0: 1024x1024 (no detections), 38.1ms\n",
      "1: 1024x1024 (no detections), 38.1ms\n",
      "2: 1024x1024 (no detections), 38.1ms\n",
      "3: 1024x1024 (no detections), 38.1ms\n",
      "4: 1024x1024 (no detections), 38.1ms\n",
      "5: 1024x1024 (no detections), 38.1ms\n",
      "6: 1024x1024 (no detections), 38.1ms\n",
      "7: 1024x1024 (no detections), 38.1ms\n",
      "8: 1024x1024 (no detections), 38.1ms\n",
      "9: 1024x1024 (no detections), 38.1ms\n",
      "10: 1024x1024 (no detections), 38.1ms\n",
      "11: 1024x1024 (no detections), 38.1ms\n",
      "12: 1024x1024 38.1ms\n",
      "13: 1024x1024 38.1ms\n",
      "14: 1024x1024 (no detections), 38.1ms\n",
      "15: 1024x1024 (no detections), 38.1ms\n",
      "Speed: 1.6ms preprocess, 38.1ms inference, 6.2ms postprocess per image at shape (1, 3, 1024, 1024)\n"
     ]
    },
    {
     "name": "stderr",
     "output_type": "stream",
     "text": [
      " 26%|██▌       | 30/116 [00:39<01:48,  1.27s/it]"
     ]
    },
    {
     "name": "stdout",
     "output_type": "stream",
     "text": [
      "\n",
      "0: 1024x1024 (no detections), 38.3ms\n",
      "1: 1024x1024 (no detections), 38.3ms\n",
      "2: 1024x1024 (no detections), 38.3ms\n",
      "3: 1024x1024 (no detections), 38.3ms\n",
      "4: 1024x1024 (no detections), 38.3ms\n",
      "5: 1024x1024 (no detections), 38.3ms\n",
      "6: 1024x1024 (no detections), 38.3ms\n",
      "7: 1024x1024 (no detections), 38.3ms\n",
      "8: 1024x1024 (no detections), 38.3ms\n",
      "9: 1024x1024 (no detections), 38.3ms\n",
      "10: 1024x1024 (no detections), 38.3ms\n",
      "11: 1024x1024 (no detections), 38.3ms\n",
      "12: 1024x1024 (no detections), 38.3ms\n",
      "13: 1024x1024 (no detections), 38.3ms\n",
      "14: 1024x1024 (no detections), 38.3ms\n",
      "15: 1024x1024 (no detections), 38.3ms\n",
      "Speed: 1.4ms preprocess, 38.3ms inference, 6.0ms postprocess per image at shape (1, 3, 1024, 1024)\n"
     ]
    },
    {
     "name": "stderr",
     "output_type": "stream",
     "text": [
      " 27%|██▋       | 31/116 [00:40<01:47,  1.26s/it]"
     ]
    },
    {
     "name": "stdout",
     "output_type": "stream",
     "text": [
      "\n",
      "0: 1024x1024 (no detections), 38.6ms\n",
      "1: 1024x1024 (no detections), 38.6ms\n",
      "2: 1024x1024 (no detections), 38.6ms\n",
      "3: 1024x1024 (no detections), 38.6ms\n",
      "4: 1024x1024 38.6ms\n",
      "5: 1024x1024 38.6ms\n",
      "6: 1024x1024 (no detections), 38.6ms\n",
      "7: 1024x1024 (no detections), 38.6ms\n",
      "8: 1024x1024 (no detections), 38.6ms\n",
      "9: 1024x1024 (no detections), 38.6ms\n",
      "10: 1024x1024 (no detections), 38.6ms\n",
      "11: 1024x1024 38.6ms\n",
      "12: 1024x1024 (no detections), 38.6ms\n",
      "13: 1024x1024 (no detections), 38.6ms\n",
      "14: 1024x1024 (no detections), 38.6ms\n",
      "15: 1024x1024 (no detections), 38.6ms\n",
      "Speed: 2.0ms preprocess, 38.6ms inference, 6.7ms postprocess per image at shape (1, 3, 1024, 1024)\n"
     ]
    },
    {
     "name": "stderr",
     "output_type": "stream",
     "text": [
      " 28%|██▊       | 32/116 [00:41<01:46,  1.27s/it]"
     ]
    },
    {
     "name": "stdout",
     "output_type": "stream",
     "text": [
      "\n",
      "0: 1024x1024 (no detections), 38.7ms\n",
      "1: 1024x1024 (no detections), 38.7ms\n",
      "2: 1024x1024 38.7ms\n",
      "3: 1024x1024 (no detections), 38.7ms\n",
      "4: 1024x1024 (no detections), 38.7ms\n",
      "5: 1024x1024 (no detections), 38.7ms\n",
      "6: 1024x1024 (no detections), 38.7ms\n",
      "7: 1024x1024 (no detections), 38.7ms\n",
      "8: 1024x1024 (no detections), 38.7ms\n",
      "9: 1024x1024 (no detections), 38.7ms\n",
      "10: 1024x1024 (no detections), 38.7ms\n",
      "11: 1024x1024 (no detections), 38.7ms\n",
      "12: 1024x1024 (no detections), 38.7ms\n",
      "13: 1024x1024 (no detections), 38.7ms\n",
      "14: 1024x1024 (no detections), 38.7ms\n",
      "15: 1024x1024 (no detections), 38.7ms\n",
      "Speed: 1.6ms preprocess, 38.7ms inference, 6.4ms postprocess per image at shape (1, 3, 1024, 1024)\n"
     ]
    },
    {
     "name": "stderr",
     "output_type": "stream",
     "text": [
      " 28%|██▊       | 33/116 [00:42<01:45,  1.28s/it]"
     ]
    },
    {
     "name": "stdout",
     "output_type": "stream",
     "text": [
      "\n",
      "0: 1024x1024 (no detections), 39.3ms\n",
      "1: 1024x1024 (no detections), 39.3ms\n",
      "2: 1024x1024 (no detections), 39.3ms\n",
      "3: 1024x1024 (no detections), 39.3ms\n",
      "4: 1024x1024 (no detections), 39.3ms\n",
      "5: 1024x1024 (no detections), 39.3ms\n",
      "6: 1024x1024 (no detections), 39.3ms\n",
      "7: 1024x1024 (no detections), 39.3ms\n",
      "8: 1024x1024 (no detections), 39.3ms\n",
      "9: 1024x1024 (no detections), 39.3ms\n",
      "10: 1024x1024 (no detections), 39.3ms\n",
      "11: 1024x1024 (no detections), 39.3ms\n",
      "12: 1024x1024 39.3ms\n",
      "13: 1024x1024 (no detections), 39.3ms\n",
      "14: 1024x1024 39.3ms\n",
      "15: 1024x1024 (no detections), 39.3ms\n",
      "Speed: 1.7ms preprocess, 39.3ms inference, 6.3ms postprocess per image at shape (1, 3, 1024, 1024)\n"
     ]
    },
    {
     "name": "stderr",
     "output_type": "stream",
     "text": [
      " 29%|██▉       | 34/116 [00:44<01:44,  1.28s/it]"
     ]
    },
    {
     "name": "stdout",
     "output_type": "stream",
     "text": [
      "\n",
      "0: 1024x1024 (no detections), 38.6ms\n",
      "1: 1024x1024 (no detections), 38.6ms\n",
      "2: 1024x1024 38.6ms\n",
      "3: 1024x1024 38.6ms\n",
      "4: 1024x1024 (no detections), 38.6ms\n",
      "5: 1024x1024 38.6ms\n",
      "6: 1024x1024 38.6ms\n",
      "7: 1024x1024 (no detections), 38.6ms\n",
      "8: 1024x1024 (no detections), 38.6ms\n",
      "9: 1024x1024 (no detections), 38.6ms\n",
      "10: 1024x1024 (no detections), 38.6ms\n",
      "11: 1024x1024 (no detections), 38.6ms\n",
      "12: 1024x1024 (no detections), 38.6ms\n",
      "13: 1024x1024 (no detections), 38.6ms\n",
      "14: 1024x1024 (no detections), 38.6ms\n",
      "15: 1024x1024 (no detections), 38.6ms\n",
      "Speed: 1.6ms preprocess, 38.6ms inference, 6.8ms postprocess per image at shape (1, 3, 1024, 1024)\n"
     ]
    },
    {
     "name": "stderr",
     "output_type": "stream",
     "text": [
      " 30%|███       | 35/116 [00:45<01:43,  1.28s/it]"
     ]
    },
    {
     "name": "stdout",
     "output_type": "stream",
     "text": [
      "\n",
      "0: 1024x1024 (no detections), 38.3ms\n",
      "1: 1024x1024 (no detections), 38.3ms\n",
      "2: 1024x1024 (no detections), 38.3ms\n",
      "3: 1024x1024 (no detections), 38.3ms\n",
      "4: 1024x1024 (no detections), 38.3ms\n",
      "5: 1024x1024 (no detections), 38.3ms\n",
      "6: 1024x1024 (no detections), 38.3ms\n",
      "7: 1024x1024 (no detections), 38.3ms\n",
      "8: 1024x1024 (no detections), 38.3ms\n",
      "9: 1024x1024 (no detections), 38.3ms\n",
      "10: 1024x1024 (no detections), 38.3ms\n",
      "11: 1024x1024 (no detections), 38.3ms\n",
      "12: 1024x1024 (no detections), 38.3ms\n",
      "13: 1024x1024 (no detections), 38.3ms\n",
      "14: 1024x1024 (no detections), 38.3ms\n",
      "15: 1024x1024 (no detections), 38.3ms\n",
      "Speed: 1.4ms preprocess, 38.3ms inference, 5.9ms postprocess per image at shape (1, 3, 1024, 1024)\n"
     ]
    },
    {
     "name": "stderr",
     "output_type": "stream",
     "text": [
      " 31%|███       | 36/116 [00:46<01:41,  1.27s/it]"
     ]
    },
    {
     "name": "stdout",
     "output_type": "stream",
     "text": [
      "\n",
      "0: 1024x1024 (no detections), 38.2ms\n",
      "1: 1024x1024 (no detections), 38.2ms\n",
      "2: 1024x1024 (no detections), 38.2ms\n",
      "3: 1024x1024 (no detections), 38.2ms\n",
      "4: 1024x1024 (no detections), 38.2ms\n",
      "5: 1024x1024 (no detections), 38.2ms\n",
      "6: 1024x1024 (no detections), 38.2ms\n",
      "7: 1024x1024 38.2ms\n",
      "8: 1024x1024 38.2ms\n",
      "9: 1024x1024 (no detections), 38.2ms\n",
      "10: 1024x1024 38.2ms\n",
      "11: 1024x1024 (no detections), 38.2ms\n",
      "12: 1024x1024 (no detections), 38.2ms\n",
      "13: 1024x1024 (no detections), 38.2ms\n",
      "14: 1024x1024 (no detections), 38.2ms\n",
      "15: 1024x1024 (no detections), 38.2ms\n",
      "Speed: 1.6ms preprocess, 38.2ms inference, 6.3ms postprocess per image at shape (1, 3, 1024, 1024)\n"
     ]
    },
    {
     "name": "stderr",
     "output_type": "stream",
     "text": [
      " 32%|███▏      | 37/116 [00:47<01:40,  1.27s/it]"
     ]
    },
    {
     "name": "stdout",
     "output_type": "stream",
     "text": [
      "\n",
      "0: 1024x1024 (no detections), 38.2ms\n",
      "1: 1024x1024 (no detections), 38.2ms\n",
      "2: 1024x1024 (no detections), 38.2ms\n",
      "3: 1024x1024 (no detections), 38.2ms\n",
      "4: 1024x1024 (no detections), 38.2ms\n",
      "5: 1024x1024 (no detections), 38.2ms\n",
      "6: 1024x1024 (no detections), 38.2ms\n",
      "7: 1024x1024 (no detections), 38.2ms\n",
      "8: 1024x1024 (no detections), 38.2ms\n",
      "9: 1024x1024 (no detections), 38.2ms\n",
      "10: 1024x1024 (no detections), 38.2ms\n",
      "11: 1024x1024 (no detections), 38.2ms\n",
      "12: 1024x1024 (no detections), 38.2ms\n",
      "13: 1024x1024 (no detections), 38.2ms\n",
      "14: 1024x1024 (no detections), 38.2ms\n",
      "15: 1024x1024 (no detections), 38.2ms\n",
      "Speed: 1.4ms preprocess, 38.2ms inference, 5.9ms postprocess per image at shape (1, 3, 1024, 1024)\n"
     ]
    },
    {
     "name": "stderr",
     "output_type": "stream",
     "text": [
      " 33%|███▎      | 38/116 [00:49<01:38,  1.27s/it]"
     ]
    },
    {
     "name": "stdout",
     "output_type": "stream",
     "text": [
      "\n",
      "0: 1024x1024 (no detections), 38.2ms\n",
      "1: 1024x1024 (no detections), 38.2ms\n",
      "2: 1024x1024 (no detections), 38.2ms\n",
      "3: 1024x1024 (no detections), 38.2ms\n",
      "4: 1024x1024 (no detections), 38.2ms\n",
      "5: 1024x1024 (no detections), 38.2ms\n",
      "6: 1024x1024 (no detections), 38.2ms\n",
      "7: 1024x1024 (no detections), 38.2ms\n",
      "8: 1024x1024 (no detections), 38.2ms\n",
      "9: 1024x1024 (no detections), 38.2ms\n",
      "10: 1024x1024 38.2ms\n",
      "11: 1024x1024 38.2ms\n",
      "12: 1024x1024 38.2ms\n",
      "13: 1024x1024 (no detections), 38.2ms\n",
      "14: 1024x1024 (no detections), 38.2ms\n",
      "15: 1024x1024 (no detections), 38.2ms\n",
      "Speed: 1.5ms preprocess, 38.2ms inference, 6.2ms postprocess per image at shape (1, 3, 1024, 1024)\n"
     ]
    },
    {
     "name": "stderr",
     "output_type": "stream",
     "text": [
      " 34%|███▎      | 39/116 [00:50<01:37,  1.26s/it]"
     ]
    },
    {
     "name": "stdout",
     "output_type": "stream",
     "text": [
      "\n",
      "0: 1024x1024 (no detections), 38.3ms\n",
      "1: 1024x1024 38.3ms\n",
      "2: 1024x1024 (no detections), 38.3ms\n",
      "3: 1024x1024 38.3ms\n",
      "4: 1024x1024 (no detections), 38.3ms\n",
      "5: 1024x1024 38.3ms\n",
      "6: 1024x1024 38.3ms\n",
      "7: 1024x1024 (no detections), 38.3ms\n",
      "8: 1024x1024 38.3ms\n",
      "9: 1024x1024 38.3ms\n",
      "10: 1024x1024 (no detections), 38.3ms\n",
      "11: 1024x1024 (no detections), 38.3ms\n",
      "12: 1024x1024 (no detections), 38.3ms\n",
      "13: 1024x1024 (no detections), 38.3ms\n",
      "14: 1024x1024 (no detections), 38.3ms\n",
      "15: 1024x1024 (no detections), 38.3ms\n",
      "Speed: 1.4ms preprocess, 38.3ms inference, 6.5ms postprocess per image at shape (1, 3, 1024, 1024)\n"
     ]
    },
    {
     "name": "stderr",
     "output_type": "stream",
     "text": [
      " 34%|███▍      | 40/116 [00:51<01:36,  1.27s/it]"
     ]
    },
    {
     "name": "stdout",
     "output_type": "stream",
     "text": [
      "\n",
      "0: 1024x1024 (no detections), 38.2ms\n",
      "1: 1024x1024 (no detections), 38.2ms\n",
      "2: 1024x1024 (no detections), 38.2ms\n",
      "3: 1024x1024 (no detections), 38.2ms\n",
      "4: 1024x1024 (no detections), 38.2ms\n",
      "5: 1024x1024 (no detections), 38.2ms\n",
      "6: 1024x1024 (no detections), 38.2ms\n",
      "7: 1024x1024 (no detections), 38.2ms\n",
      "8: 1024x1024 (no detections), 38.2ms\n",
      "9: 1024x1024 (no detections), 38.2ms\n",
      "10: 1024x1024 (no detections), 38.2ms\n",
      "11: 1024x1024 (no detections), 38.2ms\n",
      "12: 1024x1024 (no detections), 38.2ms\n",
      "13: 1024x1024 (no detections), 38.2ms\n",
      "14: 1024x1024 (no detections), 38.2ms\n",
      "15: 1024x1024 (no detections), 38.2ms\n",
      "Speed: 1.5ms preprocess, 38.2ms inference, 5.8ms postprocess per image at shape (1, 3, 1024, 1024)\n"
     ]
    },
    {
     "name": "stderr",
     "output_type": "stream",
     "text": [
      " 35%|███▌      | 41/116 [00:53<01:34,  1.26s/it]"
     ]
    },
    {
     "name": "stdout",
     "output_type": "stream",
     "text": [
      "\n",
      "0: 1024x1024 (no detections), 38.7ms\n",
      "1: 1024x1024 (no detections), 38.7ms\n",
      "2: 1024x1024 (no detections), 38.7ms\n",
      "3: 1024x1024 (no detections), 38.7ms\n",
      "4: 1024x1024 (no detections), 38.7ms\n",
      "5: 1024x1024 (no detections), 38.7ms\n",
      "6: 1024x1024 38.7ms\n",
      "7: 1024x1024 38.7ms\n",
      "8: 1024x1024 38.7ms\n",
      "9: 1024x1024 (no detections), 38.7ms\n",
      "10: 1024x1024 (no detections), 38.7ms\n",
      "11: 1024x1024 (no detections), 38.7ms\n",
      "12: 1024x1024 (no detections), 38.7ms\n",
      "13: 1024x1024 38.7ms\n",
      "14: 1024x1024 38.7ms\n",
      "15: 1024x1024 38.7ms\n",
      "Speed: 1.5ms preprocess, 38.7ms inference, 6.4ms postprocess per image at shape (1, 3, 1024, 1024)\n"
     ]
    },
    {
     "name": "stderr",
     "output_type": "stream",
     "text": [
      " 36%|███▌      | 42/116 [00:54<01:33,  1.26s/it]"
     ]
    },
    {
     "name": "stdout",
     "output_type": "stream",
     "text": [
      "\n",
      "0: 1024x1024 (no detections), 38.3ms\n",
      "1: 1024x1024 (no detections), 38.3ms\n",
      "2: 1024x1024 (no detections), 38.3ms\n",
      "3: 1024x1024 (no detections), 38.3ms\n",
      "4: 1024x1024 (no detections), 38.3ms\n",
      "5: 1024x1024 (no detections), 38.3ms\n",
      "6: 1024x1024 (no detections), 38.3ms\n",
      "7: 1024x1024 (no detections), 38.3ms\n",
      "8: 1024x1024 (no detections), 38.3ms\n",
      "9: 1024x1024 (no detections), 38.3ms\n",
      "10: 1024x1024 (no detections), 38.3ms\n",
      "11: 1024x1024 (no detections), 38.3ms\n",
      "12: 1024x1024 (no detections), 38.3ms\n",
      "13: 1024x1024 (no detections), 38.3ms\n",
      "14: 1024x1024 (no detections), 38.3ms\n",
      "15: 1024x1024 (no detections), 38.3ms\n",
      "Speed: 1.5ms preprocess, 38.3ms inference, 5.8ms postprocess per image at shape (1, 3, 1024, 1024)\n"
     ]
    },
    {
     "name": "stderr",
     "output_type": "stream",
     "text": [
      " 37%|███▋      | 43/116 [00:55<01:32,  1.26s/it]"
     ]
    },
    {
     "name": "stdout",
     "output_type": "stream",
     "text": [
      "\n",
      "0: 1024x1024 (no detections), 38.2ms\n",
      "1: 1024x1024 (no detections), 38.2ms\n",
      "2: 1024x1024 (no detections), 38.2ms\n",
      "3: 1024x1024 (no detections), 38.2ms\n",
      "4: 1024x1024 (no detections), 38.2ms\n",
      "5: 1024x1024 (no detections), 38.2ms\n",
      "6: 1024x1024 (no detections), 38.2ms\n",
      "7: 1024x1024 (no detections), 38.2ms\n",
      "8: 1024x1024 38.2ms\n",
      "9: 1024x1024 (no detections), 38.2ms\n",
      "10: 1024x1024 (no detections), 38.2ms\n",
      "11: 1024x1024 (no detections), 38.2ms\n",
      "12: 1024x1024 (no detections), 38.2ms\n",
      "13: 1024x1024 (no detections), 38.2ms\n",
      "14: 1024x1024 (no detections), 38.2ms\n",
      "15: 1024x1024 (no detections), 38.2ms\n",
      "Speed: 1.4ms preprocess, 38.2ms inference, 5.9ms postprocess per image at shape (1, 3, 1024, 1024)\n"
     ]
    },
    {
     "name": "stderr",
     "output_type": "stream",
     "text": [
      " 38%|███▊      | 44/116 [00:56<01:30,  1.26s/it]"
     ]
    },
    {
     "name": "stdout",
     "output_type": "stream",
     "text": [
      "\n",
      "0: 1024x1024 (no detections), 38.3ms\n",
      "1: 1024x1024 38.3ms\n",
      "2: 1024x1024 (no detections), 38.3ms\n",
      "3: 1024x1024 38.3ms\n",
      "4: 1024x1024 38.3ms\n",
      "5: 1024x1024 (no detections), 38.3ms\n",
      "6: 1024x1024 38.3ms\n",
      "7: 1024x1024 (no detections), 38.3ms\n",
      "8: 1024x1024 38.3ms\n",
      "9: 1024x1024 38.3ms\n",
      "10: 1024x1024 38.3ms\n",
      "11: 1024x1024 (no detections), 38.3ms\n",
      "12: 1024x1024 (no detections), 38.3ms\n",
      "13: 1024x1024 (no detections), 38.3ms\n",
      "14: 1024x1024 (no detections), 38.3ms\n",
      "15: 1024x1024 (no detections), 38.3ms\n",
      "Speed: 1.4ms preprocess, 38.3ms inference, 6.7ms postprocess per image at shape (1, 3, 1024, 1024)\n"
     ]
    },
    {
     "name": "stderr",
     "output_type": "stream",
     "text": [
      " 39%|███▉      | 45/116 [00:58<01:29,  1.26s/it]"
     ]
    },
    {
     "name": "stdout",
     "output_type": "stream",
     "text": [
      "\n",
      "0: 1024x1024 (no detections), 38.2ms\n",
      "1: 1024x1024 38.2ms\n",
      "2: 1024x1024 (no detections), 38.2ms\n",
      "3: 1024x1024 (no detections), 38.2ms\n",
      "4: 1024x1024 (no detections), 38.2ms\n",
      "5: 1024x1024 (no detections), 38.2ms\n",
      "6: 1024x1024 (no detections), 38.2ms\n",
      "7: 1024x1024 (no detections), 38.2ms\n",
      "8: 1024x1024 (no detections), 38.2ms\n",
      "9: 1024x1024 (no detections), 38.2ms\n",
      "10: 1024x1024 (no detections), 38.2ms\n",
      "11: 1024x1024 (no detections), 38.2ms\n",
      "12: 1024x1024 (no detections), 38.2ms\n",
      "13: 1024x1024 (no detections), 38.2ms\n",
      "14: 1024x1024 (no detections), 38.2ms\n",
      "15: 1024x1024 (no detections), 38.2ms\n",
      "Speed: 1.6ms preprocess, 38.2ms inference, 6.0ms postprocess per image at shape (1, 3, 1024, 1024)\n"
     ]
    },
    {
     "name": "stderr",
     "output_type": "stream",
     "text": [
      " 40%|███▉      | 46/116 [00:59<01:27,  1.26s/it]"
     ]
    },
    {
     "name": "stdout",
     "output_type": "stream",
     "text": [
      "\n",
      "0: 1024x1024 (no detections), 38.3ms\n",
      "1: 1024x1024 (no detections), 38.3ms\n",
      "2: 1024x1024 38.3ms\n",
      "3: 1024x1024 38.3ms\n",
      "4: 1024x1024 (no detections), 38.3ms\n",
      "5: 1024x1024 (no detections), 38.3ms\n",
      "6: 1024x1024 (no detections), 38.3ms\n",
      "7: 1024x1024 (no detections), 38.3ms\n",
      "8: 1024x1024 38.3ms\n",
      "9: 1024x1024 (no detections), 38.3ms\n",
      "10: 1024x1024 38.3ms\n",
      "11: 1024x1024 38.3ms\n",
      "12: 1024x1024 38.3ms\n",
      "13: 1024x1024 38.3ms\n",
      "14: 1024x1024 (no detections), 38.3ms\n",
      "15: 1024x1024 38.3ms\n",
      "Speed: 1.4ms preprocess, 38.3ms inference, 6.9ms postprocess per image at shape (1, 3, 1024, 1024)\n"
     ]
    },
    {
     "name": "stderr",
     "output_type": "stream",
     "text": [
      " 41%|████      | 47/116 [01:00<01:26,  1.26s/it]"
     ]
    },
    {
     "name": "stdout",
     "output_type": "stream",
     "text": [
      "\n",
      "0: 1024x1024 (no detections), 38.1ms\n",
      "1: 1024x1024 38.1ms\n",
      "2: 1024x1024 (no detections), 38.1ms\n",
      "3: 1024x1024 (no detections), 38.1ms\n",
      "4: 1024x1024 (no detections), 38.1ms\n",
      "5: 1024x1024 (no detections), 38.1ms\n",
      "6: 1024x1024 (no detections), 38.1ms\n",
      "7: 1024x1024 (no detections), 38.1ms\n",
      "8: 1024x1024 (no detections), 38.1ms\n",
      "9: 1024x1024 (no detections), 38.1ms\n",
      "10: 1024x1024 38.1ms\n",
      "11: 1024x1024 (no detections), 38.1ms\n",
      "12: 1024x1024 38.1ms\n",
      "13: 1024x1024 38.1ms\n",
      "14: 1024x1024 (no detections), 38.1ms\n",
      "15: 1024x1024 38.1ms\n",
      "Speed: 1.9ms preprocess, 38.1ms inference, 6.5ms postprocess per image at shape (1, 3, 1024, 1024)\n"
     ]
    },
    {
     "name": "stderr",
     "output_type": "stream",
     "text": [
      " 41%|████▏     | 48/116 [01:01<01:26,  1.27s/it]"
     ]
    },
    {
     "name": "stdout",
     "output_type": "stream",
     "text": [
      "\n",
      "0: 1024x1024 (no detections), 39.1ms\n",
      "1: 1024x1024 (no detections), 39.1ms\n",
      "2: 1024x1024 (no detections), 39.1ms\n",
      "3: 1024x1024 (no detections), 39.1ms\n",
      "4: 1024x1024 (no detections), 39.1ms\n",
      "5: 1024x1024 (no detections), 39.1ms\n",
      "6: 1024x1024 (no detections), 39.1ms\n",
      "7: 1024x1024 (no detections), 39.1ms\n",
      "8: 1024x1024 39.1ms\n",
      "9: 1024x1024 (no detections), 39.1ms\n",
      "10: 1024x1024 (no detections), 39.1ms\n",
      "11: 1024x1024 (no detections), 39.1ms\n",
      "12: 1024x1024 (no detections), 39.1ms\n",
      "13: 1024x1024 (no detections), 39.1ms\n",
      "14: 1024x1024 (no detections), 39.1ms\n",
      "15: 1024x1024 39.1ms\n",
      "Speed: 1.6ms preprocess, 39.1ms inference, 6.3ms postprocess per image at shape (1, 3, 1024, 1024)\n"
     ]
    },
    {
     "name": "stderr",
     "output_type": "stream",
     "text": [
      " 42%|████▏     | 49/116 [01:03<01:25,  1.27s/it]"
     ]
    },
    {
     "name": "stdout",
     "output_type": "stream",
     "text": [
      "\n",
      "0: 1024x1024 (no detections), 39.2ms\n",
      "1: 1024x1024 (no detections), 39.2ms\n",
      "2: 1024x1024 39.2ms\n",
      "3: 1024x1024 39.2ms\n",
      "4: 1024x1024 39.2ms\n",
      "5: 1024x1024 39.2ms\n",
      "6: 1024x1024 39.2ms\n",
      "7: 1024x1024 39.2ms\n",
      "8: 1024x1024 (no detections), 39.2ms\n",
      "9: 1024x1024 (no detections), 39.2ms\n",
      "10: 1024x1024 39.2ms\n",
      "11: 1024x1024 (no detections), 39.2ms\n",
      "12: 1024x1024 (no detections), 39.2ms\n",
      "13: 1024x1024 (no detections), 39.2ms\n",
      "14: 1024x1024 (no detections), 39.2ms\n",
      "15: 1024x1024 (no detections), 39.2ms\n",
      "Speed: 1.9ms preprocess, 39.2ms inference, 6.5ms postprocess per image at shape (1, 3, 1024, 1024)\n"
     ]
    },
    {
     "name": "stderr",
     "output_type": "stream",
     "text": [
      " 43%|████▎     | 50/116 [01:04<01:24,  1.29s/it]"
     ]
    },
    {
     "name": "stdout",
     "output_type": "stream",
     "text": [
      "\n",
      "0: 1024x1024 (no detections), 38.6ms\n",
      "1: 1024x1024 (no detections), 38.6ms\n",
      "2: 1024x1024 38.6ms\n",
      "3: 1024x1024 38.6ms\n",
      "4: 1024x1024 (no detections), 38.6ms\n",
      "5: 1024x1024 38.6ms\n",
      "6: 1024x1024 (no detections), 38.6ms\n",
      "7: 1024x1024 38.6ms\n",
      "8: 1024x1024 38.6ms\n",
      "9: 1024x1024 (no detections), 38.6ms\n",
      "10: 1024x1024 (no detections), 38.6ms\n",
      "11: 1024x1024 (no detections), 38.6ms\n",
      "12: 1024x1024 (no detections), 38.6ms\n",
      "13: 1024x1024 (no detections), 38.6ms\n",
      "14: 1024x1024 (no detections), 38.6ms\n",
      "15: 1024x1024 (no detections), 38.6ms\n",
      "Speed: 1.6ms preprocess, 38.6ms inference, 6.4ms postprocess per image at shape (1, 3, 1024, 1024)\n"
     ]
    },
    {
     "name": "stderr",
     "output_type": "stream",
     "text": [
      " 44%|████▍     | 51/116 [01:05<01:23,  1.29s/it]"
     ]
    },
    {
     "name": "stdout",
     "output_type": "stream",
     "text": [
      "\n",
      "0: 1024x1024 (no detections), 38.6ms\n",
      "1: 1024x1024 (no detections), 38.6ms\n",
      "2: 1024x1024 (no detections), 38.6ms\n",
      "3: 1024x1024 (no detections), 38.6ms\n",
      "4: 1024x1024 (no detections), 38.6ms\n",
      "5: 1024x1024 (no detections), 38.6ms\n",
      "6: 1024x1024 (no detections), 38.6ms\n",
      "7: 1024x1024 (no detections), 38.6ms\n",
      "8: 1024x1024 (no detections), 38.6ms\n",
      "9: 1024x1024 (no detections), 38.6ms\n",
      "10: 1024x1024 (no detections), 38.6ms\n",
      "11: 1024x1024 (no detections), 38.6ms\n",
      "12: 1024x1024 38.6ms\n",
      "13: 1024x1024 38.6ms\n",
      "14: 1024x1024 38.6ms\n",
      "15: 1024x1024 38.6ms\n",
      "Speed: 1.8ms preprocess, 38.6ms inference, 6.3ms postprocess per image at shape (1, 3, 1024, 1024)\n"
     ]
    },
    {
     "name": "stderr",
     "output_type": "stream",
     "text": [
      " 45%|████▍     | 52/116 [01:07<01:22,  1.28s/it]"
     ]
    },
    {
     "name": "stdout",
     "output_type": "stream",
     "text": [
      "\n",
      "0: 1024x1024 38.3ms\n",
      "1: 1024x1024 38.3ms\n",
      "2: 1024x1024 38.3ms\n",
      "3: 1024x1024 (no detections), 38.3ms\n",
      "4: 1024x1024 38.3ms\n",
      "5: 1024x1024 38.3ms\n",
      "6: 1024x1024 (no detections), 38.3ms\n",
      "7: 1024x1024 (no detections), 38.3ms\n",
      "8: 1024x1024 (no detections), 38.3ms\n",
      "9: 1024x1024 (no detections), 38.3ms\n",
      "10: 1024x1024 (no detections), 38.3ms\n",
      "11: 1024x1024 (no detections), 38.3ms\n",
      "12: 1024x1024 (no detections), 38.3ms\n",
      "13: 1024x1024 38.3ms\n",
      "14: 1024x1024 (no detections), 38.3ms\n",
      "15: 1024x1024 (no detections), 38.3ms\n",
      "Speed: 1.7ms preprocess, 38.3ms inference, 6.7ms postprocess per image at shape (1, 3, 1024, 1024)\n"
     ]
    },
    {
     "name": "stderr",
     "output_type": "stream",
     "text": [
      " 46%|████▌     | 53/116 [01:08<01:21,  1.29s/it]"
     ]
    },
    {
     "name": "stdout",
     "output_type": "stream",
     "text": [
      "\n",
      "0: 1024x1024 (no detections), 38.4ms\n",
      "1: 1024x1024 (no detections), 38.4ms\n",
      "2: 1024x1024 38.4ms\n",
      "3: 1024x1024 (no detections), 38.4ms\n",
      "4: 1024x1024 (no detections), 38.4ms\n",
      "5: 1024x1024 (no detections), 38.4ms\n",
      "6: 1024x1024 (no detections), 38.4ms\n",
      "7: 1024x1024 (no detections), 38.4ms\n",
      "8: 1024x1024 (no detections), 38.4ms\n",
      "9: 1024x1024 (no detections), 38.4ms\n",
      "10: 1024x1024 (no detections), 38.4ms\n",
      "11: 1024x1024 (no detections), 38.4ms\n",
      "12: 1024x1024 (no detections), 38.4ms\n",
      "13: 1024x1024 (no detections), 38.4ms\n",
      "14: 1024x1024 (no detections), 38.4ms\n",
      "15: 1024x1024 (no detections), 38.4ms\n",
      "Speed: 1.8ms preprocess, 38.4ms inference, 6.2ms postprocess per image at shape (1, 3, 1024, 1024)\n"
     ]
    },
    {
     "name": "stderr",
     "output_type": "stream",
     "text": [
      " 47%|████▋     | 54/116 [01:09<01:19,  1.28s/it]"
     ]
    },
    {
     "name": "stdout",
     "output_type": "stream",
     "text": [
      "\n",
      "0: 1024x1024 (no detections), 38.7ms\n",
      "1: 1024x1024 (no detections), 38.7ms\n",
      "2: 1024x1024 (no detections), 38.7ms\n",
      "3: 1024x1024 (no detections), 38.7ms\n",
      "4: 1024x1024 (no detections), 38.7ms\n",
      "5: 1024x1024 38.7ms\n",
      "6: 1024x1024 (no detections), 38.7ms\n",
      "7: 1024x1024 38.7ms\n",
      "8: 1024x1024 38.7ms\n",
      "9: 1024x1024 (no detections), 38.7ms\n",
      "10: 1024x1024 38.7ms\n",
      "11: 1024x1024 (no detections), 38.7ms\n",
      "12: 1024x1024 38.7ms\n",
      "13: 1024x1024 38.7ms\n",
      "14: 1024x1024 (no detections), 38.7ms\n",
      "15: 1024x1024 (no detections), 38.7ms\n",
      "Speed: 1.4ms preprocess, 38.7ms inference, 7.2ms postprocess per image at shape (1, 3, 1024, 1024)\n"
     ]
    },
    {
     "name": "stderr",
     "output_type": "stream",
     "text": [
      " 47%|████▋     | 55/116 [01:10<01:18,  1.29s/it]"
     ]
    },
    {
     "name": "stdout",
     "output_type": "stream",
     "text": [
      "\n",
      "0: 1024x1024 39.0ms\n",
      "1: 1024x1024 (no detections), 39.0ms\n",
      "2: 1024x1024 39.0ms\n",
      "3: 1024x1024 (no detections), 39.0ms\n",
      "4: 1024x1024 39.0ms\n",
      "5: 1024x1024 (no detections), 39.0ms\n",
      "6: 1024x1024 (no detections), 39.0ms\n",
      "7: 1024x1024 39.0ms\n",
      "8: 1024x1024 39.0ms\n",
      "9: 1024x1024 (no detections), 39.0ms\n",
      "10: 1024x1024 39.0ms\n",
      "11: 1024x1024 (no detections), 39.0ms\n",
      "12: 1024x1024 39.0ms\n",
      "13: 1024x1024 (no detections), 39.0ms\n",
      "14: 1024x1024 (no detections), 39.0ms\n",
      "15: 1024x1024 (no detections), 39.0ms\n",
      "Speed: 1.7ms preprocess, 39.0ms inference, 6.5ms postprocess per image at shape (1, 3, 1024, 1024)\n"
     ]
    },
    {
     "name": "stderr",
     "output_type": "stream",
     "text": [
      " 48%|████▊     | 56/116 [01:12<01:17,  1.29s/it]"
     ]
    },
    {
     "name": "stdout",
     "output_type": "stream",
     "text": [
      "\n",
      "0: 1024x1024 (no detections), 38.4ms\n",
      "1: 1024x1024 (no detections), 38.4ms\n",
      "2: 1024x1024 (no detections), 38.4ms\n",
      "3: 1024x1024 (no detections), 38.4ms\n",
      "4: 1024x1024 (no detections), 38.4ms\n",
      "5: 1024x1024 (no detections), 38.4ms\n",
      "6: 1024x1024 (no detections), 38.4ms\n",
      "7: 1024x1024 (no detections), 38.4ms\n",
      "8: 1024x1024 (no detections), 38.4ms\n",
      "9: 1024x1024 (no detections), 38.4ms\n",
      "10: 1024x1024 (no detections), 38.4ms\n",
      "11: 1024x1024 38.4ms\n",
      "12: 1024x1024 (no detections), 38.4ms\n",
      "13: 1024x1024 (no detections), 38.4ms\n",
      "14: 1024x1024 (no detections), 38.4ms\n",
      "15: 1024x1024 38.4ms\n",
      "Speed: 1.4ms preprocess, 38.4ms inference, 6.3ms postprocess per image at shape (1, 3, 1024, 1024)\n"
     ]
    },
    {
     "name": "stderr",
     "output_type": "stream",
     "text": [
      " 49%|████▉     | 57/116 [01:13<01:15,  1.28s/it]"
     ]
    },
    {
     "name": "stdout",
     "output_type": "stream",
     "text": [
      "\n",
      "0: 1024x1024 38.4ms\n",
      "1: 1024x1024 (no detections), 38.4ms\n",
      "2: 1024x1024 38.4ms\n",
      "3: 1024x1024 38.4ms\n",
      "4: 1024x1024 38.4ms\n",
      "5: 1024x1024 38.4ms\n",
      "6: 1024x1024 38.4ms\n",
      "7: 1024x1024 38.4ms\n",
      "8: 1024x1024 38.4ms\n",
      "9: 1024x1024 38.4ms\n",
      "10: 1024x1024 38.4ms\n",
      "11: 1024x1024 38.4ms\n",
      "12: 1024x1024 (no detections), 38.4ms\n",
      "13: 1024x1024 38.4ms\n",
      "14: 1024x1024 38.4ms\n",
      "15: 1024x1024 (no detections), 38.4ms\n",
      "Speed: 1.7ms preprocess, 38.4ms inference, 7.4ms postprocess per image at shape (1, 3, 1024, 1024)\n"
     ]
    },
    {
     "name": "stderr",
     "output_type": "stream",
     "text": [
      " 50%|█████     | 58/116 [01:14<01:14,  1.29s/it]"
     ]
    },
    {
     "name": "stdout",
     "output_type": "stream",
     "text": [
      "\n",
      "0: 1024x1024 (no detections), 38.7ms\n",
      "1: 1024x1024 (no detections), 38.7ms\n",
      "2: 1024x1024 38.7ms\n",
      "3: 1024x1024 38.7ms\n",
      "4: 1024x1024 (no detections), 38.7ms\n",
      "5: 1024x1024 38.7ms\n",
      "6: 1024x1024 (no detections), 38.7ms\n",
      "7: 1024x1024 (no detections), 38.7ms\n",
      "8: 1024x1024 (no detections), 38.7ms\n",
      "9: 1024x1024 38.7ms\n",
      "10: 1024x1024 (no detections), 38.7ms\n",
      "11: 1024x1024 (no detections), 38.7ms\n",
      "12: 1024x1024 (no detections), 38.7ms\n",
      "13: 1024x1024 (no detections), 38.7ms\n",
      "14: 1024x1024 (no detections), 38.7ms\n",
      "15: 1024x1024 (no detections), 38.7ms\n",
      "Speed: 1.9ms preprocess, 38.7ms inference, 6.3ms postprocess per image at shape (1, 3, 1024, 1024)\n"
     ]
    },
    {
     "name": "stderr",
     "output_type": "stream",
     "text": [
      " 51%|█████     | 59/116 [01:16<01:13,  1.29s/it]"
     ]
    },
    {
     "name": "stdout",
     "output_type": "stream",
     "text": [
      "\n",
      "0: 1024x1024 (no detections), 38.7ms\n",
      "1: 1024x1024 (no detections), 38.7ms\n",
      "2: 1024x1024 (no detections), 38.7ms\n",
      "3: 1024x1024 (no detections), 38.7ms\n",
      "4: 1024x1024 38.7ms\n",
      "5: 1024x1024 38.7ms\n",
      "6: 1024x1024 (no detections), 38.7ms\n",
      "7: 1024x1024 (no detections), 38.7ms\n",
      "8: 1024x1024 (no detections), 38.7ms\n",
      "9: 1024x1024 (no detections), 38.7ms\n",
      "10: 1024x1024 (no detections), 38.7ms\n",
      "11: 1024x1024 (no detections), 38.7ms\n",
      "12: 1024x1024 (no detections), 38.7ms\n",
      "13: 1024x1024 (no detections), 38.7ms\n",
      "14: 1024x1024 (no detections), 38.7ms\n",
      "15: 1024x1024 (no detections), 38.7ms\n",
      "Speed: 1.5ms preprocess, 38.7ms inference, 6.2ms postprocess per image at shape (1, 3, 1024, 1024)\n"
     ]
    },
    {
     "name": "stderr",
     "output_type": "stream",
     "text": [
      " 52%|█████▏    | 60/116 [01:17<01:11,  1.28s/it]"
     ]
    },
    {
     "name": "stdout",
     "output_type": "stream",
     "text": [
      "\n",
      "0: 1024x1024 (no detections), 38.7ms\n",
      "1: 1024x1024 (no detections), 38.7ms\n",
      "2: 1024x1024 (no detections), 38.7ms\n",
      "3: 1024x1024 (no detections), 38.7ms\n",
      "4: 1024x1024 (no detections), 38.7ms\n",
      "5: 1024x1024 (no detections), 38.7ms\n",
      "6: 1024x1024 (no detections), 38.7ms\n",
      "7: 1024x1024 (no detections), 38.7ms\n",
      "8: 1024x1024 (no detections), 38.7ms\n",
      "9: 1024x1024 (no detections), 38.7ms\n",
      "10: 1024x1024 (no detections), 38.7ms\n",
      "11: 1024x1024 (no detections), 38.7ms\n",
      "12: 1024x1024 (no detections), 38.7ms\n",
      "13: 1024x1024 (no detections), 38.7ms\n",
      "14: 1024x1024 38.7ms\n",
      "15: 1024x1024 (no detections), 38.7ms\n",
      "Speed: 1.5ms preprocess, 38.7ms inference, 6.2ms postprocess per image at shape (1, 3, 1024, 1024)\n"
     ]
    },
    {
     "name": "stderr",
     "output_type": "stream",
     "text": [
      " 53%|█████▎    | 61/116 [01:18<01:10,  1.28s/it]"
     ]
    },
    {
     "name": "stdout",
     "output_type": "stream",
     "text": [
      "\n",
      "0: 1024x1024 (no detections), 38.8ms\n",
      "1: 1024x1024 (no detections), 38.8ms\n",
      "2: 1024x1024 (no detections), 38.8ms\n",
      "3: 1024x1024 (no detections), 38.8ms\n",
      "4: 1024x1024 (no detections), 38.8ms\n",
      "5: 1024x1024 (no detections), 38.8ms\n",
      "6: 1024x1024 (no detections), 38.8ms\n",
      "7: 1024x1024 (no detections), 38.8ms\n",
      "8: 1024x1024 38.8ms\n",
      "9: 1024x1024 (no detections), 38.8ms\n",
      "10: 1024x1024 (no detections), 38.8ms\n",
      "11: 1024x1024 (no detections), 38.8ms\n",
      "12: 1024x1024 38.8ms\n",
      "13: 1024x1024 (no detections), 38.8ms\n",
      "14: 1024x1024 (no detections), 38.8ms\n",
      "15: 1024x1024 (no detections), 38.8ms\n",
      "Speed: 2.0ms preprocess, 38.8ms inference, 5.9ms postprocess per image at shape (1, 3, 1024, 1024)\n"
     ]
    },
    {
     "name": "stderr",
     "output_type": "stream",
     "text": [
      " 53%|█████▎    | 62/116 [01:19<01:09,  1.28s/it]"
     ]
    },
    {
     "name": "stdout",
     "output_type": "stream",
     "text": [
      "\n",
      "0: 1024x1024 38.7ms\n",
      "1: 1024x1024 38.7ms\n",
      "2: 1024x1024 (no detections), 38.7ms\n",
      "3: 1024x1024 (no detections), 38.7ms\n",
      "4: 1024x1024 38.7ms\n",
      "5: 1024x1024 38.7ms\n",
      "6: 1024x1024 (no detections), 38.7ms\n",
      "7: 1024x1024 (no detections), 38.7ms\n",
      "8: 1024x1024 38.7ms\n",
      "9: 1024x1024 (no detections), 38.7ms\n",
      "10: 1024x1024 (no detections), 38.7ms\n",
      "11: 1024x1024 38.7ms\n",
      "12: 1024x1024 38.7ms\n",
      "13: 1024x1024 38.7ms\n",
      "14: 1024x1024 38.7ms\n",
      "15: 1024x1024 38.7ms\n",
      "Speed: 1.6ms preprocess, 38.7ms inference, 6.9ms postprocess per image at shape (1, 3, 1024, 1024)\n"
     ]
    },
    {
     "name": "stderr",
     "output_type": "stream",
     "text": [
      " 54%|█████▍    | 63/116 [01:21<01:08,  1.29s/it]"
     ]
    },
    {
     "name": "stdout",
     "output_type": "stream",
     "text": [
      "\n",
      "0: 1024x1024 38.7ms\n",
      "1: 1024x1024 38.7ms\n",
      "2: 1024x1024 38.7ms\n",
      "3: 1024x1024 38.7ms\n",
      "4: 1024x1024 (no detections), 38.7ms\n",
      "5: 1024x1024 38.7ms\n",
      "6: 1024x1024 (no detections), 38.7ms\n",
      "7: 1024x1024 38.7ms\n",
      "8: 1024x1024 (no detections), 38.7ms\n",
      "9: 1024x1024 (no detections), 38.7ms\n",
      "10: 1024x1024 (no detections), 38.7ms\n",
      "11: 1024x1024 (no detections), 38.7ms\n",
      "12: 1024x1024 38.7ms\n",
      "13: 1024x1024 38.7ms\n",
      "14: 1024x1024 (no detections), 38.7ms\n",
      "15: 1024x1024 38.7ms\n",
      "Speed: 1.5ms preprocess, 38.7ms inference, 7.7ms postprocess per image at shape (1, 3, 1024, 1024)\n"
     ]
    },
    {
     "name": "stderr",
     "output_type": "stream",
     "text": [
      " 55%|█████▌    | 64/116 [01:22<01:07,  1.29s/it]"
     ]
    },
    {
     "name": "stdout",
     "output_type": "stream",
     "text": [
      "\n",
      "0: 1024x1024 (no detections), 38.7ms\n",
      "1: 1024x1024 (no detections), 38.7ms\n",
      "2: 1024x1024 (no detections), 38.7ms\n",
      "3: 1024x1024 (no detections), 38.7ms\n",
      "4: 1024x1024 (no detections), 38.7ms\n",
      "5: 1024x1024 (no detections), 38.7ms\n",
      "6: 1024x1024 (no detections), 38.7ms\n",
      "7: 1024x1024 (no detections), 38.7ms\n",
      "8: 1024x1024 (no detections), 38.7ms\n",
      "9: 1024x1024 (no detections), 38.7ms\n",
      "10: 1024x1024 (no detections), 38.7ms\n",
      "11: 1024x1024 (no detections), 38.7ms\n",
      "12: 1024x1024 (no detections), 38.7ms\n",
      "13: 1024x1024 (no detections), 38.7ms\n",
      "14: 1024x1024 (no detections), 38.7ms\n",
      "15: 1024x1024 (no detections), 38.7ms\n",
      "Speed: 1.5ms preprocess, 38.7ms inference, 6.2ms postprocess per image at shape (1, 3, 1024, 1024)\n"
     ]
    },
    {
     "name": "stderr",
     "output_type": "stream",
     "text": [
      " 56%|█████▌    | 65/116 [01:23<01:05,  1.29s/it]"
     ]
    },
    {
     "name": "stdout",
     "output_type": "stream",
     "text": [
      "\n",
      "0: 1024x1024 (no detections), 38.7ms\n",
      "1: 1024x1024 (no detections), 38.7ms\n",
      "2: 1024x1024 (no detections), 38.7ms\n",
      "3: 1024x1024 38.7ms\n",
      "4: 1024x1024 38.7ms\n",
      "5: 1024x1024 (no detections), 38.7ms\n",
      "6: 1024x1024 38.7ms\n",
      "7: 1024x1024 38.7ms\n",
      "8: 1024x1024 38.7ms\n",
      "9: 1024x1024 (no detections), 38.7ms\n",
      "10: 1024x1024 38.7ms\n",
      "11: 1024x1024 38.7ms\n",
      "12: 1024x1024 38.7ms\n",
      "13: 1024x1024 (no detections), 38.7ms\n",
      "14: 1024x1024 (no detections), 38.7ms\n",
      "15: 1024x1024 (no detections), 38.7ms\n",
      "Speed: 1.7ms preprocess, 38.7ms inference, 6.6ms postprocess per image at shape (1, 3, 1024, 1024)\n"
     ]
    },
    {
     "name": "stderr",
     "output_type": "stream",
     "text": [
      " 57%|█████▋    | 66/116 [01:24<01:04,  1.28s/it]"
     ]
    },
    {
     "name": "stdout",
     "output_type": "stream",
     "text": [
      "\n",
      "0: 1024x1024 (no detections), 38.6ms\n",
      "1: 1024x1024 38.6ms\n",
      "2: 1024x1024 38.6ms\n",
      "3: 1024x1024 38.6ms\n",
      "4: 1024x1024 (no detections), 38.6ms\n",
      "5: 1024x1024 (no detections), 38.6ms\n",
      "6: 1024x1024 (no detections), 38.6ms\n",
      "7: 1024x1024 38.6ms\n",
      "8: 1024x1024 (no detections), 38.6ms\n",
      "9: 1024x1024 (no detections), 38.6ms\n",
      "10: 1024x1024 (no detections), 38.6ms\n",
      "11: 1024x1024 (no detections), 38.6ms\n",
      "12: 1024x1024 (no detections), 38.6ms\n",
      "13: 1024x1024 (no detections), 38.6ms\n",
      "14: 1024x1024 (no detections), 38.6ms\n",
      "15: 1024x1024 (no detections), 38.6ms\n",
      "Speed: 1.6ms preprocess, 38.6ms inference, 6.4ms postprocess per image at shape (1, 3, 1024, 1024)\n"
     ]
    },
    {
     "name": "stderr",
     "output_type": "stream",
     "text": [
      " 58%|█████▊    | 67/116 [01:26<01:03,  1.29s/it]"
     ]
    },
    {
     "name": "stdout",
     "output_type": "stream",
     "text": [
      "\n",
      "0: 1024x1024 (no detections), 38.7ms\n",
      "1: 1024x1024 (no detections), 38.7ms\n",
      "2: 1024x1024 38.7ms\n",
      "3: 1024x1024 (no detections), 38.7ms\n",
      "4: 1024x1024 (no detections), 38.7ms\n",
      "5: 1024x1024 (no detections), 38.7ms\n",
      "6: 1024x1024 (no detections), 38.7ms\n",
      "7: 1024x1024 (no detections), 38.7ms\n",
      "8: 1024x1024 (no detections), 38.7ms\n",
      "9: 1024x1024 (no detections), 38.7ms\n",
      "10: 1024x1024 (no detections), 38.7ms\n",
      "11: 1024x1024 (no detections), 38.7ms\n",
      "12: 1024x1024 38.7ms\n",
      "13: 1024x1024 (no detections), 38.7ms\n",
      "14: 1024x1024 38.7ms\n",
      "15: 1024x1024 (no detections), 38.7ms\n",
      "Speed: 1.6ms preprocess, 38.7ms inference, 6.7ms postprocess per image at shape (1, 3, 1024, 1024)\n"
     ]
    },
    {
     "name": "stderr",
     "output_type": "stream",
     "text": [
      " 59%|█████▊    | 68/116 [01:27<01:01,  1.29s/it]"
     ]
    },
    {
     "name": "stdout",
     "output_type": "stream",
     "text": [
      "\n",
      "0: 1024x1024 38.7ms\n",
      "1: 1024x1024 38.7ms\n",
      "2: 1024x1024 38.7ms\n",
      "3: 1024x1024 (no detections), 38.7ms\n",
      "4: 1024x1024 (no detections), 38.7ms\n",
      "5: 1024x1024 38.7ms\n",
      "6: 1024x1024 38.7ms\n",
      "7: 1024x1024 38.7ms\n",
      "8: 1024x1024 (no detections), 38.7ms\n",
      "9: 1024x1024 38.7ms\n",
      "10: 1024x1024 38.7ms\n",
      "11: 1024x1024 (no detections), 38.7ms\n",
      "12: 1024x1024 (no detections), 38.7ms\n",
      "13: 1024x1024 (no detections), 38.7ms\n",
      "14: 1024x1024 (no detections), 38.7ms\n",
      "15: 1024x1024 (no detections), 38.7ms\n",
      "Speed: 1.7ms preprocess, 38.7ms inference, 7.0ms postprocess per image at shape (1, 3, 1024, 1024)\n"
     ]
    },
    {
     "name": "stderr",
     "output_type": "stream",
     "text": [
      " 59%|█████▉    | 69/116 [01:28<01:00,  1.30s/it]"
     ]
    },
    {
     "name": "stdout",
     "output_type": "stream",
     "text": [
      "\n",
      "0: 1024x1024 (no detections), 39.0ms\n",
      "1: 1024x1024 (no detections), 39.0ms\n",
      "2: 1024x1024 (no detections), 39.0ms\n",
      "3: 1024x1024 (no detections), 39.0ms\n",
      "4: 1024x1024 (no detections), 39.0ms\n",
      "5: 1024x1024 (no detections), 39.0ms\n",
      "6: 1024x1024 (no detections), 39.0ms\n",
      "7: 1024x1024 (no detections), 39.0ms\n",
      "8: 1024x1024 (no detections), 39.0ms\n",
      "9: 1024x1024 (no detections), 39.0ms\n",
      "10: 1024x1024 (no detections), 39.0ms\n",
      "11: 1024x1024 (no detections), 39.0ms\n",
      "12: 1024x1024 (no detections), 39.0ms\n",
      "13: 1024x1024 39.0ms\n",
      "14: 1024x1024 (no detections), 39.0ms\n",
      "15: 1024x1024 (no detections), 39.0ms\n",
      "Speed: 1.6ms preprocess, 39.0ms inference, 5.9ms postprocess per image at shape (1, 3, 1024, 1024)\n"
     ]
    },
    {
     "name": "stderr",
     "output_type": "stream",
     "text": [
      " 60%|██████    | 70/116 [01:30<00:59,  1.30s/it]"
     ]
    },
    {
     "name": "stdout",
     "output_type": "stream",
     "text": [
      "\n",
      "0: 1024x1024 (no detections), 38.7ms\n",
      "1: 1024x1024 (no detections), 38.7ms\n",
      "2: 1024x1024 (no detections), 38.7ms\n",
      "3: 1024x1024 (no detections), 38.7ms\n",
      "4: 1024x1024 (no detections), 38.7ms\n",
      "5: 1024x1024 (no detections), 38.7ms\n",
      "6: 1024x1024 (no detections), 38.7ms\n",
      "7: 1024x1024 38.7ms\n",
      "8: 1024x1024 (no detections), 38.7ms\n",
      "9: 1024x1024 (no detections), 38.7ms\n",
      "10: 1024x1024 (no detections), 38.7ms\n",
      "11: 1024x1024 38.7ms\n",
      "12: 1024x1024 38.7ms\n",
      "13: 1024x1024 38.7ms\n",
      "14: 1024x1024 38.7ms\n",
      "15: 1024x1024 (no detections), 38.7ms\n",
      "Speed: 1.4ms preprocess, 38.7ms inference, 6.9ms postprocess per image at shape (1, 3, 1024, 1024)\n"
     ]
    },
    {
     "name": "stderr",
     "output_type": "stream",
     "text": [
      " 61%|██████    | 71/116 [01:31<00:58,  1.29s/it]"
     ]
    },
    {
     "name": "stdout",
     "output_type": "stream",
     "text": [
      "\n",
      "0: 1024x1024 38.6ms\n",
      "1: 1024x1024 (no detections), 38.6ms\n",
      "2: 1024x1024 (no detections), 38.6ms\n",
      "3: 1024x1024 (no detections), 38.6ms\n",
      "4: 1024x1024 38.6ms\n",
      "5: 1024x1024 (no detections), 38.6ms\n",
      "6: 1024x1024 38.6ms\n",
      "7: 1024x1024 38.6ms\n",
      "8: 1024x1024 38.6ms\n",
      "9: 1024x1024 (no detections), 38.6ms\n",
      "10: 1024x1024 (no detections), 38.6ms\n",
      "11: 1024x1024 (no detections), 38.6ms\n",
      "12: 1024x1024 (no detections), 38.6ms\n",
      "13: 1024x1024 (no detections), 38.6ms\n",
      "14: 1024x1024 (no detections), 38.6ms\n",
      "15: 1024x1024 (no detections), 38.6ms\n",
      "Speed: 1.6ms preprocess, 38.6ms inference, 6.7ms postprocess per image at shape (1, 3, 1024, 1024)\n"
     ]
    },
    {
     "name": "stderr",
     "output_type": "stream",
     "text": [
      " 62%|██████▏   | 72/116 [01:32<00:57,  1.30s/it]"
     ]
    },
    {
     "name": "stdout",
     "output_type": "stream",
     "text": [
      "\n",
      "0: 1024x1024 (no detections), 38.7ms\n",
      "1: 1024x1024 (no detections), 38.7ms\n",
      "2: 1024x1024 (no detections), 38.7ms\n",
      "3: 1024x1024 (no detections), 38.7ms\n",
      "4: 1024x1024 (no detections), 38.7ms\n",
      "5: 1024x1024 (no detections), 38.7ms\n",
      "6: 1024x1024 (no detections), 38.7ms\n",
      "7: 1024x1024 (no detections), 38.7ms\n",
      "8: 1024x1024 (no detections), 38.7ms\n",
      "9: 1024x1024 (no detections), 38.7ms\n",
      "10: 1024x1024 (no detections), 38.7ms\n",
      "11: 1024x1024 (no detections), 38.7ms\n",
      "12: 1024x1024 (no detections), 38.7ms\n",
      "13: 1024x1024 (no detections), 38.7ms\n",
      "14: 1024x1024 38.7ms\n",
      "15: 1024x1024 (no detections), 38.7ms\n",
      "Speed: 1.7ms preprocess, 38.7ms inference, 5.9ms postprocess per image at shape (1, 3, 1024, 1024)\n"
     ]
    },
    {
     "name": "stderr",
     "output_type": "stream",
     "text": [
      " 63%|██████▎   | 73/116 [01:34<00:55,  1.29s/it]"
     ]
    },
    {
     "name": "stdout",
     "output_type": "stream",
     "text": [
      "\n",
      "0: 1024x1024 (no detections), 38.7ms\n",
      "1: 1024x1024 (no detections), 38.7ms\n",
      "2: 1024x1024 (no detections), 38.7ms\n",
      "3: 1024x1024 (no detections), 38.7ms\n",
      "4: 1024x1024 (no detections), 38.7ms\n",
      "5: 1024x1024 38.7ms\n",
      "6: 1024x1024 38.7ms\n",
      "7: 1024x1024 38.7ms\n",
      "8: 1024x1024 (no detections), 38.7ms\n",
      "9: 1024x1024 (no detections), 38.7ms\n",
      "10: 1024x1024 (no detections), 38.7ms\n",
      "11: 1024x1024 38.7ms\n",
      "12: 1024x1024 (no detections), 38.7ms\n",
      "13: 1024x1024 (no detections), 38.7ms\n",
      "14: 1024x1024 (no detections), 38.7ms\n",
      "15: 1024x1024 (no detections), 38.7ms\n",
      "Speed: 1.7ms preprocess, 38.7ms inference, 6.4ms postprocess per image at shape (1, 3, 1024, 1024)\n"
     ]
    },
    {
     "name": "stderr",
     "output_type": "stream",
     "text": [
      " 64%|██████▍   | 74/116 [01:35<00:54,  1.29s/it]"
     ]
    },
    {
     "name": "stdout",
     "output_type": "stream",
     "text": [
      "\n",
      "0: 1024x1024 (no detections), 38.7ms\n",
      "1: 1024x1024 38.7ms\n",
      "2: 1024x1024 (no detections), 38.7ms\n",
      "3: 1024x1024 (no detections), 38.7ms\n",
      "4: 1024x1024 (no detections), 38.7ms\n",
      "5: 1024x1024 (no detections), 38.7ms\n",
      "6: 1024x1024 (no detections), 38.7ms\n",
      "7: 1024x1024 (no detections), 38.7ms\n",
      "8: 1024x1024 (no detections), 38.7ms\n",
      "9: 1024x1024 (no detections), 38.7ms\n",
      "10: 1024x1024 (no detections), 38.7ms\n",
      "11: 1024x1024 (no detections), 38.7ms\n",
      "12: 1024x1024 (no detections), 38.7ms\n",
      "13: 1024x1024 (no detections), 38.7ms\n",
      "14: 1024x1024 (no detections), 38.7ms\n",
      "15: 1024x1024 (no detections), 38.7ms\n",
      "Speed: 1.4ms preprocess, 38.7ms inference, 6.0ms postprocess per image at shape (1, 3, 1024, 1024)\n"
     ]
    },
    {
     "name": "stderr",
     "output_type": "stream",
     "text": [
      " 65%|██████▍   | 75/116 [01:36<00:52,  1.29s/it]"
     ]
    },
    {
     "name": "stdout",
     "output_type": "stream",
     "text": [
      "\n",
      "0: 1024x1024 (no detections), 38.7ms\n",
      "1: 1024x1024 (no detections), 38.7ms\n",
      "2: 1024x1024 (no detections), 38.7ms\n",
      "3: 1024x1024 (no detections), 38.7ms\n",
      "4: 1024x1024 (no detections), 38.7ms\n",
      "5: 1024x1024 (no detections), 38.7ms\n",
      "6: 1024x1024 (no detections), 38.7ms\n",
      "7: 1024x1024 (no detections), 38.7ms\n",
      "8: 1024x1024 (no detections), 38.7ms\n",
      "9: 1024x1024 38.7ms\n",
      "10: 1024x1024 (no detections), 38.7ms\n",
      "11: 1024x1024 (no detections), 38.7ms\n",
      "12: 1024x1024 (no detections), 38.7ms\n",
      "13: 1024x1024 (no detections), 38.7ms\n",
      "14: 1024x1024 (no detections), 38.7ms\n",
      "15: 1024x1024 (no detections), 38.7ms\n",
      "Speed: 2.0ms preprocess, 38.7ms inference, 5.9ms postprocess per image at shape (1, 3, 1024, 1024)\n"
     ]
    },
    {
     "name": "stderr",
     "output_type": "stream",
     "text": [
      " 66%|██████▌   | 76/116 [01:37<00:51,  1.28s/it]"
     ]
    },
    {
     "name": "stdout",
     "output_type": "stream",
     "text": [
      "\n",
      "0: 1024x1024 38.6ms\n",
      "1: 1024x1024 38.6ms\n",
      "2: 1024x1024 (no detections), 38.6ms\n",
      "3: 1024x1024 (no detections), 38.6ms\n",
      "4: 1024x1024 (no detections), 38.6ms\n",
      "5: 1024x1024 (no detections), 38.6ms\n",
      "6: 1024x1024 (no detections), 38.6ms\n",
      "7: 1024x1024 38.6ms\n",
      "8: 1024x1024 (no detections), 38.6ms\n",
      "9: 1024x1024 (no detections), 38.6ms\n",
      "10: 1024x1024 (no detections), 38.6ms\n",
      "11: 1024x1024 38.6ms\n",
      "12: 1024x1024 38.6ms\n",
      "13: 1024x1024 (no detections), 38.6ms\n",
      "14: 1024x1024 (no detections), 38.6ms\n",
      "15: 1024x1024 (no detections), 38.6ms\n",
      "Speed: 1.6ms preprocess, 38.6ms inference, 6.4ms postprocess per image at shape (1, 3, 1024, 1024)\n"
     ]
    },
    {
     "name": "stderr",
     "output_type": "stream",
     "text": [
      " 66%|██████▋   | 77/116 [01:39<00:49,  1.28s/it]"
     ]
    },
    {
     "name": "stdout",
     "output_type": "stream",
     "text": [
      "\n",
      "0: 1024x1024 (no detections), 38.6ms\n",
      "1: 1024x1024 (no detections), 38.6ms\n",
      "2: 1024x1024 (no detections), 38.6ms\n",
      "3: 1024x1024 (no detections), 38.6ms\n",
      "4: 1024x1024 (no detections), 38.6ms\n",
      "5: 1024x1024 (no detections), 38.6ms\n",
      "6: 1024x1024 (no detections), 38.6ms\n",
      "7: 1024x1024 (no detections), 38.6ms\n",
      "8: 1024x1024 (no detections), 38.6ms\n",
      "9: 1024x1024 (no detections), 38.6ms\n",
      "10: 1024x1024 (no detections), 38.6ms\n",
      "11: 1024x1024 38.6ms\n",
      "12: 1024x1024 (no detections), 38.6ms\n",
      "13: 1024x1024 (no detections), 38.6ms\n",
      "14: 1024x1024 (no detections), 38.6ms\n",
      "15: 1024x1024 (no detections), 38.6ms\n",
      "Speed: 1.6ms preprocess, 38.6ms inference, 6.1ms postprocess per image at shape (1, 3, 1024, 1024)\n"
     ]
    },
    {
     "name": "stderr",
     "output_type": "stream",
     "text": [
      " 67%|██████▋   | 78/116 [01:40<00:48,  1.28s/it]"
     ]
    },
    {
     "name": "stdout",
     "output_type": "stream",
     "text": [
      "\n",
      "0: 1024x1024 (no detections), 38.6ms\n",
      "1: 1024x1024 (no detections), 38.6ms\n",
      "2: 1024x1024 (no detections), 38.6ms\n",
      "3: 1024x1024 (no detections), 38.6ms\n",
      "4: 1024x1024 38.6ms\n",
      "5: 1024x1024 (no detections), 38.6ms\n",
      "6: 1024x1024 (no detections), 38.6ms\n",
      "7: 1024x1024 38.6ms\n",
      "8: 1024x1024 38.6ms\n",
      "9: 1024x1024 (no detections), 38.6ms\n",
      "10: 1024x1024 (no detections), 38.6ms\n",
      "11: 1024x1024 (no detections), 38.6ms\n",
      "12: 1024x1024 (no detections), 38.6ms\n",
      "13: 1024x1024 (no detections), 38.6ms\n",
      "14: 1024x1024 (no detections), 38.6ms\n",
      "15: 1024x1024 (no detections), 38.6ms\n",
      "Speed: 1.6ms preprocess, 38.6ms inference, 6.4ms postprocess per image at shape (1, 3, 1024, 1024)\n"
     ]
    },
    {
     "name": "stderr",
     "output_type": "stream",
     "text": [
      " 68%|██████▊   | 79/116 [01:41<00:47,  1.28s/it]"
     ]
    },
    {
     "name": "stdout",
     "output_type": "stream",
     "text": [
      "\n",
      "0: 1024x1024 (no detections), 38.4ms\n",
      "1: 1024x1024 (no detections), 38.4ms\n",
      "2: 1024x1024 38.4ms\n",
      "3: 1024x1024 (no detections), 38.4ms\n",
      "4: 1024x1024 (no detections), 38.4ms\n",
      "5: 1024x1024 (no detections), 38.4ms\n",
      "6: 1024x1024 (no detections), 38.4ms\n",
      "7: 1024x1024 38.4ms\n",
      "8: 1024x1024 (no detections), 38.4ms\n",
      "9: 1024x1024 38.4ms\n",
      "10: 1024x1024 (no detections), 38.4ms\n",
      "11: 1024x1024 (no detections), 38.4ms\n",
      "12: 1024x1024 (no detections), 38.4ms\n",
      "13: 1024x1024 (no detections), 38.4ms\n",
      "14: 1024x1024 (no detections), 38.4ms\n",
      "15: 1024x1024 (no detections), 38.4ms\n",
      "Speed: 1.7ms preprocess, 38.4ms inference, 6.2ms postprocess per image at shape (1, 3, 1024, 1024)\n"
     ]
    },
    {
     "name": "stderr",
     "output_type": "stream",
     "text": [
      " 69%|██████▉   | 80/116 [01:43<00:46,  1.28s/it]"
     ]
    },
    {
     "name": "stdout",
     "output_type": "stream",
     "text": [
      "\n",
      "0: 1024x1024 (no detections), 38.3ms\n",
      "1: 1024x1024 (no detections), 38.3ms\n",
      "2: 1024x1024 (no detections), 38.3ms\n",
      "3: 1024x1024 (no detections), 38.3ms\n",
      "4: 1024x1024 38.3ms\n",
      "5: 1024x1024 (no detections), 38.3ms\n",
      "6: 1024x1024 (no detections), 38.3ms\n",
      "7: 1024x1024 (no detections), 38.3ms\n",
      "8: 1024x1024 (no detections), 38.3ms\n",
      "9: 1024x1024 (no detections), 38.3ms\n",
      "10: 1024x1024 (no detections), 38.3ms\n",
      "11: 1024x1024 (no detections), 38.3ms\n",
      "12: 1024x1024 (no detections), 38.3ms\n",
      "13: 1024x1024 (no detections), 38.3ms\n",
      "14: 1024x1024 (no detections), 38.3ms\n",
      "15: 1024x1024 (no detections), 38.3ms\n",
      "Speed: 1.5ms preprocess, 38.3ms inference, 6.2ms postprocess per image at shape (1, 3, 1024, 1024)\n"
     ]
    },
    {
     "name": "stderr",
     "output_type": "stream",
     "text": [
      " 70%|██████▉   | 81/116 [01:44<00:44,  1.27s/it]"
     ]
    },
    {
     "name": "stdout",
     "output_type": "stream",
     "text": [
      "\n",
      "0: 1024x1024 (no detections), 38.3ms\n",
      "1: 1024x1024 (no detections), 38.3ms\n",
      "2: 1024x1024 (no detections), 38.3ms\n",
      "3: 1024x1024 38.3ms\n",
      "4: 1024x1024 (no detections), 38.3ms\n",
      "5: 1024x1024 (no detections), 38.3ms\n",
      "6: 1024x1024 38.3ms\n",
      "7: 1024x1024 (no detections), 38.3ms\n",
      "8: 1024x1024 (no detections), 38.3ms\n",
      "9: 1024x1024 (no detections), 38.3ms\n",
      "10: 1024x1024 38.3ms\n",
      "11: 1024x1024 (no detections), 38.3ms\n",
      "12: 1024x1024 (no detections), 38.3ms\n",
      "13: 1024x1024 (no detections), 38.3ms\n",
      "14: 1024x1024 (no detections), 38.3ms\n",
      "15: 1024x1024 (no detections), 38.3ms\n",
      "Speed: 1.8ms preprocess, 38.3ms inference, 6.0ms postprocess per image at shape (1, 3, 1024, 1024)\n"
     ]
    },
    {
     "name": "stderr",
     "output_type": "stream",
     "text": [
      " 71%|███████   | 82/116 [01:45<00:43,  1.27s/it]"
     ]
    },
    {
     "name": "stdout",
     "output_type": "stream",
     "text": [
      "\n",
      "0: 1024x1024 (no detections), 38.5ms\n",
      "1: 1024x1024 38.5ms\n",
      "2: 1024x1024 (no detections), 38.5ms\n",
      "3: 1024x1024 38.5ms\n",
      "4: 1024x1024 (no detections), 38.5ms\n",
      "5: 1024x1024 (no detections), 38.5ms\n",
      "6: 1024x1024 (no detections), 38.5ms\n",
      "7: 1024x1024 (no detections), 38.5ms\n",
      "8: 1024x1024 (no detections), 38.5ms\n",
      "9: 1024x1024 (no detections), 38.5ms\n",
      "10: 1024x1024 (no detections), 38.5ms\n",
      "11: 1024x1024 (no detections), 38.5ms\n",
      "12: 1024x1024 (no detections), 38.5ms\n",
      "13: 1024x1024 (no detections), 38.5ms\n",
      "14: 1024x1024 (no detections), 38.5ms\n",
      "15: 1024x1024 (no detections), 38.5ms\n",
      "Speed: 1.5ms preprocess, 38.5ms inference, 6.0ms postprocess per image at shape (1, 3, 1024, 1024)\n"
     ]
    },
    {
     "name": "stderr",
     "output_type": "stream",
     "text": [
      " 72%|███████▏  | 83/116 [01:46<00:41,  1.27s/it]"
     ]
    },
    {
     "name": "stdout",
     "output_type": "stream",
     "text": [
      "\n",
      "0: 1024x1024 (no detections), 38.6ms\n",
      "1: 1024x1024 (no detections), 38.6ms\n",
      "2: 1024x1024 (no detections), 38.6ms\n",
      "3: 1024x1024 (no detections), 38.6ms\n",
      "4: 1024x1024 (no detections), 38.6ms\n",
      "5: 1024x1024 (no detections), 38.6ms\n",
      "6: 1024x1024 (no detections), 38.6ms\n",
      "7: 1024x1024 (no detections), 38.6ms\n",
      "8: 1024x1024 (no detections), 38.6ms\n",
      "9: 1024x1024 (no detections), 38.6ms\n",
      "10: 1024x1024 (no detections), 38.6ms\n",
      "11: 1024x1024 (no detections), 38.6ms\n",
      "12: 1024x1024 (no detections), 38.6ms\n",
      "13: 1024x1024 (no detections), 38.6ms\n",
      "14: 1024x1024 (no detections), 38.6ms\n",
      "15: 1024x1024 (no detections), 38.6ms\n",
      "Speed: 1.4ms preprocess, 38.6ms inference, 5.8ms postprocess per image at shape (1, 3, 1024, 1024)\n"
     ]
    },
    {
     "name": "stderr",
     "output_type": "stream",
     "text": [
      " 72%|███████▏  | 84/116 [01:48<00:40,  1.27s/it]"
     ]
    },
    {
     "name": "stdout",
     "output_type": "stream",
     "text": [
      "\n",
      "0: 1024x1024 (no detections), 38.3ms\n",
      "1: 1024x1024 38.3ms\n",
      "2: 1024x1024 (no detections), 38.3ms\n",
      "3: 1024x1024 (no detections), 38.3ms\n",
      "4: 1024x1024 (no detections), 38.3ms\n",
      "5: 1024x1024 (no detections), 38.3ms\n",
      "6: 1024x1024 (no detections), 38.3ms\n",
      "7: 1024x1024 (no detections), 38.3ms\n",
      "8: 1024x1024 (no detections), 38.3ms\n",
      "9: 1024x1024 (no detections), 38.3ms\n",
      "10: 1024x1024 (no detections), 38.3ms\n",
      "11: 1024x1024 (no detections), 38.3ms\n",
      "12: 1024x1024 (no detections), 38.3ms\n",
      "13: 1024x1024 38.3ms\n",
      "14: 1024x1024 38.3ms\n",
      "15: 1024x1024 (no detections), 38.3ms\n",
      "Speed: 1.9ms preprocess, 38.3ms inference, 6.1ms postprocess per image at shape (1, 3, 1024, 1024)\n"
     ]
    },
    {
     "name": "stderr",
     "output_type": "stream",
     "text": [
      " 73%|███████▎  | 85/116 [01:49<00:39,  1.27s/it]"
     ]
    },
    {
     "name": "stdout",
     "output_type": "stream",
     "text": [
      "\n",
      "0: 1024x1024 (no detections), 38.4ms\n",
      "1: 1024x1024 (no detections), 38.4ms\n",
      "2: 1024x1024 (no detections), 38.4ms\n",
      "3: 1024x1024 (no detections), 38.4ms\n",
      "4: 1024x1024 (no detections), 38.4ms\n",
      "5: 1024x1024 (no detections), 38.4ms\n",
      "6: 1024x1024 (no detections), 38.4ms\n",
      "7: 1024x1024 (no detections), 38.4ms\n",
      "8: 1024x1024 (no detections), 38.4ms\n",
      "9: 1024x1024 (no detections), 38.4ms\n",
      "10: 1024x1024 (no detections), 38.4ms\n",
      "11: 1024x1024 (no detections), 38.4ms\n",
      "12: 1024x1024 (no detections), 38.4ms\n",
      "13: 1024x1024 (no detections), 38.4ms\n",
      "14: 1024x1024 (no detections), 38.4ms\n",
      "15: 1024x1024 (no detections), 38.4ms\n",
      "Speed: 1.7ms preprocess, 38.4ms inference, 5.6ms postprocess per image at shape (1, 3, 1024, 1024)\n"
     ]
    },
    {
     "name": "stderr",
     "output_type": "stream",
     "text": [
      " 74%|███████▍  | 86/116 [01:50<00:38,  1.27s/it]"
     ]
    },
    {
     "name": "stdout",
     "output_type": "stream",
     "text": [
      "\n",
      "0: 1024x1024 (no detections), 38.4ms\n",
      "1: 1024x1024 (no detections), 38.4ms\n",
      "2: 1024x1024 (no detections), 38.4ms\n",
      "3: 1024x1024 (no detections), 38.4ms\n",
      "4: 1024x1024 (no detections), 38.4ms\n",
      "5: 1024x1024 (no detections), 38.4ms\n",
      "6: 1024x1024 (no detections), 38.4ms\n",
      "7: 1024x1024 (no detections), 38.4ms\n",
      "8: 1024x1024 38.4ms\n",
      "9: 1024x1024 (no detections), 38.4ms\n",
      "10: 1024x1024 (no detections), 38.4ms\n",
      "11: 1024x1024 (no detections), 38.4ms\n",
      "12: 1024x1024 38.4ms\n",
      "13: 1024x1024 (no detections), 38.4ms\n",
      "14: 1024x1024 (no detections), 38.4ms\n",
      "15: 1024x1024 38.4ms\n",
      "Speed: 1.5ms preprocess, 38.4ms inference, 6.8ms postprocess per image at shape (1, 3, 1024, 1024)\n"
     ]
    },
    {
     "name": "stderr",
     "output_type": "stream",
     "text": [
      " 75%|███████▌  | 87/116 [01:51<00:36,  1.27s/it]"
     ]
    },
    {
     "name": "stdout",
     "output_type": "stream",
     "text": [
      "\n",
      "0: 1024x1024 (no detections), 38.5ms\n",
      "1: 1024x1024 (no detections), 38.5ms\n",
      "2: 1024x1024 (no detections), 38.5ms\n",
      "3: 1024x1024 38.5ms\n",
      "4: 1024x1024 38.5ms\n",
      "5: 1024x1024 (no detections), 38.5ms\n",
      "6: 1024x1024 (no detections), 38.5ms\n",
      "7: 1024x1024 (no detections), 38.5ms\n",
      "8: 1024x1024 (no detections), 38.5ms\n",
      "9: 1024x1024 (no detections), 38.5ms\n",
      "10: 1024x1024 (no detections), 38.5ms\n",
      "11: 1024x1024 (no detections), 38.5ms\n",
      "12: 1024x1024 (no detections), 38.5ms\n",
      "13: 1024x1024 (no detections), 38.5ms\n",
      "14: 1024x1024 (no detections), 38.5ms\n",
      "15: 1024x1024 (no detections), 38.5ms\n",
      "Speed: 1.5ms preprocess, 38.5ms inference, 5.9ms postprocess per image at shape (1, 3, 1024, 1024)\n"
     ]
    },
    {
     "name": "stderr",
     "output_type": "stream",
     "text": [
      " 76%|███████▌  | 88/116 [01:53<00:35,  1.28s/it]"
     ]
    },
    {
     "name": "stdout",
     "output_type": "stream",
     "text": [
      "\n",
      "0: 1024x1024 (no detections), 38.6ms\n",
      "1: 1024x1024 (no detections), 38.6ms\n",
      "2: 1024x1024 (no detections), 38.6ms\n",
      "3: 1024x1024 (no detections), 38.6ms\n",
      "4: 1024x1024 (no detections), 38.6ms\n",
      "5: 1024x1024 (no detections), 38.6ms\n",
      "6: 1024x1024 (no detections), 38.6ms\n",
      "7: 1024x1024 (no detections), 38.6ms\n",
      "8: 1024x1024 (no detections), 38.6ms\n",
      "9: 1024x1024 (no detections), 38.6ms\n",
      "10: 1024x1024 (no detections), 38.6ms\n",
      "11: 1024x1024 (no detections), 38.6ms\n",
      "12: 1024x1024 (no detections), 38.6ms\n",
      "13: 1024x1024 38.6ms\n",
      "14: 1024x1024 (no detections), 38.6ms\n",
      "15: 1024x1024 (no detections), 38.6ms\n",
      "Speed: 1.5ms preprocess, 38.6ms inference, 6.0ms postprocess per image at shape (1, 3, 1024, 1024)\n"
     ]
    },
    {
     "name": "stderr",
     "output_type": "stream",
     "text": [
      " 77%|███████▋  | 89/116 [01:54<00:34,  1.27s/it]"
     ]
    },
    {
     "name": "stdout",
     "output_type": "stream",
     "text": [
      "\n",
      "0: 1024x1024 (no detections), 39.4ms\n",
      "1: 1024x1024 (no detections), 39.4ms\n",
      "2: 1024x1024 (no detections), 39.4ms\n",
      "3: 1024x1024 (no detections), 39.4ms\n",
      "4: 1024x1024 (no detections), 39.4ms\n",
      "5: 1024x1024 (no detections), 39.4ms\n",
      "6: 1024x1024 (no detections), 39.4ms\n",
      "7: 1024x1024 (no detections), 39.4ms\n",
      "8: 1024x1024 (no detections), 39.4ms\n",
      "9: 1024x1024 (no detections), 39.4ms\n",
      "10: 1024x1024 (no detections), 39.4ms\n",
      "11: 1024x1024 (no detections), 39.4ms\n",
      "12: 1024x1024 (no detections), 39.4ms\n",
      "13: 1024x1024 (no detections), 39.4ms\n",
      "14: 1024x1024 (no detections), 39.4ms\n",
      "15: 1024x1024 (no detections), 39.4ms\n",
      "Speed: 1.7ms preprocess, 39.4ms inference, 5.9ms postprocess per image at shape (1, 3, 1024, 1024)\n"
     ]
    },
    {
     "name": "stderr",
     "output_type": "stream",
     "text": [
      " 78%|███████▊  | 90/116 [01:55<00:33,  1.27s/it]"
     ]
    },
    {
     "name": "stdout",
     "output_type": "stream",
     "text": [
      "\n",
      "0: 1024x1024 (no detections), 39.1ms\n",
      "1: 1024x1024 (no detections), 39.1ms\n",
      "2: 1024x1024 (no detections), 39.1ms\n",
      "3: 1024x1024 (no detections), 39.1ms\n",
      "4: 1024x1024 (no detections), 39.1ms\n",
      "5: 1024x1024 (no detections), 39.1ms\n",
      "6: 1024x1024 (no detections), 39.1ms\n",
      "7: 1024x1024 (no detections), 39.1ms\n",
      "8: 1024x1024 (no detections), 39.1ms\n",
      "9: 1024x1024 (no detections), 39.1ms\n",
      "10: 1024x1024 (no detections), 39.1ms\n",
      "11: 1024x1024 (no detections), 39.1ms\n",
      "12: 1024x1024 (no detections), 39.1ms\n",
      "13: 1024x1024 (no detections), 39.1ms\n",
      "14: 1024x1024 (no detections), 39.1ms\n",
      "15: 1024x1024 (no detections), 39.1ms\n",
      "Speed: 1.8ms preprocess, 39.1ms inference, 5.9ms postprocess per image at shape (1, 3, 1024, 1024)\n"
     ]
    },
    {
     "name": "stderr",
     "output_type": "stream",
     "text": [
      " 78%|███████▊  | 91/116 [01:57<00:32,  1.28s/it]"
     ]
    },
    {
     "name": "stdout",
     "output_type": "stream",
     "text": [
      "\n",
      "0: 1024x1024 (no detections), 38.2ms\n",
      "1: 1024x1024 (no detections), 38.2ms\n",
      "2: 1024x1024 (no detections), 38.2ms\n",
      "3: 1024x1024 (no detections), 38.2ms\n",
      "4: 1024x1024 38.2ms\n",
      "5: 1024x1024 38.2ms\n",
      "6: 1024x1024 (no detections), 38.2ms\n",
      "7: 1024x1024 (no detections), 38.2ms\n",
      "8: 1024x1024 (no detections), 38.2ms\n",
      "9: 1024x1024 (no detections), 38.2ms\n",
      "10: 1024x1024 (no detections), 38.2ms\n",
      "11: 1024x1024 38.2ms\n",
      "12: 1024x1024 (no detections), 38.2ms\n",
      "13: 1024x1024 (no detections), 38.2ms\n",
      "14: 1024x1024 (no detections), 38.2ms\n",
      "15: 1024x1024 (no detections), 38.2ms\n",
      "Speed: 1.4ms preprocess, 38.2ms inference, 6.7ms postprocess per image at shape (1, 3, 1024, 1024)\n"
     ]
    },
    {
     "name": "stderr",
     "output_type": "stream",
     "text": [
      " 79%|███████▉  | 92/116 [01:58<00:30,  1.28s/it]"
     ]
    },
    {
     "name": "stdout",
     "output_type": "stream",
     "text": [
      "\n",
      "0: 1024x1024 (no detections), 38.3ms\n",
      "1: 1024x1024 (no detections), 38.3ms\n",
      "2: 1024x1024 (no detections), 38.3ms\n",
      "3: 1024x1024 (no detections), 38.3ms\n",
      "4: 1024x1024 38.3ms\n",
      "5: 1024x1024 (no detections), 38.3ms\n",
      "6: 1024x1024 (no detections), 38.3ms\n",
      "7: 1024x1024 (no detections), 38.3ms\n",
      "8: 1024x1024 38.3ms\n",
      "9: 1024x1024 (no detections), 38.3ms\n",
      "10: 1024x1024 (no detections), 38.3ms\n",
      "11: 1024x1024 (no detections), 38.3ms\n",
      "12: 1024x1024 (no detections), 38.3ms\n",
      "13: 1024x1024 (no detections), 38.3ms\n",
      "14: 1024x1024 (no detections), 38.3ms\n",
      "15: 1024x1024 (no detections), 38.3ms\n",
      "Speed: 1.5ms preprocess, 38.3ms inference, 6.1ms postprocess per image at shape (1, 3, 1024, 1024)\n"
     ]
    },
    {
     "name": "stderr",
     "output_type": "stream",
     "text": [
      " 80%|████████  | 93/116 [01:59<00:29,  1.28s/it]"
     ]
    },
    {
     "name": "stdout",
     "output_type": "stream",
     "text": [
      "\n",
      "0: 1024x1024 (no detections), 38.4ms\n",
      "1: 1024x1024 (no detections), 38.4ms\n",
      "2: 1024x1024 (no detections), 38.4ms\n",
      "3: 1024x1024 (no detections), 38.4ms\n",
      "4: 1024x1024 (no detections), 38.4ms\n",
      "5: 1024x1024 (no detections), 38.4ms\n",
      "6: 1024x1024 (no detections), 38.4ms\n",
      "7: 1024x1024 (no detections), 38.4ms\n",
      "8: 1024x1024 (no detections), 38.4ms\n",
      "9: 1024x1024 (no detections), 38.4ms\n",
      "10: 1024x1024 (no detections), 38.4ms\n",
      "11: 1024x1024 (no detections), 38.4ms\n",
      "12: 1024x1024 (no detections), 38.4ms\n",
      "13: 1024x1024 (no detections), 38.4ms\n",
      "14: 1024x1024 (no detections), 38.4ms\n",
      "15: 1024x1024 (no detections), 38.4ms\n",
      "Speed: 1.5ms preprocess, 38.4ms inference, 7.3ms postprocess per image at shape (1, 3, 1024, 1024)\n"
     ]
    },
    {
     "name": "stderr",
     "output_type": "stream",
     "text": [
      " 81%|████████  | 94/116 [02:00<00:28,  1.28s/it]"
     ]
    },
    {
     "name": "stdout",
     "output_type": "stream",
     "text": [
      "\n",
      "0: 1024x1024 (no detections), 38.5ms\n",
      "1: 1024x1024 (no detections), 38.5ms\n",
      "2: 1024x1024 (no detections), 38.5ms\n",
      "3: 1024x1024 (no detections), 38.5ms\n",
      "4: 1024x1024 (no detections), 38.5ms\n",
      "5: 1024x1024 (no detections), 38.5ms\n",
      "6: 1024x1024 (no detections), 38.5ms\n",
      "7: 1024x1024 (no detections), 38.5ms\n",
      "8: 1024x1024 (no detections), 38.5ms\n",
      "9: 1024x1024 (no detections), 38.5ms\n",
      "10: 1024x1024 38.5ms\n",
      "11: 1024x1024 (no detections), 38.5ms\n",
      "12: 1024x1024 (no detections), 38.5ms\n",
      "13: 1024x1024 (no detections), 38.5ms\n",
      "14: 1024x1024 (no detections), 38.5ms\n",
      "15: 1024x1024 (no detections), 38.5ms\n",
      "Speed: 2.1ms preprocess, 38.5ms inference, 6.8ms postprocess per image at shape (1, 3, 1024, 1024)\n"
     ]
    },
    {
     "name": "stderr",
     "output_type": "stream",
     "text": [
      " 82%|████████▏ | 95/116 [02:02<00:27,  1.29s/it]"
     ]
    },
    {
     "name": "stdout",
     "output_type": "stream",
     "text": [
      "\n",
      "0: 1024x1024 (no detections), 38.2ms\n",
      "1: 1024x1024 (no detections), 38.2ms\n",
      "2: 1024x1024 (no detections), 38.2ms\n",
      "3: 1024x1024 (no detections), 38.2ms\n",
      "4: 1024x1024 (no detections), 38.2ms\n",
      "5: 1024x1024 (no detections), 38.2ms\n",
      "6: 1024x1024 (no detections), 38.2ms\n",
      "7: 1024x1024 (no detections), 38.2ms\n",
      "8: 1024x1024 (no detections), 38.2ms\n",
      "9: 1024x1024 (no detections), 38.2ms\n",
      "10: 1024x1024 (no detections), 38.2ms\n",
      "11: 1024x1024 (no detections), 38.2ms\n",
      "12: 1024x1024 (no detections), 38.2ms\n",
      "13: 1024x1024 (no detections), 38.2ms\n",
      "14: 1024x1024 (no detections), 38.2ms\n",
      "15: 1024x1024 38.2ms\n",
      "Speed: 1.5ms preprocess, 38.2ms inference, 6.0ms postprocess per image at shape (1, 3, 1024, 1024)\n"
     ]
    },
    {
     "name": "stderr",
     "output_type": "stream",
     "text": [
      " 83%|████████▎ | 96/116 [02:03<00:25,  1.29s/it]"
     ]
    },
    {
     "name": "stdout",
     "output_type": "stream",
     "text": [
      "\n",
      "0: 1024x1024 (no detections), 39.0ms\n",
      "1: 1024x1024 (no detections), 39.0ms\n",
      "2: 1024x1024 (no detections), 39.0ms\n",
      "3: 1024x1024 (no detections), 39.0ms\n",
      "4: 1024x1024 (no detections), 39.0ms\n",
      "5: 1024x1024 (no detections), 39.0ms\n",
      "6: 1024x1024 (no detections), 39.0ms\n",
      "7: 1024x1024 (no detections), 39.0ms\n",
      "8: 1024x1024 (no detections), 39.0ms\n",
      "9: 1024x1024 (no detections), 39.0ms\n",
      "10: 1024x1024 (no detections), 39.0ms\n",
      "11: 1024x1024 (no detections), 39.0ms\n",
      "12: 1024x1024 (no detections), 39.0ms\n",
      "13: 1024x1024 (no detections), 39.0ms\n",
      "14: 1024x1024 (no detections), 39.0ms\n",
      "15: 1024x1024 (no detections), 39.0ms\n",
      "Speed: 1.7ms preprocess, 39.0ms inference, 5.9ms postprocess per image at shape (1, 3, 1024, 1024)\n"
     ]
    },
    {
     "name": "stderr",
     "output_type": "stream",
     "text": [
      " 84%|████████▎ | 97/116 [02:04<00:24,  1.28s/it]"
     ]
    },
    {
     "name": "stdout",
     "output_type": "stream",
     "text": [
      "\n",
      "0: 1024x1024 (no detections), 38.8ms\n",
      "1: 1024x1024 (no detections), 38.8ms\n",
      "2: 1024x1024 (no detections), 38.8ms\n",
      "3: 1024x1024 (no detections), 38.8ms\n",
      "4: 1024x1024 (no detections), 38.8ms\n",
      "5: 1024x1024 (no detections), 38.8ms\n",
      "6: 1024x1024 (no detections), 38.8ms\n",
      "7: 1024x1024 (no detections), 38.8ms\n",
      "8: 1024x1024 (no detections), 38.8ms\n",
      "9: 1024x1024 (no detections), 38.8ms\n",
      "10: 1024x1024 (no detections), 38.8ms\n",
      "11: 1024x1024 (no detections), 38.8ms\n",
      "12: 1024x1024 (no detections), 38.8ms\n",
      "13: 1024x1024 (no detections), 38.8ms\n",
      "14: 1024x1024 (no detections), 38.8ms\n",
      "15: 1024x1024 (no detections), 38.8ms\n",
      "Speed: 1.5ms preprocess, 38.8ms inference, 5.9ms postprocess per image at shape (1, 3, 1024, 1024)\n"
     ]
    },
    {
     "name": "stderr",
     "output_type": "stream",
     "text": [
      " 84%|████████▍ | 98/116 [02:06<00:23,  1.28s/it]"
     ]
    },
    {
     "name": "stdout",
     "output_type": "stream",
     "text": [
      "\n",
      "0: 1024x1024 (no detections), 38.7ms\n",
      "1: 1024x1024 (no detections), 38.7ms\n",
      "2: 1024x1024 (no detections), 38.7ms\n",
      "3: 1024x1024 (no detections), 38.7ms\n",
      "4: 1024x1024 (no detections), 38.7ms\n",
      "5: 1024x1024 (no detections), 38.7ms\n",
      "6: 1024x1024 (no detections), 38.7ms\n",
      "7: 1024x1024 (no detections), 38.7ms\n",
      "8: 1024x1024 38.7ms\n",
      "9: 1024x1024 (no detections), 38.7ms\n",
      "10: 1024x1024 (no detections), 38.7ms\n",
      "11: 1024x1024 (no detections), 38.7ms\n",
      "12: 1024x1024 (no detections), 38.7ms\n",
      "13: 1024x1024 (no detections), 38.7ms\n",
      "14: 1024x1024 (no detections), 38.7ms\n",
      "15: 1024x1024 (no detections), 38.7ms\n",
      "Speed: 1.8ms preprocess, 38.7ms inference, 6.2ms postprocess per image at shape (1, 3, 1024, 1024)\n"
     ]
    },
    {
     "name": "stderr",
     "output_type": "stream",
     "text": [
      " 85%|████████▌ | 99/116 [02:07<00:21,  1.28s/it]"
     ]
    },
    {
     "name": "stdout",
     "output_type": "stream",
     "text": [
      "\n",
      "0: 1024x1024 (no detections), 38.6ms\n",
      "1: 1024x1024 (no detections), 38.6ms\n",
      "2: 1024x1024 (no detections), 38.6ms\n",
      "3: 1024x1024 (no detections), 38.6ms\n",
      "4: 1024x1024 (no detections), 38.6ms\n",
      "5: 1024x1024 (no detections), 38.6ms\n",
      "6: 1024x1024 (no detections), 38.6ms\n",
      "7: 1024x1024 38.6ms\n",
      "8: 1024x1024 (no detections), 38.6ms\n",
      "9: 1024x1024 (no detections), 38.6ms\n",
      "10: 1024x1024 (no detections), 38.6ms\n",
      "11: 1024x1024 (no detections), 38.6ms\n",
      "12: 1024x1024 (no detections), 38.6ms\n",
      "13: 1024x1024 (no detections), 38.6ms\n",
      "14: 1024x1024 (no detections), 38.6ms\n",
      "15: 1024x1024 (no detections), 38.6ms\n",
      "Speed: 1.7ms preprocess, 38.6ms inference, 5.8ms postprocess per image at shape (1, 3, 1024, 1024)\n"
     ]
    },
    {
     "name": "stderr",
     "output_type": "stream",
     "text": [
      " 86%|████████▌ | 100/116 [02:08<00:20,  1.28s/it]"
     ]
    },
    {
     "name": "stdout",
     "output_type": "stream",
     "text": [
      "\n",
      "0: 1024x1024 (no detections), 38.8ms\n",
      "1: 1024x1024 (no detections), 38.8ms\n",
      "2: 1024x1024 (no detections), 38.8ms\n",
      "3: 1024x1024 (no detections), 38.8ms\n",
      "4: 1024x1024 (no detections), 38.8ms\n",
      "5: 1024x1024 (no detections), 38.8ms\n",
      "6: 1024x1024 38.8ms\n",
      "7: 1024x1024 (no detections), 38.8ms\n",
      "8: 1024x1024 38.8ms\n",
      "9: 1024x1024 38.8ms\n",
      "10: 1024x1024 (no detections), 38.8ms\n",
      "11: 1024x1024 (no detections), 38.8ms\n",
      "12: 1024x1024 (no detections), 38.8ms\n",
      "13: 1024x1024 (no detections), 38.8ms\n",
      "14: 1024x1024 (no detections), 38.8ms\n",
      "15: 1024x1024 (no detections), 38.8ms\n",
      "Speed: 1.7ms preprocess, 38.8ms inference, 6.9ms postprocess per image at shape (1, 3, 1024, 1024)\n"
     ]
    },
    {
     "name": "stderr",
     "output_type": "stream",
     "text": [
      " 87%|████████▋ | 101/116 [02:09<00:19,  1.29s/it]"
     ]
    },
    {
     "name": "stdout",
     "output_type": "stream",
     "text": [
      "\n",
      "0: 1024x1024 (no detections), 38.2ms\n",
      "1: 1024x1024 38.2ms\n",
      "2: 1024x1024 (no detections), 38.2ms\n",
      "3: 1024x1024 (no detections), 38.2ms\n",
      "4: 1024x1024 (no detections), 38.2ms\n",
      "5: 1024x1024 (no detections), 38.2ms\n",
      "6: 1024x1024 (no detections), 38.2ms\n",
      "7: 1024x1024 (no detections), 38.2ms\n",
      "8: 1024x1024 (no detections), 38.2ms\n",
      "9: 1024x1024 (no detections), 38.2ms\n",
      "10: 1024x1024 (no detections), 38.2ms\n",
      "11: 1024x1024 (no detections), 38.2ms\n",
      "12: 1024x1024 (no detections), 38.2ms\n",
      "13: 1024x1024 (no detections), 38.2ms\n",
      "14: 1024x1024 (no detections), 38.2ms\n",
      "15: 1024x1024 (no detections), 38.2ms\n",
      "Speed: 1.5ms preprocess, 38.2ms inference, 5.8ms postprocess per image at shape (1, 3, 1024, 1024)\n"
     ]
    },
    {
     "name": "stderr",
     "output_type": "stream",
     "text": [
      " 88%|████████▊ | 102/116 [02:11<00:17,  1.27s/it]"
     ]
    },
    {
     "name": "stdout",
     "output_type": "stream",
     "text": [
      "\n",
      "0: 1024x1024 (no detections), 38.4ms\n",
      "1: 1024x1024 (no detections), 38.4ms\n",
      "2: 1024x1024 (no detections), 38.4ms\n",
      "3: 1024x1024 (no detections), 38.4ms\n",
      "4: 1024x1024 (no detections), 38.4ms\n",
      "5: 1024x1024 (no detections), 38.4ms\n",
      "6: 1024x1024 (no detections), 38.4ms\n",
      "7: 1024x1024 (no detections), 38.4ms\n",
      "8: 1024x1024 (no detections), 38.4ms\n",
      "9: 1024x1024 (no detections), 38.4ms\n",
      "10: 1024x1024 (no detections), 38.4ms\n",
      "11: 1024x1024 (no detections), 38.4ms\n",
      "12: 1024x1024 (no detections), 38.4ms\n",
      "13: 1024x1024 (no detections), 38.4ms\n",
      "14: 1024x1024 (no detections), 38.4ms\n",
      "15: 1024x1024 (no detections), 38.4ms\n",
      "Speed: 1.6ms preprocess, 38.4ms inference, 5.8ms postprocess per image at shape (1, 3, 1024, 1024)\n"
     ]
    },
    {
     "name": "stderr",
     "output_type": "stream",
     "text": [
      " 89%|████████▉ | 103/116 [02:12<00:16,  1.27s/it]"
     ]
    },
    {
     "name": "stdout",
     "output_type": "stream",
     "text": [
      "\n",
      "0: 1024x1024 38.3ms\n",
      "1: 1024x1024 (no detections), 38.3ms\n",
      "2: 1024x1024 (no detections), 38.3ms\n",
      "3: 1024x1024 38.3ms\n",
      "4: 1024x1024 (no detections), 38.3ms\n",
      "5: 1024x1024 (no detections), 38.3ms\n",
      "6: 1024x1024 38.3ms\n",
      "7: 1024x1024 38.3ms\n",
      "8: 1024x1024 (no detections), 38.3ms\n",
      "9: 1024x1024 (no detections), 38.3ms\n",
      "10: 1024x1024 (no detections), 38.3ms\n",
      "11: 1024x1024 (no detections), 38.3ms\n",
      "12: 1024x1024 (no detections), 38.3ms\n",
      "13: 1024x1024 (no detections), 38.3ms\n",
      "14: 1024x1024 (no detections), 38.3ms\n",
      "15: 1024x1024 (no detections), 38.3ms\n",
      "Speed: 1.5ms preprocess, 38.3ms inference, 6.2ms postprocess per image at shape (1, 3, 1024, 1024)\n"
     ]
    },
    {
     "name": "stderr",
     "output_type": "stream",
     "text": [
      " 90%|████████▉ | 104/116 [02:13<00:15,  1.27s/it]"
     ]
    },
    {
     "name": "stdout",
     "output_type": "stream",
     "text": [
      "\n",
      "0: 1024x1024 (no detections), 38.4ms\n",
      "1: 1024x1024 (no detections), 38.4ms\n",
      "2: 1024x1024 (no detections), 38.4ms\n",
      "3: 1024x1024 (no detections), 38.4ms\n",
      "4: 1024x1024 (no detections), 38.4ms\n",
      "5: 1024x1024 (no detections), 38.4ms\n",
      "6: 1024x1024 (no detections), 38.4ms\n",
      "7: 1024x1024 (no detections), 38.4ms\n",
      "8: 1024x1024 (no detections), 38.4ms\n",
      "9: 1024x1024 (no detections), 38.4ms\n",
      "10: 1024x1024 (no detections), 38.4ms\n",
      "11: 1024x1024 (no detections), 38.4ms\n",
      "12: 1024x1024 (no detections), 38.4ms\n",
      "13: 1024x1024 (no detections), 38.4ms\n",
      "14: 1024x1024 (no detections), 38.4ms\n",
      "15: 1024x1024 (no detections), 38.4ms\n",
      "Speed: 1.5ms preprocess, 38.4ms inference, 5.8ms postprocess per image at shape (1, 3, 1024, 1024)\n"
     ]
    },
    {
     "name": "stderr",
     "output_type": "stream",
     "text": [
      " 91%|█████████ | 105/116 [02:14<00:13,  1.26s/it]"
     ]
    },
    {
     "name": "stdout",
     "output_type": "stream",
     "text": [
      "\n",
      "0: 1024x1024 (no detections), 38.2ms\n",
      "1: 1024x1024 (no detections), 38.2ms\n",
      "2: 1024x1024 (no detections), 38.2ms\n",
      "3: 1024x1024 (no detections), 38.2ms\n",
      "4: 1024x1024 (no detections), 38.2ms\n",
      "5: 1024x1024 38.2ms\n",
      "6: 1024x1024 (no detections), 38.2ms\n",
      "7: 1024x1024 38.2ms\n",
      "8: 1024x1024 (no detections), 38.2ms\n",
      "9: 1024x1024 (no detections), 38.2ms\n",
      "10: 1024x1024 (no detections), 38.2ms\n",
      "11: 1024x1024 38.2ms\n",
      "12: 1024x1024 (no detections), 38.2ms\n",
      "13: 1024x1024 (no detections), 38.2ms\n",
      "14: 1024x1024 (no detections), 38.2ms\n",
      "15: 1024x1024 38.2ms\n",
      "Speed: 1.5ms preprocess, 38.2ms inference, 6.2ms postprocess per image at shape (1, 3, 1024, 1024)\n"
     ]
    },
    {
     "name": "stderr",
     "output_type": "stream",
     "text": [
      " 91%|█████████▏| 106/116 [02:16<00:12,  1.27s/it]"
     ]
    },
    {
     "name": "stdout",
     "output_type": "stream",
     "text": [
      "\n",
      "0: 1024x1024 38.4ms\n",
      "1: 1024x1024 38.4ms\n",
      "2: 1024x1024 38.4ms\n",
      "3: 1024x1024 (no detections), 38.4ms\n",
      "4: 1024x1024 (no detections), 38.4ms\n",
      "5: 1024x1024 38.4ms\n",
      "6: 1024x1024 (no detections), 38.4ms\n",
      "7: 1024x1024 (no detections), 38.4ms\n",
      "8: 1024x1024 (no detections), 38.4ms\n",
      "9: 1024x1024 (no detections), 38.4ms\n",
      "10: 1024x1024 (no detections), 38.4ms\n",
      "11: 1024x1024 (no detections), 38.4ms\n",
      "12: 1024x1024 (no detections), 38.4ms\n",
      "13: 1024x1024 (no detections), 38.4ms\n",
      "14: 1024x1024 (no detections), 38.4ms\n",
      "15: 1024x1024 (no detections), 38.4ms\n",
      "Speed: 1.5ms preprocess, 38.4ms inference, 6.2ms postprocess per image at shape (1, 3, 1024, 1024)\n"
     ]
    },
    {
     "name": "stderr",
     "output_type": "stream",
     "text": [
      " 92%|█████████▏| 107/116 [02:17<00:11,  1.27s/it]"
     ]
    },
    {
     "name": "stdout",
     "output_type": "stream",
     "text": [
      "\n",
      "0: 1024x1024 (no detections), 38.3ms\n",
      "1: 1024x1024 (no detections), 38.3ms\n",
      "2: 1024x1024 (no detections), 38.3ms\n",
      "3: 1024x1024 (no detections), 38.3ms\n",
      "4: 1024x1024 (no detections), 38.3ms\n",
      "5: 1024x1024 (no detections), 38.3ms\n",
      "6: 1024x1024 (no detections), 38.3ms\n",
      "7: 1024x1024 (no detections), 38.3ms\n",
      "8: 1024x1024 (no detections), 38.3ms\n",
      "9: 1024x1024 (no detections), 38.3ms\n",
      "10: 1024x1024 (no detections), 38.3ms\n",
      "11: 1024x1024 (no detections), 38.3ms\n",
      "12: 1024x1024 (no detections), 38.3ms\n",
      "13: 1024x1024 (no detections), 38.3ms\n",
      "14: 1024x1024 (no detections), 38.3ms\n",
      "15: 1024x1024 38.3ms\n",
      "Speed: 1.5ms preprocess, 38.3ms inference, 6.1ms postprocess per image at shape (1, 3, 1024, 1024)\n"
     ]
    },
    {
     "name": "stderr",
     "output_type": "stream",
     "text": [
      " 93%|█████████▎| 108/116 [02:18<00:10,  1.27s/it]"
     ]
    },
    {
     "name": "stdout",
     "output_type": "stream",
     "text": [
      "\n",
      "0: 1024x1024 (no detections), 38.4ms\n",
      "1: 1024x1024 38.4ms\n",
      "2: 1024x1024 (no detections), 38.4ms\n",
      "3: 1024x1024 (no detections), 38.4ms\n",
      "4: 1024x1024 38.4ms\n",
      "5: 1024x1024 (no detections), 38.4ms\n",
      "6: 1024x1024 (no detections), 38.4ms\n",
      "7: 1024x1024 (no detections), 38.4ms\n",
      "8: 1024x1024 (no detections), 38.4ms\n",
      "9: 1024x1024 (no detections), 38.4ms\n",
      "10: 1024x1024 (no detections), 38.4ms\n",
      "11: 1024x1024 38.4ms\n",
      "12: 1024x1024 38.4ms\n",
      "13: 1024x1024 38.4ms\n",
      "14: 1024x1024 (no detections), 38.4ms\n",
      "15: 1024x1024 38.4ms\n",
      "Speed: 1.7ms preprocess, 38.4ms inference, 6.4ms postprocess per image at shape (1, 3, 1024, 1024)\n"
     ]
    },
    {
     "name": "stderr",
     "output_type": "stream",
     "text": [
      " 94%|█████████▍| 109/116 [02:20<00:08,  1.27s/it]"
     ]
    },
    {
     "name": "stdout",
     "output_type": "stream",
     "text": [
      "\n",
      "0: 1024x1024 38.3ms\n",
      "1: 1024x1024 38.3ms\n",
      "2: 1024x1024 (no detections), 38.3ms\n",
      "3: 1024x1024 (no detections), 38.3ms\n",
      "4: 1024x1024 (no detections), 38.3ms\n",
      "5: 1024x1024 (no detections), 38.3ms\n",
      "6: 1024x1024 (no detections), 38.3ms\n",
      "7: 1024x1024 (no detections), 38.3ms\n",
      "8: 1024x1024 38.3ms\n",
      "9: 1024x1024 (no detections), 38.3ms\n",
      "10: 1024x1024 (no detections), 38.3ms\n",
      "11: 1024x1024 (no detections), 38.3ms\n",
      "12: 1024x1024 (no detections), 38.3ms\n",
      "13: 1024x1024 (no detections), 38.3ms\n",
      "14: 1024x1024 (no detections), 38.3ms\n",
      "15: 1024x1024 (no detections), 38.3ms\n",
      "Speed: 1.5ms preprocess, 38.3ms inference, 6.2ms postprocess per image at shape (1, 3, 1024, 1024)\n"
     ]
    },
    {
     "name": "stderr",
     "output_type": "stream",
     "text": [
      " 95%|█████████▍| 110/116 [02:21<00:07,  1.27s/it]"
     ]
    },
    {
     "name": "stdout",
     "output_type": "stream",
     "text": [
      "\n",
      "0: 1024x1024 (no detections), 38.3ms\n",
      "1: 1024x1024 (no detections), 38.3ms\n",
      "2: 1024x1024 (no detections), 38.3ms\n",
      "3: 1024x1024 (no detections), 38.3ms\n",
      "4: 1024x1024 (no detections), 38.3ms\n",
      "5: 1024x1024 (no detections), 38.3ms\n",
      "6: 1024x1024 (no detections), 38.3ms\n",
      "7: 1024x1024 (no detections), 38.3ms\n",
      "8: 1024x1024 (no detections), 38.3ms\n",
      "9: 1024x1024 (no detections), 38.3ms\n",
      "10: 1024x1024 (no detections), 38.3ms\n",
      "11: 1024x1024 (no detections), 38.3ms\n",
      "12: 1024x1024 (no detections), 38.3ms\n",
      "13: 1024x1024 38.3ms\n",
      "14: 1024x1024 (no detections), 38.3ms\n",
      "15: 1024x1024 (no detections), 38.3ms\n",
      "Speed: 1.5ms preprocess, 38.3ms inference, 6.3ms postprocess per image at shape (1, 3, 1024, 1024)\n"
     ]
    },
    {
     "name": "stderr",
     "output_type": "stream",
     "text": [
      " 96%|█████████▌| 111/116 [02:22<00:06,  1.28s/it]"
     ]
    },
    {
     "name": "stdout",
     "output_type": "stream",
     "text": [
      "\n",
      "0: 1024x1024 (no detections), 38.5ms\n",
      "1: 1024x1024 (no detections), 38.5ms\n",
      "2: 1024x1024 (no detections), 38.5ms\n",
      "3: 1024x1024 (no detections), 38.5ms\n",
      "4: 1024x1024 (no detections), 38.5ms\n",
      "5: 1024x1024 38.5ms\n",
      "6: 1024x1024 (no detections), 38.5ms\n",
      "7: 1024x1024 (no detections), 38.5ms\n",
      "8: 1024x1024 (no detections), 38.5ms\n",
      "9: 1024x1024 (no detections), 38.5ms\n",
      "10: 1024x1024 (no detections), 38.5ms\n",
      "11: 1024x1024 (no detections), 38.5ms\n",
      "12: 1024x1024 (no detections), 38.5ms\n",
      "13: 1024x1024 (no detections), 38.5ms\n",
      "14: 1024x1024 (no detections), 38.5ms\n",
      "15: 1024x1024 (no detections), 38.5ms\n",
      "Speed: 1.6ms preprocess, 38.5ms inference, 6.8ms postprocess per image at shape (1, 3, 1024, 1024)\n"
     ]
    },
    {
     "name": "stderr",
     "output_type": "stream",
     "text": [
      " 97%|█████████▋| 112/116 [02:23<00:05,  1.28s/it]"
     ]
    },
    {
     "name": "stdout",
     "output_type": "stream",
     "text": [
      "\n",
      "0: 1024x1024 (no detections), 39.0ms\n",
      "1: 1024x1024 (no detections), 39.0ms\n",
      "2: 1024x1024 (no detections), 39.0ms\n",
      "3: 1024x1024 (no detections), 39.0ms\n",
      "4: 1024x1024 (no detections), 39.0ms\n",
      "5: 1024x1024 (no detections), 39.0ms\n",
      "6: 1024x1024 (no detections), 39.0ms\n",
      "7: 1024x1024 (no detections), 39.0ms\n",
      "8: 1024x1024 (no detections), 39.0ms\n",
      "9: 1024x1024 (no detections), 39.0ms\n",
      "10: 1024x1024 (no detections), 39.0ms\n",
      "11: 1024x1024 (no detections), 39.0ms\n",
      "12: 1024x1024 (no detections), 39.0ms\n",
      "13: 1024x1024 (no detections), 39.0ms\n",
      "14: 1024x1024 (no detections), 39.0ms\n",
      "15: 1024x1024 39.0ms\n",
      "Speed: 1.8ms preprocess, 39.0ms inference, 5.8ms postprocess per image at shape (1, 3, 1024, 1024)\n"
     ]
    },
    {
     "name": "stderr",
     "output_type": "stream",
     "text": [
      " 97%|█████████▋| 113/116 [02:25<00:03,  1.28s/it]"
     ]
    },
    {
     "name": "stdout",
     "output_type": "stream",
     "text": [
      "\n",
      "0: 1024x1024 (no detections), 39.2ms\n",
      "1: 1024x1024 (no detections), 39.2ms\n",
      "2: 1024x1024 (no detections), 39.2ms\n",
      "3: 1024x1024 39.2ms\n",
      "4: 1024x1024 (no detections), 39.2ms\n",
      "5: 1024x1024 (no detections), 39.2ms\n",
      "6: 1024x1024 (no detections), 39.2ms\n",
      "7: 1024x1024 (no detections), 39.2ms\n",
      "8: 1024x1024 39.2ms\n",
      "9: 1024x1024 (no detections), 39.2ms\n",
      "10: 1024x1024 (no detections), 39.2ms\n",
      "11: 1024x1024 (no detections), 39.2ms\n",
      "12: 1024x1024 (no detections), 39.2ms\n",
      "13: 1024x1024 (no detections), 39.2ms\n",
      "14: 1024x1024 (no detections), 39.2ms\n",
      "15: 1024x1024 (no detections), 39.2ms\n",
      "Speed: 1.5ms preprocess, 39.2ms inference, 6.0ms postprocess per image at shape (1, 3, 1024, 1024)\n"
     ]
    },
    {
     "name": "stderr",
     "output_type": "stream",
     "text": [
      " 98%|█████████▊| 114/116 [02:26<00:02,  1.28s/it]"
     ]
    },
    {
     "name": "stdout",
     "output_type": "stream",
     "text": [
      "\n",
      "0: 1024x1024 39.7ms\n",
      "1: 1024x1024 (no detections), 39.7ms\n",
      "2: 1024x1024 (no detections), 39.7ms\n",
      "3: 1024x1024 (no detections), 39.7ms\n",
      "4: 1024x1024 (no detections), 39.7ms\n",
      "5: 1024x1024 (no detections), 39.7ms\n",
      "6: 1024x1024 (no detections), 39.7ms\n",
      "7: 1024x1024 (no detections), 39.7ms\n",
      "8: 1024x1024 (no detections), 39.7ms\n",
      "9: 1024x1024 39.7ms\n",
      "10: 1024x1024 (no detections), 39.7ms\n",
      "11: 1024x1024 (no detections), 39.7ms\n",
      "12: 1024x1024 (no detections), 39.7ms\n",
      "13: 1024x1024 (no detections), 39.7ms\n",
      "14: 1024x1024 (no detections), 39.7ms\n",
      "15: 1024x1024 (no detections), 39.7ms\n",
      "Speed: 1.7ms preprocess, 39.7ms inference, 5.9ms postprocess per image at shape (1, 3, 1024, 1024)\n"
     ]
    },
    {
     "name": "stderr",
     "output_type": "stream",
     "text": [
      " 99%|█████████▉| 115/116 [02:27<00:01,  1.28s/it]"
     ]
    },
    {
     "name": "stdout",
     "output_type": "stream",
     "text": [
      "\n",
      "0: 1024x1024 (no detections), 38.6ms\n",
      "1: 1024x1024 (no detections), 38.6ms\n",
      "2: 1024x1024 (no detections), 38.6ms\n",
      "3: 1024x1024 (no detections), 38.6ms\n",
      "4: 1024x1024 (no detections), 38.6ms\n",
      "5: 1024x1024 (no detections), 38.6ms\n",
      "6: 1024x1024 (no detections), 38.6ms\n",
      "7: 1024x1024 (no detections), 38.6ms\n",
      "8: 1024x1024 (no detections), 38.6ms\n",
      "Speed: 1.5ms preprocess, 38.6ms inference, 7.6ms postprocess per image at shape (1, 3, 1024, 1024)\n"
     ]
    },
    {
     "name": "stderr",
     "output_type": "stream",
     "text": [
      "100%|██████████| 116/116 [02:28<00:00,  1.28s/it]\n"
     ]
    }
   ],
   "source": [
    "from ultralytics import YOLO\n",
    "import torch\n",
    "import shutil\n",
    "from tqdm import tqdm\n",
    "from ultralytics.utils.ops import nms_rotated\n",
    "\n",
    "directory_path = '/workspace/dataset/'\n",
    "# directory_path = './'\n",
    "base_dir = './temp_cropped_patches'\n",
    "img_list = get_imglist(directory_path)\n",
    "\n",
    "# 모델 설정\n",
    "model_name = \"./runs/obb/combine_1024_0added/weights/best.pt\"\n",
    "crop_size = 256\n",
    "batch_size = 16\n",
    "model = YOLO(model_name)\n",
    "\n",
    "result = {}  # 최종 결과를 저장할 딕셔너리\n",
    "\n",
    "for image_path in img_list:\n",
    "    # 임시 폴더 생성\n",
    "    temp_dir = create_temp_dir(base_dir=base_dir)\n",
    "    image_name = os.path.basename(image_path)\n",
    "    print(f\"Processing image: {image_name}\")\n",
    "    \n",
    "    # 이미지 크롭 및 임시 폴더에 저장\n",
    "    save_cropped_patches_single_image(image_path, crop_size, temp_dir)\n",
    "    \n",
    "    temp_list = get_imglist(temp_dir)\n",
    "    # 데이터셋 및 DataLoader 설정\n",
    "    dataset = CroppedPatchDataset(temp_list, resize_size=crop_size*4)\n",
    "    dataloader = DataLoader(dataset, batch_size=batch_size, shuffle=False)\n",
    "    \n",
    "    # 원본 이미지별 결과 리스트 초기화\n",
    "    result[image_name] = []\n",
    "    \n",
    "    for batch in tqdm(dataloader):\n",
    "        images = batch['image']\n",
    "        positions = batch['top_left_position']\n",
    "        image_names = batch['image_name']\n",
    "        \n",
    "        # 모델 실행 및 결과 저장\n",
    "        run_model(image_names, images, positions, model, result)\n",
    "    \n",
    "    # 현재 이미지의 모든 패치 예측을 NMS 적용\n",
    "    per_image_result = result[image_name]\n",
    "    if per_image_result:\n",
    "        # boxes와 scores 추출\n",
    "        boxes = torch.tensor([pred['xywhr'] for pred in per_image_result])\n",
    "        scores = torch.tensor([pred['conf'] for pred in per_image_result])\n",
    "        \n",
    "        # NMS 적용\n",
    "        keep_indices = nms_rotated(boxes, scores, threshold=0.45)\n",
    "        \n",
    "        # NMS 결과를 최종적으로 업데이트\n",
    "        result[image_name] = [per_image_result[i] for i in keep_indices]\n",
    "\n",
    "    # 임시 폴더 삭제\n",
    "    shutil.rmtree(temp_dir)\n"
   ]
  },
  {
   "cell_type": "markdown",
   "metadata": {},
   "source": [
    "result = \n",
    "{'task_smaple.png': [{'xywhr': [tensor(229.2828, device='cuda:0'),\n",
    "    tensor(10279.5654, device='cuda:0'),\n",
    "    tensor(82.1188, device='cuda:0'),\n",
    "    tensor(14.0488, device='cuda:0'),\n",
    "    tensor(1.9125, device='cuda:0')],\n",
    "   'conf': 0.34337615966796875},\n",
    "  {'xywhr': [tensor(151.2560, device='cuda:0'),\n",
    "    tensor(10446.5742, device='cuda:0'),\n",
    "    tensor(110.7664, device='cuda:0'),\n",
    "    tensor(25.3042, device='cuda:0'),\n",
    "    tensor(2.5097, device='cuda:0')],\n",
    "   'conf': 0.27472221851348877},\n",
    "   ...]}\n"
   ]
  },
  {
   "cell_type": "code",
   "execution_count": 5,
   "metadata": {},
   "outputs": [
    {
     "name": "stdout",
     "output_type": "stream",
     "text": [
      "CSV 파일 './submission.csv'이(가) 성공적으로 생성되었습니다.\n"
     ]
    }
   ],
   "source": [
    "import csv\n",
    "import math\n",
    "\n",
    "# 저장할 CSV 경로\n",
    "csv_file = \"./submission.csv\"\n",
    "data = []  # CSV에 저장할 데이터를 담을 리스트\n",
    "\n",
    "# 이미지 이름별로 데이터 변환\n",
    "for image_name, predictions in result.items():\n",
    "    if not predictions:\n",
    "        continue\n",
    "    \n",
    "    # 각 예측 결과를 변환하여 data 리스트에 추가\n",
    "    for pred in predictions:\n",
    "        cx, cy, width, height, angle = pred['xywhr']\n",
    "        \n",
    "        # 각도 변환: 라디안 -> 도(degrees)\n",
    "        angle_deg = math.degrees(angle)\n",
    "        if angle_deg < 0:\n",
    "            angle_deg += 360\n",
    "        \n",
    "        # 예측 결과를 리스트로 추가\n",
    "        data.append([image_name, cx.item(), cy.item(), width.item(), height.item(), angle_deg])\n",
    "\n",
    "# CSV 파일로 저장\n",
    "with open(csv_file, mode='w', newline='') as file:\n",
    "    writer = csv.writer(file)\n",
    "    \n",
    "    # CSV의 헤더 작성\n",
    "    writer.writerow(['image_name', 'cx', 'cy', 'width', 'height', 'angle'])\n",
    "    \n",
    "    # 각 행을 작성\n",
    "    writer.writerows(data)\n",
    "\n",
    "print(f\"CSV 파일 '{csv_file}'이(가) 성공적으로 생성되었습니다.\")\n"
   ]
  },
  {
   "cell_type": "code",
   "execution_count": 2,
   "metadata": {},
   "outputs": [
    {
     "name": "stdout",
     "output_type": "stream",
     "text": [
      "file : task.py\n",
      "python\n",
      "제출 완료\n",
      "time: 85.56951189041138\n"
     ]
    }
   ],
   "source": [
    "import aifactory.score as aif\n",
    "import time\n",
    "\n",
    "t = time.time()\n",
    "aif.submit(model_name=\"combine_1024_0added_1_task_resized\",\n",
    "           key=\"246f41b0-c912-46f5-8f9a-42171aa1f7f0\")\n",
    "print(\"time:\", time.time() - t)"
   ]
  }
 ],
 "metadata": {
  "kernelspec": {
   "display_name": "ship",
   "language": "python",
   "name": "python3"
  },
  "language_info": {
   "codemirror_mode": {
    "name": "ipython",
    "version": 3
   },
   "file_extension": ".py",
   "mimetype": "text/x-python",
   "name": "python",
   "nbconvert_exporter": "python",
   "pygments_lexer": "ipython3",
   "version": "3.12.7"
  }
 },
 "nbformat": 4,
 "nbformat_minor": 2
}
